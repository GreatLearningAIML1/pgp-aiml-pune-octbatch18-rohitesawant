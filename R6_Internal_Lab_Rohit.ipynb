{
  "nbformat": 4,
  "nbformat_minor": 0,
  "metadata": {
    "colab": {
      "name": "R6_Internal_Lab_Rohit.ipynb",
      "version": "0.3.2",
      "provenance": [],
      "collapsed_sections": [
        "YJRBuqXhOB7_"
      ]
    },
    "kernelspec": {
      "name": "python2",
      "display_name": "Python 2"
    },
    "accelerator": "GPU"
  },
  "cells": [
    {
      "metadata": {
        "colab_type": "text",
        "id": "sb7Epo0VOB58"
      },
      "cell_type": "markdown",
      "source": [
        "### Load tensorflow"
      ]
    },
    {
      "metadata": {
        "colab_type": "code",
        "id": "fHpCNRv1OB5-",
        "colab": {}
      },
      "cell_type": "code",
      "source": [
        "# Updated Script 8:00 PM\n",
        "import tensorflow as tf"
      ],
      "execution_count": 0,
      "outputs": []
    },
    {
      "metadata": {
        "id": "w4g_olJy2PUt",
        "colab_type": "code",
        "outputId": "61e815ea-3c83-4e76-bf98-23853144c6f2",
        "colab": {
          "base_uri": "https://localhost:8080/",
          "height": 34
        }
      },
      "cell_type": "code",
      "source": [
        "from google.colab import drive\n",
        "drive.mount('/content/gdrive')"
      ],
      "execution_count": 2,
      "outputs": [
        {
          "output_type": "stream",
          "text": [
            "Drive already mounted at /content/gdrive; to attempt to forcibly remount, call drive.mount(\"/content/gdrive\", force_remount=True).\n"
          ],
          "name": "stdout"
        }
      ]
    },
    {
      "metadata": {
        "id": "UBANcot72t1P",
        "colab_type": "code",
        "outputId": "ad41acf0-713a-45ac-cd4a-f0f75b7d646d",
        "colab": {
          "base_uri": "https://localhost:8080/",
          "height": 68
        }
      },
      "cell_type": "code",
      "source": [
        "ls -l"
      ],
      "execution_count": 3,
      "outputs": [
        {
          "output_type": "stream",
          "text": [
            "total 8\n",
            "drwx------ 3 root root 4096 Mar 17 08:52 \u001b[0m\u001b[01;34mgdrive\u001b[0m/\n",
            "drwxr-xr-x 1 root root 4096 Mar  8 17:26 \u001b[01;34msample_data\u001b[0m/\n"
          ],
          "name": "stdout"
        }
      ]
    },
    {
      "metadata": {
        "colab_type": "text",
        "id": "DxJDmJqqOB6K",
        "slideshow": {
          "slide_type": "slide"
        }
      },
      "cell_type": "markdown",
      "source": [
        "### Collect Data"
      ]
    },
    {
      "metadata": {
        "colab_type": "code",
        "id": "FhllFLyKOB6N",
        "colab": {}
      },
      "cell_type": "code",
      "source": [
        "import pandas as pd"
      ],
      "execution_count": 0,
      "outputs": []
    },
    {
      "metadata": {
        "colab_type": "code",
        "id": "B4yQKMiJOB6R",
        "colab": {}
      },
      "cell_type": "code",
      "source": [
        "data = pd.read_csv('/content/gdrive/My Drive/prices.csv')"
      ],
      "execution_count": 0,
      "outputs": []
    },
    {
      "metadata": {
        "colab_type": "text",
        "id": "fgkX6SEqOB6W"
      },
      "cell_type": "markdown",
      "source": [
        "### Check all columns in the dataset"
      ]
    },
    {
      "metadata": {
        "colab_type": "code",
        "id": "7K8pWsNQOB6X",
        "outputId": "a1beb2c4-a303-4b6f-e192-bfd6a013aca8",
        "colab": {
          "base_uri": "https://localhost:8080/",
          "height": 153
        }
      },
      "cell_type": "code",
      "source": [
        "data.dtypes"
      ],
      "execution_count": 6,
      "outputs": [
        {
          "output_type": "execute_result",
          "data": {
            "text/plain": [
              "date       object\n",
              "symbol     object\n",
              "open      float64\n",
              "close     float64\n",
              "low       float64\n",
              "high      float64\n",
              "volume    float64\n",
              "dtype: object"
            ]
          },
          "metadata": {
            "tags": []
          },
          "execution_count": 6
        }
      ]
    },
    {
      "metadata": {
        "id": "5VKeV4ag3uuM",
        "colab_type": "code",
        "outputId": "71346405-e034-47f7-c994-5d1848a54891",
        "colab": {
          "base_uri": "https://localhost:8080/",
          "height": 204
        }
      },
      "cell_type": "code",
      "source": [
        "data.head()"
      ],
      "execution_count": 7,
      "outputs": [
        {
          "output_type": "execute_result",
          "data": {
            "text/html": [
              "<div>\n",
              "<style scoped>\n",
              "    .dataframe tbody tr th:only-of-type {\n",
              "        vertical-align: middle;\n",
              "    }\n",
              "\n",
              "    .dataframe tbody tr th {\n",
              "        vertical-align: top;\n",
              "    }\n",
              "\n",
              "    .dataframe thead th {\n",
              "        text-align: right;\n",
              "    }\n",
              "</style>\n",
              "<table border=\"1\" class=\"dataframe\">\n",
              "  <thead>\n",
              "    <tr style=\"text-align: right;\">\n",
              "      <th></th>\n",
              "      <th>date</th>\n",
              "      <th>symbol</th>\n",
              "      <th>open</th>\n",
              "      <th>close</th>\n",
              "      <th>low</th>\n",
              "      <th>high</th>\n",
              "      <th>volume</th>\n",
              "    </tr>\n",
              "  </thead>\n",
              "  <tbody>\n",
              "    <tr>\n",
              "      <th>0</th>\n",
              "      <td>2016-01-05 00:00:00</td>\n",
              "      <td>WLTW</td>\n",
              "      <td>123.430000</td>\n",
              "      <td>125.839996</td>\n",
              "      <td>122.309998</td>\n",
              "      <td>126.250000</td>\n",
              "      <td>2163600.0</td>\n",
              "    </tr>\n",
              "    <tr>\n",
              "      <th>1</th>\n",
              "      <td>2016-01-06 00:00:00</td>\n",
              "      <td>WLTW</td>\n",
              "      <td>125.239998</td>\n",
              "      <td>119.980003</td>\n",
              "      <td>119.940002</td>\n",
              "      <td>125.540001</td>\n",
              "      <td>2386400.0</td>\n",
              "    </tr>\n",
              "    <tr>\n",
              "      <th>2</th>\n",
              "      <td>2016-01-07 00:00:00</td>\n",
              "      <td>WLTW</td>\n",
              "      <td>116.379997</td>\n",
              "      <td>114.949997</td>\n",
              "      <td>114.930000</td>\n",
              "      <td>119.739998</td>\n",
              "      <td>2489500.0</td>\n",
              "    </tr>\n",
              "    <tr>\n",
              "      <th>3</th>\n",
              "      <td>2016-01-08 00:00:00</td>\n",
              "      <td>WLTW</td>\n",
              "      <td>115.480003</td>\n",
              "      <td>116.620003</td>\n",
              "      <td>113.500000</td>\n",
              "      <td>117.440002</td>\n",
              "      <td>2006300.0</td>\n",
              "    </tr>\n",
              "    <tr>\n",
              "      <th>4</th>\n",
              "      <td>2016-01-11 00:00:00</td>\n",
              "      <td>WLTW</td>\n",
              "      <td>117.010002</td>\n",
              "      <td>114.970001</td>\n",
              "      <td>114.089996</td>\n",
              "      <td>117.330002</td>\n",
              "      <td>1408600.0</td>\n",
              "    </tr>\n",
              "  </tbody>\n",
              "</table>\n",
              "</div>"
            ],
            "text/plain": [
              "                  date symbol        open       close         low        high  \\\n",
              "0  2016-01-05 00:00:00   WLTW  123.430000  125.839996  122.309998  126.250000   \n",
              "1  2016-01-06 00:00:00   WLTW  125.239998  119.980003  119.940002  125.540001   \n",
              "2  2016-01-07 00:00:00   WLTW  116.379997  114.949997  114.930000  119.739998   \n",
              "3  2016-01-08 00:00:00   WLTW  115.480003  116.620003  113.500000  117.440002   \n",
              "4  2016-01-11 00:00:00   WLTW  117.010002  114.970001  114.089996  117.330002   \n",
              "\n",
              "      volume  \n",
              "0  2163600.0  \n",
              "1  2386400.0  \n",
              "2  2489500.0  \n",
              "3  2006300.0  \n",
              "4  1408600.0  "
            ]
          },
          "metadata": {
            "tags": []
          },
          "execution_count": 7
        }
      ]
    },
    {
      "metadata": {
        "colab_type": "text",
        "id": "7dU6X7MpOB6c"
      },
      "cell_type": "markdown",
      "source": [
        "### Drop columns `date` and  `symbol`"
      ]
    },
    {
      "metadata": {
        "id": "VAsEwQOP4Boe",
        "colab_type": "code",
        "colab": {}
      },
      "cell_type": "code",
      "source": [
        "data_org = data"
      ],
      "execution_count": 0,
      "outputs": []
    },
    {
      "metadata": {
        "colab_type": "code",
        "id": "lh_6spSKOB6e",
        "colab": {}
      },
      "cell_type": "code",
      "source": [
        "data.drop(['date','symbol'],axis = 1,inplace=True)"
      ],
      "execution_count": 0,
      "outputs": []
    },
    {
      "metadata": {
        "colab_type": "code",
        "id": "xlwbUgTwOB6i",
        "outputId": "791738a8-791d-41f4-d6ba-e47510f903d4",
        "colab": {
          "base_uri": "https://localhost:8080/",
          "height": 204
        }
      },
      "cell_type": "code",
      "source": [
        "data.head()"
      ],
      "execution_count": 10,
      "outputs": [
        {
          "output_type": "execute_result",
          "data": {
            "text/html": [
              "<div>\n",
              "<style scoped>\n",
              "    .dataframe tbody tr th:only-of-type {\n",
              "        vertical-align: middle;\n",
              "    }\n",
              "\n",
              "    .dataframe tbody tr th {\n",
              "        vertical-align: top;\n",
              "    }\n",
              "\n",
              "    .dataframe thead th {\n",
              "        text-align: right;\n",
              "    }\n",
              "</style>\n",
              "<table border=\"1\" class=\"dataframe\">\n",
              "  <thead>\n",
              "    <tr style=\"text-align: right;\">\n",
              "      <th></th>\n",
              "      <th>open</th>\n",
              "      <th>close</th>\n",
              "      <th>low</th>\n",
              "      <th>high</th>\n",
              "      <th>volume</th>\n",
              "    </tr>\n",
              "  </thead>\n",
              "  <tbody>\n",
              "    <tr>\n",
              "      <th>0</th>\n",
              "      <td>123.430000</td>\n",
              "      <td>125.839996</td>\n",
              "      <td>122.309998</td>\n",
              "      <td>126.250000</td>\n",
              "      <td>2163600.0</td>\n",
              "    </tr>\n",
              "    <tr>\n",
              "      <th>1</th>\n",
              "      <td>125.239998</td>\n",
              "      <td>119.980003</td>\n",
              "      <td>119.940002</td>\n",
              "      <td>125.540001</td>\n",
              "      <td>2386400.0</td>\n",
              "    </tr>\n",
              "    <tr>\n",
              "      <th>2</th>\n",
              "      <td>116.379997</td>\n",
              "      <td>114.949997</td>\n",
              "      <td>114.930000</td>\n",
              "      <td>119.739998</td>\n",
              "      <td>2489500.0</td>\n",
              "    </tr>\n",
              "    <tr>\n",
              "      <th>3</th>\n",
              "      <td>115.480003</td>\n",
              "      <td>116.620003</td>\n",
              "      <td>113.500000</td>\n",
              "      <td>117.440002</td>\n",
              "      <td>2006300.0</td>\n",
              "    </tr>\n",
              "    <tr>\n",
              "      <th>4</th>\n",
              "      <td>117.010002</td>\n",
              "      <td>114.970001</td>\n",
              "      <td>114.089996</td>\n",
              "      <td>117.330002</td>\n",
              "      <td>1408600.0</td>\n",
              "    </tr>\n",
              "  </tbody>\n",
              "</table>\n",
              "</div>"
            ],
            "text/plain": [
              "         open       close         low        high     volume\n",
              "0  123.430000  125.839996  122.309998  126.250000  2163600.0\n",
              "1  125.239998  119.980003  119.940002  125.540001  2386400.0\n",
              "2  116.379997  114.949997  114.930000  119.739998  2489500.0\n",
              "3  115.480003  116.620003  113.500000  117.440002  2006300.0\n",
              "4  117.010002  114.970001  114.089996  117.330002  1408600.0"
            ]
          },
          "metadata": {
            "tags": []
          },
          "execution_count": 10
        }
      ]
    },
    {
      "metadata": {
        "id": "8kh3tPEJ4ba4",
        "colab_type": "code",
        "outputId": "0f193bc0-da0f-46c7-d581-658d9d1eb08f",
        "colab": {
          "base_uri": "https://localhost:8080/",
          "height": 34
        }
      },
      "cell_type": "code",
      "source": [
        "data.shape"
      ],
      "execution_count": 11,
      "outputs": [
        {
          "output_type": "execute_result",
          "data": {
            "text/plain": [
              "(851264, 5)"
            ]
          },
          "metadata": {
            "tags": []
          },
          "execution_count": 11
        }
      ]
    },
    {
      "metadata": {
        "colab_type": "text",
        "id": "3DBv3WWYOB6q"
      },
      "cell_type": "markdown",
      "source": [
        "### Consider only first 1000 rows in the dataset for building feature set and target set"
      ]
    },
    {
      "metadata": {
        "colab_type": "code",
        "id": "Z_hG9rGBOB6s",
        "colab": {}
      },
      "cell_type": "code",
      "source": [
        "data_1000 = data.iloc[0:1000,]"
      ],
      "execution_count": 0,
      "outputs": []
    },
    {
      "metadata": {
        "id": "-6XHcffR4ROf",
        "colab_type": "code",
        "outputId": "7f268e38-ad93-4107-b403-80068f06fbf0",
        "colab": {
          "base_uri": "https://localhost:8080/",
          "height": 204
        }
      },
      "cell_type": "code",
      "source": [
        "data_1000.head()"
      ],
      "execution_count": 13,
      "outputs": [
        {
          "output_type": "execute_result",
          "data": {
            "text/html": [
              "<div>\n",
              "<style scoped>\n",
              "    .dataframe tbody tr th:only-of-type {\n",
              "        vertical-align: middle;\n",
              "    }\n",
              "\n",
              "    .dataframe tbody tr th {\n",
              "        vertical-align: top;\n",
              "    }\n",
              "\n",
              "    .dataframe thead th {\n",
              "        text-align: right;\n",
              "    }\n",
              "</style>\n",
              "<table border=\"1\" class=\"dataframe\">\n",
              "  <thead>\n",
              "    <tr style=\"text-align: right;\">\n",
              "      <th></th>\n",
              "      <th>open</th>\n",
              "      <th>close</th>\n",
              "      <th>low</th>\n",
              "      <th>high</th>\n",
              "      <th>volume</th>\n",
              "    </tr>\n",
              "  </thead>\n",
              "  <tbody>\n",
              "    <tr>\n",
              "      <th>0</th>\n",
              "      <td>123.430000</td>\n",
              "      <td>125.839996</td>\n",
              "      <td>122.309998</td>\n",
              "      <td>126.250000</td>\n",
              "      <td>2163600.0</td>\n",
              "    </tr>\n",
              "    <tr>\n",
              "      <th>1</th>\n",
              "      <td>125.239998</td>\n",
              "      <td>119.980003</td>\n",
              "      <td>119.940002</td>\n",
              "      <td>125.540001</td>\n",
              "      <td>2386400.0</td>\n",
              "    </tr>\n",
              "    <tr>\n",
              "      <th>2</th>\n",
              "      <td>116.379997</td>\n",
              "      <td>114.949997</td>\n",
              "      <td>114.930000</td>\n",
              "      <td>119.739998</td>\n",
              "      <td>2489500.0</td>\n",
              "    </tr>\n",
              "    <tr>\n",
              "      <th>3</th>\n",
              "      <td>115.480003</td>\n",
              "      <td>116.620003</td>\n",
              "      <td>113.500000</td>\n",
              "      <td>117.440002</td>\n",
              "      <td>2006300.0</td>\n",
              "    </tr>\n",
              "    <tr>\n",
              "      <th>4</th>\n",
              "      <td>117.010002</td>\n",
              "      <td>114.970001</td>\n",
              "      <td>114.089996</td>\n",
              "      <td>117.330002</td>\n",
              "      <td>1408600.0</td>\n",
              "    </tr>\n",
              "  </tbody>\n",
              "</table>\n",
              "</div>"
            ],
            "text/plain": [
              "         open       close         low        high     volume\n",
              "0  123.430000  125.839996  122.309998  126.250000  2163600.0\n",
              "1  125.239998  119.980003  119.940002  125.540001  2386400.0\n",
              "2  116.379997  114.949997  114.930000  119.739998  2489500.0\n",
              "3  115.480003  116.620003  113.500000  117.440002  2006300.0\n",
              "4  117.010002  114.970001  114.089996  117.330002  1408600.0"
            ]
          },
          "metadata": {
            "tags": []
          },
          "execution_count": 13
        }
      ]
    },
    {
      "metadata": {
        "id": "e4xs0osy4UJv",
        "colab_type": "code",
        "outputId": "f192234d-f245-4926-d752-9a42cc40e43a",
        "colab": {
          "base_uri": "https://localhost:8080/",
          "height": 34
        }
      },
      "cell_type": "code",
      "source": [
        "data_1000.shape"
      ],
      "execution_count": 14,
      "outputs": [
        {
          "output_type": "execute_result",
          "data": {
            "text/plain": [
              "(1000, 5)"
            ]
          },
          "metadata": {
            "tags": []
          },
          "execution_count": 14
        }
      ]
    },
    {
      "metadata": {
        "colab_type": "text",
        "id": "M3UaApqYOB6x"
      },
      "cell_type": "markdown",
      "source": [
        "### Divide the data into train and test sets"
      ]
    },
    {
      "metadata": {
        "id": "LF7mrb2B6zO0",
        "colab_type": "code",
        "colab": {}
      },
      "cell_type": "code",
      "source": [
        "X = data_1000[['open','low','high','volume']]"
      ],
      "execution_count": 0,
      "outputs": []
    },
    {
      "metadata": {
        "id": "TdUQ1QfIgygw",
        "colab_type": "code",
        "outputId": "2f4fca1a-c2e2-450b-ab50-fb6621d98dc6",
        "colab": {
          "base_uri": "https://localhost:8080/",
          "height": 204
        }
      },
      "cell_type": "code",
      "source": [
        "X.head()"
      ],
      "execution_count": 16,
      "outputs": [
        {
          "output_type": "execute_result",
          "data": {
            "text/html": [
              "<div>\n",
              "<style scoped>\n",
              "    .dataframe tbody tr th:only-of-type {\n",
              "        vertical-align: middle;\n",
              "    }\n",
              "\n",
              "    .dataframe tbody tr th {\n",
              "        vertical-align: top;\n",
              "    }\n",
              "\n",
              "    .dataframe thead th {\n",
              "        text-align: right;\n",
              "    }\n",
              "</style>\n",
              "<table border=\"1\" class=\"dataframe\">\n",
              "  <thead>\n",
              "    <tr style=\"text-align: right;\">\n",
              "      <th></th>\n",
              "      <th>open</th>\n",
              "      <th>low</th>\n",
              "      <th>high</th>\n",
              "      <th>volume</th>\n",
              "    </tr>\n",
              "  </thead>\n",
              "  <tbody>\n",
              "    <tr>\n",
              "      <th>0</th>\n",
              "      <td>123.430000</td>\n",
              "      <td>122.309998</td>\n",
              "      <td>126.250000</td>\n",
              "      <td>2163600.0</td>\n",
              "    </tr>\n",
              "    <tr>\n",
              "      <th>1</th>\n",
              "      <td>125.239998</td>\n",
              "      <td>119.940002</td>\n",
              "      <td>125.540001</td>\n",
              "      <td>2386400.0</td>\n",
              "    </tr>\n",
              "    <tr>\n",
              "      <th>2</th>\n",
              "      <td>116.379997</td>\n",
              "      <td>114.930000</td>\n",
              "      <td>119.739998</td>\n",
              "      <td>2489500.0</td>\n",
              "    </tr>\n",
              "    <tr>\n",
              "      <th>3</th>\n",
              "      <td>115.480003</td>\n",
              "      <td>113.500000</td>\n",
              "      <td>117.440002</td>\n",
              "      <td>2006300.0</td>\n",
              "    </tr>\n",
              "    <tr>\n",
              "      <th>4</th>\n",
              "      <td>117.010002</td>\n",
              "      <td>114.089996</td>\n",
              "      <td>117.330002</td>\n",
              "      <td>1408600.0</td>\n",
              "    </tr>\n",
              "  </tbody>\n",
              "</table>\n",
              "</div>"
            ],
            "text/plain": [
              "         open         low        high     volume\n",
              "0  123.430000  122.309998  126.250000  2163600.0\n",
              "1  125.239998  119.940002  125.540001  2386400.0\n",
              "2  116.379997  114.930000  119.739998  2489500.0\n",
              "3  115.480003  113.500000  117.440002  2006300.0\n",
              "4  117.010002  114.089996  117.330002  1408600.0"
            ]
          },
          "metadata": {
            "tags": []
          },
          "execution_count": 16
        }
      ]
    },
    {
      "metadata": {
        "id": "6CHpcQFB7BqM",
        "colab_type": "code",
        "colab": {}
      },
      "cell_type": "code",
      "source": [
        "Y = data_1000['close']"
      ],
      "execution_count": 0,
      "outputs": []
    },
    {
      "metadata": {
        "id": "-fJkI8smg0hs",
        "colab_type": "code",
        "outputId": "68e0eead-66dc-4e4a-b41e-e6f98e621e27",
        "colab": {
          "base_uri": "https://localhost:8080/",
          "height": 119
        }
      },
      "cell_type": "code",
      "source": [
        "Y.head()"
      ],
      "execution_count": 18,
      "outputs": [
        {
          "output_type": "execute_result",
          "data": {
            "text/plain": [
              "0    125.839996\n",
              "1    119.980003\n",
              "2    114.949997\n",
              "3    116.620003\n",
              "4    114.970001\n",
              "Name: close, dtype: float64"
            ]
          },
          "metadata": {
            "tags": []
          },
          "execution_count": 18
        }
      ]
    },
    {
      "metadata": {
        "id": "EsxZWWIBIQLs",
        "colab_type": "text"
      },
      "cell_type": "markdown",
      "source": [
        "### Split Data"
      ]
    },
    {
      "metadata": {
        "id": "46K4As16ITzP",
        "colab_type": "code",
        "colab": {}
      },
      "cell_type": "code",
      "source": [
        "from sklearn.model_selection import train_test_split\n",
        "\n",
        "### Split the Dataset\n",
        "X_train, X_test, y_train, y_test = train_test_split(X, Y, test_size=0.3, random_state=7)"
      ],
      "execution_count": 0,
      "outputs": []
    },
    {
      "metadata": {
        "colab_type": "text",
        "id": "v6vE4eYCOB62",
        "slideshow": {
          "slide_type": "slide"
        }
      },
      "cell_type": "markdown",
      "source": [
        "## Building the graph in tensorflow"
      ]
    },
    {
      "metadata": {
        "colab_type": "text",
        "id": "xK0zBd1VOB64",
        "slideshow": {
          "slide_type": "slide"
        }
      },
      "cell_type": "markdown",
      "source": [
        "1.Define input data placeholders"
      ]
    },
    {
      "metadata": {
        "id": "wGp7p5_8-UT7",
        "colab_type": "code",
        "colab": {}
      },
      "cell_type": "code",
      "source": [
        "x = tf.placeholder(tf.float32, shape=(None, 4))\n",
        "x_nn = tf.nn.l2_normalize(x)\n",
        "y = tf.placeholder(tf.float32, shape=(None))"
      ],
      "execution_count": 0,
      "outputs": []
    },
    {
      "metadata": {
        "colab_type": "text",
        "id": "297_qja4OB7A",
        "slideshow": {
          "slide_type": "slide"
        }
      },
      "cell_type": "markdown",
      "source": [
        "2.Define Weights and Bias"
      ]
    },
    {
      "metadata": {
        "colab_type": "code",
        "id": "L205qPeQOB7B",
        "outputId": "66795d76-16a6-4e08-aea6-f6a4f3feab1d",
        "colab": {
          "base_uri": "https://localhost:8080/",
          "height": 88
        }
      },
      "cell_type": "code",
      "source": [
        "#We are initializing weights\n",
        "w = tf.Variable(tf.zeros(shape=[4,1]))\n",
        "b = tf.Variable(tf.zeros(shape=[1]))"
      ],
      "execution_count": 21,
      "outputs": [
        {
          "output_type": "stream",
          "text": [
            "WARNING:tensorflow:From /usr/local/lib/python2.7/dist-packages/tensorflow/python/framework/op_def_library.py:263: colocate_with (from tensorflow.python.framework.ops) is deprecated and will be removed in a future version.\n",
            "Instructions for updating:\n",
            "Colocations handled automatically by placer.\n"
          ],
          "name": "stdout"
        }
      ]
    },
    {
      "metadata": {
        "colab_type": "text",
        "id": "HgtWA-UIOB7F",
        "slideshow": {
          "slide_type": "slide"
        }
      },
      "cell_type": "markdown",
      "source": [
        "3.Prediction"
      ]
    },
    {
      "metadata": {
        "colab_type": "code",
        "id": "JveGlx25OB7H",
        "colab": {}
      },
      "cell_type": "code",
      "source": [
        "y_ = tf.add(tf.matmul(x_nn, w), b)"
      ],
      "execution_count": 0,
      "outputs": []
    },
    {
      "metadata": {
        "colab_type": "text",
        "id": "TL1hIwf_OB7M",
        "slideshow": {
          "slide_type": "slide"
        }
      },
      "cell_type": "markdown",
      "source": [
        "4.Loss (Cost) Function [Mean square error]"
      ]
    },
    {
      "metadata": {
        "colab_type": "code",
        "id": "8VSWPiGXOB7P",
        "colab": {}
      },
      "cell_type": "code",
      "source": [
        "mseavg = tf.reduce_mean(tf.square(y - y_))"
      ],
      "execution_count": 0,
      "outputs": []
    },
    {
      "metadata": {
        "colab_type": "text",
        "id": "jzG85FUlOB7U",
        "slideshow": {
          "slide_type": "slide"
        }
      },
      "cell_type": "markdown",
      "source": [
        "5.GradientDescent Optimizer to minimize Loss [GradientDescentOptimizer]"
      ]
    },
    {
      "metadata": {
        "colab_type": "code",
        "id": "cj802w-3OB7X",
        "outputId": "783f41db-8433-4a2a-9af3-00608ded4233",
        "colab": {
          "base_uri": "https://localhost:8080/",
          "height": 88
        }
      },
      "cell_type": "code",
      "source": [
        "optimiser = tf.train.GradientDescentOptimizer(0.01).minimize(mseavg)"
      ],
      "execution_count": 24,
      "outputs": [
        {
          "output_type": "stream",
          "text": [
            "WARNING:tensorflow:From /usr/local/lib/python2.7/dist-packages/tensorflow/python/ops/math_ops.py:3066: to_int32 (from tensorflow.python.ops.math_ops) is deprecated and will be removed in a future version.\n",
            "Instructions for updating:\n",
            "Use tf.cast instead.\n"
          ],
          "name": "stdout"
        }
      ]
    },
    {
      "metadata": {
        "colab_type": "text",
        "id": "xSypb_u8OB7e",
        "slideshow": {
          "slide_type": "slide"
        }
      },
      "cell_type": "markdown",
      "source": [
        "## Execute the Graph for 100 epochs and observe the loss"
      ]
    },
    {
      "metadata": {
        "colab_type": "code",
        "id": "DVvgj7eQOB7f",
        "colab": {}
      },
      "cell_type": "code",
      "source": [
        "sess = tf.Session()\n",
        "sess.run(tf.global_variables_initializer())\n",
        "epochs = 100"
      ],
      "execution_count": 0,
      "outputs": []
    },
    {
      "metadata": {
        "colab_type": "code",
        "id": "9smwOW-1OB7k",
        "outputId": "d82f66c5-3a47-4a41-a8d5-dfb72c6c263f",
        "colab": {
          "base_uri": "https://localhost:8080/",
          "height": 187
        }
      },
      "cell_type": "code",
      "source": [
        "for epoch in range(epochs):\n",
        "  opt,train_loss = sess.run([optimiser,mseavg],feed_dict={x:X_train,y:y_train})\n",
        "  # print(epoch)\n",
        "  if epoch / 10 == 0:\n",
        "    print('Current Loss on iteration :',train_loss)"
      ],
      "execution_count": 26,
      "outputs": [
        {
          "output_type": "stream",
          "text": [
            "('Current Loss on iteration :', 8370.582)\n",
            "('Current Loss on iteration :', 8184.713)\n",
            "('Current Loss on iteration :', 8006.204)\n",
            "('Current Loss on iteration :', 7834.7666)\n",
            "('Current Loss on iteration :', 7670.118)\n",
            "('Current Loss on iteration :', 7511.9907)\n",
            "('Current Loss on iteration :', 7360.1265)\n",
            "('Current Loss on iteration :', 7214.2764)\n",
            "('Current Loss on iteration :', 7074.2036)\n",
            "('Current Loss on iteration :', 6939.678)\n"
          ],
          "name": "stdout"
        }
      ]
    },
    {
      "metadata": {
        "colab_type": "text",
        "id": "DOL2ncA1OB7q"
      },
      "cell_type": "markdown",
      "source": [
        "### Get the shapes and values of W and b\n",
        "\n",
        "Hint: Use sess.run(W) to get W."
      ]
    },
    {
      "metadata": {
        "colab_type": "code",
        "id": "ZGvtyTeuOB7r",
        "outputId": "915f59e6-e8b6-4c2f-d70f-7500f05a49bb",
        "colab": {
          "base_uri": "https://localhost:8080/",
          "height": 85
        }
      },
      "cell_type": "code",
      "source": [
        "sess.run(w)"
      ],
      "execution_count": 27,
      "outputs": [
        {
          "output_type": "execute_result",
          "data": {
            "text/plain": [
              "array([[8.7868657e-06],\n",
              "       [8.6985820e-06],\n",
              "       [8.8714669e-06],\n",
              "       [7.1968395e-01]], dtype=float32)"
            ]
          },
          "metadata": {
            "tags": []
          },
          "execution_count": 27
        }
      ]
    },
    {
      "metadata": {
        "colab_type": "text",
        "id": "SZqKUEFsOB71"
      },
      "cell_type": "markdown",
      "source": [
        "### Find the Absolute mean square loss difference between training and testing loss."
      ]
    },
    {
      "metadata": {
        "colab_type": "code",
        "id": "97t-grQgOB71",
        "outputId": "f50a3499-57de-4f76-cde6-457020bb568d",
        "colab": {
          "base_uri": "https://localhost:8080/",
          "height": 34
        }
      },
      "cell_type": "code",
      "source": [
        "print(train_loss)"
      ],
      "execution_count": 28,
      "outputs": [
        {
          "output_type": "stream",
          "text": [
            "3763.4832\n"
          ],
          "name": "stdout"
        }
      ]
    },
    {
      "metadata": {
        "id": "gkDswUq3U8G3",
        "colab_type": "code",
        "outputId": "a5da5e95-8b07-4971-c6e1-381e0e4ab1db",
        "colab": {
          "base_uri": "https://localhost:8080/",
          "height": 187
        }
      },
      "cell_type": "code",
      "source": [
        "for epoch in range(epochs):\n",
        "  opt,test_loss = sess.run([optimiser,mseavg],feed_dict={x:X_test,y:y_test})\n",
        "  # print(epoch)\n",
        "  if epoch / 10 == 0:\n",
        "    print('Current Loss on iteration :',test_loss)"
      ],
      "execution_count": 29,
      "outputs": [
        {
          "output_type": "stream",
          "text": [
            "('Current Loss on iteration :', 2748.3857)\n",
            "('Current Loss on iteration :', 2747.9526)\n",
            "('Current Loss on iteration :', 2747.5369)\n",
            "('Current Loss on iteration :', 2747.1375)\n",
            "('Current Loss on iteration :', 2746.7537)\n",
            "('Current Loss on iteration :', 2746.3855)\n",
            "('Current Loss on iteration :', 2746.0317)\n",
            "('Current Loss on iteration :', 2745.6921)\n",
            "('Current Loss on iteration :', 2745.366)\n",
            "('Current Loss on iteration :', 2745.0525)\n"
          ],
          "name": "stdout"
        }
      ]
    },
    {
      "metadata": {
        "id": "yXGZ9EraVEFk",
        "colab_type": "code",
        "outputId": "585ca37b-ca2a-4321-df88-a9268c561012",
        "colab": {
          "base_uri": "https://localhost:8080/",
          "height": 34
        }
      },
      "cell_type": "code",
      "source": [
        "diff = train_loss-test_loss\n",
        "print(diff)"
      ],
      "execution_count": 30,
      "outputs": [
        {
          "output_type": "stream",
          "text": [
            "1025.8232\n"
          ],
          "name": "stdout"
        }
      ]
    },
    {
      "metadata": {
        "id": "zPuwM_ZpcGDa",
        "colab_type": "code",
        "outputId": "8717da67-7a47-4a85-87c4-f2401aac26ed",
        "colab": {
          "base_uri": "https://localhost:8080/",
          "height": 34
        }
      },
      "cell_type": "code",
      "source": [
        "sess.close"
      ],
      "execution_count": 31,
      "outputs": [
        {
          "output_type": "execute_result",
          "data": {
            "text/plain": [
              "<bound method Session.close of <tensorflow.python.client.session.Session object at 0x7f0639d60790>>"
            ]
          },
          "metadata": {
            "tags": []
          },
          "execution_count": 31
        }
      ]
    },
    {
      "metadata": {
        "colab_type": "text",
        "id": "YJRBuqXhOB7_"
      },
      "cell_type": "markdown",
      "source": [
        "### Linear Classification using Keras"
      ]
    },
    {
      "metadata": {
        "colab_type": "text",
        "id": "8GoNTWXAOB8C",
        "slideshow": {
          "slide_type": "slide"
        }
      },
      "cell_type": "markdown",
      "source": [
        "### Building the simple Neural Network in Keras with one neuron in the dense hidden layer.\n",
        "#### Use Mean square error as loss function and sgd as optimizer"
      ]
    },
    {
      "metadata": {
        "colab_type": "code",
        "id": "zpeL5rCTOB8D",
        "colab": {}
      },
      "cell_type": "code",
      "source": [
        "#Initialize Sequential model\n",
        "model = tf.keras.models.Sequential()\n",
        "\n",
        "#Normalize the data\n",
        "model.add(tf.keras.layers.BatchNormalization(input_shape=(4,)))\n",
        "\n",
        "\n",
        "#Add Dense Layer which provides 1 Outputs \n",
        "model.add(tf.keras.layers.Dense(1))\n"
      ],
      "execution_count": 0,
      "outputs": []
    },
    {
      "metadata": {
        "colab_type": "text",
        "id": "Wt-HYFMEOB8G",
        "slideshow": {
          "slide_type": "slide"
        }
      },
      "cell_type": "markdown",
      "source": [
        "### Execute the model"
      ]
    },
    {
      "metadata": {
        "colab_type": "code",
        "id": "66JGJt7GOB8H",
        "outputId": "a6125f9f-6b03-404f-dfce-c133865901a7",
        "colab": {
          "base_uri": "https://localhost:8080/",
          "height": 88
        }
      },
      "cell_type": "code",
      "source": [
        "#Compile the model\n",
        "model.compile(optimizer='sgd', loss='mse')"
      ],
      "execution_count": 33,
      "outputs": [
        {
          "output_type": "stream",
          "text": [
            "WARNING:tensorflow:From /usr/local/lib/python2.7/dist-packages/tensorflow/python/keras/utils/losses_utils.py:170: to_float (from tensorflow.python.ops.math_ops) is deprecated and will be removed in a future version.\n",
            "Instructions for updating:\n",
            "Use tf.cast instead.\n"
          ],
          "name": "stdout"
        }
      ]
    },
    {
      "metadata": {
        "id": "N7gUDE8lz8DT",
        "colab_type": "text"
      },
      "cell_type": "markdown",
      "source": [
        "### Classification using Keras "
      ]
    },
    {
      "metadata": {
        "id": "09laZ6tEz8DU",
        "colab_type": "code",
        "outputId": "ca6bea24-3458-4431-a819-e6cbc817ce90",
        "colab": {
          "base_uri": "https://localhost:8080/",
          "height": 3434
        }
      },
      "cell_type": "code",
      "source": [
        "model.fit(X, Y, epochs=100)"
      ],
      "execution_count": 34,
      "outputs": [
        {
          "output_type": "stream",
          "text": [
            "Epoch 1/100\n",
            "1000/1000 [==============================] - 0s 256us/sample - loss: nan\n",
            "Epoch 2/100\n",
            "1000/1000 [==============================] - 0s 104us/sample - loss: nan\n",
            "Epoch 3/100\n",
            "1000/1000 [==============================] - 0s 103us/sample - loss: nan\n",
            "Epoch 4/100\n",
            "1000/1000 [==============================] - 0s 97us/sample - loss: nan\n",
            "Epoch 5/100\n",
            "1000/1000 [==============================] - 0s 95us/sample - loss: nan\n",
            "Epoch 6/100\n",
            "1000/1000 [==============================] - 0s 99us/sample - loss: nan\n",
            "Epoch 7/100\n",
            "1000/1000 [==============================] - 0s 98us/sample - loss: nan\n",
            "Epoch 8/100\n",
            "1000/1000 [==============================] - 0s 100us/sample - loss: nan\n",
            "Epoch 9/100\n",
            "1000/1000 [==============================] - 0s 127us/sample - loss: nan\n",
            "Epoch 10/100\n",
            "1000/1000 [==============================] - 0s 128us/sample - loss: nan\n",
            "Epoch 11/100\n",
            "1000/1000 [==============================] - 0s 98us/sample - loss: nan\n",
            "Epoch 12/100\n",
            "1000/1000 [==============================] - 0s 96us/sample - loss: nan\n",
            "Epoch 13/100\n",
            "1000/1000 [==============================] - 0s 99us/sample - loss: nan\n",
            "Epoch 14/100\n",
            "1000/1000 [==============================] - 0s 99us/sample - loss: nan\n",
            "Epoch 15/100\n",
            "1000/1000 [==============================] - 0s 105us/sample - loss: nan\n",
            "Epoch 16/100\n",
            "1000/1000 [==============================] - 0s 100us/sample - loss: nan\n",
            "Epoch 17/100\n",
            "1000/1000 [==============================] - 0s 94us/sample - loss: nan\n",
            "Epoch 18/100\n",
            "1000/1000 [==============================] - 0s 97us/sample - loss: nan\n",
            "Epoch 19/100\n",
            "1000/1000 [==============================] - 0s 96us/sample - loss: nan\n",
            "Epoch 20/100\n",
            "1000/1000 [==============================] - 0s 119us/sample - loss: nan\n",
            "Epoch 21/100\n",
            "1000/1000 [==============================] - 0s 98us/sample - loss: nan\n",
            "Epoch 22/100\n",
            "1000/1000 [==============================] - 0s 95us/sample - loss: nan\n",
            "Epoch 23/100\n",
            "1000/1000 [==============================] - 0s 97us/sample - loss: nan\n",
            "Epoch 24/100\n",
            "1000/1000 [==============================] - 0s 102us/sample - loss: nan\n",
            "Epoch 25/100\n",
            "1000/1000 [==============================] - 0s 102us/sample - loss: nan\n",
            "Epoch 26/100\n",
            "1000/1000 [==============================] - 0s 104us/sample - loss: nan\n",
            "Epoch 27/100\n",
            "1000/1000 [==============================] - 0s 98us/sample - loss: nan\n",
            "Epoch 28/100\n",
            "1000/1000 [==============================] - 0s 97us/sample - loss: nan\n",
            "Epoch 29/100\n",
            "1000/1000 [==============================] - 0s 103us/sample - loss: nan\n",
            "Epoch 30/100\n",
            "1000/1000 [==============================] - 0s 113us/sample - loss: nan\n",
            "Epoch 31/100\n",
            "1000/1000 [==============================] - 0s 96us/sample - loss: nan\n",
            "Epoch 32/100\n",
            "1000/1000 [==============================] - 0s 96us/sample - loss: nan\n",
            "Epoch 33/100\n",
            "1000/1000 [==============================] - 0s 99us/sample - loss: nan\n",
            "Epoch 34/100\n",
            "1000/1000 [==============================] - 0s 98us/sample - loss: nan\n",
            "Epoch 35/100\n",
            "1000/1000 [==============================] - 0s 98us/sample - loss: nan\n",
            "Epoch 36/100\n",
            "1000/1000 [==============================] - 0s 103us/sample - loss: nan\n",
            "Epoch 37/100\n",
            "1000/1000 [==============================] - 0s 97us/sample - loss: nan\n",
            "Epoch 38/100\n",
            "1000/1000 [==============================] - 0s 109us/sample - loss: nan\n",
            "Epoch 39/100\n",
            "1000/1000 [==============================] - 0s 95us/sample - loss: nan\n",
            "Epoch 40/100\n",
            "1000/1000 [==============================] - 0s 111us/sample - loss: nan\n",
            "Epoch 41/100\n",
            "1000/1000 [==============================] - 0s 98us/sample - loss: nan\n",
            "Epoch 42/100\n",
            "1000/1000 [==============================] - 0s 100us/sample - loss: nan\n",
            "Epoch 43/100\n",
            "1000/1000 [==============================] - 0s 94us/sample - loss: nan\n",
            "Epoch 44/100\n",
            "1000/1000 [==============================] - 0s 101us/sample - loss: nan\n",
            "Epoch 45/100\n",
            "1000/1000 [==============================] - 0s 100us/sample - loss: nan\n",
            "Epoch 46/100\n",
            "1000/1000 [==============================] - 0s 101us/sample - loss: nan\n",
            "Epoch 47/100\n",
            "1000/1000 [==============================] - 0s 96us/sample - loss: nan\n",
            "Epoch 48/100\n",
            "1000/1000 [==============================] - 0s 97us/sample - loss: nan\n",
            "Epoch 49/100\n",
            "1000/1000 [==============================] - 0s 102us/sample - loss: nan\n",
            "Epoch 50/100\n",
            "1000/1000 [==============================] - 0s 108us/sample - loss: nan\n",
            "Epoch 51/100\n",
            "1000/1000 [==============================] - 0s 94us/sample - loss: nan\n",
            "Epoch 52/100\n",
            "1000/1000 [==============================] - 0s 96us/sample - loss: nan\n",
            "Epoch 53/100\n",
            "1000/1000 [==============================] - 0s 99us/sample - loss: nan\n",
            "Epoch 54/100\n",
            "1000/1000 [==============================] - 0s 101us/sample - loss: nan\n",
            "Epoch 55/100\n",
            "1000/1000 [==============================] - 0s 100us/sample - loss: nan\n",
            "Epoch 56/100\n",
            "1000/1000 [==============================] - 0s 101us/sample - loss: nan\n",
            "Epoch 57/100\n",
            "1000/1000 [==============================] - 0s 100us/sample - loss: nan\n",
            "Epoch 58/100\n",
            "1000/1000 [==============================] - 0s 100us/sample - loss: nan\n",
            "Epoch 59/100\n",
            "1000/1000 [==============================] - 0s 102us/sample - loss: nan\n",
            "Epoch 60/100\n",
            "1000/1000 [==============================] - 0s 112us/sample - loss: nan\n",
            "Epoch 61/100\n",
            "1000/1000 [==============================] - 0s 100us/sample - loss: nan\n",
            "Epoch 62/100\n",
            "1000/1000 [==============================] - 0s 97us/sample - loss: nan\n",
            "Epoch 63/100\n",
            "1000/1000 [==============================] - 0s 97us/sample - loss: nan\n",
            "Epoch 64/100\n",
            "1000/1000 [==============================] - 0s 106us/sample - loss: nan\n",
            "Epoch 65/100\n",
            "1000/1000 [==============================] - 0s 98us/sample - loss: nan\n",
            "Epoch 66/100\n",
            "1000/1000 [==============================] - 0s 98us/sample - loss: nan\n",
            "Epoch 67/100\n",
            "1000/1000 [==============================] - 0s 98us/sample - loss: nan\n",
            "Epoch 68/100\n",
            "1000/1000 [==============================] - 0s 99us/sample - loss: nan\n",
            "Epoch 69/100\n",
            "1000/1000 [==============================] - 0s 96us/sample - loss: nan\n",
            "Epoch 70/100\n",
            "1000/1000 [==============================] - 0s 126us/sample - loss: nan\n",
            "Epoch 71/100\n",
            "1000/1000 [==============================] - 0s 97us/sample - loss: nan\n",
            "Epoch 72/100\n",
            "1000/1000 [==============================] - 0s 95us/sample - loss: nan\n",
            "Epoch 73/100\n",
            "1000/1000 [==============================] - 0s 98us/sample - loss: nan\n",
            "Epoch 74/100\n",
            "1000/1000 [==============================] - 0s 103us/sample - loss: nan\n",
            "Epoch 75/100\n",
            "1000/1000 [==============================] - 0s 99us/sample - loss: nan\n",
            "Epoch 76/100\n",
            "1000/1000 [==============================] - 0s 102us/sample - loss: nan\n",
            "Epoch 77/100\n",
            "1000/1000 [==============================] - 0s 99us/sample - loss: nan\n",
            "Epoch 78/100\n",
            "1000/1000 [==============================] - 0s 98us/sample - loss: nan\n",
            "Epoch 79/100\n",
            "1000/1000 [==============================] - 0s 98us/sample - loss: nan\n",
            "Epoch 80/100\n",
            "1000/1000 [==============================] - 0s 113us/sample - loss: nan\n",
            "Epoch 81/100\n",
            "1000/1000 [==============================] - 0s 98us/sample - loss: nan\n",
            "Epoch 82/100\n",
            "1000/1000 [==============================] - 0s 95us/sample - loss: nan\n",
            "Epoch 83/100\n",
            "1000/1000 [==============================] - 0s 106us/sample - loss: nan\n",
            "Epoch 84/100\n",
            "1000/1000 [==============================] - 0s 102us/sample - loss: nan\n",
            "Epoch 85/100\n",
            "1000/1000 [==============================] - 0s 101us/sample - loss: nan\n",
            "Epoch 86/100\n",
            "1000/1000 [==============================] - 0s 104us/sample - loss: nan\n",
            "Epoch 87/100\n",
            "1000/1000 [==============================] - 0s 99us/sample - loss: nan\n",
            "Epoch 88/100\n",
            "1000/1000 [==============================] - 0s 98us/sample - loss: nan\n",
            "Epoch 89/100\n",
            "1000/1000 [==============================] - 0s 104us/sample - loss: nan\n",
            "Epoch 90/100\n",
            "1000/1000 [==============================] - 0s 124us/sample - loss: nan\n",
            "Epoch 91/100\n",
            "1000/1000 [==============================] - 0s 99us/sample - loss: nan\n",
            "Epoch 92/100\n",
            "1000/1000 [==============================] - 0s 96us/sample - loss: nan\n",
            "Epoch 93/100\n",
            "1000/1000 [==============================] - 0s 99us/sample - loss: nan\n",
            "Epoch 94/100\n",
            "1000/1000 [==============================] - 0s 104us/sample - loss: nan\n",
            "Epoch 95/100\n",
            "1000/1000 [==============================] - 0s 98us/sample - loss: nan\n",
            "Epoch 96/100\n",
            "1000/1000 [==============================] - 0s 98us/sample - loss: nan\n",
            "Epoch 97/100\n",
            "1000/1000 [==============================] - 0s 103us/sample - loss: nan\n",
            "Epoch 98/100\n",
            "1000/1000 [==============================] - 0s 100us/sample - loss: nan\n",
            "Epoch 99/100\n",
            "1000/1000 [==============================] - 0s 100us/sample - loss: nan\n",
            "Epoch 100/100\n",
            "1000/1000 [==============================] - 0s 117us/sample - loss: nan\n"
          ],
          "name": "stdout"
        },
        {
          "output_type": "execute_result",
          "data": {
            "text/plain": [
              "<tensorflow.python.keras.callbacks.History at 0x7f0639cd0850>"
            ]
          },
          "metadata": {
            "tags": []
          },
          "execution_count": 34
        }
      ]
    },
    {
      "metadata": {
        "id": "SE_nByolz8DY",
        "colab_type": "text"
      },
      "cell_type": "markdown",
      "source": [
        "### Load the given Iris data using pandas (Iris.csv)"
      ]
    },
    {
      "metadata": {
        "id": "RV67fYAOz8Da",
        "colab_type": "code",
        "colab": {}
      },
      "cell_type": "code",
      "source": [
        "irisdata = pd.read_csv('/content/gdrive/My Drive/Iris-1.csv')"
      ],
      "execution_count": 0,
      "outputs": []
    },
    {
      "metadata": {
        "id": "YX0lR3n4z8Dd",
        "colab_type": "text"
      },
      "cell_type": "markdown",
      "source": [
        "### Splitting the data into feature set and target set"
      ]
    },
    {
      "metadata": {
        "id": "2Zg_I6JFz8Dd",
        "colab_type": "code",
        "outputId": "895c27e0-2357-4472-9ee7-24d56be7a4b0",
        "colab": {
          "base_uri": "https://localhost:8080/",
          "height": 204
        }
      },
      "cell_type": "code",
      "source": [
        "irisdata.head()"
      ],
      "execution_count": 36,
      "outputs": [
        {
          "output_type": "execute_result",
          "data": {
            "text/html": [
              "<div>\n",
              "<style scoped>\n",
              "    .dataframe tbody tr th:only-of-type {\n",
              "        vertical-align: middle;\n",
              "    }\n",
              "\n",
              "    .dataframe tbody tr th {\n",
              "        vertical-align: top;\n",
              "    }\n",
              "\n",
              "    .dataframe thead th {\n",
              "        text-align: right;\n",
              "    }\n",
              "</style>\n",
              "<table border=\"1\" class=\"dataframe\">\n",
              "  <thead>\n",
              "    <tr style=\"text-align: right;\">\n",
              "      <th></th>\n",
              "      <th>Id</th>\n",
              "      <th>SepalLengthCm</th>\n",
              "      <th>SepalWidthCm</th>\n",
              "      <th>PetalLengthCm</th>\n",
              "      <th>PetalWidthCm</th>\n",
              "      <th>Species</th>\n",
              "    </tr>\n",
              "  </thead>\n",
              "  <tbody>\n",
              "    <tr>\n",
              "      <th>0</th>\n",
              "      <td>1</td>\n",
              "      <td>5.1</td>\n",
              "      <td>3.5</td>\n",
              "      <td>1.4</td>\n",
              "      <td>0.2</td>\n",
              "      <td>Iris-setosa</td>\n",
              "    </tr>\n",
              "    <tr>\n",
              "      <th>1</th>\n",
              "      <td>2</td>\n",
              "      <td>4.9</td>\n",
              "      <td>3.0</td>\n",
              "      <td>1.4</td>\n",
              "      <td>0.2</td>\n",
              "      <td>Iris-setosa</td>\n",
              "    </tr>\n",
              "    <tr>\n",
              "      <th>2</th>\n",
              "      <td>3</td>\n",
              "      <td>4.7</td>\n",
              "      <td>3.2</td>\n",
              "      <td>1.3</td>\n",
              "      <td>0.2</td>\n",
              "      <td>Iris-setosa</td>\n",
              "    </tr>\n",
              "    <tr>\n",
              "      <th>3</th>\n",
              "      <td>4</td>\n",
              "      <td>4.6</td>\n",
              "      <td>3.1</td>\n",
              "      <td>1.5</td>\n",
              "      <td>0.2</td>\n",
              "      <td>Iris-setosa</td>\n",
              "    </tr>\n",
              "    <tr>\n",
              "      <th>4</th>\n",
              "      <td>5</td>\n",
              "      <td>5.0</td>\n",
              "      <td>3.6</td>\n",
              "      <td>1.4</td>\n",
              "      <td>0.2</td>\n",
              "      <td>Iris-setosa</td>\n",
              "    </tr>\n",
              "  </tbody>\n",
              "</table>\n",
              "</div>"
            ],
            "text/plain": [
              "   Id  SepalLengthCm  SepalWidthCm  PetalLengthCm  PetalWidthCm      Species\n",
              "0   1            5.1           3.5            1.4           0.2  Iris-setosa\n",
              "1   2            4.9           3.0            1.4           0.2  Iris-setosa\n",
              "2   3            4.7           3.2            1.3           0.2  Iris-setosa\n",
              "3   4            4.6           3.1            1.5           0.2  Iris-setosa\n",
              "4   5            5.0           3.6            1.4           0.2  Iris-setosa"
            ]
          },
          "metadata": {
            "tags": []
          },
          "execution_count": 36
        }
      ]
    },
    {
      "metadata": {
        "id": "dwM90PfxkUGT",
        "colab_type": "code",
        "colab": {}
      },
      "cell_type": "code",
      "source": [
        "X = irisdata[['SepalLengthCm','SepalWidthCm','PetalLengthCm','PetalWidthCm']]\n",
        "Y = irisdata['Species']"
      ],
      "execution_count": 0,
      "outputs": []
    },
    {
      "metadata": {
        "id": "ZKW88qn4z8Df",
        "colab_type": "text"
      },
      "cell_type": "markdown",
      "source": [
        "### Target set has different categories. So, Label encode them. And convert into one-hot vectors using get_dummies in pandas."
      ]
    },
    {
      "metadata": {
        "id": "yTri1OfYz8Dg",
        "colab_type": "code",
        "colab": {}
      },
      "cell_type": "code",
      "source": [
        "Y = pd.get_dummies(Y)"
      ],
      "execution_count": 0,
      "outputs": []
    },
    {
      "metadata": {
        "id": "cM-xdBjwmiFQ",
        "colab_type": "code",
        "outputId": "48b468aa-9a35-4885-c1fc-79d27dad5e0d",
        "colab": {
          "base_uri": "https://localhost:8080/",
          "height": 204
        }
      },
      "cell_type": "code",
      "source": [
        "Y.head()"
      ],
      "execution_count": 39,
      "outputs": [
        {
          "output_type": "execute_result",
          "data": {
            "text/html": [
              "<div>\n",
              "<style scoped>\n",
              "    .dataframe tbody tr th:only-of-type {\n",
              "        vertical-align: middle;\n",
              "    }\n",
              "\n",
              "    .dataframe tbody tr th {\n",
              "        vertical-align: top;\n",
              "    }\n",
              "\n",
              "    .dataframe thead th {\n",
              "        text-align: right;\n",
              "    }\n",
              "</style>\n",
              "<table border=\"1\" class=\"dataframe\">\n",
              "  <thead>\n",
              "    <tr style=\"text-align: right;\">\n",
              "      <th></th>\n",
              "      <th>Iris-setosa</th>\n",
              "      <th>Iris-versicolor</th>\n",
              "      <th>Iris-virginica</th>\n",
              "    </tr>\n",
              "  </thead>\n",
              "  <tbody>\n",
              "    <tr>\n",
              "      <th>0</th>\n",
              "      <td>1</td>\n",
              "      <td>0</td>\n",
              "      <td>0</td>\n",
              "    </tr>\n",
              "    <tr>\n",
              "      <th>1</th>\n",
              "      <td>1</td>\n",
              "      <td>0</td>\n",
              "      <td>0</td>\n",
              "    </tr>\n",
              "    <tr>\n",
              "      <th>2</th>\n",
              "      <td>1</td>\n",
              "      <td>0</td>\n",
              "      <td>0</td>\n",
              "    </tr>\n",
              "    <tr>\n",
              "      <th>3</th>\n",
              "      <td>1</td>\n",
              "      <td>0</td>\n",
              "      <td>0</td>\n",
              "    </tr>\n",
              "    <tr>\n",
              "      <th>4</th>\n",
              "      <td>1</td>\n",
              "      <td>0</td>\n",
              "      <td>0</td>\n",
              "    </tr>\n",
              "  </tbody>\n",
              "</table>\n",
              "</div>"
            ],
            "text/plain": [
              "   Iris-setosa  Iris-versicolor  Iris-virginica\n",
              "0            1                0               0\n",
              "1            1                0               0\n",
              "2            1                0               0\n",
              "3            1                0               0\n",
              "4            1                0               0"
            ]
          },
          "metadata": {
            "tags": []
          },
          "execution_count": 39
        }
      ]
    },
    {
      "metadata": {
        "id": "1hLK0OLnz8Dh",
        "colab_type": "text"
      },
      "cell_type": "markdown",
      "source": [
        "### Divide the dataset into Training and test (70:30)"
      ]
    },
    {
      "metadata": {
        "id": "XZRdb9j_z8Di",
        "colab_type": "code",
        "colab": {}
      },
      "cell_type": "code",
      "source": [
        "from sklearn.model_selection import train_test_split\n",
        "\n",
        "### Split the Dataset which has been reduced by PCA.\n",
        "X_train, X_test, y_train, y_test = train_test_split(X, Y, test_size=0.3, random_state=7)"
      ],
      "execution_count": 0,
      "outputs": []
    },
    {
      "metadata": {
        "id": "00w0OMF6z8Dk",
        "colab_type": "text"
      },
      "cell_type": "markdown",
      "source": [
        "### Model\n",
        "Build the model with following layers: <br>\n",
        "1. First dense layer with 10 neurons with input shape 4 (according to the feature set) <br>\n",
        "2. Second Dense layer with 8 neurons <br>\n",
        "3. Output layer with 3 neurons with softmax activation (output layer, 3 neurons as we have 3 classes) <br>\n",
        "4. Use SGD and categorical_crossentropy loss "
      ]
    },
    {
      "metadata": {
        "id": "OsvP3VbDz8Dm",
        "colab_type": "code",
        "colab": {}
      },
      "cell_type": "code",
      "source": [
        "#Initialize Sequential model\n",
        "model = tf.keras.models.Sequential()\n",
        "\n",
        "#Normalize the data\n",
        "model.add(tf.keras.layers.BatchNormalization(input_shape=(4,)))"
      ],
      "execution_count": 0,
      "outputs": []
    },
    {
      "metadata": {
        "id": "lhq20qn4nPd_",
        "colab_type": "code",
        "colab": {}
      },
      "cell_type": "code",
      "source": [
        "#Add 1st hidden layer\n",
        "model.add(tf.keras.layers.Dense(10,input_shape=(4,)))"
      ],
      "execution_count": 0,
      "outputs": []
    },
    {
      "metadata": {
        "id": "pJRoUcKunwjQ",
        "colab_type": "code",
        "colab": {}
      },
      "cell_type": "code",
      "source": [
        "#Add 2nd hidden layer\n",
        "model.add(tf.keras.layers.Dense(8))"
      ],
      "execution_count": 0,
      "outputs": []
    },
    {
      "metadata": {
        "id": "abGVIYIcnzxh",
        "colab_type": "code",
        "colab": {}
      },
      "cell_type": "code",
      "source": [
        "#Add OUTPUT layer\n",
        "model.add(tf.keras.layers.Dense(3, activation='softmax'))"
      ],
      "execution_count": 0,
      "outputs": []
    },
    {
      "metadata": {
        "id": "zF1kndXgn94b",
        "colab_type": "code",
        "colab": {}
      },
      "cell_type": "code",
      "source": [
        "#Create optimizer with non-default learning rate\n",
        "sgd_optimizer = tf.keras.optimizers.SGD(lr=0.03)\n",
        "\n",
        "#Compile the model\n",
        "model.compile(optimizer=sgd_optimizer, loss='categorical_crossentropy', metrics=['accuracy'])"
      ],
      "execution_count": 0,
      "outputs": []
    },
    {
      "metadata": {
        "id": "DJG_LI-2z8Do",
        "colab_type": "text"
      },
      "cell_type": "markdown",
      "source": [
        "### Fitting the model and predicting "
      ]
    },
    {
      "metadata": {
        "id": "VCuosy0bz8Dp",
        "colab_type": "code",
        "outputId": "20109f6e-1380-4c43-d42b-f9d85ba156b8",
        "colab": {
          "base_uri": "https://localhost:8080/",
          "height": 1071
        }
      },
      "cell_type": "code",
      "source": [
        "model.fit(X_train,y_train,          \n",
        "          validation_data=(X_test,y_test),\n",
        "          epochs=30,\n",
        "          batch_size=50)"
      ],
      "execution_count": 57,
      "outputs": [
        {
          "output_type": "stream",
          "text": [
            "Train on 105 samples, validate on 45 samples\n",
            "Epoch 1/30\n",
            "105/105 [==============================] - 0s 210us/sample - loss: 0.1274 - acc: 0.9714 - val_loss: 0.3075 - val_acc: 0.8444\n",
            "Epoch 2/30\n",
            "105/105 [==============================] - 0s 189us/sample - loss: 0.1514 - acc: 0.9238 - val_loss: 0.3343 - val_acc: 0.8222\n",
            "Epoch 3/30\n",
            "105/105 [==============================] - 0s 189us/sample - loss: 0.1431 - acc: 0.9429 - val_loss: 0.3416 - val_acc: 0.8000\n",
            "Epoch 4/30\n",
            "105/105 [==============================] - 0s 153us/sample - loss: 0.1382 - acc: 0.9619 - val_loss: 0.3191 - val_acc: 0.8444\n",
            "Epoch 5/30\n",
            "105/105 [==============================] - 0s 155us/sample - loss: 0.1420 - acc: 0.9619 - val_loss: 0.3179 - val_acc: 0.8444\n",
            "Epoch 6/30\n",
            "105/105 [==============================] - 0s 171us/sample - loss: 0.1182 - acc: 0.9810 - val_loss: 0.3112 - val_acc: 0.8222\n",
            "Epoch 7/30\n",
            "105/105 [==============================] - 0s 172us/sample - loss: 0.2074 - acc: 0.8952 - val_loss: 0.3256 - val_acc: 0.8222\n",
            "Epoch 8/30\n",
            "105/105 [==============================] - 0s 146us/sample - loss: 0.1557 - acc: 0.9429 - val_loss: 0.3399 - val_acc: 0.8000\n",
            "Epoch 9/30\n",
            "105/105 [==============================] - 0s 154us/sample - loss: 0.1760 - acc: 0.8952 - val_loss: 0.3430 - val_acc: 0.8000\n",
            "Epoch 10/30\n",
            "105/105 [==============================] - 0s 161us/sample - loss: 0.1832 - acc: 0.9619 - val_loss: 0.2986 - val_acc: 0.8889\n",
            "Epoch 11/30\n",
            "105/105 [==============================] - 0s 170us/sample - loss: 0.1959 - acc: 0.9333 - val_loss: 0.2918 - val_acc: 0.8889\n",
            "Epoch 12/30\n",
            "105/105 [==============================] - 0s 191us/sample - loss: 0.1320 - acc: 0.9714 - val_loss: 0.2860 - val_acc: 0.8667\n",
            "Epoch 13/30\n",
            "105/105 [==============================] - 0s 196us/sample - loss: 0.1759 - acc: 0.9143 - val_loss: 0.2890 - val_acc: 0.8444\n",
            "Epoch 14/30\n",
            "105/105 [==============================] - 0s 182us/sample - loss: 0.1354 - acc: 0.9619 - val_loss: 0.2869 - val_acc: 0.8889\n",
            "Epoch 15/30\n",
            "105/105 [==============================] - 0s 171us/sample - loss: 0.1364 - acc: 0.9619 - val_loss: 0.2871 - val_acc: 0.8889\n",
            "Epoch 16/30\n",
            "105/105 [==============================] - 0s 164us/sample - loss: 0.1312 - acc: 0.9619 - val_loss: 0.2849 - val_acc: 0.8889\n",
            "Epoch 17/30\n",
            "105/105 [==============================] - 0s 160us/sample - loss: 0.1255 - acc: 0.9714 - val_loss: 0.2872 - val_acc: 0.8889\n",
            "Epoch 18/30\n",
            "105/105 [==============================] - 0s 194us/sample - loss: 0.2439 - acc: 0.9048 - val_loss: 0.3353 - val_acc: 0.8000\n",
            "Epoch 19/30\n",
            "105/105 [==============================] - 0s 169us/sample - loss: 0.2663 - acc: 0.9429 - val_loss: 0.3394 - val_acc: 0.8000\n",
            "Epoch 20/30\n",
            "105/105 [==============================] - 0s 172us/sample - loss: 0.1919 - acc: 0.9429 - val_loss: 0.3339 - val_acc: 0.8667\n",
            "Epoch 21/30\n",
            "105/105 [==============================] - 0s 176us/sample - loss: 0.1573 - acc: 0.9619 - val_loss: 0.3241 - val_acc: 0.8889\n",
            "Epoch 22/30\n",
            "105/105 [==============================] - 0s 163us/sample - loss: 0.1692 - acc: 0.9619 - val_loss: 0.3326 - val_acc: 0.8000\n",
            "Epoch 23/30\n",
            "105/105 [==============================] - 0s 156us/sample - loss: 0.1402 - acc: 0.9810 - val_loss: 0.3280 - val_acc: 0.8000\n",
            "Epoch 24/30\n",
            "105/105 [==============================] - 0s 177us/sample - loss: 0.1679 - acc: 0.9524 - val_loss: 0.3203 - val_acc: 0.8222\n",
            "Epoch 25/30\n",
            "105/105 [==============================] - 0s 162us/sample - loss: 0.1317 - acc: 0.9714 - val_loss: 0.3190 - val_acc: 0.8222\n",
            "Epoch 26/30\n",
            "105/105 [==============================] - 0s 183us/sample - loss: 0.1343 - acc: 0.9714 - val_loss: 0.3140 - val_acc: 0.8444\n",
            "Epoch 27/30\n",
            "105/105 [==============================] - 0s 153us/sample - loss: 0.1905 - acc: 0.9524 - val_loss: 0.3661 - val_acc: 0.8222\n",
            "Epoch 28/30\n",
            "105/105 [==============================] - 0s 166us/sample - loss: 0.2101 - acc: 0.9048 - val_loss: 0.4497 - val_acc: 0.7556\n",
            "Epoch 29/30\n",
            "105/105 [==============================] - 0s 162us/sample - loss: 0.2837 - acc: 0.8667 - val_loss: 0.3620 - val_acc: 0.8444\n",
            "Epoch 30/30\n",
            "105/105 [==============================] - 0s 162us/sample - loss: 0.1616 - acc: 0.9429 - val_loss: 0.3327 - val_acc: 0.8667\n"
          ],
          "name": "stdout"
        },
        {
          "output_type": "execute_result",
          "data": {
            "text/plain": [
              "<tensorflow.python.keras.callbacks.History at 0x7f061f4a2f90>"
            ]
          },
          "metadata": {
            "tags": []
          },
          "execution_count": 57
        }
      ]
    },
    {
      "metadata": {
        "id": "KgA3wBnIz8Dy",
        "colab_type": "text"
      },
      "cell_type": "markdown",
      "source": [
        "### Report Accuracy of the predicted values"
      ]
    },
    {
      "metadata": {
        "id": "7LSpEQ2Zz8Dz",
        "colab_type": "code",
        "colab": {}
      },
      "cell_type": "code",
      "source": [
        "prediction = model.predict(X_test)"
      ],
      "execution_count": 0,
      "outputs": []
    },
    {
      "metadata": {
        "id": "hqkxXqu1qf2P",
        "colab_type": "code",
        "colab": {}
      },
      "cell_type": "code",
      "source": [
        "import numpy as np\n",
        "\n",
        "y_predict = np.argmax(prediction,axis=1)"
      ],
      "execution_count": 0,
      "outputs": []
    },
    {
      "metadata": {
        "id": "ChHdAVTRrXjL",
        "colab_type": "code",
        "colab": {}
      },
      "cell_type": "code",
      "source": [
        "y_actual = np.argmax(y_test.values,axis=1)"
      ],
      "execution_count": 0,
      "outputs": []
    },
    {
      "metadata": {
        "id": "t3RfuXaxr6_N",
        "colab_type": "code",
        "outputId": "a3418660-1795-4705-d2a1-e130f7176ab5",
        "colab": {
          "base_uri": "https://localhost:8080/",
          "height": 68
        }
      },
      "cell_type": "code",
      "source": [
        "y_actual"
      ],
      "execution_count": 61,
      "outputs": [
        {
          "output_type": "execute_result",
          "data": {
            "text/plain": [
              "array([2, 1, 0, 1, 2, 0, 1, 1, 0, 1, 1, 1, 0, 2, 0, 1, 2, 2, 0, 0, 1, 2,\n",
              "       1, 2, 2, 2, 1, 1, 2, 2, 2, 1, 0, 2, 1, 0, 0, 0, 0, 2, 2, 1, 2, 2,\n",
              "       1])"
            ]
          },
          "metadata": {
            "tags": []
          },
          "execution_count": 61
        }
      ]
    },
    {
      "metadata": {
        "id": "E6oCtrtTw7O1",
        "colab_type": "code",
        "outputId": "d440d89b-a8cd-4e7c-cb9d-5efac4100f95",
        "colab": {
          "base_uri": "https://localhost:8080/",
          "height": 68
        }
      },
      "cell_type": "code",
      "source": [
        "y_predict"
      ],
      "execution_count": 62,
      "outputs": [
        {
          "output_type": "execute_result",
          "data": {
            "text/plain": [
              "array([2, 1, 0, 1, 1, 1, 1, 1, 0, 1, 2, 2, 0, 2, 0, 2, 2, 2, 0, 0, 1, 2,\n",
              "       1, 1, 2, 2, 1, 1, 2, 2, 2, 1, 0, 2, 1, 0, 0, 0, 0, 2, 2, 1, 2, 2,\n",
              "       1])"
            ]
          },
          "metadata": {
            "tags": []
          },
          "execution_count": 62
        }
      ]
    },
    {
      "metadata": {
        "id": "AUg5e26-w_ir",
        "colab_type": "code",
        "outputId": "df2f4e7a-767a-4bd6-f97f-b17682484fd6",
        "colab": {
          "base_uri": "https://localhost:8080/",
          "height": 85
        }
      },
      "cell_type": "code",
      "source": [
        "from sklearn.metrics import confusion_matrix \n",
        "from sklearn.metrics import accuracy_score \n",
        "from sklearn.metrics import classification_report \n",
        "results = confusion_matrix(y_actual, y_predict) \n",
        "print 'Confusion Matrix :'\n",
        "print(results) "
      ],
      "execution_count": 63,
      "outputs": [
        {
          "output_type": "stream",
          "text": [
            "Confusion Matrix :\n",
            "[[11  1  0]\n",
            " [ 0 13  3]\n",
            " [ 0  2 15]]\n"
          ],
          "name": "stdout"
        }
      ]
    },
    {
      "metadata": {
        "id": "9zZ5fOt_yhyh",
        "colab_type": "code",
        "colab": {}
      },
      "cell_type": "code",
      "source": [
        "from sklearn.metrics import precision_score, recall_score, accuracy_score"
      ],
      "execution_count": 0,
      "outputs": []
    },
    {
      "metadata": {
        "id": "_iuPfMdnHXXy",
        "colab_type": "code",
        "colab": {}
      },
      "cell_type": "code",
      "source": [
        "accuracy = accuracy_score(y_actual, y_predict)"
      ],
      "execution_count": 0,
      "outputs": []
    },
    {
      "metadata": {
        "id": "fb35ynW-Hw89",
        "colab_type": "code",
        "colab": {
          "base_uri": "https://localhost:8080/",
          "height": 51
        },
        "outputId": "ce77fca4-efc5-4be8-e5da-28421ead5aa3"
      },
      "cell_type": "code",
      "source": [
        "print 'Accuracy Score :'\n",
        "print(accuracy) "
      ],
      "execution_count": 66,
      "outputs": [
        {
          "output_type": "stream",
          "text": [
            "Accuracy Score :\n",
            "0.8666666666666667\n"
          ],
          "name": "stdout"
        }
      ]
    },
    {
      "metadata": {
        "id": "9SGbObwCH8H9",
        "colab_type": "code",
        "colab": {}
      },
      "cell_type": "code",
      "source": [
        ""
      ],
      "execution_count": 0,
      "outputs": []
    }
  ]
}