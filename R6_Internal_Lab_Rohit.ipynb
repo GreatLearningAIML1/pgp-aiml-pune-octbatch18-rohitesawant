{
  "nbformat": 4,
  "nbformat_minor": 0,
  "metadata": {
    "colab": {
      "name": "R6_Internal_Lab_Rohit.ipynb",
      "version": "0.3.2",
      "provenance": [],
      "collapsed_sections": [
        "YJRBuqXhOB7_"
      ]
    },
    "kernelspec": {
      "name": "python2",
      "display_name": "Python 2"
    },
    "accelerator": "GPU"
  },
  "cells": [
    {
      "metadata": {
        "colab_type": "text",
        "id": "sb7Epo0VOB58"
      },
      "cell_type": "markdown",
      "source": [
        "### Load tensorflow"
      ]
    },
    {
      "metadata": {
        "colab_type": "code",
        "id": "fHpCNRv1OB5-",
        "colab": {}
      },
      "cell_type": "code",
      "source": [
        "import tensorflow as tf"
      ],
      "execution_count": 0,
      "outputs": []
    },
    {
      "metadata": {
        "id": "w4g_olJy2PUt",
        "colab_type": "code",
        "outputId": "ca73af7a-7275-46d5-e5dc-10ea4fbb2308",
        "colab": {
          "base_uri": "https://localhost:8080/",
          "height": 34
        }
      },
      "cell_type": "code",
      "source": [
        "from google.colab import drive\n",
        "drive.mount('/content/gdrive')"
      ],
      "execution_count": 2,
      "outputs": [
        {
          "output_type": "stream",
          "text": [
            "Drive already mounted at /content/gdrive; to attempt to forcibly remount, call drive.mount(\"/content/gdrive\", force_remount=True).\n"
          ],
          "name": "stdout"
        }
      ]
    },
    {
      "metadata": {
        "id": "UBANcot72t1P",
        "colab_type": "code",
        "outputId": "5f2c62b1-67ec-48a5-d90c-f3505bfb851f",
        "colab": {
          "base_uri": "https://localhost:8080/",
          "height": 68
        }
      },
      "cell_type": "code",
      "source": [
        "ls -l"
      ],
      "execution_count": 3,
      "outputs": [
        {
          "output_type": "stream",
          "text": [
            "total 8\n",
            "drwx------ 3 root root 4096 Mar 17 08:52 \u001b[0m\u001b[01;34mgdrive\u001b[0m/\n",
            "drwxr-xr-x 1 root root 4096 Mar  8 17:26 \u001b[01;34msample_data\u001b[0m/\n"
          ],
          "name": "stdout"
        }
      ]
    },
    {
      "metadata": {
        "colab_type": "text",
        "id": "DxJDmJqqOB6K",
        "slideshow": {
          "slide_type": "slide"
        }
      },
      "cell_type": "markdown",
      "source": [
        "### Collect Data"
      ]
    },
    {
      "metadata": {
        "colab_type": "code",
        "id": "FhllFLyKOB6N",
        "colab": {}
      },
      "cell_type": "code",
      "source": [
        "import pandas as pd"
      ],
      "execution_count": 0,
      "outputs": []
    },
    {
      "metadata": {
        "colab_type": "code",
        "id": "B4yQKMiJOB6R",
        "colab": {}
      },
      "cell_type": "code",
      "source": [
        "data = pd.read_csv('/content/gdrive/My Drive/prices.csv')"
      ],
      "execution_count": 0,
      "outputs": []
    },
    {
      "metadata": {
        "colab_type": "text",
        "id": "fgkX6SEqOB6W"
      },
      "cell_type": "markdown",
      "source": [
        "### Check all columns in the dataset"
      ]
    },
    {
      "metadata": {
        "colab_type": "code",
        "id": "7K8pWsNQOB6X",
        "outputId": "2b21daf5-e330-46fb-82c4-afd20591f9f8",
        "colab": {
          "base_uri": "https://localhost:8080/",
          "height": 153
        }
      },
      "cell_type": "code",
      "source": [
        "data.dtypes"
      ],
      "execution_count": 6,
      "outputs": [
        {
          "output_type": "execute_result",
          "data": {
            "text/plain": [
              "date       object\n",
              "symbol     object\n",
              "open      float64\n",
              "close     float64\n",
              "low       float64\n",
              "high      float64\n",
              "volume    float64\n",
              "dtype: object"
            ]
          },
          "metadata": {
            "tags": []
          },
          "execution_count": 6
        }
      ]
    },
    {
      "metadata": {
        "id": "5VKeV4ag3uuM",
        "colab_type": "code",
        "outputId": "5214d589-fe2c-4da0-8c04-2d618907e856",
        "colab": {
          "base_uri": "https://localhost:8080/",
          "height": 204
        }
      },
      "cell_type": "code",
      "source": [
        "data.head()"
      ],
      "execution_count": 7,
      "outputs": [
        {
          "output_type": "execute_result",
          "data": {
            "text/html": [
              "<div>\n",
              "<style scoped>\n",
              "    .dataframe tbody tr th:only-of-type {\n",
              "        vertical-align: middle;\n",
              "    }\n",
              "\n",
              "    .dataframe tbody tr th {\n",
              "        vertical-align: top;\n",
              "    }\n",
              "\n",
              "    .dataframe thead th {\n",
              "        text-align: right;\n",
              "    }\n",
              "</style>\n",
              "<table border=\"1\" class=\"dataframe\">\n",
              "  <thead>\n",
              "    <tr style=\"text-align: right;\">\n",
              "      <th></th>\n",
              "      <th>date</th>\n",
              "      <th>symbol</th>\n",
              "      <th>open</th>\n",
              "      <th>close</th>\n",
              "      <th>low</th>\n",
              "      <th>high</th>\n",
              "      <th>volume</th>\n",
              "    </tr>\n",
              "  </thead>\n",
              "  <tbody>\n",
              "    <tr>\n",
              "      <th>0</th>\n",
              "      <td>2016-01-05 00:00:00</td>\n",
              "      <td>WLTW</td>\n",
              "      <td>123.430000</td>\n",
              "      <td>125.839996</td>\n",
              "      <td>122.309998</td>\n",
              "      <td>126.250000</td>\n",
              "      <td>2163600.0</td>\n",
              "    </tr>\n",
              "    <tr>\n",
              "      <th>1</th>\n",
              "      <td>2016-01-06 00:00:00</td>\n",
              "      <td>WLTW</td>\n",
              "      <td>125.239998</td>\n",
              "      <td>119.980003</td>\n",
              "      <td>119.940002</td>\n",
              "      <td>125.540001</td>\n",
              "      <td>2386400.0</td>\n",
              "    </tr>\n",
              "    <tr>\n",
              "      <th>2</th>\n",
              "      <td>2016-01-07 00:00:00</td>\n",
              "      <td>WLTW</td>\n",
              "      <td>116.379997</td>\n",
              "      <td>114.949997</td>\n",
              "      <td>114.930000</td>\n",
              "      <td>119.739998</td>\n",
              "      <td>2489500.0</td>\n",
              "    </tr>\n",
              "    <tr>\n",
              "      <th>3</th>\n",
              "      <td>2016-01-08 00:00:00</td>\n",
              "      <td>WLTW</td>\n",
              "      <td>115.480003</td>\n",
              "      <td>116.620003</td>\n",
              "      <td>113.500000</td>\n",
              "      <td>117.440002</td>\n",
              "      <td>2006300.0</td>\n",
              "    </tr>\n",
              "    <tr>\n",
              "      <th>4</th>\n",
              "      <td>2016-01-11 00:00:00</td>\n",
              "      <td>WLTW</td>\n",
              "      <td>117.010002</td>\n",
              "      <td>114.970001</td>\n",
              "      <td>114.089996</td>\n",
              "      <td>117.330002</td>\n",
              "      <td>1408600.0</td>\n",
              "    </tr>\n",
              "  </tbody>\n",
              "</table>\n",
              "</div>"
            ],
            "text/plain": [
              "                  date symbol        open       close         low        high  \\\n",
              "0  2016-01-05 00:00:00   WLTW  123.430000  125.839996  122.309998  126.250000   \n",
              "1  2016-01-06 00:00:00   WLTW  125.239998  119.980003  119.940002  125.540001   \n",
              "2  2016-01-07 00:00:00   WLTW  116.379997  114.949997  114.930000  119.739998   \n",
              "3  2016-01-08 00:00:00   WLTW  115.480003  116.620003  113.500000  117.440002   \n",
              "4  2016-01-11 00:00:00   WLTW  117.010002  114.970001  114.089996  117.330002   \n",
              "\n",
              "      volume  \n",
              "0  2163600.0  \n",
              "1  2386400.0  \n",
              "2  2489500.0  \n",
              "3  2006300.0  \n",
              "4  1408600.0  "
            ]
          },
          "metadata": {
            "tags": []
          },
          "execution_count": 7
        }
      ]
    },
    {
      "metadata": {
        "colab_type": "text",
        "id": "7dU6X7MpOB6c"
      },
      "cell_type": "markdown",
      "source": [
        "### Drop columns `date` and  `symbol`"
      ]
    },
    {
      "metadata": {
        "id": "VAsEwQOP4Boe",
        "colab_type": "code",
        "colab": {}
      },
      "cell_type": "code",
      "source": [
        "data_org = data"
      ],
      "execution_count": 0,
      "outputs": []
    },
    {
      "metadata": {
        "colab_type": "code",
        "id": "lh_6spSKOB6e",
        "colab": {}
      },
      "cell_type": "code",
      "source": [
        "data.drop(['date','symbol'],axis = 1,inplace=True)"
      ],
      "execution_count": 0,
      "outputs": []
    },
    {
      "metadata": {
        "colab_type": "code",
        "id": "xlwbUgTwOB6i",
        "outputId": "71fa73bb-5fb2-43c9-aaba-e6d349431486",
        "colab": {
          "base_uri": "https://localhost:8080/",
          "height": 204
        }
      },
      "cell_type": "code",
      "source": [
        "data.head()"
      ],
      "execution_count": 10,
      "outputs": [
        {
          "output_type": "execute_result",
          "data": {
            "text/html": [
              "<div>\n",
              "<style scoped>\n",
              "    .dataframe tbody tr th:only-of-type {\n",
              "        vertical-align: middle;\n",
              "    }\n",
              "\n",
              "    .dataframe tbody tr th {\n",
              "        vertical-align: top;\n",
              "    }\n",
              "\n",
              "    .dataframe thead th {\n",
              "        text-align: right;\n",
              "    }\n",
              "</style>\n",
              "<table border=\"1\" class=\"dataframe\">\n",
              "  <thead>\n",
              "    <tr style=\"text-align: right;\">\n",
              "      <th></th>\n",
              "      <th>open</th>\n",
              "      <th>close</th>\n",
              "      <th>low</th>\n",
              "      <th>high</th>\n",
              "      <th>volume</th>\n",
              "    </tr>\n",
              "  </thead>\n",
              "  <tbody>\n",
              "    <tr>\n",
              "      <th>0</th>\n",
              "      <td>123.430000</td>\n",
              "      <td>125.839996</td>\n",
              "      <td>122.309998</td>\n",
              "      <td>126.250000</td>\n",
              "      <td>2163600.0</td>\n",
              "    </tr>\n",
              "    <tr>\n",
              "      <th>1</th>\n",
              "      <td>125.239998</td>\n",
              "      <td>119.980003</td>\n",
              "      <td>119.940002</td>\n",
              "      <td>125.540001</td>\n",
              "      <td>2386400.0</td>\n",
              "    </tr>\n",
              "    <tr>\n",
              "      <th>2</th>\n",
              "      <td>116.379997</td>\n",
              "      <td>114.949997</td>\n",
              "      <td>114.930000</td>\n",
              "      <td>119.739998</td>\n",
              "      <td>2489500.0</td>\n",
              "    </tr>\n",
              "    <tr>\n",
              "      <th>3</th>\n",
              "      <td>115.480003</td>\n",
              "      <td>116.620003</td>\n",
              "      <td>113.500000</td>\n",
              "      <td>117.440002</td>\n",
              "      <td>2006300.0</td>\n",
              "    </tr>\n",
              "    <tr>\n",
              "      <th>4</th>\n",
              "      <td>117.010002</td>\n",
              "      <td>114.970001</td>\n",
              "      <td>114.089996</td>\n",
              "      <td>117.330002</td>\n",
              "      <td>1408600.0</td>\n",
              "    </tr>\n",
              "  </tbody>\n",
              "</table>\n",
              "</div>"
            ],
            "text/plain": [
              "         open       close         low        high     volume\n",
              "0  123.430000  125.839996  122.309998  126.250000  2163600.0\n",
              "1  125.239998  119.980003  119.940002  125.540001  2386400.0\n",
              "2  116.379997  114.949997  114.930000  119.739998  2489500.0\n",
              "3  115.480003  116.620003  113.500000  117.440002  2006300.0\n",
              "4  117.010002  114.970001  114.089996  117.330002  1408600.0"
            ]
          },
          "metadata": {
            "tags": []
          },
          "execution_count": 10
        }
      ]
    },
    {
      "metadata": {
        "id": "8kh3tPEJ4ba4",
        "colab_type": "code",
        "outputId": "2f8bd50d-77a2-4a37-ea7e-fa924d65b334",
        "colab": {
          "base_uri": "https://localhost:8080/",
          "height": 34
        }
      },
      "cell_type": "code",
      "source": [
        "data.shape"
      ],
      "execution_count": 11,
      "outputs": [
        {
          "output_type": "execute_result",
          "data": {
            "text/plain": [
              "(851264, 5)"
            ]
          },
          "metadata": {
            "tags": []
          },
          "execution_count": 11
        }
      ]
    },
    {
      "metadata": {
        "colab_type": "text",
        "id": "3DBv3WWYOB6q"
      },
      "cell_type": "markdown",
      "source": [
        "### Consider only first 1000 rows in the dataset for building feature set and target set"
      ]
    },
    {
      "metadata": {
        "colab_type": "code",
        "id": "Z_hG9rGBOB6s",
        "colab": {}
      },
      "cell_type": "code",
      "source": [
        "data_1000 = data.iloc[0:1000,]"
      ],
      "execution_count": 0,
      "outputs": []
    },
    {
      "metadata": {
        "id": "-6XHcffR4ROf",
        "colab_type": "code",
        "outputId": "58f7d529-ca55-4609-8704-ac4efad456c4",
        "colab": {
          "base_uri": "https://localhost:8080/",
          "height": 204
        }
      },
      "cell_type": "code",
      "source": [
        "data_1000.head()"
      ],
      "execution_count": 13,
      "outputs": [
        {
          "output_type": "execute_result",
          "data": {
            "text/html": [
              "<div>\n",
              "<style scoped>\n",
              "    .dataframe tbody tr th:only-of-type {\n",
              "        vertical-align: middle;\n",
              "    }\n",
              "\n",
              "    .dataframe tbody tr th {\n",
              "        vertical-align: top;\n",
              "    }\n",
              "\n",
              "    .dataframe thead th {\n",
              "        text-align: right;\n",
              "    }\n",
              "</style>\n",
              "<table border=\"1\" class=\"dataframe\">\n",
              "  <thead>\n",
              "    <tr style=\"text-align: right;\">\n",
              "      <th></th>\n",
              "      <th>open</th>\n",
              "      <th>close</th>\n",
              "      <th>low</th>\n",
              "      <th>high</th>\n",
              "      <th>volume</th>\n",
              "    </tr>\n",
              "  </thead>\n",
              "  <tbody>\n",
              "    <tr>\n",
              "      <th>0</th>\n",
              "      <td>123.430000</td>\n",
              "      <td>125.839996</td>\n",
              "      <td>122.309998</td>\n",
              "      <td>126.250000</td>\n",
              "      <td>2163600.0</td>\n",
              "    </tr>\n",
              "    <tr>\n",
              "      <th>1</th>\n",
              "      <td>125.239998</td>\n",
              "      <td>119.980003</td>\n",
              "      <td>119.940002</td>\n",
              "      <td>125.540001</td>\n",
              "      <td>2386400.0</td>\n",
              "    </tr>\n",
              "    <tr>\n",
              "      <th>2</th>\n",
              "      <td>116.379997</td>\n",
              "      <td>114.949997</td>\n",
              "      <td>114.930000</td>\n",
              "      <td>119.739998</td>\n",
              "      <td>2489500.0</td>\n",
              "    </tr>\n",
              "    <tr>\n",
              "      <th>3</th>\n",
              "      <td>115.480003</td>\n",
              "      <td>116.620003</td>\n",
              "      <td>113.500000</td>\n",
              "      <td>117.440002</td>\n",
              "      <td>2006300.0</td>\n",
              "    </tr>\n",
              "    <tr>\n",
              "      <th>4</th>\n",
              "      <td>117.010002</td>\n",
              "      <td>114.970001</td>\n",
              "      <td>114.089996</td>\n",
              "      <td>117.330002</td>\n",
              "      <td>1408600.0</td>\n",
              "    </tr>\n",
              "  </tbody>\n",
              "</table>\n",
              "</div>"
            ],
            "text/plain": [
              "         open       close         low        high     volume\n",
              "0  123.430000  125.839996  122.309998  126.250000  2163600.0\n",
              "1  125.239998  119.980003  119.940002  125.540001  2386400.0\n",
              "2  116.379997  114.949997  114.930000  119.739998  2489500.0\n",
              "3  115.480003  116.620003  113.500000  117.440002  2006300.0\n",
              "4  117.010002  114.970001  114.089996  117.330002  1408600.0"
            ]
          },
          "metadata": {
            "tags": []
          },
          "execution_count": 13
        }
      ]
    },
    {
      "metadata": {
        "id": "e4xs0osy4UJv",
        "colab_type": "code",
        "outputId": "06263e49-690b-4129-e380-837eebcafa12",
        "colab": {
          "base_uri": "https://localhost:8080/",
          "height": 34
        }
      },
      "cell_type": "code",
      "source": [
        "data_1000.shape"
      ],
      "execution_count": 14,
      "outputs": [
        {
          "output_type": "execute_result",
          "data": {
            "text/plain": [
              "(1000, 5)"
            ]
          },
          "metadata": {
            "tags": []
          },
          "execution_count": 14
        }
      ]
    },
    {
      "metadata": {
        "colab_type": "text",
        "id": "M3UaApqYOB6x"
      },
      "cell_type": "markdown",
      "source": [
        "### Divide the data into train and test sets"
      ]
    },
    {
      "metadata": {
        "id": "LF7mrb2B6zO0",
        "colab_type": "code",
        "colab": {}
      },
      "cell_type": "code",
      "source": [
        "X = data_1000[['open','low','high','volume']]"
      ],
      "execution_count": 0,
      "outputs": []
    },
    {
      "metadata": {
        "id": "TdUQ1QfIgygw",
        "colab_type": "code",
        "colab": {
          "base_uri": "https://localhost:8080/",
          "height": 204
        },
        "outputId": "6bea690b-9023-48a1-9bf1-b913e6db2364"
      },
      "cell_type": "code",
      "source": [
        "X.head()"
      ],
      "execution_count": 41,
      "outputs": [
        {
          "output_type": "execute_result",
          "data": {
            "text/html": [
              "<div>\n",
              "<style scoped>\n",
              "    .dataframe tbody tr th:only-of-type {\n",
              "        vertical-align: middle;\n",
              "    }\n",
              "\n",
              "    .dataframe tbody tr th {\n",
              "        vertical-align: top;\n",
              "    }\n",
              "\n",
              "    .dataframe thead th {\n",
              "        text-align: right;\n",
              "    }\n",
              "</style>\n",
              "<table border=\"1\" class=\"dataframe\">\n",
              "  <thead>\n",
              "    <tr style=\"text-align: right;\">\n",
              "      <th></th>\n",
              "      <th>open</th>\n",
              "      <th>low</th>\n",
              "      <th>high</th>\n",
              "      <th>volume</th>\n",
              "    </tr>\n",
              "  </thead>\n",
              "  <tbody>\n",
              "    <tr>\n",
              "      <th>0</th>\n",
              "      <td>123.430000</td>\n",
              "      <td>122.309998</td>\n",
              "      <td>126.250000</td>\n",
              "      <td>2163600.0</td>\n",
              "    </tr>\n",
              "    <tr>\n",
              "      <th>1</th>\n",
              "      <td>125.239998</td>\n",
              "      <td>119.940002</td>\n",
              "      <td>125.540001</td>\n",
              "      <td>2386400.0</td>\n",
              "    </tr>\n",
              "    <tr>\n",
              "      <th>2</th>\n",
              "      <td>116.379997</td>\n",
              "      <td>114.930000</td>\n",
              "      <td>119.739998</td>\n",
              "      <td>2489500.0</td>\n",
              "    </tr>\n",
              "    <tr>\n",
              "      <th>3</th>\n",
              "      <td>115.480003</td>\n",
              "      <td>113.500000</td>\n",
              "      <td>117.440002</td>\n",
              "      <td>2006300.0</td>\n",
              "    </tr>\n",
              "    <tr>\n",
              "      <th>4</th>\n",
              "      <td>117.010002</td>\n",
              "      <td>114.089996</td>\n",
              "      <td>117.330002</td>\n",
              "      <td>1408600.0</td>\n",
              "    </tr>\n",
              "  </tbody>\n",
              "</table>\n",
              "</div>"
            ],
            "text/plain": [
              "         open         low        high     volume\n",
              "0  123.430000  122.309998  126.250000  2163600.0\n",
              "1  125.239998  119.940002  125.540001  2386400.0\n",
              "2  116.379997  114.930000  119.739998  2489500.0\n",
              "3  115.480003  113.500000  117.440002  2006300.0\n",
              "4  117.010002  114.089996  117.330002  1408600.0"
            ]
          },
          "metadata": {
            "tags": []
          },
          "execution_count": 41
        }
      ]
    },
    {
      "metadata": {
        "id": "6CHpcQFB7BqM",
        "colab_type": "code",
        "colab": {}
      },
      "cell_type": "code",
      "source": [
        "Y = data_1000['close']"
      ],
      "execution_count": 0,
      "outputs": []
    },
    {
      "metadata": {
        "id": "-fJkI8smg0hs",
        "colab_type": "code",
        "colab": {
          "base_uri": "https://localhost:8080/",
          "height": 119
        },
        "outputId": "40a9b008-eedc-4c6f-ac0f-7c44f29dd74c"
      },
      "cell_type": "code",
      "source": [
        "Y.head()"
      ],
      "execution_count": 42,
      "outputs": [
        {
          "output_type": "execute_result",
          "data": {
            "text/plain": [
              "0    125.839996\n",
              "1    119.980003\n",
              "2    114.949997\n",
              "3    116.620003\n",
              "4    114.970001\n",
              "Name: close, dtype: float64"
            ]
          },
          "metadata": {
            "tags": []
          },
          "execution_count": 42
        }
      ]
    },
    {
      "metadata": {
        "id": "EsxZWWIBIQLs",
        "colab_type": "text"
      },
      "cell_type": "markdown",
      "source": [
        "### Split Data"
      ]
    },
    {
      "metadata": {
        "id": "46K4As16ITzP",
        "colab_type": "code",
        "colab": {}
      },
      "cell_type": "code",
      "source": [
        "from sklearn.model_selection import train_test_split\n",
        "\n",
        "### Split the Dataset which has been reduced by PCA.\n",
        "X_train, X_test, y_train, y_test = train_test_split(X, Y, test_size=0.3, random_state=7)"
      ],
      "execution_count": 0,
      "outputs": []
    },
    {
      "metadata": {
        "colab_type": "text",
        "id": "v6vE4eYCOB62",
        "slideshow": {
          "slide_type": "slide"
        }
      },
      "cell_type": "markdown",
      "source": [
        "## Building the graph in tensorflow"
      ]
    },
    {
      "metadata": {
        "colab_type": "text",
        "id": "xK0zBd1VOB64",
        "slideshow": {
          "slide_type": "slide"
        }
      },
      "cell_type": "markdown",
      "source": [
        "1.Define input data placeholders"
      ]
    },
    {
      "metadata": {
        "id": "wGp7p5_8-UT7",
        "colab_type": "code",
        "colab": {}
      },
      "cell_type": "code",
      "source": [
        "x = tf.placeholder(tf.float32, shape=(None, 4))\n",
        "x_nn = tf.nn.l2_normalize(x)\n",
        "y = tf.placeholder(tf.float32, shape=(None))"
      ],
      "execution_count": 0,
      "outputs": []
    },
    {
      "metadata": {
        "colab_type": "text",
        "id": "297_qja4OB7A",
        "slideshow": {
          "slide_type": "slide"
        }
      },
      "cell_type": "markdown",
      "source": [
        "2.Define Weights and Bias"
      ]
    },
    {
      "metadata": {
        "colab_type": "code",
        "id": "L205qPeQOB7B",
        "colab": {
          "base_uri": "https://localhost:8080/",
          "height": 88
        },
        "outputId": "e22910af-f55d-4674-e6de-aaf20ef9f251"
      },
      "cell_type": "code",
      "source": [
        "#We are initializing weights and Bias with Zero\n",
        "w = tf.Variable(tf.zeros(shape=[4,1]))\n",
        "b = tf.Variable(tf.zeros(shape=[1]))"
      ],
      "execution_count": 20,
      "outputs": [
        {
          "output_type": "stream",
          "text": [
            "WARNING:tensorflow:From /usr/local/lib/python2.7/dist-packages/tensorflow/python/framework/op_def_library.py:263: colocate_with (from tensorflow.python.framework.ops) is deprecated and will be removed in a future version.\n",
            "Instructions for updating:\n",
            "Colocations handled automatically by placer.\n"
          ],
          "name": "stdout"
        }
      ]
    },
    {
      "metadata": {
        "colab_type": "text",
        "id": "HgtWA-UIOB7F",
        "slideshow": {
          "slide_type": "slide"
        }
      },
      "cell_type": "markdown",
      "source": [
        "3.Prediction"
      ]
    },
    {
      "metadata": {
        "colab_type": "code",
        "id": "JveGlx25OB7H",
        "colab": {}
      },
      "cell_type": "code",
      "source": [
        "y_ = tf.add(tf.matmul(x_nn, w), b)"
      ],
      "execution_count": 0,
      "outputs": []
    },
    {
      "metadata": {
        "colab_type": "text",
        "id": "TL1hIwf_OB7M",
        "slideshow": {
          "slide_type": "slide"
        }
      },
      "cell_type": "markdown",
      "source": [
        "4.Loss (Cost) Function [Mean square error]"
      ]
    },
    {
      "metadata": {
        "colab_type": "code",
        "id": "8VSWPiGXOB7P",
        "colab": {}
      },
      "cell_type": "code",
      "source": [
        "mseavg = tf.reduce_mean(tf.square(y - y_))"
      ],
      "execution_count": 0,
      "outputs": []
    },
    {
      "metadata": {
        "colab_type": "text",
        "id": "jzG85FUlOB7U",
        "slideshow": {
          "slide_type": "slide"
        }
      },
      "cell_type": "markdown",
      "source": [
        "5.GradientDescent Optimizer to minimize Loss [GradientDescentOptimizer]"
      ]
    },
    {
      "metadata": {
        "colab_type": "code",
        "id": "cj802w-3OB7X",
        "colab": {
          "base_uri": "https://localhost:8080/",
          "height": 88
        },
        "outputId": "13a63a7b-a54c-4fd7-fc9b-83674c8b5713"
      },
      "cell_type": "code",
      "source": [
        "optimiser = tf.train.GradientDescentOptimizer(0.01).minimize(mseavg)"
      ],
      "execution_count": 23,
      "outputs": [
        {
          "output_type": "stream",
          "text": [
            "WARNING:tensorflow:From /usr/local/lib/python2.7/dist-packages/tensorflow/python/ops/math_ops.py:3066: to_int32 (from tensorflow.python.ops.math_ops) is deprecated and will be removed in a future version.\n",
            "Instructions for updating:\n",
            "Use tf.cast instead.\n"
          ],
          "name": "stdout"
        }
      ]
    },
    {
      "metadata": {
        "colab_type": "text",
        "id": "xSypb_u8OB7e",
        "slideshow": {
          "slide_type": "slide"
        }
      },
      "cell_type": "markdown",
      "source": [
        "## Execute the Graph for 100 epochs and observe the loss"
      ]
    },
    {
      "metadata": {
        "colab_type": "code",
        "id": "DVvgj7eQOB7f",
        "colab": {}
      },
      "cell_type": "code",
      "source": [
        "sess = tf.Session()\n",
        "sess.run(tf.global_variables_initializer())\n",
        "epochs = 100"
      ],
      "execution_count": 0,
      "outputs": []
    },
    {
      "metadata": {
        "colab_type": "code",
        "id": "9smwOW-1OB7k",
        "colab": {
          "base_uri": "https://localhost:8080/",
          "height": 187
        },
        "outputId": "faba639d-db56-4e17-85c9-dc278bdc52f0"
      },
      "cell_type": "code",
      "source": [
        "for epoch in range(epochs):\n",
        "  opt,train_loss = sess.run([optimiser,mseavg],feed_dict={x:X_train,y:y_train})\n",
        "  # print(epoch)\n",
        "  if epoch / 10 == 0:\n",
        "    print('Current Loss on iteration :',train_loss)"
      ],
      "execution_count": 25,
      "outputs": [
        {
          "output_type": "stream",
          "text": [
            "('Current Loss on iteration :', 8370.582)\n",
            "('Current Loss on iteration :', 8184.713)\n",
            "('Current Loss on iteration :', 8006.204)\n",
            "('Current Loss on iteration :', 7834.7666)\n",
            "('Current Loss on iteration :', 7670.118)\n",
            "('Current Loss on iteration :', 7511.9907)\n",
            "('Current Loss on iteration :', 7360.1265)\n",
            "('Current Loss on iteration :', 7214.2764)\n",
            "('Current Loss on iteration :', 7074.2036)\n",
            "('Current Loss on iteration :', 6939.678)\n"
          ],
          "name": "stdout"
        }
      ]
    },
    {
      "metadata": {
        "colab_type": "text",
        "id": "DOL2ncA1OB7q"
      },
      "cell_type": "markdown",
      "source": [
        "### Get the shapes and values of W and b\n",
        "\n",
        "Hint: Use sess.run(W) to get W."
      ]
    },
    {
      "metadata": {
        "colab_type": "code",
        "id": "ZGvtyTeuOB7r",
        "colab": {
          "base_uri": "https://localhost:8080/",
          "height": 85
        },
        "outputId": "a6fa6e44-4352-4626-c289-3fad08aec420"
      },
      "cell_type": "code",
      "source": [
        "sess.run(w)"
      ],
      "execution_count": 26,
      "outputs": [
        {
          "output_type": "execute_result",
          "data": {
            "text/plain": [
              "array([[8.7868657e-06],\n",
              "       [8.6985820e-06],\n",
              "       [8.8714669e-06],\n",
              "       [7.1968395e-01]], dtype=float32)"
            ]
          },
          "metadata": {
            "tags": []
          },
          "execution_count": 26
        }
      ]
    },
    {
      "metadata": {
        "colab_type": "text",
        "id": "SZqKUEFsOB71"
      },
      "cell_type": "markdown",
      "source": [
        "### Find the Absolute mean square loss difference between training and testing loss."
      ]
    },
    {
      "metadata": {
        "colab_type": "code",
        "id": "97t-grQgOB71",
        "colab": {
          "base_uri": "https://localhost:8080/",
          "height": 34
        },
        "outputId": "80c4b486-5af1-4bc8-fd5a-3eec03af5fe6"
      },
      "cell_type": "code",
      "source": [
        "print(train_loss)"
      ],
      "execution_count": 27,
      "outputs": [
        {
          "output_type": "stream",
          "text": [
            "3763.4832\n"
          ],
          "name": "stdout"
        }
      ]
    },
    {
      "metadata": {
        "id": "gkDswUq3U8G3",
        "colab_type": "code",
        "colab": {
          "base_uri": "https://localhost:8080/",
          "height": 187
        },
        "outputId": "3c6a8340-8edc-40de-a6ee-92052fd0e998"
      },
      "cell_type": "code",
      "source": [
        "for epoch in range(epochs):\n",
        "  opt,test_loss = sess.run([optimiser,mseavg],feed_dict={x:X_test,y:y_test})\n",
        "  # print(epoch)\n",
        "  if epoch / 10 == 0:\n",
        "    print('Current Loss on iteration :',train_loss)"
      ],
      "execution_count": 28,
      "outputs": [
        {
          "output_type": "stream",
          "text": [
            "('Current Loss on iteration :', 3763.4832)\n",
            "('Current Loss on iteration :', 3763.4832)\n",
            "('Current Loss on iteration :', 3763.4832)\n",
            "('Current Loss on iteration :', 3763.4832)\n",
            "('Current Loss on iteration :', 3763.4832)\n",
            "('Current Loss on iteration :', 3763.4832)\n",
            "('Current Loss on iteration :', 3763.4832)\n",
            "('Current Loss on iteration :', 3763.4832)\n",
            "('Current Loss on iteration :', 3763.4832)\n",
            "('Current Loss on iteration :', 3763.4832)\n"
          ],
          "name": "stdout"
        }
      ]
    },
    {
      "metadata": {
        "id": "yXGZ9EraVEFk",
        "colab_type": "code",
        "colab": {
          "base_uri": "https://localhost:8080/",
          "height": 34
        },
        "outputId": "6f515aca-5301-4df9-c936-cfa2b024ad8b"
      },
      "cell_type": "code",
      "source": [
        "diff = train_loss-test_loss\n",
        "print(diff)"
      ],
      "execution_count": 29,
      "outputs": [
        {
          "output_type": "stream",
          "text": [
            "1025.8232\n"
          ],
          "name": "stdout"
        }
      ]
    },
    {
      "metadata": {
        "id": "zPuwM_ZpcGDa",
        "colab_type": "code",
        "colab": {
          "base_uri": "https://localhost:8080/",
          "height": 34
        },
        "outputId": "043d77da-16dd-44c8-8cb6-cdf5598e043d"
      },
      "cell_type": "code",
      "source": [
        "sess.close"
      ],
      "execution_count": 30,
      "outputs": [
        {
          "output_type": "execute_result",
          "data": {
            "text/plain": [
              "<bound method Session.close of <tensorflow.python.client.session.Session object at 0x7f53732a6bd0>>"
            ]
          },
          "metadata": {
            "tags": []
          },
          "execution_count": 30
        }
      ]
    },
    {
      "metadata": {
        "colab_type": "text",
        "id": "YJRBuqXhOB7_"
      },
      "cell_type": "markdown",
      "source": [
        "### Linear Classification using Keras"
      ]
    },
    {
      "metadata": {
        "colab_type": "text",
        "id": "8GoNTWXAOB8C",
        "slideshow": {
          "slide_type": "slide"
        }
      },
      "cell_type": "markdown",
      "source": [
        "### Building the simple Neural Network in Keras with one neuron in the dense hidden layer.\n",
        "#### Use Mean square error as loss function and sgd as optimizer"
      ]
    },
    {
      "metadata": {
        "colab_type": "code",
        "id": "zpeL5rCTOB8D",
        "colab": {}
      },
      "cell_type": "code",
      "source": [
        "#Initialize Sequential model\n",
        "model = tf.keras.models.Sequential()\n",
        "\n",
        "#Normalize the data\n",
        "model.add(tf.keras.layers.BatchNormalization(input_shape=(4,)))\n",
        "\n",
        "\n",
        "#Add Dense Layer which provides 1 Outputs \n",
        "model.add(tf.keras.layers.Dense(1))\n"
      ],
      "execution_count": 0,
      "outputs": []
    },
    {
      "metadata": {
        "colab_type": "text",
        "id": "Wt-HYFMEOB8G",
        "slideshow": {
          "slide_type": "slide"
        }
      },
      "cell_type": "markdown",
      "source": [
        "### Execute the model"
      ]
    },
    {
      "metadata": {
        "colab_type": "code",
        "id": "66JGJt7GOB8H",
        "colab": {
          "base_uri": "https://localhost:8080/",
          "height": 88
        },
        "outputId": "a6e559db-9e14-4476-90a6-b705af30273a"
      },
      "cell_type": "code",
      "source": [
        "#Comile the model\n",
        "model.compile(optimizer='sgd', loss='mse')"
      ],
      "execution_count": 47,
      "outputs": [
        {
          "output_type": "stream",
          "text": [
            "WARNING:tensorflow:From /usr/local/lib/python2.7/dist-packages/tensorflow/python/keras/utils/losses_utils.py:170: to_float (from tensorflow.python.ops.math_ops) is deprecated and will be removed in a future version.\n",
            "Instructions for updating:\n",
            "Use tf.cast instead.\n"
          ],
          "name": "stdout"
        }
      ]
    },
    {
      "metadata": {
        "id": "N7gUDE8lz8DT",
        "colab_type": "text"
      },
      "cell_type": "markdown",
      "source": [
        "### Classification using Keras "
      ]
    },
    {
      "metadata": {
        "id": "09laZ6tEz8DU",
        "colab_type": "code",
        "colab": {
          "base_uri": "https://localhost:8080/",
          "height": 3434
        },
        "outputId": "ab4a987b-e317-414b-bd10-1d8c7a592c64"
      },
      "cell_type": "code",
      "source": [
        "model.fit(X, Y, epochs=100)"
      ],
      "execution_count": 48,
      "outputs": [
        {
          "output_type": "stream",
          "text": [
            "Epoch 1/100\n",
            "1000/1000 [==============================] - 0s 303us/sample - loss: nan\n",
            "Epoch 2/100\n",
            "1000/1000 [==============================] - 0s 100us/sample - loss: nan\n",
            "Epoch 3/100\n",
            "1000/1000 [==============================] - 0s 106us/sample - loss: nan\n",
            "Epoch 4/100\n",
            "1000/1000 [==============================] - 0s 112us/sample - loss: nan\n",
            "Epoch 5/100\n",
            "1000/1000 [==============================] - 0s 109us/sample - loss: nan\n",
            "Epoch 6/100\n",
            "1000/1000 [==============================] - 0s 108us/sample - loss: nan\n",
            "Epoch 7/100\n",
            "1000/1000 [==============================] - 0s 109us/sample - loss: nan\n",
            "Epoch 8/100\n",
            "1000/1000 [==============================] - 0s 101us/sample - loss: nan\n",
            "Epoch 9/100\n",
            "1000/1000 [==============================] - 0s 103us/sample - loss: nan\n",
            "Epoch 10/100\n",
            "1000/1000 [==============================] - 0s 104us/sample - loss: nan\n",
            "Epoch 11/100\n",
            "1000/1000 [==============================] - 0s 106us/sample - loss: nan\n",
            "Epoch 12/100\n",
            "1000/1000 [==============================] - 0s 107us/sample - loss: nan\n",
            "Epoch 13/100\n",
            "1000/1000 [==============================] - 0s 106us/sample - loss: nan\n",
            "Epoch 14/100\n",
            "1000/1000 [==============================] - 0s 118us/sample - loss: nan\n",
            "Epoch 15/100\n",
            "1000/1000 [==============================] - 0s 99us/sample - loss: nan\n",
            "Epoch 16/100\n",
            "1000/1000 [==============================] - 0s 103us/sample - loss: nan\n",
            "Epoch 17/100\n",
            "1000/1000 [==============================] - 0s 103us/sample - loss: nan\n",
            "Epoch 18/100\n",
            "1000/1000 [==============================] - 0s 100us/sample - loss: nan\n",
            "Epoch 19/100\n",
            "1000/1000 [==============================] - 0s 102us/sample - loss: nan\n",
            "Epoch 20/100\n",
            "1000/1000 [==============================] - 0s 101us/sample - loss: nan\n",
            "Epoch 21/100\n",
            "1000/1000 [==============================] - 0s 98us/sample - loss: nan\n",
            "Epoch 22/100\n",
            "1000/1000 [==============================] - 0s 102us/sample - loss: nan\n",
            "Epoch 23/100\n",
            "1000/1000 [==============================] - 0s 101us/sample - loss: nan\n",
            "Epoch 24/100\n",
            "1000/1000 [==============================] - 0s 120us/sample - loss: nan\n",
            "Epoch 25/100\n",
            "1000/1000 [==============================] - 0s 104us/sample - loss: nan\n",
            "Epoch 26/100\n",
            "1000/1000 [==============================] - 0s 98us/sample - loss: nan\n",
            "Epoch 27/100\n",
            "1000/1000 [==============================] - 0s 106us/sample - loss: nan\n",
            "Epoch 28/100\n",
            "1000/1000 [==============================] - 0s 104us/sample - loss: nan\n",
            "Epoch 29/100\n",
            "1000/1000 [==============================] - 0s 101us/sample - loss: nan\n",
            "Epoch 30/100\n",
            "1000/1000 [==============================] - 0s 101us/sample - loss: nan\n",
            "Epoch 31/100\n",
            "1000/1000 [==============================] - 0s 97us/sample - loss: nan\n",
            "Epoch 32/100\n",
            "1000/1000 [==============================] - 0s 107us/sample - loss: nan\n",
            "Epoch 33/100\n",
            "1000/1000 [==============================] - 0s 107us/sample - loss: nan\n",
            "Epoch 34/100\n",
            "1000/1000 [==============================] - 0s 107us/sample - loss: nan\n",
            "Epoch 35/100\n",
            "1000/1000 [==============================] - 0s 102us/sample - loss: nan\n",
            "Epoch 36/100\n",
            "1000/1000 [==============================] - 0s 100us/sample - loss: nan\n",
            "Epoch 37/100\n",
            "1000/1000 [==============================] - 0s 99us/sample - loss: nan\n",
            "Epoch 38/100\n",
            "1000/1000 [==============================] - 0s 101us/sample - loss: nan\n",
            "Epoch 39/100\n",
            "1000/1000 [==============================] - 0s 108us/sample - loss: nan\n",
            "Epoch 40/100\n",
            "1000/1000 [==============================] - 0s 106us/sample - loss: nan\n",
            "Epoch 41/100\n",
            "1000/1000 [==============================] - 0s 101us/sample - loss: nan\n",
            "Epoch 42/100\n",
            "1000/1000 [==============================] - 0s 108us/sample - loss: nan\n",
            "Epoch 43/100\n",
            "1000/1000 [==============================] - 0s 119us/sample - loss: nan\n",
            "Epoch 44/100\n",
            "1000/1000 [==============================] - 0s 100us/sample - loss: nan\n",
            "Epoch 45/100\n",
            "1000/1000 [==============================] - 0s 102us/sample - loss: nan\n",
            "Epoch 46/100\n",
            "1000/1000 [==============================] - 0s 103us/sample - loss: nan\n",
            "Epoch 47/100\n",
            "1000/1000 [==============================] - 0s 100us/sample - loss: nan\n",
            "Epoch 48/100\n",
            "1000/1000 [==============================] - 0s 105us/sample - loss: nan\n",
            "Epoch 49/100\n",
            "1000/1000 [==============================] - 0s 99us/sample - loss: nan\n",
            "Epoch 50/100\n",
            "1000/1000 [==============================] - 0s 98us/sample - loss: nan\n",
            "Epoch 51/100\n",
            "1000/1000 [==============================] - 0s 107us/sample - loss: nan\n",
            "Epoch 52/100\n",
            "1000/1000 [==============================] - 0s 98us/sample - loss: nan\n",
            "Epoch 53/100\n",
            "1000/1000 [==============================] - 0s 124us/sample - loss: nan\n",
            "Epoch 54/100\n",
            "1000/1000 [==============================] - 0s 103us/sample - loss: nan\n",
            "Epoch 55/100\n",
            "1000/1000 [==============================] - 0s 98us/sample - loss: nan\n",
            "Epoch 56/100\n",
            "1000/1000 [==============================] - 0s 100us/sample - loss: nan\n",
            "Epoch 57/100\n",
            "1000/1000 [==============================] - 0s 100us/sample - loss: nan\n",
            "Epoch 58/100\n",
            "1000/1000 [==============================] - 0s 101us/sample - loss: nan\n",
            "Epoch 59/100\n",
            "1000/1000 [==============================] - 0s 102us/sample - loss: nan\n",
            "Epoch 60/100\n",
            "1000/1000 [==============================] - 0s 104us/sample - loss: nan\n",
            "Epoch 61/100\n",
            "1000/1000 [==============================] - 0s 98us/sample - loss: nan\n",
            "Epoch 62/100\n",
            "1000/1000 [==============================] - 0s 102us/sample - loss: nan\n",
            "Epoch 63/100\n",
            "1000/1000 [==============================] - 0s 123us/sample - loss: nan\n",
            "Epoch 64/100\n",
            "1000/1000 [==============================] - 0s 100us/sample - loss: nan\n",
            "Epoch 65/100\n",
            "1000/1000 [==============================] - 0s 103us/sample - loss: nan\n",
            "Epoch 66/100\n",
            "1000/1000 [==============================] - 0s 103us/sample - loss: nan\n",
            "Epoch 67/100\n",
            "1000/1000 [==============================] - 0s 101us/sample - loss: nan\n",
            "Epoch 68/100\n",
            "1000/1000 [==============================] - 0s 103us/sample - loss: nan\n",
            "Epoch 69/100\n",
            "1000/1000 [==============================] - 0s 104us/sample - loss: nan\n",
            "Epoch 70/100\n",
            "1000/1000 [==============================] - 0s 103us/sample - loss: nan\n",
            "Epoch 71/100\n",
            "1000/1000 [==============================] - 0s 101us/sample - loss: nan\n",
            "Epoch 72/100\n",
            "1000/1000 [==============================] - 0s 110us/sample - loss: nan\n",
            "Epoch 73/100\n",
            "1000/1000 [==============================] - 0s 107us/sample - loss: nan\n",
            "Epoch 74/100\n",
            "1000/1000 [==============================] - 0s 99us/sample - loss: nan\n",
            "Epoch 75/100\n",
            "1000/1000 [==============================] - 0s 101us/sample - loss: nan\n",
            "Epoch 76/100\n",
            "1000/1000 [==============================] - 0s 106us/sample - loss: nan\n",
            "Epoch 77/100\n",
            "1000/1000 [==============================] - 0s 102us/sample - loss: nan\n",
            "Epoch 78/100\n",
            "1000/1000 [==============================] - 0s 100us/sample - loss: nan\n",
            "Epoch 79/100\n",
            "1000/1000 [==============================] - 0s 101us/sample - loss: nan\n",
            "Epoch 80/100\n",
            "1000/1000 [==============================] - 0s 99us/sample - loss: nan\n",
            "Epoch 81/100\n",
            "1000/1000 [==============================] - 0s 102us/sample - loss: nan\n",
            "Epoch 82/100\n",
            "1000/1000 [==============================] - 0s 119us/sample - loss: nan\n",
            "Epoch 83/100\n",
            "1000/1000 [==============================] - 0s 101us/sample - loss: nan\n",
            "Epoch 84/100\n",
            "1000/1000 [==============================] - 0s 100us/sample - loss: nan\n",
            "Epoch 85/100\n",
            "1000/1000 [==============================] - 0s 99us/sample - loss: nan\n",
            "Epoch 86/100\n",
            "1000/1000 [==============================] - 0s 102us/sample - loss: nan\n",
            "Epoch 87/100\n",
            "1000/1000 [==============================] - 0s 100us/sample - loss: nan\n",
            "Epoch 88/100\n",
            "1000/1000 [==============================] - 0s 101us/sample - loss: nan\n",
            "Epoch 89/100\n",
            "1000/1000 [==============================] - 0s 103us/sample - loss: nan\n",
            "Epoch 90/100\n",
            "1000/1000 [==============================] - 0s 101us/sample - loss: nan\n",
            "Epoch 91/100\n",
            "1000/1000 [==============================] - 0s 100us/sample - loss: nan\n",
            "Epoch 92/100\n",
            "1000/1000 [==============================] - 0s 122us/sample - loss: nan\n",
            "Epoch 93/100\n",
            "1000/1000 [==============================] - 0s 100us/sample - loss: nan\n",
            "Epoch 94/100\n",
            "1000/1000 [==============================] - 0s 100us/sample - loss: nan\n",
            "Epoch 95/100\n",
            "1000/1000 [==============================] - 0s 103us/sample - loss: nan\n",
            "Epoch 96/100\n",
            "1000/1000 [==============================] - 0s 100us/sample - loss: nan\n",
            "Epoch 97/100\n",
            "1000/1000 [==============================] - 0s 100us/sample - loss: nan\n",
            "Epoch 98/100\n",
            "1000/1000 [==============================] - 0s 99us/sample - loss: nan\n",
            "Epoch 99/100\n",
            "1000/1000 [==============================] - 0s 106us/sample - loss: nan\n",
            "Epoch 100/100\n",
            "1000/1000 [==============================] - 0s 102us/sample - loss: nan\n"
          ],
          "name": "stdout"
        },
        {
          "output_type": "execute_result",
          "data": {
            "text/plain": [
              "<tensorflow.python.keras.callbacks.History at 0x7f53700236d0>"
            ]
          },
          "metadata": {
            "tags": []
          },
          "execution_count": 48
        }
      ]
    },
    {
      "metadata": {
        "id": "SE_nByolz8DY",
        "colab_type": "text"
      },
      "cell_type": "markdown",
      "source": [
        "### Load the given Iris data using pandas (Iris.csv)"
      ]
    },
    {
      "metadata": {
        "id": "RV67fYAOz8Da",
        "colab_type": "code",
        "colab": {}
      },
      "cell_type": "code",
      "source": [
        "irisdata = pd.read_csv('/content/gdrive/My Drive/Iris-1.csv')"
      ],
      "execution_count": 0,
      "outputs": []
    },
    {
      "metadata": {
        "id": "YX0lR3n4z8Dd",
        "colab_type": "text"
      },
      "cell_type": "markdown",
      "source": [
        "### Splitting the data into feature set and target set"
      ]
    },
    {
      "metadata": {
        "id": "2Zg_I6JFz8Dd",
        "colab_type": "code",
        "colab": {
          "base_uri": "https://localhost:8080/",
          "height": 204
        },
        "outputId": "c7cad782-861c-4ec1-f387-4726e852749e"
      },
      "cell_type": "code",
      "source": [
        "irisdata.head()"
      ],
      "execution_count": 111,
      "outputs": [
        {
          "output_type": "execute_result",
          "data": {
            "text/html": [
              "<div>\n",
              "<style scoped>\n",
              "    .dataframe tbody tr th:only-of-type {\n",
              "        vertical-align: middle;\n",
              "    }\n",
              "\n",
              "    .dataframe tbody tr th {\n",
              "        vertical-align: top;\n",
              "    }\n",
              "\n",
              "    .dataframe thead th {\n",
              "        text-align: right;\n",
              "    }\n",
              "</style>\n",
              "<table border=\"1\" class=\"dataframe\">\n",
              "  <thead>\n",
              "    <tr style=\"text-align: right;\">\n",
              "      <th></th>\n",
              "      <th>Id</th>\n",
              "      <th>SepalLengthCm</th>\n",
              "      <th>SepalWidthCm</th>\n",
              "      <th>PetalLengthCm</th>\n",
              "      <th>PetalWidthCm</th>\n",
              "      <th>Species</th>\n",
              "    </tr>\n",
              "  </thead>\n",
              "  <tbody>\n",
              "    <tr>\n",
              "      <th>0</th>\n",
              "      <td>1</td>\n",
              "      <td>5.1</td>\n",
              "      <td>3.5</td>\n",
              "      <td>1.4</td>\n",
              "      <td>0.2</td>\n",
              "      <td>Iris-setosa</td>\n",
              "    </tr>\n",
              "    <tr>\n",
              "      <th>1</th>\n",
              "      <td>2</td>\n",
              "      <td>4.9</td>\n",
              "      <td>3.0</td>\n",
              "      <td>1.4</td>\n",
              "      <td>0.2</td>\n",
              "      <td>Iris-setosa</td>\n",
              "    </tr>\n",
              "    <tr>\n",
              "      <th>2</th>\n",
              "      <td>3</td>\n",
              "      <td>4.7</td>\n",
              "      <td>3.2</td>\n",
              "      <td>1.3</td>\n",
              "      <td>0.2</td>\n",
              "      <td>Iris-setosa</td>\n",
              "    </tr>\n",
              "    <tr>\n",
              "      <th>3</th>\n",
              "      <td>4</td>\n",
              "      <td>4.6</td>\n",
              "      <td>3.1</td>\n",
              "      <td>1.5</td>\n",
              "      <td>0.2</td>\n",
              "      <td>Iris-setosa</td>\n",
              "    </tr>\n",
              "    <tr>\n",
              "      <th>4</th>\n",
              "      <td>5</td>\n",
              "      <td>5.0</td>\n",
              "      <td>3.6</td>\n",
              "      <td>1.4</td>\n",
              "      <td>0.2</td>\n",
              "      <td>Iris-setosa</td>\n",
              "    </tr>\n",
              "  </tbody>\n",
              "</table>\n",
              "</div>"
            ],
            "text/plain": [
              "   Id  SepalLengthCm  SepalWidthCm  PetalLengthCm  PetalWidthCm      Species\n",
              "0   1            5.1           3.5            1.4           0.2  Iris-setosa\n",
              "1   2            4.9           3.0            1.4           0.2  Iris-setosa\n",
              "2   3            4.7           3.2            1.3           0.2  Iris-setosa\n",
              "3   4            4.6           3.1            1.5           0.2  Iris-setosa\n",
              "4   5            5.0           3.6            1.4           0.2  Iris-setosa"
            ]
          },
          "metadata": {
            "tags": []
          },
          "execution_count": 111
        }
      ]
    },
    {
      "metadata": {
        "id": "dwM90PfxkUGT",
        "colab_type": "code",
        "colab": {}
      },
      "cell_type": "code",
      "source": [
        "X = irisdata[['SepalLengthCm','SepalWidthCm','PetalLengthCm','PetalWidthCm']]\n",
        "Y = irisdata['Species']"
      ],
      "execution_count": 0,
      "outputs": []
    },
    {
      "metadata": {
        "id": "ZKW88qn4z8Df",
        "colab_type": "text"
      },
      "cell_type": "markdown",
      "source": [
        "### Target set has different categories. So, Label encode them. And convert into one-hot vectors using get_dummies in pandas."
      ]
    },
    {
      "metadata": {
        "id": "yTri1OfYz8Dg",
        "colab_type": "code",
        "colab": {}
      },
      "cell_type": "code",
      "source": [
        "Y = pd.get_dummies(Y)"
      ],
      "execution_count": 0,
      "outputs": []
    },
    {
      "metadata": {
        "id": "cM-xdBjwmiFQ",
        "colab_type": "code",
        "colab": {
          "base_uri": "https://localhost:8080/",
          "height": 204
        },
        "outputId": "03d01f91-db4e-4c5a-d223-adc80df88149"
      },
      "cell_type": "code",
      "source": [
        "Y.head()"
      ],
      "execution_count": 70,
      "outputs": [
        {
          "output_type": "execute_result",
          "data": {
            "text/html": [
              "<div>\n",
              "<style scoped>\n",
              "    .dataframe tbody tr th:only-of-type {\n",
              "        vertical-align: middle;\n",
              "    }\n",
              "\n",
              "    .dataframe tbody tr th {\n",
              "        vertical-align: top;\n",
              "    }\n",
              "\n",
              "    .dataframe thead th {\n",
              "        text-align: right;\n",
              "    }\n",
              "</style>\n",
              "<table border=\"1\" class=\"dataframe\">\n",
              "  <thead>\n",
              "    <tr style=\"text-align: right;\">\n",
              "      <th></th>\n",
              "      <th>Iris-setosa</th>\n",
              "      <th>Iris-versicolor</th>\n",
              "      <th>Iris-virginica</th>\n",
              "    </tr>\n",
              "  </thead>\n",
              "  <tbody>\n",
              "    <tr>\n",
              "      <th>0</th>\n",
              "      <td>1</td>\n",
              "      <td>0</td>\n",
              "      <td>0</td>\n",
              "    </tr>\n",
              "    <tr>\n",
              "      <th>1</th>\n",
              "      <td>1</td>\n",
              "      <td>0</td>\n",
              "      <td>0</td>\n",
              "    </tr>\n",
              "    <tr>\n",
              "      <th>2</th>\n",
              "      <td>1</td>\n",
              "      <td>0</td>\n",
              "      <td>0</td>\n",
              "    </tr>\n",
              "    <tr>\n",
              "      <th>3</th>\n",
              "      <td>1</td>\n",
              "      <td>0</td>\n",
              "      <td>0</td>\n",
              "    </tr>\n",
              "    <tr>\n",
              "      <th>4</th>\n",
              "      <td>1</td>\n",
              "      <td>0</td>\n",
              "      <td>0</td>\n",
              "    </tr>\n",
              "  </tbody>\n",
              "</table>\n",
              "</div>"
            ],
            "text/plain": [
              "   Iris-setosa  Iris-versicolor  Iris-virginica\n",
              "0            1                0               0\n",
              "1            1                0               0\n",
              "2            1                0               0\n",
              "3            1                0               0\n",
              "4            1                0               0"
            ]
          },
          "metadata": {
            "tags": []
          },
          "execution_count": 70
        }
      ]
    },
    {
      "metadata": {
        "id": "1hLK0OLnz8Dh",
        "colab_type": "text"
      },
      "cell_type": "markdown",
      "source": [
        "### Divide the dataset into Training and test (70:30)"
      ]
    },
    {
      "metadata": {
        "id": "XZRdb9j_z8Di",
        "colab_type": "code",
        "colab": {}
      },
      "cell_type": "code",
      "source": [
        "from sklearn.model_selection import train_test_split\n",
        "\n",
        "### Split the Dataset which has been reduced by PCA.\n",
        "X_train, X_test, y_train, y_test = train_test_split(X, Y, test_size=0.3, random_state=7)"
      ],
      "execution_count": 0,
      "outputs": []
    },
    {
      "metadata": {
        "id": "00w0OMF6z8Dk",
        "colab_type": "text"
      },
      "cell_type": "markdown",
      "source": [
        "### Model\n",
        "Build the model with following layers: <br>\n",
        "1. First dense layer with 10 neurons with input shape 4 (according to the feature set) <br>\n",
        "2. Second Dense layer with 8 neurons <br>\n",
        "3. Output layer with 3 neurons with softmax activation (output layer, 3 neurons as we have 3 classes) <br>\n",
        "4. Use SGD and categorical_crossentropy loss "
      ]
    },
    {
      "metadata": {
        "id": "OsvP3VbDz8Dm",
        "colab_type": "code",
        "colab": {}
      },
      "cell_type": "code",
      "source": [
        "#Initialize Sequential model\n",
        "model = tf.keras.models.Sequential()\n",
        "\n",
        "#Normalize the data\n",
        "model.add(tf.keras.layers.BatchNormalization(input_shape=(4,)))"
      ],
      "execution_count": 0,
      "outputs": []
    },
    {
      "metadata": {
        "id": "lhq20qn4nPd_",
        "colab_type": "code",
        "colab": {}
      },
      "cell_type": "code",
      "source": [
        "#Add 1st hidden layer\n",
        "model.add(tf.keras.layers.Dense(10,input_shape=(4,)))"
      ],
      "execution_count": 0,
      "outputs": []
    },
    {
      "metadata": {
        "id": "pJRoUcKunwjQ",
        "colab_type": "code",
        "colab": {}
      },
      "cell_type": "code",
      "source": [
        "#Add 2nd hidden layer\n",
        "model.add(tf.keras.layers.Dense(8))"
      ],
      "execution_count": 0,
      "outputs": []
    },
    {
      "metadata": {
        "id": "abGVIYIcnzxh",
        "colab_type": "code",
        "colab": {}
      },
      "cell_type": "code",
      "source": [
        "#Add OUTPUT layer\n",
        "model.add(tf.keras.layers.Dense(3, activation='softmax'))"
      ],
      "execution_count": 0,
      "outputs": []
    },
    {
      "metadata": {
        "id": "zF1kndXgn94b",
        "colab_type": "code",
        "colab": {}
      },
      "cell_type": "code",
      "source": [
        "#Create optimizer with non-default learning rate\n",
        "sgd_optimizer = tf.keras.optimizers.SGD(lr=0.03)\n",
        "\n",
        "#Compile the model\n",
        "model.compile(optimizer=sgd_optimizer, loss='categorical_crossentropy', metrics=['accuracy'])"
      ],
      "execution_count": 0,
      "outputs": []
    },
    {
      "metadata": {
        "id": "DJG_LI-2z8Do",
        "colab_type": "text"
      },
      "cell_type": "markdown",
      "source": [
        "### Fitting the model and predicting "
      ]
    },
    {
      "metadata": {
        "id": "VCuosy0bz8Dp",
        "colab_type": "code",
        "colab": {
          "base_uri": "https://localhost:8080/",
          "height": 1071
        },
        "outputId": "307c72d9-a295-4b2f-ac85-f700f4603ab5"
      },
      "cell_type": "code",
      "source": [
        "model.fit(X_train,y_train,          \n",
        "          validation_data=(X_test,y_test),\n",
        "          epochs=30,\n",
        "          batch_size=20)"
      ],
      "execution_count": 95,
      "outputs": [
        {
          "output_type": "stream",
          "text": [
            "Train on 105 samples, validate on 45 samples\n",
            "Epoch 1/30\n",
            "105/105 [==============================] - 0s 393us/sample - loss: 0.2588 - acc: 0.8667 - val_loss: 0.6417 - val_acc: 0.7111\n",
            "Epoch 2/30\n",
            "105/105 [==============================] - 0s 388us/sample - loss: 0.1542 - acc: 0.9524 - val_loss: 0.5681 - val_acc: 0.7111\n",
            "Epoch 3/30\n",
            "105/105 [==============================] - 0s 388us/sample - loss: 0.2033 - acc: 0.9333 - val_loss: 0.6018 - val_acc: 0.7111\n",
            "Epoch 4/30\n",
            "105/105 [==============================] - 0s 361us/sample - loss: 0.1416 - acc: 0.9429 - val_loss: 0.6276 - val_acc: 0.7111\n",
            "Epoch 5/30\n",
            "105/105 [==============================] - 0s 365us/sample - loss: 0.1693 - acc: 0.9429 - val_loss: 0.5288 - val_acc: 0.7556\n",
            "Epoch 6/30\n",
            "105/105 [==============================] - 0s 377us/sample - loss: 0.1870 - acc: 0.9429 - val_loss: 0.4828 - val_acc: 0.8000\n",
            "Epoch 7/30\n",
            "105/105 [==============================] - 0s 401us/sample - loss: 0.2559 - acc: 0.8952 - val_loss: 0.3887 - val_acc: 0.8000\n",
            "Epoch 8/30\n",
            "105/105 [==============================] - 0s 418us/sample - loss: 0.1421 - acc: 0.9429 - val_loss: 0.4459 - val_acc: 0.8000\n",
            "Epoch 9/30\n",
            "105/105 [==============================] - 0s 434us/sample - loss: 0.2357 - acc: 0.8762 - val_loss: 0.3427 - val_acc: 0.8000\n",
            "Epoch 10/30\n",
            "105/105 [==============================] - 0s 521us/sample - loss: 0.1868 - acc: 0.9333 - val_loss: 0.3281 - val_acc: 0.8222\n",
            "Epoch 11/30\n",
            "105/105 [==============================] - 0s 362us/sample - loss: 0.1850 - acc: 0.9429 - val_loss: 0.3871 - val_acc: 0.8222\n",
            "Epoch 12/30\n",
            "105/105 [==============================] - 0s 393us/sample - loss: 0.1322 - acc: 0.9714 - val_loss: 0.3514 - val_acc: 0.8222\n",
            "Epoch 13/30\n",
            "105/105 [==============================] - 0s 358us/sample - loss: 0.1546 - acc: 0.9429 - val_loss: 0.3767 - val_acc: 0.8222\n",
            "Epoch 14/30\n",
            "105/105 [==============================] - 0s 349us/sample - loss: 0.1051 - acc: 0.9714 - val_loss: 0.3433 - val_acc: 0.8222\n",
            "Epoch 15/30\n",
            "105/105 [==============================] - 0s 385us/sample - loss: 0.2412 - acc: 0.9333 - val_loss: 0.3519 - val_acc: 0.8222\n",
            "Epoch 16/30\n",
            "105/105 [==============================] - 0s 411us/sample - loss: 0.1593 - acc: 0.9429 - val_loss: 0.3134 - val_acc: 0.8444\n",
            "Epoch 17/30\n",
            "105/105 [==============================] - 0s 392us/sample - loss: 0.1352 - acc: 0.9333 - val_loss: 0.2734 - val_acc: 0.8667\n",
            "Epoch 18/30\n",
            "105/105 [==============================] - 0s 394us/sample - loss: 0.2279 - acc: 0.9143 - val_loss: 0.3773 - val_acc: 0.8000\n",
            "Epoch 19/30\n",
            "105/105 [==============================] - 0s 406us/sample - loss: 0.3511 - acc: 0.8762 - val_loss: 0.3481 - val_acc: 0.8222\n",
            "Epoch 20/30\n",
            "105/105 [==============================] - 0s 392us/sample - loss: 0.1899 - acc: 0.9524 - val_loss: 0.3114 - val_acc: 0.8444\n",
            "Epoch 21/30\n",
            "105/105 [==============================] - 0s 380us/sample - loss: 0.1863 - acc: 0.9333 - val_loss: 0.2705 - val_acc: 0.8667\n",
            "Epoch 22/30\n",
            "105/105 [==============================] - 0s 379us/sample - loss: 0.2002 - acc: 0.9238 - val_loss: 0.2868 - val_acc: 0.8222\n",
            "Epoch 23/30\n",
            "105/105 [==============================] - 0s 378us/sample - loss: 0.1817 - acc: 0.9143 - val_loss: 0.2764 - val_acc: 0.8667\n",
            "Epoch 24/30\n",
            "105/105 [==============================] - 0s 365us/sample - loss: 0.1137 - acc: 0.9810 - val_loss: 0.2645 - val_acc: 0.8889\n",
            "Epoch 25/30\n",
            "105/105 [==============================] - 0s 453us/sample - loss: 0.1141 - acc: 0.9714 - val_loss: 0.2766 - val_acc: 0.8667\n",
            "Epoch 26/30\n",
            "105/105 [==============================] - 0s 386us/sample - loss: 0.3109 - acc: 0.8762 - val_loss: 0.2822 - val_acc: 0.8444\n",
            "Epoch 27/30\n",
            "105/105 [==============================] - 0s 298us/sample - loss: 0.2870 - acc: 0.8762 - val_loss: 0.2848 - val_acc: 0.8444\n",
            "Epoch 28/30\n",
            "105/105 [==============================] - 0s 289us/sample - loss: 0.1344 - acc: 0.9714 - val_loss: 0.2792 - val_acc: 0.8667\n",
            "Epoch 29/30\n",
            "105/105 [==============================] - 0s 309us/sample - loss: 0.1239 - acc: 0.9810 - val_loss: 0.2737 - val_acc: 0.9111\n",
            "Epoch 30/30\n",
            "105/105 [==============================] - 0s 318us/sample - loss: 0.1482 - acc: 0.9429 - val_loss: 0.2609 - val_acc: 0.9111\n"
          ],
          "name": "stdout"
        },
        {
          "output_type": "execute_result",
          "data": {
            "text/plain": [
              "<tensorflow.python.keras.callbacks.History at 0x7f53586b2490>"
            ]
          },
          "metadata": {
            "tags": []
          },
          "execution_count": 95
        }
      ]
    },
    {
      "metadata": {
        "id": "KgA3wBnIz8Dy",
        "colab_type": "text"
      },
      "cell_type": "markdown",
      "source": [
        "### Report Accuracy of the predicted values"
      ]
    },
    {
      "metadata": {
        "id": "7LSpEQ2Zz8Dz",
        "colab_type": "code",
        "colab": {}
      },
      "cell_type": "code",
      "source": [
        "prediction = model.predict(X_test)"
      ],
      "execution_count": 0,
      "outputs": []
    },
    {
      "metadata": {
        "id": "hqkxXqu1qf2P",
        "colab_type": "code",
        "colab": {}
      },
      "cell_type": "code",
      "source": [
        "import numpy as np\n",
        "\n",
        "y_predict = np.argmax(prediction,axis=1)"
      ],
      "execution_count": 0,
      "outputs": []
    },
    {
      "metadata": {
        "id": "ChHdAVTRrXjL",
        "colab_type": "code",
        "colab": {}
      },
      "cell_type": "code",
      "source": [
        "y_actual = np.argmax(y_test.values,axis=1)"
      ],
      "execution_count": 0,
      "outputs": []
    },
    {
      "metadata": {
        "id": "t3RfuXaxr6_N",
        "colab_type": "code",
        "colab": {
          "base_uri": "https://localhost:8080/",
          "height": 68
        },
        "outputId": "dbbe78b4-9efe-4584-f2d0-7b5b1a1546e6"
      },
      "cell_type": "code",
      "source": [
        "y_actual"
      ],
      "execution_count": 120,
      "outputs": [
        {
          "output_type": "execute_result",
          "data": {
            "text/plain": [
              "array([2, 1, 0, 1, 2, 0, 1, 1, 0, 1, 1, 1, 0, 2, 0, 1, 2, 2, 0, 0, 1, 2,\n",
              "       1, 2, 2, 2, 1, 1, 2, 2, 2, 1, 0, 2, 1, 0, 0, 0, 0, 2, 2, 1, 2, 2,\n",
              "       1])"
            ]
          },
          "metadata": {
            "tags": []
          },
          "execution_count": 120
        }
      ]
    },
    {
      "metadata": {
        "id": "E6oCtrtTw7O1",
        "colab_type": "code",
        "colab": {
          "base_uri": "https://localhost:8080/",
          "height": 68
        },
        "outputId": "6ab65ac0-1de8-4f33-a267-a2402e75b2ea"
      },
      "cell_type": "code",
      "source": [
        "y_predict"
      ],
      "execution_count": 121,
      "outputs": [
        {
          "output_type": "execute_result",
          "data": {
            "text/plain": [
              "array([2, 1, 0, 1, 2, 0, 1, 1, 0, 1, 2, 2, 0, 2, 0, 2, 2, 2, 0, 0, 1, 2,\n",
              "       1, 1, 2, 2, 1, 1, 2, 2, 2, 1, 0, 2, 1, 0, 0, 0, 0, 2, 2, 1, 2, 2,\n",
              "       1])"
            ]
          },
          "metadata": {
            "tags": []
          },
          "execution_count": 121
        }
      ]
    },
    {
      "metadata": {
        "id": "AUg5e26-w_ir",
        "colab_type": "code",
        "colab": {
          "base_uri": "https://localhost:8080/",
          "height": 85
        },
        "outputId": "a020a8ac-e2bb-46a2-9891-e97db1e56ad5"
      },
      "cell_type": "code",
      "source": [
        "from sklearn.metrics import confusion_matrix \n",
        "from sklearn.metrics import accuracy_score \n",
        "from sklearn.metrics import classification_report \n",
        "results = confusion_matrix(y_actual, y_predict) \n",
        "print 'Confusion Matrix :'\n",
        "print(results) "
      ],
      "execution_count": 124,
      "outputs": [
        {
          "output_type": "stream",
          "text": [
            " Confusion Matrix :\n",
            "[[12  0  0]\n",
            " [ 0 13  3]\n",
            " [ 0  1 16]]\n"
          ],
          "name": "stdout"
        }
      ]
    },
    {
      "metadata": {
        "id": "9zZ5fOt_yhyh",
        "colab_type": "code",
        "colab": {}
      },
      "cell_type": "code",
      "source": [
        ""
      ],
      "execution_count": 0,
      "outputs": []
    }
  ]
}