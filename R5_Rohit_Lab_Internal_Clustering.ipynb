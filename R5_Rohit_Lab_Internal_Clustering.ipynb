{
 "cells": [
  {
   "cell_type": "markdown",
   "metadata": {},
   "source": [
    "### The data set has information about features of silhouette extracted from the images of different cars\n",
    "\n",
    "Four \"Corgie\" model vehicles were used for the experiment: a double decker bus, Cheverolet van, Saab 9000 and an Opel Manta 400 cars. This particular combination of vehicles was chosen with the expectation that the bus, van and either one of the cars would be readily distinguishable, but it would be more difficult to distinguish between the cars.\n",
    "\n"
   ]
  },
  {
   "cell_type": "markdown",
   "metadata": {},
   "source": [
    "### 1. Read the dataset using function .dropna() - to avoid dealing with NAs as of now"
   ]
  },
  {
   "cell_type": "code",
   "execution_count": 1,
   "metadata": {},
   "outputs": [],
   "source": [
    "# Declaration Page - Include all library declarations in this section\n",
    "# For matrix computation\n",
    "import numpy as np\n",
    "# For data manipulation \n",
    "import pandas as pd\n",
    "# For 2D plotting \n",
    "from matplotlib import pyplot as plt\n",
    "# for chart\n",
    "import seaborn as sns"
   ]
  },
  {
   "cell_type": "code",
   "execution_count": 2,
   "metadata": {},
   "outputs": [],
   "source": [
    "vehicle_df = pd.read_csv('vehicle.csv').dropna()"
   ]
  },
  {
   "cell_type": "code",
   "execution_count": 3,
   "metadata": {},
   "outputs": [],
   "source": [
    "# Replace all column names with \".\" to \"_\" for ease of column name references"
   ]
  },
  {
   "cell_type": "code",
   "execution_count": 4,
   "metadata": {},
   "outputs": [],
   "source": [
    "vehicle_df.columns = vehicle_df.columns.str.replace('.','_')"
   ]
  },
  {
   "cell_type": "code",
   "execution_count": 5,
   "metadata": {},
   "outputs": [
    {
     "data": {
      "text/plain": [
       "(813, 19)"
      ]
     },
     "execution_count": 5,
     "metadata": {},
     "output_type": "execute_result"
    }
   ],
   "source": [
    "vehicle_df.shape"
   ]
  },
  {
   "cell_type": "code",
   "execution_count": 6,
   "metadata": {},
   "outputs": [
    {
     "data": {
      "text/plain": [
       "compactness                      int64\n",
       "circularity                    float64\n",
       "distance_circularity           float64\n",
       "radius_ratio                   float64\n",
       "pr_axis_aspect_ratio           float64\n",
       "max_length_aspect_ratio          int64\n",
       "scatter_ratio                  float64\n",
       "elongatedness                  float64\n",
       "pr_axis_rectangularity         float64\n",
       "max_length_rectangularity        int64\n",
       "scaled_variance                float64\n",
       "scaled_variance_1              float64\n",
       "scaled_radius_of_gyration      float64\n",
       "scaled_radius_of_gyration_1    float64\n",
       "skewness_about                 float64\n",
       "skewness_about_1               float64\n",
       "skewness_about_2               float64\n",
       "hollows_ratio                    int64\n",
       "class                           object\n",
       "dtype: object"
      ]
     },
     "execution_count": 6,
     "metadata": {},
     "output_type": "execute_result"
    }
   ],
   "source": [
    "vehicle_df.dtypes"
   ]
  },
  {
   "cell_type": "markdown",
   "metadata": {},
   "source": [
    "### 2. Print/ Plot the dependent (categorical variable) - Class column"
   ]
  },
  {
   "cell_type": "markdown",
   "metadata": {},
   "source": [
    "Since the variable is categorical, you can use value_counts function"
   ]
  },
  {
   "cell_type": "code",
   "execution_count": 7,
   "metadata": {},
   "outputs": [
    {
     "data": {
      "text/plain": [
       "car    413\n",
       "bus    205\n",
       "van    195\n",
       "Name: class, dtype: int64"
      ]
     },
     "execution_count": 7,
     "metadata": {},
     "output_type": "execute_result"
    }
   ],
   "source": [
    "vehicle_df['class'].value_counts()"
   ]
  },
  {
   "cell_type": "code",
   "execution_count": 8,
   "metadata": {},
   "outputs": [],
   "source": [
    "plt_freq = pd.DataFrame(vehicle_df['class'].value_counts())"
   ]
  },
  {
   "cell_type": "code",
   "execution_count": 9,
   "metadata": {},
   "outputs": [
    {
     "data": {
      "text/html": [
       "<div>\n",
       "<style scoped>\n",
       "    .dataframe tbody tr th:only-of-type {\n",
       "        vertical-align: middle;\n",
       "    }\n",
       "\n",
       "    .dataframe tbody tr th {\n",
       "        vertical-align: top;\n",
       "    }\n",
       "\n",
       "    .dataframe thead th {\n",
       "        text-align: right;\n",
       "    }\n",
       "</style>\n",
       "<table border=\"1\" class=\"dataframe\">\n",
       "  <thead>\n",
       "    <tr style=\"text-align: right;\">\n",
       "      <th></th>\n",
       "      <th>class</th>\n",
       "    </tr>\n",
       "  </thead>\n",
       "  <tbody>\n",
       "    <tr>\n",
       "      <th>car</th>\n",
       "      <td>413</td>\n",
       "    </tr>\n",
       "    <tr>\n",
       "      <th>bus</th>\n",
       "      <td>205</td>\n",
       "    </tr>\n",
       "    <tr>\n",
       "      <th>van</th>\n",
       "      <td>195</td>\n",
       "    </tr>\n",
       "  </tbody>\n",
       "</table>\n",
       "</div>"
      ],
      "text/plain": [
       "     class\n",
       "car    413\n",
       "bus    205\n",
       "van    195"
      ]
     },
     "execution_count": 9,
     "metadata": {},
     "output_type": "execute_result"
    }
   ],
   "source": [
    "plt_freq.head()"
   ]
  },
  {
   "cell_type": "code",
   "execution_count": 10,
   "metadata": {},
   "outputs": [
    {
     "data": {
      "text/plain": [
       "Text(0.5,1,'Frequency Chart')"
      ]
     },
     "execution_count": 10,
     "metadata": {},
     "output_type": "execute_result"
    },
    {
     "data": {
      "image/png": "[encoded data removed]",
      "text/plain": [
       "<Figure size 432x288 with 1 Axes>"
      ]
     },
     "metadata": {
      "needs_background": "light"
     },
     "output_type": "display_data"
    }
   ],
   "source": [
    "# y_pos = np.arange(len(plt_freq))\n",
    " \n",
    "plt.bar(plt_freq.index, plt_freq['class'], align='center', alpha=0.5)\n",
    "plt.ylabel('Count Of Vehicles')\n",
    "plt.title('Frequency Chart')"
   ]
  },
  {
   "cell_type": "markdown",
   "metadata": {},
   "source": [
    "### Check for any missing values in the data "
   ]
  },
  {
   "cell_type": "code",
   "execution_count": 11,
   "metadata": {},
   "outputs": [
    {
     "data": {
      "text/plain": [
       "compactness                    0\n",
       "circularity                    0\n",
       "distance_circularity           0\n",
       "radius_ratio                   0\n",
       "pr_axis_aspect_ratio           0\n",
       "max_length_aspect_ratio        0\n",
       "scatter_ratio                  0\n",
       "elongatedness                  0\n",
       "pr_axis_rectangularity         0\n",
       "max_length_rectangularity      0\n",
       "scaled_variance                0\n",
       "scaled_variance_1              0\n",
       "scaled_radius_of_gyration      0\n",
       "scaled_radius_of_gyration_1    0\n",
       "skewness_about                 0\n",
       "skewness_about_1               0\n",
       "skewness_about_2               0\n",
       "hollows_ratio                  0\n",
       "class                          0\n",
       "dtype: int64"
      ]
     },
     "execution_count": 11,
     "metadata": {},
     "output_type": "execute_result"
    }
   ],
   "source": [
    "## Check if na values are left\n",
    "vehicle_df.isna().sum()"
   ]
  },
  {
   "cell_type": "markdown",
   "metadata": {},
   "source": [
    "### 3. Standardize the data "
   ]
  },
  {
   "cell_type": "code",
   "execution_count": 12,
   "metadata": {},
   "outputs": [],
   "source": [
    "columns = vehicle_df.columns\n",
    "X = vehicle_df[columns[:-1]]\n",
    "y = vehicle_df[[columns[-1]]]"
   ]
  },
  {
   "cell_type": "markdown",
   "metadata": {},
   "source": [
    "Since the dimensions of the data are not really known to us, it would be wise to standardize the data using z scores before we go for any clustering methods.\n",
    "You can use zscore function to do this"
   ]
  },
  {
   "cell_type": "code",
   "execution_count": 13,
   "metadata": {},
   "outputs": [],
   "source": [
    "from sklearn.model_selection import train_test_split\n",
    "from sklearn.preprocessing import StandardScaler\n",
    "from sklearn.decomposition import PCA\n",
    "from scipy.stats import zscore"
   ]
  },
  {
   "cell_type": "code",
   "execution_count": 14,
   "metadata": {},
   "outputs": [],
   "source": [
    "# We will create the PCA dimensions on this distribution. \n",
    "# sc = StandardScaler()\n",
    "X_std =  X.apply(zscore)"
   ]
  },
  {
   "cell_type": "code",
   "execution_count": 15,
   "metadata": {},
   "outputs": [
    {
     "data": {
      "text/html": [
       "<div>\n",
       "<style scoped>\n",
       "    .dataframe tbody tr th:only-of-type {\n",
       "        vertical-align: middle;\n",
       "    }\n",
       "\n",
       "    .dataframe tbody tr th {\n",
       "        vertical-align: top;\n",
       "    }\n",
       "\n",
       "    .dataframe thead th {\n",
       "        text-align: right;\n",
       "    }\n",
       "</style>\n",
       "<table border=\"1\" class=\"dataframe\">\n",
       "  <thead>\n",
       "    <tr style=\"text-align: right;\">\n",
       "      <th></th>\n",
       "      <th>compactness</th>\n",
       "      <th>circularity</th>\n",
       "      <th>distance_circularity</th>\n",
       "      <th>radius_ratio</th>\n",
       "      <th>pr_axis_aspect_ratio</th>\n",
       "      <th>max_length_aspect_ratio</th>\n",
       "      <th>scatter_ratio</th>\n",
       "      <th>elongatedness</th>\n",
       "      <th>pr_axis_rectangularity</th>\n",
       "      <th>max_length_rectangularity</th>\n",
       "      <th>scaled_variance</th>\n",
       "      <th>scaled_variance_1</th>\n",
       "      <th>scaled_radius_of_gyration</th>\n",
       "      <th>scaled_radius_of_gyration_1</th>\n",
       "      <th>skewness_about</th>\n",
       "      <th>skewness_about_1</th>\n",
       "      <th>skewness_about_2</th>\n",
       "      <th>hollows_ratio</th>\n",
       "    </tr>\n",
       "  </thead>\n",
       "  <tbody>\n",
       "    <tr>\n",
       "      <th>0</th>\n",
       "      <td>0.163231</td>\n",
       "      <td>0.520408</td>\n",
       "      <td>0.060669</td>\n",
       "      <td>0.264970</td>\n",
       "      <td>1.283254</td>\n",
       "      <td>0.299721</td>\n",
       "      <td>-0.198517</td>\n",
       "      <td>0.129648</td>\n",
       "      <td>-0.217151</td>\n",
       "      <td>0.766312</td>\n",
       "      <td>-0.397397</td>\n",
       "      <td>-0.339014</td>\n",
       "      <td>0.301676</td>\n",
       "      <td>-0.321192</td>\n",
       "      <td>-0.071523</td>\n",
       "      <td>0.371287</td>\n",
       "      <td>-0.321809</td>\n",
       "      <td>0.171837</td>\n",
       "    </tr>\n",
       "    <tr>\n",
       "      <th>1</th>\n",
       "      <td>-0.322874</td>\n",
       "      <td>-0.619123</td>\n",
       "      <td>0.124067</td>\n",
       "      <td>-0.836393</td>\n",
       "      <td>-0.599253</td>\n",
       "      <td>0.085785</td>\n",
       "      <td>-0.591720</td>\n",
       "      <td>0.514333</td>\n",
       "      <td>-0.606014</td>\n",
       "      <td>-0.337462</td>\n",
       "      <td>-0.590034</td>\n",
       "      <td>-0.618754</td>\n",
       "      <td>-0.502972</td>\n",
       "      <td>-0.053505</td>\n",
       "      <td>0.538425</td>\n",
       "      <td>0.147109</td>\n",
       "      <td>0.003400</td>\n",
       "      <td>0.442318</td>\n",
       "    </tr>\n",
       "  </tbody>\n",
       "</table>\n",
       "</div>"
      ],
      "text/plain": [
       "   compactness  circularity  distance_circularity  radius_ratio  \\\n",
       "0     0.163231     0.520408              0.060669      0.264970   \n",
       "1    -0.322874    -0.619123              0.124067     -0.836393   \n",
       "\n",
       "   pr_axis_aspect_ratio  max_length_aspect_ratio  scatter_ratio  \\\n",
       "0              1.283254                 0.299721      -0.198517   \n",
       "1             -0.599253                 0.085785      -0.591720   \n",
       "\n",
       "   elongatedness  pr_axis_rectangularity  max_length_rectangularity  \\\n",
       "0       0.129648               -0.217151                   0.766312   \n",
       "1       0.514333               -0.606014                  -0.337462   \n",
       "\n",
       "   scaled_variance  scaled_variance_1  scaled_radius_of_gyration  \\\n",
       "0        -0.397397          -0.339014                   0.301676   \n",
       "1        -0.590034          -0.618754                  -0.502972   \n",
       "\n",
       "   scaled_radius_of_gyration_1  skewness_about  skewness_about_1  \\\n",
       "0                    -0.321192       -0.071523          0.371287   \n",
       "1                    -0.053505        0.538425          0.147109   \n",
       "\n",
       "   skewness_about_2  hollows_ratio  \n",
       "0         -0.321809       0.171837  \n",
       "1          0.003400       0.442318  "
      ]
     },
     "execution_count": 15,
     "metadata": {},
     "output_type": "execute_result"
    }
   ],
   "source": [
    "X_std.head(2)"
   ]
  },
  {
   "cell_type": "markdown",
   "metadata": {},
   "source": [
    "### K - Means Clustering"
   ]
  },
  {
   "cell_type": "markdown",
   "metadata": {},
   "source": [
    "### 4. Assign a dummy array called distortion"
   ]
  },
  {
   "cell_type": "code",
   "execution_count": 16,
   "metadata": {},
   "outputs": [],
   "source": [
    "# Assigning a dummy array\n",
    "distortions = []"
   ]
  },
  {
   "cell_type": "markdown",
   "metadata": {},
   "source": [
    "You can later use this array to plot the elbow plot"
   ]
  },
  {
   "cell_type": "markdown",
   "metadata": {},
   "source": [
    "### 5. Calculating distortion - C distance"
   ]
  },
  {
   "cell_type": "code",
   "execution_count": 17,
   "metadata": {},
   "outputs": [],
   "source": [
    "from sklearn.cluster import KMeans\n",
    "from scipy.spatial.distance import cdist"
   ]
  },
  {
   "cell_type": "markdown",
   "metadata": {},
   "source": [
    "Iterating values of k from 1 to 10 fit K means model\n",
    "Using c distance - Get the measure for Sum of squares error."
   ]
  },
  {
   "cell_type": "code",
   "execution_count": 18,
   "metadata": {},
   "outputs": [],
   "source": [
    "K = range(1,10)\n",
    "for k in K:\n",
    "    kmeanModel = KMeans(n_clusters=k)\n",
    "    kmeanModel.fit(X_std)\n",
    "    distortions.append(\n",
    "        sum(np.min(cdist(X_std, kmeanModel.cluster_centers_, 'euclidean'), axis=1)) / X_std.shape[0])"
   ]
  },
  {
   "cell_type": "markdown",
   "metadata": {},
   "source": [
    "### 6. Plotting Elbow/ Scree Plot"
   ]
  },
  {
   "cell_type": "code",
   "execution_count": 19,
   "metadata": {},
   "outputs": [
    {
     "data": {
      "image/png": "[encoded data removed]",
      "text/plain": [
       "<Figure size 432x288 with 1 Axes>"
      ]
     },
     "metadata": {
      "needs_background": "light"
     },
     "output_type": "display_data"
    }
   ],
   "source": [
    "# Plot the elbow\n",
    "plt.plot(K, distortions, 'bx-')\n",
    "plt.xlabel('k')\n",
    "plt.ylabel('Distortion')\n",
    "plt.title('The Elbow Method showing the optimal k')\n",
    "plt.show()"
   ]
  },
  {
   "cell_type": "markdown",
   "metadata": {},
   "source": [
    "Use Matplotlib to plot the scree plot - Note: Scree plot plots distortion vs the no of clusters"
   ]
  },
  {
   "cell_type": "markdown",
   "metadata": {},
   "source": [
    "### Find out the optimal value of K"
   ]
  },
  {
   "cell_type": "code",
   "execution_count": 20,
   "metadata": {},
   "outputs": [],
   "source": [
    "# in the above plot, the slope of the scree plot is straightening after 3"
   ]
  },
  {
   "cell_type": "code",
   "execution_count": 21,
   "metadata": {},
   "outputs": [],
   "source": [
    "# Optimal K in this case will be 3"
   ]
  },
  {
   "cell_type": "markdown",
   "metadata": {},
   "source": [
    "### Using optimal value of K - Cluster the data. \n",
    "Note: Since the data has more than 2 dimension we cannot visualize the data. As an alternative, we can observe the centroids and note how they are distributed across different dimensions"
   ]
  },
  {
   "cell_type": "code",
   "execution_count": 22,
   "metadata": {},
   "outputs": [],
   "source": [
    "kmeans = KMeans(n_clusters=3)"
   ]
  },
  {
   "cell_type": "markdown",
   "metadata": {},
   "source": [
    "You can use kmeans.cluster_centers_ function to pull the centroid information from the instance"
   ]
  },
  {
   "cell_type": "code",
   "execution_count": 23,
   "metadata": {},
   "outputs": [
    {
     "data": {
      "text/plain": [
       "KMeans(algorithm='auto', copy_x=True, init='k-means++', max_iter=300,\n",
       "    n_clusters=3, n_init=10, n_jobs=1, precompute_distances='auto',\n",
       "    random_state=None, tol=0.0001, verbose=0)"
      ]
     },
     "execution_count": 23,
     "metadata": {},
     "output_type": "execute_result"
    }
   ],
   "source": [
    "kmeans.fit(X_std)"
   ]
  },
  {
   "cell_type": "markdown",
   "metadata": {},
   "source": [
    "### 7. Store the centroids in a dataframe with column names from the original dataset given "
   ]
  },
  {
   "cell_type": "code",
   "execution_count": 24,
   "metadata": {},
   "outputs": [],
   "source": [
    "# Extract cluster centers and use them for re-running the KMeans algorithm again\n",
    "# cluster_center = kmeans.cluster_centers_\n",
    "cluster_center = pd.DataFrame(kmeans.cluster_centers_, columns = columns[:-1])"
   ]
  },
  {
   "cell_type": "markdown",
   "metadata": {},
   "source": [
    "Hint: Use pd.Dataframe function "
   ]
  },
  {
   "cell_type": "code",
   "execution_count": 25,
   "metadata": {},
   "outputs": [
    {
     "data": {
      "text/html": [
       "<div>\n",
       "<style scoped>\n",
       "    .dataframe tbody tr th:only-of-type {\n",
       "        vertical-align: middle;\n",
       "    }\n",
       "\n",
       "    .dataframe tbody tr th {\n",
       "        vertical-align: top;\n",
       "    }\n",
       "\n",
       "    .dataframe thead th {\n",
       "        text-align: right;\n",
       "    }\n",
       "</style>\n",
       "<table border=\"1\" class=\"dataframe\">\n",
       "  <thead>\n",
       "    <tr style=\"text-align: right;\">\n",
       "      <th></th>\n",
       "      <th>compactness</th>\n",
       "      <th>circularity</th>\n",
       "      <th>distance_circularity</th>\n",
       "      <th>radius_ratio</th>\n",
       "      <th>pr_axis_aspect_ratio</th>\n",
       "      <th>max_length_aspect_ratio</th>\n",
       "      <th>scatter_ratio</th>\n",
       "      <th>elongatedness</th>\n",
       "      <th>pr_axis_rectangularity</th>\n",
       "      <th>max_length_rectangularity</th>\n",
       "      <th>scaled_variance</th>\n",
       "      <th>scaled_variance_1</th>\n",
       "      <th>scaled_radius_of_gyration</th>\n",
       "      <th>scaled_radius_of_gyration_1</th>\n",
       "      <th>skewness_about</th>\n",
       "      <th>skewness_about_1</th>\n",
       "      <th>skewness_about_2</th>\n",
       "      <th>hollows_ratio</th>\n",
       "    </tr>\n",
       "  </thead>\n",
       "  <tbody>\n",
       "    <tr>\n",
       "      <th>0</th>\n",
       "      <td>-0.919871</td>\n",
       "      <td>-0.520093</td>\n",
       "      <td>-0.893208</td>\n",
       "      <td>-1.064356</td>\n",
       "      <td>-0.500422</td>\n",
       "      <td>-0.219074</td>\n",
       "      <td>-0.779121</td>\n",
       "      <td>0.865893</td>\n",
       "      <td>-0.745356</td>\n",
       "      <td>-0.484632</td>\n",
       "      <td>-0.782403</td>\n",
       "      <td>-0.783411</td>\n",
       "      <td>-0.384982</td>\n",
       "      <td>0.838787</td>\n",
       "      <td>-0.095243</td>\n",
       "      <td>-0.301716</td>\n",
       "      <td>-1.054206</td>\n",
       "      <td>-1.110695</td>\n",
       "    </tr>\n",
       "    <tr>\n",
       "      <th>1</th>\n",
       "      <td>1.130765</td>\n",
       "      <td>1.170942</td>\n",
       "      <td>1.195006</td>\n",
       "      <td>1.019095</td>\n",
       "      <td>0.215052</td>\n",
       "      <td>0.342508</td>\n",
       "      <td>1.271805</td>\n",
       "      <td>-1.190612</td>\n",
       "      <td>1.275484</td>\n",
       "      <td>1.092668</td>\n",
       "      <td>1.220381</td>\n",
       "      <td>1.281327</td>\n",
       "      <td>1.079542</td>\n",
       "      <td>-0.028795</td>\n",
       "      <td>0.162290</td>\n",
       "      <td>0.265665</td>\n",
       "      <td>-0.005356</td>\n",
       "      <td>0.183801</td>\n",
       "    </tr>\n",
       "    <tr>\n",
       "      <th>2</th>\n",
       "      <td>-0.233962</td>\n",
       "      <td>-0.573875</td>\n",
       "      <td>-0.307769</td>\n",
       "      <td>-0.030413</td>\n",
       "      <td>0.205073</td>\n",
       "      <td>-0.116532</td>\n",
       "      <td>-0.459042</td>\n",
       "      <td>0.325063</td>\n",
       "      <td>-0.487988</td>\n",
       "      <td>-0.536044</td>\n",
       "      <td>-0.413809</td>\n",
       "      <td>-0.463663</td>\n",
       "      <td>-0.601550</td>\n",
       "      <td>-0.619241</td>\n",
       "      <td>-0.061780</td>\n",
       "      <td>0.010668</td>\n",
       "      <td>0.812786</td>\n",
       "      <td>0.698973</td>\n",
       "    </tr>\n",
       "  </tbody>\n",
       "</table>\n",
       "</div>"
      ],
      "text/plain": [
       "   compactness  circularity  distance_circularity  radius_ratio  \\\n",
       "0    -0.919871    -0.520093             -0.893208     -1.064356   \n",
       "1     1.130765     1.170942              1.195006      1.019095   \n",
       "2    -0.233962    -0.573875             -0.307769     -0.030413   \n",
       "\n",
       "   pr_axis_aspect_ratio  max_length_aspect_ratio  scatter_ratio  \\\n",
       "0             -0.500422                -0.219074      -0.779121   \n",
       "1              0.215052                 0.342508       1.271805   \n",
       "2              0.205073                -0.116532      -0.459042   \n",
       "\n",
       "   elongatedness  pr_axis_rectangularity  max_length_rectangularity  \\\n",
       "0       0.865893               -0.745356                  -0.484632   \n",
       "1      -1.190612                1.275484                   1.092668   \n",
       "2       0.325063               -0.487988                  -0.536044   \n",
       "\n",
       "   scaled_variance  scaled_variance_1  scaled_radius_of_gyration  \\\n",
       "0        -0.782403          -0.783411                  -0.384982   \n",
       "1         1.220381           1.281327                   1.079542   \n",
       "2        -0.413809          -0.463663                  -0.601550   \n",
       "\n",
       "   scaled_radius_of_gyration_1  skewness_about  skewness_about_1  \\\n",
       "0                     0.838787       -0.095243         -0.301716   \n",
       "1                    -0.028795        0.162290          0.265665   \n",
       "2                    -0.619241       -0.061780          0.010668   \n",
       "\n",
       "   skewness_about_2  hollows_ratio  \n",
       "0         -1.054206      -1.110695  \n",
       "1         -0.005356       0.183801  \n",
       "2          0.812786       0.698973  "
      ]
     },
     "execution_count": 25,
     "metadata": {},
     "output_type": "execute_result"
    }
   ],
   "source": [
    "cluster_center"
   ]
  },
  {
   "cell_type": "markdown",
   "metadata": {},
   "source": [
    "### Use kmeans.labels_ function to print out the labels of the classes"
   ]
  },
  {
   "cell_type": "code",
   "execution_count": 26,
   "metadata": {},
   "outputs": [
    {
     "data": {
      "text/plain": [
       "array([2, 2, 1, 2, 0, 2, 2, 2, 2, 2, 2, 2, 2, 1, 0, 2, 1, 0, 0, 2, 2, 1,\n",
       "       2, 0, 1, 1, 0, 2, 2, 2, 1, 2, 0, 1, 1, 0, 1, 0, 0, 2, 1, 0, 0, 0,\n",
       "       0, 2, 0, 2, 1, 2, 1, 2, 2, 0, 1, 0, 1, 0, 0, 0, 2, 0, 1, 2, 1, 1,\n",
       "       2, 0, 2, 1, 2, 0, 0, 1, 2, 0, 2, 1, 2, 0, 2, 0, 1, 2, 1, 2, 0, 1,\n",
       "       0, 0, 1, 0, 0, 2, 2, 0, 1, 1, 0, 0, 1, 2, 2, 0, 0, 0, 2, 1, 1, 2,\n",
       "       0, 0, 2, 0, 0, 0, 0, 0, 2, 1, 1, 2, 2, 0, 1, 1, 0, 2, 0, 2, 2, 1,\n",
       "       0, 2, 1, 2, 2, 2, 2, 1, 2, 2, 1, 2, 1, 2, 0, 2, 0, 1, 2, 2, 1, 1,\n",
       "       2, 1, 0, 0, 1, 1, 2, 1, 2, 2, 2, 2, 0, 1, 0, 2, 0, 1, 2, 2, 2, 1,\n",
       "       2, 1, 2, 1, 2, 0, 1, 0, 0, 0, 2, 2, 1, 1, 2, 2, 2, 0, 1, 2, 2, 2,\n",
       "       1, 0, 0, 1, 0, 2, 1, 0, 0, 0, 2, 1, 2, 1, 0, 0, 0, 0, 1, 2, 0, 2,\n",
       "       1, 0, 2, 2, 0, 1, 0, 0, 2, 2, 1, 0, 1, 0, 2, 2, 1, 2, 2, 1, 1, 0,\n",
       "       2, 2, 2, 1, 0, 2, 2, 0, 0, 2, 2, 1, 2, 0, 0, 1, 2, 2, 0, 0, 1, 0,\n",
       "       2, 1, 0, 2, 1, 2, 2, 1, 2, 1, 0, 2, 2, 1, 2, 2, 2, 0, 2, 1, 1, 1,\n",
       "       1, 0, 2, 1, 0, 0, 0, 2, 0, 1, 1, 0, 1, 2, 0, 1, 2, 2, 2, 1, 1, 0,\n",
       "       1, 1, 0, 1, 2, 2, 2, 0, 0, 1, 1, 1, 2, 2, 2, 1, 0, 2, 0, 1, 2, 2,\n",
       "       1, 2, 1, 1, 1, 2, 0, 0, 1, 0, 0, 0, 2, 2, 2, 2, 0, 1, 1, 0, 0, 1,\n",
       "       0, 1, 0, 1, 2, 0, 2, 0, 1, 1, 0, 2, 2, 2, 1, 2, 2, 2, 2, 1, 2, 1,\n",
       "       2, 1, 2, 0, 0, 2, 2, 2, 0, 0, 2, 0, 1, 2, 2, 0, 0, 1, 2, 0, 2, 2,\n",
       "       1, 2, 1, 2, 1, 1, 0, 0, 1, 2, 0, 0, 2, 1, 1, 0, 2, 1, 1, 0, 1, 1,\n",
       "       1, 2, 2, 2, 2, 2, 1, 0, 0, 2, 1, 2, 2, 1, 2, 0, 1, 0, 0, 1, 2, 0,\n",
       "       1, 1, 1, 0, 1, 1, 0, 2, 0, 1, 1, 2, 2, 0, 0, 1, 2, 0, 1, 1, 2, 0,\n",
       "       1, 1, 2, 0, 0, 1, 1, 1, 0, 0, 1, 1, 1, 2, 2, 1, 0, 2, 1, 2, 0, 0,\n",
       "       2, 1, 0, 2, 2, 0, 2, 1, 2, 1, 1, 2, 0, 2, 1, 1, 0, 0, 2, 1, 2, 1,\n",
       "       1, 2, 2, 2, 2, 0, 0, 0, 2, 2, 1, 0, 0, 2, 0, 1, 2, 1, 0, 0, 1, 1,\n",
       "       2, 1, 2, 2, 2, 1, 2, 0, 2, 1, 2, 2, 0, 1, 1, 1, 1, 2, 0, 0, 0, 1,\n",
       "       1, 1, 2, 1, 0, 2, 1, 0, 0, 0, 2, 0, 1, 2, 2, 2, 2, 2, 2, 1, 2, 2,\n",
       "       1, 2, 2, 2, 0, 1, 0, 0, 2, 0, 2, 2, 0, 0, 1, 1, 0, 2, 1, 2, 1, 2,\n",
       "       2, 1, 2, 0, 1, 0, 1, 0, 0, 2, 0, 2, 1, 1, 0, 1, 2, 2, 0, 2, 0, 1,\n",
       "       2, 1, 0, 2, 2, 2, 0, 0, 0, 2, 1, 2, 1, 0, 2, 2, 2, 2, 1, 2, 0, 1,\n",
       "       2, 1, 2, 2, 1, 0, 1, 0, 2, 2, 2, 0, 1, 2, 0, 2, 1, 0, 1, 2, 2, 1,\n",
       "       0, 2, 0, 2, 2, 0, 2, 1, 1, 2, 2, 1, 1, 2, 2, 0, 2, 1, 1, 1, 1, 2,\n",
       "       1, 2, 2, 1, 1, 2, 1, 2, 1, 2, 0, 1, 2, 0, 1, 1, 1, 2, 1, 0, 0, 1,\n",
       "       1, 1, 2, 1, 2, 2, 1, 2, 0, 2, 0, 2, 1, 2, 0, 2, 2, 2, 0, 1, 0, 0,\n",
       "       0, 1, 1, 0, 1, 1, 0, 2, 2, 1, 2, 0, 1, 1, 0, 2, 2, 1, 1, 1, 0, 1,\n",
       "       2, 1, 1, 0, 0, 1, 0, 1, 2, 0, 2, 1, 1, 2, 0, 2, 1, 1, 2, 2, 0, 2,\n",
       "       2, 1, 0, 2, 1, 0, 0, 1, 0, 2, 0, 0, 0, 2, 1, 1, 2, 0, 1, 2, 1, 1,\n",
       "       0, 2, 1, 0, 0, 2, 2, 1, 0, 0, 1, 0, 2, 2, 2, 2, 2, 2, 1, 2, 0],\n",
       "      dtype=int32)"
      ]
     },
     "execution_count": 26,
     "metadata": {},
     "output_type": "execute_result"
    }
   ],
   "source": [
    "clusters = kmeans.labels_\n",
    "clusters"
   ]
  },
  {
   "cell_type": "markdown",
   "metadata": {},
   "source": [
    "## Hierarchical Clustering "
   ]
  },
  {
   "cell_type": "markdown",
   "metadata": {},
   "source": [
    "### 8. Variable creation"
   ]
  },
  {
   "cell_type": "markdown",
   "metadata": {},
   "source": [
    "For Hierarchical clustering, we will create datasets using multivariate normal distribution to visually observe how the clusters are formed at the end"
   ]
  },
  {
   "cell_type": "code",
   "execution_count": 27,
   "metadata": {},
   "outputs": [],
   "source": [
    "a = np.random.multivariate_normal([30, 0], [[3, 1], [1, 4]], size=[100,])\n",
    "b = np.random.multivariate_normal([0, 10], [[3, 1], [1, 4]], size=[50,])\n",
    "c = np.random.multivariate_normal([10, 20], [[3, 1], [1, 4]], size=[100,])"
   ]
  },
  {
   "cell_type": "markdown",
   "metadata": {},
   "source": [
    "### 9. Combine all three arrays a,b,c into a dataframe"
   ]
  },
  {
   "cell_type": "code",
   "execution_count": 28,
   "metadata": {},
   "outputs": [],
   "source": [
    "comb_data_arr = np.concatenate((a,b,c),axis = 0)"
   ]
  },
  {
   "cell_type": "code",
   "execution_count": 29,
   "metadata": {},
   "outputs": [],
   "source": [
    "comb_df = pd.DataFrame(comb_data_arr, columns=(['Column_1','Column_2']))"
   ]
  },
  {
   "cell_type": "code",
   "execution_count": 30,
   "metadata": {},
   "outputs": [
    {
     "data": {
      "text/html": [
       "<div>\n",
       "<style scoped>\n",
       "    .dataframe tbody tr th:only-of-type {\n",
       "        vertical-align: middle;\n",
       "    }\n",
       "\n",
       "    .dataframe tbody tr th {\n",
       "        vertical-align: top;\n",
       "    }\n",
       "\n",
       "    .dataframe thead th {\n",
       "        text-align: right;\n",
       "    }\n",
       "</style>\n",
       "<table border=\"1\" class=\"dataframe\">\n",
       "  <thead>\n",
       "    <tr style=\"text-align: right;\">\n",
       "      <th></th>\n",
       "      <th>Column_1</th>\n",
       "      <th>Column_2</th>\n",
       "    </tr>\n",
       "  </thead>\n",
       "  <tbody>\n",
       "    <tr>\n",
       "      <th>0</th>\n",
       "      <td>31.603239</td>\n",
       "      <td>2.136634</td>\n",
       "    </tr>\n",
       "    <tr>\n",
       "      <th>1</th>\n",
       "      <td>31.665376</td>\n",
       "      <td>0.282571</td>\n",
       "    </tr>\n",
       "    <tr>\n",
       "      <th>2</th>\n",
       "      <td>32.912811</td>\n",
       "      <td>2.091715</td>\n",
       "    </tr>\n",
       "    <tr>\n",
       "      <th>3</th>\n",
       "      <td>28.774000</td>\n",
       "      <td>0.493446</td>\n",
       "    </tr>\n",
       "    <tr>\n",
       "      <th>4</th>\n",
       "      <td>29.337796</td>\n",
       "      <td>1.116540</td>\n",
       "    </tr>\n",
       "  </tbody>\n",
       "</table>\n",
       "</div>"
      ],
      "text/plain": [
       "    Column_1  Column_2\n",
       "0  31.603239  2.136634\n",
       "1  31.665376  0.282571\n",
       "2  32.912811  2.091715\n",
       "3  28.774000  0.493446\n",
       "4  29.337796  1.116540"
      ]
     },
     "execution_count": 30,
     "metadata": {},
     "output_type": "execute_result"
    }
   ],
   "source": [
    "comb_df.head(5)"
   ]
  },
  {
   "cell_type": "markdown",
   "metadata": {},
   "source": [
    "### 10. Use scatter matrix to print all the 3 distributions"
   ]
  },
  {
   "cell_type": "code",
   "execution_count": 31,
   "metadata": {},
   "outputs": [
    {
     "data": {
      "image/png": "[encoded data removed]",
      "text/plain": [
       "<Figure size 432x288 with 1 Axes>"
      ]
     },
     "metadata": {
      "needs_background": "light"
     },
     "output_type": "display_data"
    }
   ],
   "source": [
    "plt.plot()\n",
    "plt.xlim([0, 40])\n",
    "plt.ylim([0, 40])\n",
    "plt.title('Dataset')\n",
    "plt.scatter(comb_df.Column_1, comb_df.Column_2)\n",
    "plt.show()"
   ]
  },
  {
   "cell_type": "code",
   "execution_count": 32,
   "metadata": {},
   "outputs": [],
   "source": [
    "# As above, all three matrices are scattered around individual distributions"
   ]
  },
  {
   "cell_type": "markdown",
   "metadata": {},
   "source": [
    "### 11. Find out the linkage matrix"
   ]
  },
  {
   "cell_type": "code",
   "execution_count": 33,
   "metadata": {},
   "outputs": [],
   "source": [
    "from scipy.cluster.hierarchy import dendrogram, linkage"
   ]
  },
  {
   "cell_type": "code",
   "execution_count": 34,
   "metadata": {},
   "outputs": [],
   "source": [
    "# generate the linkage matrix\n",
    "Z = linkage(comb_df, 'ward', metric='euclidean')"
   ]
  },
  {
   "cell_type": "markdown",
   "metadata": {},
   "source": [
    "Use ward as linkage metric and distance as Eucledian"
   ]
  },
  {
   "cell_type": "code",
   "execution_count": 35,
   "metadata": {},
   "outputs": [
    {
     "data": {
      "text/plain": [
       "array([[5.80000000e+01, 7.10000000e+01, 3.83689986e-02, 2.00000000e+00],\n",
       "       [4.00000000e+00, 5.60000000e+01, 4.41459160e-02, 2.00000000e+00],\n",
       "       [1.50000000e+02, 1.70000000e+02, 4.68212979e-02, 2.00000000e+00],\n",
       "       [2.24000000e+02, 2.26000000e+02, 7.15934956e-02, 2.00000000e+00],\n",
       "       [1.74000000e+02, 1.85000000e+02, 7.43196828e-02, 2.00000000e+00],\n",
       "       [1.59000000e+02, 1.61000000e+02, 8.15933343e-02, 2.00000000e+00],\n",
       "       [7.00000000e+00, 3.00000000e+01, 9.37511564e-02, 2.00000000e+00],\n",
       "       [1.50000000e+01, 1.70000000e+01, 9.77379821e-02, 2.00000000e+00],\n",
       "       [1.10000000e+01, 5.00000000e+01, 9.80458186e-02, 2.00000000e+00],\n",
       "       [1.12000000e+02, 1.46000000e+02, 1.00927969e-01, 2.00000000e+00],\n",
       "       [4.70000000e+01, 8.60000000e+01, 1.01061032e-01, 2.00000000e+00],\n",
       "       [1.72000000e+02, 1.82000000e+02, 1.04370074e-01, 2.00000000e+00],\n",
       "       [5.20000000e+01, 9.00000000e+01, 1.20184417e-01, 2.00000000e+00],\n",
       "       [1.78000000e+02, 1.86000000e+02, 1.28410871e-01, 2.00000000e+00],\n",
       "       [1.30000000e+01, 8.40000000e+01, 1.32914176e-01, 2.00000000e+00],\n",
       "       [3.60000000e+01, 9.70000000e+01, 1.35261107e-01, 2.00000000e+00],\n",
       "       [3.40000000e+01, 8.30000000e+01, 1.38006211e-01, 2.00000000e+00],\n",
       "       [1.64000000e+02, 2.46000000e+02, 1.39451031e-01, 2.00000000e+00],\n",
       "       [2.05000000e+02, 2.16000000e+02, 1.52898107e-01, 2.00000000e+00],\n",
       "       [1.97000000e+02, 2.09000000e+02, 1.56214167e-01, 2.00000000e+00],\n",
       "       [2.60000000e+01, 9.10000000e+01, 1.56744113e-01, 2.00000000e+00],\n",
       "       [2.30000000e+01, 6.80000000e+01, 1.57260496e-01, 2.00000000e+00],\n",
       "       [1.14000000e+02, 1.16000000e+02, 1.57326914e-01, 2.00000000e+00],\n",
       "       [2.25000000e+02, 2.28000000e+02, 1.61596673e-01, 2.00000000e+00],\n",
       "       [4.10000000e+01, 6.00000000e+01, 1.62120222e-01, 2.00000000e+00],\n",
       "       [3.90000000e+01, 8.10000000e+01, 1.62125650e-01, 2.00000000e+00],\n",
       "       [1.75000000e+02, 2.27000000e+02, 1.62423690e-01, 2.00000000e+00],\n",
       "       [7.00000000e+01, 7.80000000e+01, 1.62898916e-01, 2.00000000e+00],\n",
       "       [1.57000000e+02, 2.29000000e+02, 1.65438595e-01, 2.00000000e+00],\n",
       "       [1.76000000e+02, 2.19000000e+02, 1.75868085e-01, 2.00000000e+00],\n",
       "       [1.79000000e+02, 2.08000000e+02, 1.78375623e-01, 2.00000000e+00],\n",
       "       [6.00000000e+00, 4.20000000e+01, 1.82670766e-01, 2.00000000e+00],\n",
       "       [1.30000000e+02, 2.59000000e+02, 1.84413046e-01, 3.00000000e+00],\n",
       "       [1.96000000e+02, 2.30000000e+02, 1.90599009e-01, 2.00000000e+00],\n",
       "       [0.00000000e+00, 4.80000000e+01, 1.90611113e-01, 2.00000000e+00],\n",
       "       [1.60000000e+02, 1.84000000e+02, 1.96750127e-01, 2.00000000e+00],\n",
       "       [7.40000000e+01, 8.00000000e+01, 2.04026133e-01, 2.00000000e+00],\n",
       "       [1.92000000e+02, 2.03000000e+02, 2.04550677e-01, 2.00000000e+00],\n",
       "       [3.00000000e+00, 3.70000000e+01, 2.11909879e-01, 2.00000000e+00],\n",
       "       [2.33000000e+02, 2.80000000e+02, 2.19405712e-01, 3.00000000e+00],\n",
       "       [2.12000000e+02, 2.43000000e+02, 2.22603393e-01, 2.00000000e+00],\n",
       "       [4.60000000e+01, 8.90000000e+01, 2.22632343e-01, 2.00000000e+00],\n",
       "       [1.60000000e+01, 7.60000000e+01, 2.30751016e-01, 2.00000000e+00],\n",
       "       [1.15000000e+02, 1.24000000e+02, 2.34154581e-01, 2.00000000e+00],\n",
       "       [2.02000000e+02, 2.68000000e+02, 2.36815272e-01, 3.00000000e+00],\n",
       "       [1.03000000e+02, 1.45000000e+02, 2.40424061e-01, 2.00000000e+00],\n",
       "       [2.10000000e+01, 6.20000000e+01, 2.40833855e-01, 2.00000000e+00],\n",
       "       [7.20000000e+01, 9.60000000e+01, 2.42146339e-01, 2.00000000e+00],\n",
       "       [1.66000000e+02, 1.81000000e+02, 2.45429406e-01, 2.00000000e+00],\n",
       "       [1.29000000e+02, 1.31000000e+02, 2.51602146e-01, 2.00000000e+00],\n",
       "       [4.00000000e+01, 8.80000000e+01, 2.52318177e-01, 2.00000000e+00],\n",
       "       [5.90000000e+01, 2.74000000e+02, 2.53217997e-01, 3.00000000e+00],\n",
       "       [6.50000000e+01, 7.30000000e+01, 2.57662285e-01, 2.00000000e+00],\n",
       "       [7.70000000e+01, 8.70000000e+01, 2.60782741e-01, 2.00000000e+00],\n",
       "       [2.06000000e+02, 2.53000000e+02, 2.61187853e-01, 3.00000000e+00],\n",
       "       [9.50000000e+01, 2.64000000e+02, 2.64672935e-01, 3.00000000e+00],\n",
       "       [1.02000000e+02, 1.21000000e+02, 2.77485888e-01, 2.00000000e+00],\n",
       "       [2.54000000e+02, 2.67000000e+02, 2.78175984e-01, 4.00000000e+00],\n",
       "       [6.90000000e+01, 9.80000000e+01, 2.85469120e-01, 2.00000000e+00],\n",
       "       [1.06000000e+02, 1.38000000e+02, 2.91945007e-01, 2.00000000e+00],\n",
       "       [1.62000000e+02, 1.99000000e+02, 2.93914769e-01, 2.00000000e+00],\n",
       "       [2.56000000e+02, 2.91000000e+02, 2.97615002e-01, 4.00000000e+00],\n",
       "       [1.00000000e+00, 5.00000000e+00, 3.03826240e-01, 2.00000000e+00],\n",
       "       [3.20000000e+01, 2.71000000e+02, 3.07013931e-01, 3.00000000e+00],\n",
       "       [4.30000000e+01, 2.86000000e+02, 3.10601502e-01, 3.00000000e+00],\n",
       "       [4.50000000e+01, 6.40000000e+01, 3.15020743e-01, 2.00000000e+00],\n",
       "       [2.39000000e+02, 2.52000000e+02, 3.27482157e-01, 3.00000000e+00],\n",
       "       [1.80000000e+02, 2.41000000e+02, 3.32875327e-01, 2.00000000e+00],\n",
       "       [1.00000000e+02, 2.99000000e+02, 3.37026427e-01, 3.00000000e+00],\n",
       "       [1.13000000e+02, 1.33000000e+02, 3.42180496e-01, 2.00000000e+00],\n",
       "       [1.88000000e+02, 2.00000000e+02, 3.47432463e-01, 2.00000000e+00],\n",
       "       [1.18000000e+02, 2.72000000e+02, 3.51657110e-01, 3.00000000e+00],\n",
       "       [2.45000000e+02, 2.85000000e+02, 3.54682422e-01, 3.00000000e+00],\n",
       "       [1.53000000e+02, 2.20000000e+02, 3.55963075e-01, 2.00000000e+00],\n",
       "       [3.30000000e+01, 9.90000000e+01, 3.59531409e-01, 2.00000000e+00],\n",
       "       [1.89000000e+02, 2.83000000e+02, 3.60786947e-01, 3.00000000e+00],\n",
       "       [2.40000000e+02, 2.42000000e+02, 3.60850772e-01, 2.00000000e+00],\n",
       "       [1.25000000e+02, 2.95000000e+02, 3.76148594e-01, 3.00000000e+00],\n",
       "       [6.10000000e+01, 6.60000000e+01, 3.89772666e-01, 2.00000000e+00],\n",
       "       [3.10000000e+01, 9.40000000e+01, 3.91157539e-01, 2.00000000e+00],\n",
       "       [2.31000000e+02, 2.38000000e+02, 3.95117332e-01, 2.00000000e+00],\n",
       "       [5.70000000e+01, 7.90000000e+01, 3.99327447e-01, 2.00000000e+00],\n",
       "       [2.44000000e+02, 3.10000000e+02, 3.99809744e-01, 3.00000000e+00],\n",
       "       [1.63000000e+02, 2.23000000e+02, 4.01555731e-01, 2.00000000e+00],\n",
       "       [1.55000000e+02, 3.20000000e+02, 4.01817331e-01, 3.00000000e+00],\n",
       "       [2.01000000e+02, 2.55000000e+02, 4.18033812e-01, 3.00000000e+00],\n",
       "       [2.07000000e+02, 2.17000000e+02, 4.30486893e-01, 2.00000000e+00],\n",
       "       [2.13000000e+02, 2.63000000e+02, 4.30582853e-01, 3.00000000e+00],\n",
       "       [1.11000000e+02, 1.41000000e+02, 4.36704532e-01, 2.00000000e+00],\n",
       "       [1.19000000e+02, 1.26000000e+02, 4.41775840e-01, 2.00000000e+00],\n",
       "       [3.50000000e+01, 8.20000000e+01, 4.42923318e-01, 2.00000000e+00],\n",
       "       [4.90000000e+01, 2.60000000e+02, 4.45509733e-01, 3.00000000e+00],\n",
       "       [1.93000000e+02, 2.89000000e+02, 4.50505624e-01, 4.00000000e+00],\n",
       "       [1.44000000e+02, 3.09000000e+02, 4.52135257e-01, 3.00000000e+00],\n",
       "       [2.65000000e+02, 2.92000000e+02, 4.52557822e-01, 4.00000000e+00],\n",
       "       [2.00000000e+00, 2.62000000e+02, 4.66999049e-01, 3.00000000e+00],\n",
       "       [2.75000000e+02, 2.88000000e+02, 4.68468928e-01, 4.00000000e+00],\n",
       "       [2.70000000e+02, 2.96000000e+02, 4.78308380e-01, 4.00000000e+00],\n",
       "       [1.69000000e+02, 2.18000000e+02, 4.83400262e-01, 2.00000000e+00],\n",
       "       [9.20000000e+01, 2.77000000e+02, 4.95655265e-01, 3.00000000e+00],\n",
       "       [3.00000000e+02, 3.24000000e+02, 5.00901690e-01, 4.00000000e+00],\n",
       "       [1.58000000e+02, 2.14000000e+02, 5.07757540e-01, 2.00000000e+00],\n",
       "       [1.90000000e+01, 3.02000000e+02, 5.17149309e-01, 3.00000000e+00],\n",
       "       [1.83000000e+02, 2.90000000e+02, 5.21395372e-01, 3.00000000e+00],\n",
       "       [1.23000000e+02, 1.48000000e+02, 5.22833716e-01, 2.00000000e+00],\n",
       "       [3.11000000e+02, 3.12000000e+02, 5.44751483e-01, 6.00000000e+00],\n",
       "       [1.65000000e+02, 3.26000000e+02, 5.48635749e-01, 3.00000000e+00],\n",
       "       [2.20000000e+01, 5.40000000e+01, 5.54232553e-01, 2.00000000e+00],\n",
       "       [3.80000000e+01, 2.57000000e+02, 5.61098500e-01, 3.00000000e+00],\n",
       "       [1.40000000e+01, 6.30000000e+01, 5.64794656e-01, 2.00000000e+00],\n",
       "       [8.00000000e+00, 6.70000000e+01, 5.68336231e-01, 2.00000000e+00],\n",
       "       [1.20000000e+01, 2.70000000e+01, 5.72233866e-01, 2.00000000e+00],\n",
       "       [1.01000000e+02, 1.42000000e+02, 5.75162660e-01, 2.00000000e+00],\n",
       "       [2.69000000e+02, 2.76000000e+02, 5.88903547e-01, 4.00000000e+00],\n",
       "       [2.58000000e+02, 2.81000000e+02, 5.99768688e-01, 4.00000000e+00],\n",
       "       [1.95000000e+02, 3.04000000e+02, 6.08874590e-01, 4.00000000e+00],\n",
       "       [2.35000000e+02, 3.37000000e+02, 6.14522635e-01, 4.00000000e+00],\n",
       "       [2.49000000e+02, 3.17000000e+02, 6.18444263e-01, 3.00000000e+00],\n",
       "       [1.73000000e+02, 3.23000000e+02, 6.19755025e-01, 3.00000000e+00],\n",
       "       [1.05000000e+02, 1.20000000e+02, 6.20365484e-01, 2.00000000e+00],\n",
       "       [1.77000000e+02, 2.15000000e+02, 6.26217256e-01, 2.00000000e+00],\n",
       "       [2.40000000e+01, 8.50000000e+01, 6.28805642e-01, 2.00000000e+00],\n",
       "       [1.80000000e+01, 3.40000000e+02, 6.31350075e-01, 3.00000000e+00],\n",
       "       [2.22000000e+02, 3.42000000e+02, 6.38956322e-01, 5.00000000e+00],\n",
       "       [2.78000000e+02, 3.67000000e+02, 6.64181575e-01, 5.00000000e+00],\n",
       "       [2.87000000e+02, 3.63000000e+02, 6.69418901e-01, 6.00000000e+00],\n",
       "       [3.05000000e+02, 3.61000000e+02, 6.71967861e-01, 5.00000000e+00],\n",
       "       [2.51000000e+02, 3.58000000e+02, 6.81019847e-01, 5.00000000e+00],\n",
       "       [2.47000000e+02, 3.22000000e+02, 6.86013840e-01, 4.00000000e+00],\n",
       "       [1.51000000e+02, 3.35000000e+02, 6.88832128e-01, 4.00000000e+00],\n",
       "       [1.54000000e+02, 3.36000000e+02, 7.01683552e-01, 3.00000000e+00],\n",
       "       [2.21000000e+02, 2.34000000e+02, 7.05922767e-01, 2.00000000e+00],\n",
       "       [2.90000000e+01, 2.66000000e+02, 7.15623666e-01, 3.00000000e+00],\n",
       "       [2.97000000e+02, 3.55000000e+02, 7.26021702e-01, 8.00000000e+00],\n",
       "       [3.07000000e+02, 3.30000000e+02, 7.26321003e-01, 6.00000000e+00],\n",
       "       [1.56000000e+02, 3.33000000e+02, 7.28363102e-01, 3.00000000e+00],\n",
       "       [1.22000000e+02, 3.38000000e+02, 7.78140833e-01, 3.00000000e+00],\n",
       "       [1.28000000e+02, 1.37000000e+02, 7.89928156e-01, 2.00000000e+00],\n",
       "       [1.39000000e+02, 3.21000000e+02, 7.96089172e-01, 4.00000000e+00],\n",
       "       [1.08000000e+02, 1.40000000e+02, 8.23653473e-01, 2.00000000e+00],\n",
       "       [1.17000000e+02, 1.47000000e+02, 8.39970035e-01, 2.00000000e+00],\n",
       "       [2.80000000e+01, 3.57000000e+02, 8.66583374e-01, 3.00000000e+00],\n",
       "       [2.10000000e+02, 2.79000000e+02, 8.67170468e-01, 3.00000000e+00],\n",
       "       [4.40000000e+01, 3.28000000e+02, 8.75254730e-01, 3.00000000e+00],\n",
       "       [1.00000000e+01, 3.31000000e+02, 8.86101273e-01, 3.00000000e+00],\n",
       "       [2.61000000e+02, 3.73000000e+02, 8.88031669e-01, 7.00000000e+00],\n",
       "       [2.04000000e+02, 2.11000000e+02, 8.92562795e-01, 2.00000000e+00],\n",
       "       [1.91000000e+02, 1.94000000e+02, 9.09001637e-01, 2.00000000e+00],\n",
       "       [1.49000000e+02, 3.39000000e+02, 9.11389597e-01, 3.00000000e+00],\n",
       "       [7.50000000e+01, 2.84000000e+02, 9.18591937e-01, 3.00000000e+00],\n",
       "       [3.29000000e+02, 3.59000000e+02, 9.25783106e-01, 4.00000000e+00],\n",
       "       [1.32000000e+02, 1.36000000e+02, 9.39156626e-01, 2.00000000e+00],\n",
       "       [1.35000000e+02, 3.18000000e+02, 9.51427120e-01, 4.00000000e+00],\n",
       "       [2.73000000e+02, 3.48000000e+02, 9.62587227e-01, 4.00000000e+00],\n",
       "       [1.34000000e+02, 3.06000000e+02, 9.67446574e-01, 3.00000000e+00],\n",
       "       [2.48000000e+02, 3.51000000e+02, 9.72966461e-01, 3.00000000e+00],\n",
       "       [2.94000000e+02, 3.65000000e+02, 9.87654274e-01, 7.00000000e+00],\n",
       "       [5.30000000e+01, 9.30000000e+01, 9.89716760e-01, 2.00000000e+00],\n",
       "       [3.16000000e+02, 3.25000000e+02, 1.00912577e+00, 6.00000000e+00],\n",
       "       [1.67000000e+02, 2.32000000e+02, 1.03904867e+00, 2.00000000e+00],\n",
       "       [1.87000000e+02, 1.98000000e+02, 1.04504800e+00, 2.00000000e+00],\n",
       "       [2.50000000e+01, 3.72000000e+02, 1.04653335e+00, 4.00000000e+00],\n",
       "       [2.37000000e+02, 2.98000000e+02, 1.05459919e+00, 3.00000000e+00],\n",
       "       [3.64000000e+02, 3.99000000e+02, 1.11003733e+00, 7.00000000e+00],\n",
       "       [5.50000000e+01, 3.03000000e+02, 1.11827666e+00, 3.00000000e+00],\n",
       "       [3.34000000e+02, 3.56000000e+02, 1.11999882e+00, 6.00000000e+00],\n",
       "       [2.82000000e+02, 3.62000000e+02, 1.15767245e+00, 5.00000000e+00],\n",
       "       [2.50000000e+02, 3.41000000e+02, 1.15926744e+00, 5.00000000e+00],\n",
       "       [3.14000000e+02, 3.44000000e+02, 1.24448118e+00, 7.00000000e+00],\n",
       "       [3.15000000e+02, 3.52000000e+02, 1.24960122e+00, 5.00000000e+00],\n",
       "       [3.01000000e+02, 3.08000000e+02, 1.27106465e+00, 5.00000000e+00],\n",
       "       [2.93000000e+02, 3.88000000e+02, 1.27988291e+00, 6.00000000e+00],\n",
       "       [3.80000000e+02, 3.85000000e+02, 1.28290741e+00, 6.00000000e+00],\n",
       "       [3.19000000e+02, 3.54000000e+02, 1.36615722e+00, 4.00000000e+00],\n",
       "       [3.76000000e+02, 4.17000000e+02, 1.39898778e+00, 1.00000000e+01],\n",
       "       [3.49000000e+02, 3.50000000e+02, 1.42507276e+00, 7.00000000e+00],\n",
       "       [3.78000000e+02, 3.92000000e+02, 1.43428257e+00, 7.00000000e+00],\n",
       "       [3.86000000e+02, 4.01000000e+02, 1.43691632e+00, 5.00000000e+00],\n",
       "       [9.00000000e+00, 3.60000000e+02, 1.44019701e+00, 3.00000000e+00],\n",
       "       [3.68000000e+02, 4.10000000e+02, 1.48121914e+00, 5.00000000e+00],\n",
       "       [1.52000000e+02, 3.66000000e+02, 1.49885816e+00, 5.00000000e+00],\n",
       "       [1.71000000e+02, 3.81000000e+02, 1.51153637e+00, 3.00000000e+00],\n",
       "       [5.10000000e+01, 4.07000000e+02, 1.53666136e+00, 3.00000000e+00],\n",
       "       [3.46000000e+02, 3.77000000e+02, 1.62263888e+00, 9.00000000e+00],\n",
       "       [4.09000000e+02, 4.12000000e+02, 1.64902555e+00, 5.00000000e+00],\n",
       "       [3.13000000e+02, 4.18000000e+02, 1.72522052e+00, 1.00000000e+01],\n",
       "       [1.10000000e+02, 3.69000000e+02, 1.77448342e+00, 3.00000000e+00],\n",
       "       [3.87000000e+02, 4.02000000e+02, 1.86958465e+00, 6.00000000e+00],\n",
       "       [3.82000000e+02, 3.83000000e+02, 1.90396087e+00, 1.10000000e+01],\n",
       "       [1.07000000e+02, 3.89000000e+02, 1.92512407e+00, 3.00000000e+00],\n",
       "       [1.68000000e+02, 4.05000000e+02, 1.97160639e+00, 4.00000000e+00],\n",
       "       [3.79000000e+02, 3.96000000e+02, 2.07954255e+00, 6.00000000e+00],\n",
       "       [3.32000000e+02, 3.95000000e+02, 2.09302983e+00, 1.00000000e+01],\n",
       "       [4.00000000e+02, 4.25000000e+02, 2.12692486e+00, 1.10000000e+01],\n",
       "       [1.43000000e+02, 4.23000000e+02, 2.14721088e+00, 5.00000000e+00],\n",
       "       [4.03000000e+02, 4.15000000e+02, 2.14827025e+00, 1.00000000e+01],\n",
       "       [3.93000000e+02, 4.19000000e+02, 2.15649950e+00, 8.00000000e+00],\n",
       "       [3.27000000e+02, 4.04000000e+02, 2.16932627e+00, 6.00000000e+00],\n",
       "       [3.47000000e+02, 4.11000000e+02, 2.20439779e+00, 8.00000000e+00],\n",
       "       [3.84000000e+02, 4.08000000e+02, 2.22022198e+00, 1.20000000e+01],\n",
       "       [2.36000000e+02, 3.97000000e+02, 2.49535318e+00, 3.00000000e+00],\n",
       "       [3.75000000e+02, 4.22000000e+02, 2.67506570e+00, 1.20000000e+01],\n",
       "       [3.74000000e+02, 4.31000000e+02, 2.68625671e+00, 8.00000000e+00],\n",
       "       [3.43000000e+02, 4.37000000e+02, 2.73577055e+00, 9.00000000e+00],\n",
       "       [3.94000000e+02, 4.32000000e+02, 2.82757938e+00, 6.00000000e+00],\n",
       "       [1.90000000e+02, 3.53000000e+02, 2.87743515e+00, 4.00000000e+00],\n",
       "       [3.90000000e+02, 4.21000000e+02, 2.94760871e+00, 8.00000000e+00],\n",
       "       [4.27000000e+02, 4.39000000e+02, 2.98221099e+00, 8.00000000e+00],\n",
       "       [3.71000000e+02, 4.20000000e+02, 3.04470675e+00, 7.00000000e+00],\n",
       "       [4.06000000e+02, 4.42000000e+02, 3.10825577e+00, 1.70000000e+01],\n",
       "       [4.30000000e+02, 4.41000000e+02, 3.35676033e+00, 1.10000000e+01],\n",
       "       [4.13000000e+02, 4.24000000e+02, 3.38905236e+00, 1.70000000e+01],\n",
       "       [4.50000000e+02, 4.55000000e+02, 3.42946900e+00, 7.00000000e+00],\n",
       "       [3.91000000e+02, 4.33000000e+02, 3.48762353e+00, 1.20000000e+01],\n",
       "       [3.45000000e+02, 4.28000000e+02, 3.61344211e+00, 6.00000000e+00],\n",
       "       [4.14000000e+02, 4.46000000e+02, 3.68489141e+00, 1.10000000e+01],\n",
       "       [2.00000000e+01, 4.43000000e+02, 3.95053970e+00, 1.20000000e+01],\n",
       "       [4.48000000e+02, 4.58000000e+02, 4.04388950e+00, 1.50000000e+01],\n",
       "       [4.35000000e+02, 4.38000000e+02, 4.09324934e+00, 2.10000000e+01],\n",
       "       [4.16000000e+02, 4.53000000e+02, 4.14985190e+00, 1.40000000e+01],\n",
       "       [4.45000000e+02, 4.60000000e+02, 4.24324440e+00, 2.10000000e+01],\n",
       "       [4.49000000e+02, 4.51000000e+02, 4.40383134e+00, 2.40000000e+01],\n",
       "       [4.29000000e+02, 4.52000000e+02, 4.60474065e+00, 1.30000000e+01],\n",
       "       [1.09000000e+02, 4.36000000e+02, 4.66989746e+00, 4.00000000e+00],\n",
       "       [3.70000000e+02, 4.26000000e+02, 4.96496860e+00, 9.00000000e+00],\n",
       "       [1.27000000e+02, 4.57000000e+02, 4.98687103e+00, 9.00000000e+00],\n",
       "       [4.34000000e+02, 4.40000000e+02, 5.13760926e+00, 9.00000000e+00],\n",
       "       [1.04000000e+02, 4.56000000e+02, 5.45345926e+00, 9.00000000e+00],\n",
       "       [3.98000000e+02, 4.47000000e+02, 5.87942832e+00, 9.00000000e+00],\n",
       "       [4.61000000e+02, 4.63000000e+02, 6.30408167e+00, 2.90000000e+01],\n",
       "       [4.59000000e+02, 4.74000000e+02, 6.76327379e+00, 2.60000000e+01],\n",
       "       [4.69000000e+02, 4.73000000e+02, 7.20248081e+00, 1.80000000e+01],\n",
       "       [4.44000000e+02, 4.75000000e+02, 7.26390452e+00, 1.40000000e+01],\n",
       "       [4.77000000e+02, 4.78000000e+02, 7.31283568e+00, 1.80000000e+01],\n",
       "       [4.64000000e+02, 4.68000000e+02, 7.38028329e+00, 2.70000000e+01],\n",
       "       [4.54000000e+02, 4.66000000e+02, 7.69964220e+00, 1.80000000e+01],\n",
       "       [4.70000000e+02, 4.76000000e+02, 8.54729239e+00, 3.00000000e+01],\n",
       "       [4.67000000e+02, 4.85000000e+02, 9.35999635e+00, 3.30000000e+01],\n",
       "       [4.71000000e+02, 4.72000000e+02, 9.42725916e+00, 3.70000000e+01],\n",
       "       [4.65000000e+02, 4.79000000e+02, 9.58209682e+00, 4.00000000e+01],\n",
       "       [4.62000000e+02, 4.88000000e+02, 1.04912716e+01, 4.40000000e+01],\n",
       "       [4.81000000e+02, 4.82000000e+02, 1.19904098e+01, 3.20000000e+01],\n",
       "       [4.84000000e+02, 4.89000000e+02, 1.31713719e+01, 6.70000000e+01],\n",
       "       [4.80000000e+02, 4.86000000e+02, 1.72656616e+01, 5.60000000e+01],\n",
       "       [4.83000000e+02, 4.91000000e+02, 1.93188048e+01, 5.00000000e+01],\n",
       "       [4.90000000e+02, 4.93000000e+02, 1.99388811e+01, 1.00000000e+02],\n",
       "       [4.87000000e+02, 4.92000000e+02, 2.30305546e+01, 1.00000000e+02],\n",
       "       [4.94000000e+02, 4.95000000e+02, 1.10256462e+02, 1.50000000e+02],\n",
       "       [4.96000000e+02, 4.97000000e+02, 3.13554163e+02, 2.50000000e+02]])"
      ]
     },
     "execution_count": 35,
     "metadata": {},
     "output_type": "execute_result"
    }
   ],
   "source": [
    "Z"
   ]
  },
  {
   "cell_type": "markdown",
   "metadata": {},
   "source": [
    "### 12. Plot the dendrogram for the consolidated dataframe"
   ]
  },
  {
   "cell_type": "code",
   "execution_count": 36,
   "metadata": {},
   "outputs": [
    {
     "data": {
      "image/png": "[encoded data removed]",
      "text/plain": [
       "<Figure size 1800x720 with 1 Axes>"
      ]
     },
     "metadata": {
      "needs_background": "light"
     },
     "output_type": "display_data"
    }
   ],
   "source": [
    "# calculate full dendrogram\n",
    "plt.figure(figsize=(25, 10))\n",
    "plt.title('Hierarchical Clustering Dendrogram')\n",
    "plt.xlabel('sample index')\n",
    "plt.ylabel('distance')\n",
    "dendrogram(\n",
    "    Z,\n",
    "    leaf_rotation=90.,  # rotates the x axis labels\n",
    "    leaf_font_size=8.,  # font size for the x axis labels\n",
    ")\n",
    "plt.show()"
   ]
  },
  {
   "cell_type": "markdown",
   "metadata": {},
   "source": [
    "### 13. Recreate the dendrogram for last 12 merged clusters "
   ]
  },
  {
   "cell_type": "code",
   "execution_count": 37,
   "metadata": {},
   "outputs": [
    {
     "data": {
      "image/png": "[encoded data removed]",
      "text/plain": [
       "<Figure size 432x288 with 1 Axes>"
      ]
     },
     "metadata": {
      "needs_background": "light"
     },
     "output_type": "display_data"
    }
   ],
   "source": [
    "plt.title('Hierarchical Clustering Dendrogram (truncated)')\n",
    "plt.xlabel('sample index or (cluster size)')\n",
    "plt.ylabel('distance')\n",
    "dendrogram(\n",
    "    Z,\n",
    "    truncate_mode='lastp',  # show only the last p merged clusters\n",
    "    p=12,  # show only the last p merged clusters\n",
    "    leaf_rotation=90.,\n",
    "    leaf_font_size=12.,\n",
    ")\n",
    "plt.show()"
   ]
  },
  {
   "cell_type": "markdown",
   "metadata": {},
   "source": [
    "Hint: Use truncate_mode='lastp' attribute in dendrogram function to arrive at dendrogram "
   ]
  },
  {
   "cell_type": "markdown",
   "metadata": {},
   "source": [
    "### 14. From the truncated dendrogram, find out the optimal distance between clusters which u want to use an input for clustering data"
   ]
  },
  {
   "cell_type": "code",
   "execution_count": 38,
   "metadata": {},
   "outputs": [],
   "source": [
    "# Optimal distance between clusters is 60 considering all clusters are within the distance"
   ]
  },
  {
   "cell_type": "code",
   "execution_count": 39,
   "metadata": {},
   "outputs": [],
   "source": [
    "max_d = 50"
   ]
  },
  {
   "cell_type": "markdown",
   "metadata": {},
   "source": [
    "### 15. Using this distance measure and fcluster function to cluster the data into 3 different groups"
   ]
  },
  {
   "cell_type": "code",
   "execution_count": 40,
   "metadata": {},
   "outputs": [
    {
     "data": {
      "text/plain": [
       "array([1, 1, 1, 1, 1, 1, 1, 1, 1, 1, 1, 1, 1, 1, 1, 1, 1, 1, 1, 1, 1, 1,\n",
       "       1, 1, 1, 1, 1, 1, 1, 1, 1, 1, 1, 1, 1, 1, 1, 1, 1, 1, 1, 1, 1, 1,\n",
       "       1, 1, 1, 1, 1, 1, 1, 1, 1, 1, 1, 1, 1, 1, 1, 1, 1, 1, 1, 1, 1, 1,\n",
       "       1, 1, 1, 1, 1, 1, 1, 1, 1, 1, 1, 1, 1, 1, 1, 1, 1, 1, 1, 1, 1, 1,\n",
       "       1, 1, 1, 1, 1, 1, 1, 1, 1, 1, 1, 1, 2, 2, 2, 2, 2, 2, 2, 2, 2, 2,\n",
       "       2, 2, 2, 2, 2, 2, 2, 2, 2, 2, 2, 2, 2, 2, 2, 2, 2, 2, 2, 2, 2, 2,\n",
       "       2, 2, 2, 2, 2, 2, 2, 2, 2, 2, 2, 2, 2, 2, 2, 2, 2, 2, 3, 3, 3, 3,\n",
       "       3, 3, 3, 3, 3, 3, 3, 3, 3, 3, 3, 3, 3, 3, 3, 3, 3, 3, 3, 3, 3, 3,\n",
       "       3, 3, 3, 3, 3, 3, 3, 3, 3, 3, 3, 3, 3, 3, 3, 3, 3, 3, 3, 3, 3, 3,\n",
       "       3, 3, 3, 3, 3, 3, 3, 3, 3, 3, 3, 3, 3, 3, 3, 3, 3, 3, 3, 3, 3, 3,\n",
       "       3, 3, 3, 3, 3, 3, 3, 3, 3, 3, 3, 3, 3, 3, 3, 3, 3, 3, 3, 3, 3, 3,\n",
       "       3, 3, 3, 3, 3, 3, 3, 3], dtype=int32)"
      ]
     },
     "execution_count": 40,
     "metadata": {},
     "output_type": "execute_result"
    }
   ],
   "source": [
    "from scipy.cluster.hierarchy import fcluster\n",
    "clusters = fcluster(Z, max_d, criterion='distance')\n",
    "clusters"
   ]
  },
  {
   "cell_type": "markdown",
   "metadata": {},
   "source": [
    "### Use matplotlib to visually observe the clusters in 2D space "
   ]
  },
  {
   "cell_type": "code",
   "execution_count": 41,
   "metadata": {},
   "outputs": [],
   "source": [
    "clust_flag_df = pd.DataFrame(clusters, columns = (['Cluster_f']))"
   ]
  },
  {
   "cell_type": "code",
   "execution_count": 42,
   "metadata": {},
   "outputs": [],
   "source": [
    "comb_cat_df = pd.concat([comb_df,clust_flag_df], axis=1)"
   ]
  },
  {
   "cell_type": "code",
   "execution_count": 43,
   "metadata": {},
   "outputs": [
    {
     "data": {
      "text/html": [
       "<div>\n",
       "<style scoped>\n",
       "    .dataframe tbody tr th:only-of-type {\n",
       "        vertical-align: middle;\n",
       "    }\n",
       "\n",
       "    .dataframe tbody tr th {\n",
       "        vertical-align: top;\n",
       "    }\n",
       "\n",
       "    .dataframe thead th {\n",
       "        text-align: right;\n",
       "    }\n",
       "</style>\n",
       "<table border=\"1\" class=\"dataframe\">\n",
       "  <thead>\n",
       "    <tr style=\"text-align: right;\">\n",
       "      <th></th>\n",
       "      <th>Column_1</th>\n",
       "      <th>Column_2</th>\n",
       "      <th>Cluster_f</th>\n",
       "    </tr>\n",
       "  </thead>\n",
       "  <tbody>\n",
       "    <tr>\n",
       "      <th>0</th>\n",
       "      <td>31.603239</td>\n",
       "      <td>2.136634</td>\n",
       "      <td>1</td>\n",
       "    </tr>\n",
       "    <tr>\n",
       "      <th>1</th>\n",
       "      <td>31.665376</td>\n",
       "      <td>0.282571</td>\n",
       "      <td>1</td>\n",
       "    </tr>\n",
       "    <tr>\n",
       "      <th>2</th>\n",
       "      <td>32.912811</td>\n",
       "      <td>2.091715</td>\n",
       "      <td>1</td>\n",
       "    </tr>\n",
       "    <tr>\n",
       "      <th>3</th>\n",
       "      <td>28.774000</td>\n",
       "      <td>0.493446</td>\n",
       "      <td>1</td>\n",
       "    </tr>\n",
       "    <tr>\n",
       "      <th>4</th>\n",
       "      <td>29.337796</td>\n",
       "      <td>1.116540</td>\n",
       "      <td>1</td>\n",
       "    </tr>\n",
       "  </tbody>\n",
       "</table>\n",
       "</div>"
      ],
      "text/plain": [
       "    Column_1  Column_2  Cluster_f\n",
       "0  31.603239  2.136634          1\n",
       "1  31.665376  0.282571          1\n",
       "2  32.912811  2.091715          1\n",
       "3  28.774000  0.493446          1\n",
       "4  29.337796  1.116540          1"
      ]
     },
     "execution_count": 43,
     "metadata": {},
     "output_type": "execute_result"
    }
   ],
   "source": [
    "comb_cat_df.head()"
   ]
  },
  {
   "cell_type": "code",
   "execution_count": 44,
   "metadata": {},
   "outputs": [
    {
     "data": {
      "image/png": "[encoded data removed]",
      "text/plain": [
       "<Figure size 432x288 with 1 Axes>"
      ]
     },
     "metadata": {
      "needs_background": "light"
     },
     "output_type": "display_data"
    }
   ],
   "source": [
    "plt.plot()\n",
    "plt.xlim([0, 40])\n",
    "plt.ylim([0, 40])\n",
    "plt.title('Dataset')\n",
    "plt.scatter(comb_cat_df.Column_1, comb_cat_df.Column_2)\n",
    "plt.show()"
   ]
  },
  {
   "cell_type": "code",
   "execution_count": 45,
   "metadata": {},
   "outputs": [],
   "source": [
    "clust_freq = pd.DataFrame(comb_cat_df['Cluster_f'].value_counts())"
   ]
  },
  {
   "cell_type": "code",
   "execution_count": 47,
   "metadata": {},
   "outputs": [
    {
     "data": {
      "text/plain": [
       "Text(0.5,1,'Ind Count')"
      ]
     },
     "execution_count": 47,
     "metadata": {},
     "output_type": "execute_result"
    },
    {
     "data": {
      "image/png": "[encoded data removed]",
      "text/plain": [
       "<Figure size 432x288 with 1 Axes>"
      ]
     },
     "metadata": {
      "needs_background": "light"
     },
     "output_type": "display_data"
    }
   ],
   "source": [
    "plt.bar(clust_freq.index, clust_freq['Cluster_f'], align='center', alpha=0.5)\n",
    "plt.xlabel('Cluster')\n",
    "plt.ylabel('Count Of Cluster')\n",
    "plt.title('Ind Count')"
   ]
  },
  {
   "cell_type": "code",
   "execution_count": null,
   "metadata": {},
   "outputs": [],
   "source": []
  }
 ],
 "metadata": {
  "kernelspec": {
   "display_name": "Python 3",
   "language": "python",
   "name": "python3"
  },
  "language_info": {
   "codemirror_mode": {
    "name": "ipython",
    "version": 3
   },
   "file_extension": ".py",
   "mimetype": "text/x-python",
   "name": "python",
   "nbconvert_exporter": "python",
   "pygments_lexer": "ipython3",
   "version": "3.7.0"
  }
 },
 "nbformat": 4,
 "nbformat_minor": 2
}
