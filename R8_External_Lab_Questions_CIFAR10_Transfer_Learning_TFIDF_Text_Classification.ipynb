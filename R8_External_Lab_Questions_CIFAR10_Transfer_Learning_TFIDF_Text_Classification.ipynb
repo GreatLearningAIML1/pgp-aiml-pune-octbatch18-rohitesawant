{
  "nbformat": 4,
  "nbformat_minor": 0,
  "metadata": {
    "colab": {
      "name": "R8_External_Lab_Questions_CIFAR10_Transfer_Learning_TFIDF_Text_Classification.ipynb",
      "version": "0.3.2",
      "provenance": [],
      "collapsed_sections": []
    },
    "kernelspec": {
      "name": "python3",
      "display_name": "Python 3"
    }
  },
  "cells": [
    {
      "cell_type": "markdown",
      "metadata": {
        "id": "QGIsF1ADyJ58",
        "colab_type": "text"
      },
      "source": [
        "# Transfer Learning CIFAR10"
      ]
    },
    {
      "cell_type": "markdown",
      "metadata": {
        "id": "E-n6tVFayGBe",
        "colab_type": "text"
      },
      "source": [
        "* Train a simple convnet on the CIFAR dataset the first 5 output classes [0..4].\n",
        "* Freeze convolutional layers and fine-tune dense layers for the last 5 ouput classes [5..9].\n"
      ]
    },
    {
      "cell_type": "markdown",
      "metadata": {
        "id": "Cq8ejXHJyGYq",
        "colab_type": "text"
      },
      "source": [
        "### 1. Import CIFAR10 data and create 2 datasets with one dataset having classes from 0 to 4 and other having classes from 5 to 9 "
      ]
    },
    {
      "cell_type": "code",
      "metadata": {
        "id": "uWYbxnBayFUP",
        "colab_type": "code",
        "colab": {
          "base_uri": "https://localhost:8080/",
          "height": 34
        },
        "outputId": "152d306f-1a1e-4be9-d069-9ca80b4b8f98"
      },
      "source": [
        "import tensorflow as tf\n",
        "import numpy as np\n",
        "from matplotlib import pyplot as plt\n",
        "import keras\n",
        "import vis\n",
        "import pandas as pd\n",
        "\n",
        "from keras.models import Sequential\n",
        "from keras.layers import Conv2D, MaxPooling2D, Activation, Flatten, Dense, Dropout\n",
        "from keras import backend as K\n",
        "\n",
        "tf.set_random_seed(42)"
      ],
      "execution_count": 1,
      "outputs": [
        {
          "output_type": "stream",
          "text": [
            "Using TensorFlow backend.\n"
          ],
          "name": "stderr"
        }
      ]
    },
    {
      "cell_type": "code",
      "metadata": {
        "id": "8BlKTzsIdzt3",
        "colab_type": "code",
        "colab": {}
      },
      "source": [
        "(trainX, trainY),(testX, testY) = tf.keras.datasets.cifar10.load_data()"
      ],
      "execution_count": 0,
      "outputs": []
    },
    {
      "cell_type": "code",
      "metadata": {
        "id": "uNGDq3-xlYJI",
        "colab_type": "code",
        "colab": {
          "base_uri": "https://localhost:8080/",
          "height": 85
        },
        "outputId": "675197d6-630e-43eb-f279-9dd84bb9e1bf"
      },
      "source": [
        "print(trainX.shape)\n",
        "print(testX.shape)\n",
        "print(trainY.shape)\n",
        "print(testY.shape)"
      ],
      "execution_count": 3,
      "outputs": [
        {
          "output_type": "stream",
          "text": [
            "(50000, 32, 32, 3)\n",
            "(10000, 32, 32, 3)\n",
            "(50000, 1)\n",
            "(10000, 1)\n"
          ],
          "name": "stdout"
        }
      ]
    },
    {
      "cell_type": "code",
      "metadata": {
        "colab_type": "code",
        "id": "SW8qv89jT-7X",
        "colab": {}
      },
      "source": [
        "trainY = trainY.reshape(50000)\n",
        "testY = testY.reshape(10000)"
      ],
      "execution_count": 0,
      "outputs": []
    },
    {
      "cell_type": "code",
      "metadata": {
        "id": "X8M9O7YAFOfN",
        "colab_type": "code",
        "colab": {}
      },
      "source": [
        "trainX_lt5 = trainX[trainY < 5]\n",
        "trainY_lt5 = trainY[trainY < 5]\n",
        "testX_lt5 = testX[testY < 5]\n",
        "testY_lt5 = testY[testY < 5]"
      ],
      "execution_count": 0,
      "outputs": []
    },
    {
      "cell_type": "code",
      "metadata": {
        "id": "EQf-0geORgxk",
        "colab_type": "code",
        "colab": {
          "base_uri": "https://localhost:8080/",
          "height": 85
        },
        "outputId": "47d63ea7-143f-4ef4-fbe5-11433c700d17"
      },
      "source": [
        "print(trainX_lt5.shape)\n",
        "print(testX_lt5.shape)\n",
        "print(trainY_lt5.shape)\n",
        "print(testY_lt5.shape)"
      ],
      "execution_count": 6,
      "outputs": [
        {
          "output_type": "stream",
          "text": [
            "(25000, 32, 32, 3)\n",
            "(5000, 32, 32, 3)\n",
            "(25000,)\n",
            "(5000,)\n"
          ],
          "name": "stdout"
        }
      ]
    },
    {
      "cell_type": "markdown",
      "metadata": {
        "id": "xtCKmQh4yXhT",
        "colab_type": "text"
      },
      "source": [
        "### 2. Use One-hot encoding to divide y_train and y_test into required no of output classes"
      ]
    },
    {
      "cell_type": "markdown",
      "metadata": {
        "id": "KUWhH2ADiJqc",
        "colab_type": "text"
      },
      "source": [
        "*We will only start work with the 0-4 Category Dataset*"
      ]
    },
    {
      "cell_type": "code",
      "metadata": {
        "id": "uN5O2kJ3yYa6",
        "colab_type": "code",
        "colab": {}
      },
      "source": [
        "trainX_lt5_conv = trainX_lt5.reshape(trainX_lt5.shape[0], 32, 32, 3)\n",
        "testX_lt5_conv = testX_lt5.reshape(testX_lt5.shape[0], 32, 32, 3)\n",
        "input_shape = (32, 32, 3)"
      ],
      "execution_count": 0,
      "outputs": []
    },
    {
      "cell_type": "code",
      "metadata": {
        "id": "I1nFHwNSUSFQ",
        "colab_type": "code",
        "colab": {}
      },
      "source": [
        "trainX_lt5_conv =  trainX_lt5_conv.astype(\"float32\") / 255\n",
        "testX_lt5_conv = testX_lt5_conv.astype(\"float32\") / 255"
      ],
      "execution_count": 0,
      "outputs": []
    },
    {
      "cell_type": "code",
      "metadata": {
        "id": "PMWjWXEhUbyc",
        "colab_type": "code",
        "colab": {}
      },
      "source": [
        "trainY_lt5_class = keras.utils.to_categorical(trainY_lt5, 5)\n",
        "testY_lt5_class = keras.utils.to_categorical(testY_lt5, 5)"
      ],
      "execution_count": 0,
      "outputs": []
    },
    {
      "cell_type": "markdown",
      "metadata": {
        "id": "cuOiKWfeybAl",
        "colab_type": "text"
      },
      "source": [
        "### 3. Build a sequential neural network model which can classify the classes 0 to 4 of CIFAR10 dataset with at least 80% accuracy on test data"
      ]
    },
    {
      "cell_type": "code",
      "metadata": {
        "id": "5HzxNbiiyoBD",
        "colab_type": "code",
        "colab": {}
      },
      "source": [
        "model_lt5 = Sequential()\n",
        "model_lt5.add(Conv2D(32, kernel_size=(3, 3), activation='relu', input_shape=input_shape,name='conv_1'))\n",
        "model_lt5.add(MaxPooling2D(pool_size=(2, 2),name='max_1'))\n",
        "model_lt5.add(Conv2D(128, (3, 3), activation='relu',name='conv_2'))\n",
        "model_lt5.add(MaxPooling2D(pool_size=(2, 2),name='max_2'))\n",
        "model_lt5.add(Conv2D(128, (3, 3), activation='relu',name='conv_3'))\n",
        "model_lt5.add(MaxPooling2D(pool_size=(2, 2),name='max_3'))\n",
        "model_lt5.add(Dropout(0.25,name='drop_1'))\n",
        "model_lt5.add(Flatten())\n",
        "model_lt5.add(Dense(128, activation='relu',name='dense_1'))\n",
        "model_lt5.add(Dropout(0.5, name='drop_2'))\n",
        "model_lt5.add(Dense(5, activation='softmax',name='dense_2'))"
      ],
      "execution_count": 0,
      "outputs": []
    },
    {
      "cell_type": "code",
      "metadata": {
        "id": "snbA59WQU2HR",
        "colab_type": "code",
        "colab": {}
      },
      "source": [
        "model_lt5.compile(loss='categorical_crossentropy', optimizer=\"adam\", metrics=['accuracy'])"
      ],
      "execution_count": 0,
      "outputs": []
    },
    {
      "cell_type": "code",
      "metadata": {
        "id": "yRHaQQEEVFA7",
        "colab_type": "code",
        "colab": {
          "base_uri": "https://localhost:8080/",
          "height": 238
        },
        "outputId": "fdfaf741-b0a1-4147-e2eb-64b94e70e969"
      },
      "source": [
        "%%time \n",
        "output_04 = model_lt5.fit(trainX_lt5_conv, trainY_lt5_class, batch_size=128, epochs=5, verbose=1,\n",
        "                    validation_data=(testX_lt5_conv, testY_lt5_class))"
      ],
      "execution_count": 16,
      "outputs": [
        {
          "output_type": "stream",
          "text": [
            "Train on 25000 samples, validate on 5000 samples\n",
            "Epoch 1/5\n",
            "25000/25000 [==============================] - 71s 3ms/step - loss: 1.2761 - acc: 0.4442 - val_loss: 1.0012 - val_acc: 0.5860\n",
            "Epoch 2/5\n",
            "25000/25000 [==============================] - 70s 3ms/step - loss: 0.9966 - acc: 0.5900 - val_loss: 0.8787 - val_acc: 0.6414\n",
            "Epoch 3/5\n",
            "25000/25000 [==============================] - 70s 3ms/step - loss: 0.8967 - acc: 0.6424 - val_loss: 0.8583 - val_acc: 0.6500\n",
            "Epoch 4/5\n",
            "25000/25000 [==============================] - 72s 3ms/step - loss: 0.8248 - acc: 0.6765 - val_loss: 0.7578 - val_acc: 0.7088\n",
            "Epoch 5/5\n",
            "25000/25000 [==============================] - 70s 3ms/step - loss: 0.7614 - acc: 0.7045 - val_loss: 0.7094 - val_acc: 0.7296\n",
            "CPU times: user 11min 1s, sys: 12 s, total: 11min 13s\n",
            "Wall time: 5min 53s\n"
          ],
          "name": "stdout"
        }
      ]
    },
    {
      "cell_type": "markdown",
      "metadata": {
        "id": "woTfNst_ynRG",
        "colab_type": "text"
      },
      "source": [
        "### 4. In the model which was built above (for classification of classes 0-4 in CIFAR10), make only the dense layers to be trainable and conv layers to be non-trainable"
      ]
    },
    {
      "cell_type": "code",
      "metadata": {
        "id": "o_VCDB3Byb1a",
        "colab_type": "code",
        "colab": {
          "base_uri": "https://localhost:8080/",
          "height": 391
        },
        "outputId": "e3bbbdcd-f4c9-41db-a3fc-5ff7bb803aac"
      },
      "source": [
        "#Freezing layers in the model which don't have 'dense' in their name\n",
        "for layer in model_lt5.layers:\n",
        "  if('dense' not in layer.name): #prefix detection to freeze layers which does not have dense\n",
        "    #Freezing a layer\n",
        "    layer.trainable = False\n",
        "\n",
        "#Module to print colourful statements\n",
        "from termcolor import colored\n",
        "\n",
        "#Check which layers have been frozen \n",
        "for layer in model_lt5.layers:\n",
        "  print (colored(layer.name, 'blue'))\n",
        "  print (colored(layer.trainable, 'red'))"
      ],
      "execution_count": 17,
      "outputs": [
        {
          "output_type": "stream",
          "text": [
            "\u001b[34mconv_1\u001b[0m\n",
            "\u001b[31mFalse\u001b[0m\n",
            "\u001b[34mmax_1\u001b[0m\n",
            "\u001b[31mFalse\u001b[0m\n",
            "\u001b[34mconv_2\u001b[0m\n",
            "\u001b[31mFalse\u001b[0m\n",
            "\u001b[34mmax_2\u001b[0m\n",
            "\u001b[31mFalse\u001b[0m\n",
            "\u001b[34mconv_3\u001b[0m\n",
            "\u001b[31mFalse\u001b[0m\n",
            "\u001b[34mmax_3\u001b[0m\n",
            "\u001b[31mFalse\u001b[0m\n",
            "\u001b[34mdrop_1\u001b[0m\n",
            "\u001b[31mFalse\u001b[0m\n",
            "\u001b[34mflatten_2\u001b[0m\n",
            "\u001b[31mFalse\u001b[0m\n",
            "\u001b[34mdense_1\u001b[0m\n",
            "\u001b[31mTrue\u001b[0m\n",
            "\u001b[34mdrop_2\u001b[0m\n",
            "\u001b[31mFalse\u001b[0m\n",
            "\u001b[34mdense_2\u001b[0m\n",
            "\u001b[31mTrue\u001b[0m\n"
          ],
          "name": "stdout"
        }
      ]
    },
    {
      "cell_type": "markdown",
      "metadata": {
        "id": "1-uUPqWpyeyX",
        "colab_type": "text"
      },
      "source": [
        "### 5. Utilize the the model trained on CIFAR 10 (classes 0 to 4) to classify the classes 5 to 9 of CIFAR 10  (Use Transfer Learning) <br>\n",
        "Achieve an accuracy of more than 85% on test data"
      ]
    },
    {
      "cell_type": "code",
      "metadata": {
        "id": "szHjJgDvyfCt",
        "colab_type": "code",
        "colab": {}
      },
      "source": [
        "trainX_gt5 = trainX[trainY >= 5]\n",
        "trainY_gt5 = trainY[trainY >= 5] - 5\n",
        "testX_gt5 = testX[testY >= 5]\n",
        "testY_gt5 = testY[testY >= 5] - 5"
      ],
      "execution_count": 0,
      "outputs": []
    },
    {
      "cell_type": "code",
      "metadata": {
        "id": "JyxIklfF3E_N",
        "colab_type": "code",
        "colab": {}
      },
      "source": [
        "trainX_gt5_conv = trainX_gt5.reshape(trainX_gt5.shape[0], 32, 32, 3)\n",
        "testX_gt5_conv = testX_gt5.reshape(testX_gt5.shape[0], 32, 32, 3)"
      ],
      "execution_count": 0,
      "outputs": []
    },
    {
      "cell_type": "code",
      "metadata": {
        "id": "vGwdAPiU3QpZ",
        "colab_type": "code",
        "colab": {}
      },
      "source": [
        "trainX_gt5_conv =  trainX_gt5_conv.astype(\"float32\") / 255\n",
        "testX_gt5_conv = testX_gt5_conv.astype(\"float32\") / 255"
      ],
      "execution_count": 0,
      "outputs": []
    },
    {
      "cell_type": "code",
      "metadata": {
        "id": "lTHOUtsu3Zh5",
        "colab_type": "code",
        "colab": {}
      },
      "source": [
        "trainY_gt5_class = keras.utils.to_categorical(trainY_gt5, 5)\n",
        "testY_gt5_class = keras.utils.to_categorical(testY_gt5, 5)"
      ],
      "execution_count": 0,
      "outputs": []
    },
    {
      "cell_type": "code",
      "metadata": {
        "id": "oTLB_br13gfe",
        "colab_type": "code",
        "colab": {
          "base_uri": "https://localhost:8080/",
          "height": 1020
        },
        "outputId": "87762f1e-b507-43c3-f89f-b56f6a8b06b0"
      },
      "source": [
        "%%time \n",
        "output_05 = model_lt5.fit(trainX_gt5_conv, trainY_gt5_class, batch_size=512, epochs=5, verbose=1,\n",
        "                    validation_data=(testX_gt5_conv, testY_gt5_class))"
      ],
      "execution_count": 22,
      "outputs": [
        {
          "output_type": "stream",
          "text": [
            "/usr/local/lib/python3.6/dist-packages/keras/engine/training.py:490: UserWarning: Discrepancy between trainable weights and collected trainable weights, did you set `model.trainable` without calling `model.compile` after ?\n",
            "  'Discrepancy between trainable weights and collected trainable'\n"
          ],
          "name": "stderr"
        },
        {
          "output_type": "stream",
          "text": [
            "Train on 25000 samples, validate on 5000 samples\n",
            "Epoch 1/5\n",
            "25000/25000 [==============================] - 73s 3ms/step - loss: 1.5111 - acc: 0.3733 - val_loss: 1.0450 - val_acc: 0.5966\n",
            "Epoch 2/5\n",
            "25000/25000 [==============================] - 73s 3ms/step - loss: 1.0759 - acc: 0.5717 - val_loss: 0.9692 - val_acc: 0.6326\n",
            "Epoch 3/5\n",
            "25000/25000 [==============================] - 74s 3ms/step - loss: 0.9821 - acc: 0.6171 - val_loss: 0.8326 - val_acc: 0.6814\n",
            "Epoch 4/5\n",
            "25000/25000 [==============================] - 74s 3ms/step - loss: 0.9207 - acc: 0.6440 - val_loss: 0.7747 - val_acc: 0.7050\n",
            "Epoch 5/5\n",
            "25000/25000 [==============================] - 73s 3ms/step - loss: 0.8703 - acc: 0.6641 - val_loss: 0.7404 - val_acc: 0.7154\n",
            "CPU times: user 11min 39s, sys: 9.2 s, total: 11min 49s\n",
            "Wall time: 6min 6s\n"
          ],
          "name": "stdout"
        }
      ]
    },
    {
      "cell_type": "markdown",
      "metadata": {
        "id": "0zDuRecXzEtr",
        "colab_type": "text"
      },
      "source": [
        "# Text classification using TF-IDF"
      ]
    },
    {
      "cell_type": "markdown",
      "metadata": {
        "id": "xMPlEJhHzb6P",
        "colab_type": "text"
      },
      "source": [
        "### 6. Load the dataset from sklearn.datasets"
      ]
    },
    {
      "cell_type": "code",
      "metadata": {
        "id": "Fe-B59u3zHNb",
        "colab_type": "code",
        "colab": {}
      },
      "source": [
        "from sklearn.datasets import fetch_20newsgroups"
      ],
      "execution_count": 0,
      "outputs": []
    },
    {
      "cell_type": "code",
      "metadata": {
        "id": "PRrMemVQzbHU",
        "colab_type": "code",
        "colab": {}
      },
      "source": [
        "categories = ['alt.atheism', 'soc.religion.christian', 'comp.graphics', 'sci.med']"
      ],
      "execution_count": 0,
      "outputs": []
    },
    {
      "cell_type": "markdown",
      "metadata": {
        "id": "-sZX0UbJzmg5",
        "colab_type": "text"
      },
      "source": [
        "### 7. Training data"
      ]
    },
    {
      "cell_type": "code",
      "metadata": {
        "id": "CITr_5aXziJ2",
        "colab_type": "code",
        "colab": {}
      },
      "source": [
        "twenty_train = fetch_20newsgroups(subset='train', categories=categories, shuffle=True, random_state=42)"
      ],
      "execution_count": 0,
      "outputs": []
    },
    {
      "cell_type": "markdown",
      "metadata": {
        "id": "xcESc5QXzr6p",
        "colab_type": "text"
      },
      "source": [
        "### 8. Test data"
      ]
    },
    {
      "cell_type": "code",
      "metadata": {
        "id": "ysInblUMzpvl",
        "colab_type": "code",
        "colab": {}
      },
      "source": [
        "twenty_test = fetch_20newsgroups(subset='test', categories=categories, shuffle=True, random_state=42)"
      ],
      "execution_count": 0,
      "outputs": []
    },
    {
      "cell_type": "markdown",
      "metadata": {
        "id": "DriL2yZ50DQq",
        "colab_type": "text"
      },
      "source": [
        "###  a.  You can access the values for the target variable using .target attribute \n",
        "###  b. You can access the name of the class in the target variable with .target_names\n"
      ]
    },
    {
      "cell_type": "code",
      "metadata": {
        "id": "vlUuai99z1hX",
        "colab_type": "code",
        "colab": {}
      },
      "source": [
        "twenty_train.target"
      ],
      "execution_count": 0,
      "outputs": []
    },
    {
      "cell_type": "code",
      "metadata": {
        "id": "VEKzaDfSz5E-",
        "colab_type": "code",
        "colab": {}
      },
      "source": [
        "twenty_train.target_names"
      ],
      "execution_count": 0,
      "outputs": []
    },
    {
      "cell_type": "code",
      "metadata": {
        "id": "clBMKHzC0_N1",
        "colab_type": "code",
        "colab": {}
      },
      "source": [
        "twenty_train.data[0:5]"
      ],
      "execution_count": 0,
      "outputs": []
    },
    {
      "cell_type": "markdown",
      "metadata": {
        "id": "hTz4EaN_1WGc",
        "colab_type": "text"
      },
      "source": [
        "### 9.  Now with dependent and independent data available for both train and test datasets, using TfidfVectorizer fit and transform the training data and test data and get the tfidf features for both"
      ]
    },
    {
      "cell_type": "code",
      "metadata": {
        "id": "H5G477f81C0Z",
        "colab_type": "code",
        "colab": {}
      },
      "source": [
        ""
      ],
      "execution_count": 0,
      "outputs": []
    },
    {
      "cell_type": "markdown",
      "metadata": {
        "id": "tp_fDINJ1t4L",
        "colab_type": "text"
      },
      "source": [
        "### 10. Use logisticRegression with tfidf features as input and targets as output and train the model and report the train and test accuracy score"
      ]
    },
    {
      "cell_type": "code",
      "metadata": {
        "id": "THlN2b5d1yQp",
        "colab_type": "code",
        "colab": {}
      },
      "source": [
        ""
      ],
      "execution_count": 0,
      "outputs": []
    }
  ]
}