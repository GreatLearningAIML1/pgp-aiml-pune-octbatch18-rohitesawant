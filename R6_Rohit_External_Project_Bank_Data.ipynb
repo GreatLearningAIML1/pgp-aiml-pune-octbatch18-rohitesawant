{
  "nbformat": 4,
  "nbformat_minor": 0,
  "metadata": {
    "colab": {
      "name": "R6_External_Project_Bank_Data.ipynb",
      "version": "0.3.2",
      "provenance": [],
      "collapsed_sections": []
    },
    "kernelspec": {
      "name": "python3",
      "display_name": "Python 3"
    }
  },
  "cells": [
    {
      "metadata": {
        "id": "OE277B0PgBce",
        "colab_type": "code",
        "colab": {}
      },
      "cell_type": "code",
      "source": [
        "import tensorflow as tf"
      ],
      "execution_count": 0,
      "outputs": []
    },
    {
      "metadata": {
        "id": "zZcXhHPigRm7",
        "colab_type": "code",
        "outputId": "680133ee-c2f3-4ae9-868e-e517434dc67d",
        "colab": {
          "base_uri": "https://localhost:8080/",
          "height": 34
        }
      },
      "cell_type": "code",
      "source": [
        "from google.colab import drive\n",
        "drive.mount('/content/gdrive')"
      ],
      "execution_count": 2,
      "outputs": [
        {
          "output_type": "stream",
          "text": [
            "Drive already mounted at /content/gdrive; to attempt to forcibly remount, call drive.mount(\"/content/gdrive\", force_remount=True).\n"
          ],
          "name": "stdout"
        }
      ]
    },
    {
      "metadata": {
        "id": "g4DsplAXhe0l",
        "colab_type": "code",
        "outputId": "47714fb1-f9cf-45a7-b689-b355924e65ad",
        "colab": {
          "base_uri": "https://localhost:8080/",
          "height": 68
        }
      },
      "cell_type": "code",
      "source": [
        "ls -l"
      ],
      "execution_count": 3,
      "outputs": [
        {
          "output_type": "stream",
          "text": [
            "total 8\n",
            "drwx------ 3 root root 4096 Apr  6 05:23 \u001b[0m\u001b[01;34mgdrive\u001b[0m/\n",
            "drwxr-xr-x 1 root root 4096 Apr  4 20:20 \u001b[01;34msample_data\u001b[0m/\n"
          ],
          "name": "stdout"
        }
      ]
    },
    {
      "metadata": {
        "id": "JwVjbKfoikvX",
        "colab_type": "text"
      },
      "cell_type": "markdown",
      "source": [
        "### 1. Read the dataset"
      ]
    },
    {
      "metadata": {
        "id": "EHDY5SH1jwWH",
        "colab_type": "code",
        "colab": {}
      },
      "cell_type": "code",
      "source": [
        "import pandas as pd"
      ],
      "execution_count": 0,
      "outputs": []
    },
    {
      "metadata": {
        "id": "MmhITuUuidky",
        "colab_type": "code",
        "colab": {}
      },
      "cell_type": "code",
      "source": [
        "data = pd.read_csv('/content/gdrive/My Drive/Colab Notebooks/bank.csv')"
      ],
      "execution_count": 0,
      "outputs": []
    },
    {
      "metadata": {
        "id": "ci4sM9fFjtH5",
        "colab_type": "code",
        "outputId": "22820d73-73cc-422c-9682-1502d0b7befc",
        "colab": {
          "base_uri": "https://localhost:8080/",
          "height": 483
        }
      },
      "cell_type": "code",
      "source": [
        "data.head().T"
      ],
      "execution_count": 6,
      "outputs": [
        {
          "output_type": "execute_result",
          "data": {
            "text/html": [
              "<div>\n",
              "<style scoped>\n",
              "    .dataframe tbody tr th:only-of-type {\n",
              "        vertical-align: middle;\n",
              "    }\n",
              "\n",
              "    .dataframe tbody tr th {\n",
              "        vertical-align: top;\n",
              "    }\n",
              "\n",
              "    .dataframe thead th {\n",
              "        text-align: right;\n",
              "    }\n",
              "</style>\n",
              "<table border=\"1\" class=\"dataframe\">\n",
              "  <thead>\n",
              "    <tr style=\"text-align: right;\">\n",
              "      <th></th>\n",
              "      <th>0</th>\n",
              "      <th>1</th>\n",
              "      <th>2</th>\n",
              "      <th>3</th>\n",
              "      <th>4</th>\n",
              "    </tr>\n",
              "  </thead>\n",
              "  <tbody>\n",
              "    <tr>\n",
              "      <th>RowNumber</th>\n",
              "      <td>1</td>\n",
              "      <td>2</td>\n",
              "      <td>3</td>\n",
              "      <td>4</td>\n",
              "      <td>5</td>\n",
              "    </tr>\n",
              "    <tr>\n",
              "      <th>CustomerId</th>\n",
              "      <td>15634602</td>\n",
              "      <td>15647311</td>\n",
              "      <td>15619304</td>\n",
              "      <td>15701354</td>\n",
              "      <td>15737888</td>\n",
              "    </tr>\n",
              "    <tr>\n",
              "      <th>Surname</th>\n",
              "      <td>Hargrave</td>\n",
              "      <td>Hill</td>\n",
              "      <td>Onio</td>\n",
              "      <td>Boni</td>\n",
              "      <td>Mitchell</td>\n",
              "    </tr>\n",
              "    <tr>\n",
              "      <th>CreditScore</th>\n",
              "      <td>619</td>\n",
              "      <td>608</td>\n",
              "      <td>502</td>\n",
              "      <td>699</td>\n",
              "      <td>850</td>\n",
              "    </tr>\n",
              "    <tr>\n",
              "      <th>Geography</th>\n",
              "      <td>France</td>\n",
              "      <td>Spain</td>\n",
              "      <td>France</td>\n",
              "      <td>France</td>\n",
              "      <td>Spain</td>\n",
              "    </tr>\n",
              "    <tr>\n",
              "      <th>Gender</th>\n",
              "      <td>Female</td>\n",
              "      <td>Female</td>\n",
              "      <td>Female</td>\n",
              "      <td>Female</td>\n",
              "      <td>Female</td>\n",
              "    </tr>\n",
              "    <tr>\n",
              "      <th>Age</th>\n",
              "      <td>42</td>\n",
              "      <td>41</td>\n",
              "      <td>42</td>\n",
              "      <td>39</td>\n",
              "      <td>43</td>\n",
              "    </tr>\n",
              "    <tr>\n",
              "      <th>Tenure</th>\n",
              "      <td>2</td>\n",
              "      <td>1</td>\n",
              "      <td>8</td>\n",
              "      <td>1</td>\n",
              "      <td>2</td>\n",
              "    </tr>\n",
              "    <tr>\n",
              "      <th>Balance</th>\n",
              "      <td>0</td>\n",
              "      <td>83807.9</td>\n",
              "      <td>159661</td>\n",
              "      <td>0</td>\n",
              "      <td>125511</td>\n",
              "    </tr>\n",
              "    <tr>\n",
              "      <th>NumOfProducts</th>\n",
              "      <td>1</td>\n",
              "      <td>1</td>\n",
              "      <td>3</td>\n",
              "      <td>2</td>\n",
              "      <td>1</td>\n",
              "    </tr>\n",
              "    <tr>\n",
              "      <th>HasCrCard</th>\n",
              "      <td>1</td>\n",
              "      <td>0</td>\n",
              "      <td>1</td>\n",
              "      <td>0</td>\n",
              "      <td>1</td>\n",
              "    </tr>\n",
              "    <tr>\n",
              "      <th>IsActiveMember</th>\n",
              "      <td>1</td>\n",
              "      <td>1</td>\n",
              "      <td>0</td>\n",
              "      <td>0</td>\n",
              "      <td>1</td>\n",
              "    </tr>\n",
              "    <tr>\n",
              "      <th>EstimatedSalary</th>\n",
              "      <td>101349</td>\n",
              "      <td>112543</td>\n",
              "      <td>113932</td>\n",
              "      <td>93826.6</td>\n",
              "      <td>79084.1</td>\n",
              "    </tr>\n",
              "    <tr>\n",
              "      <th>Exited</th>\n",
              "      <td>1</td>\n",
              "      <td>0</td>\n",
              "      <td>1</td>\n",
              "      <td>0</td>\n",
              "      <td>0</td>\n",
              "    </tr>\n",
              "  </tbody>\n",
              "</table>\n",
              "</div>"
            ],
            "text/plain": [
              "                        0         1         2         3         4\n",
              "RowNumber               1         2         3         4         5\n",
              "CustomerId       15634602  15647311  15619304  15701354  15737888\n",
              "Surname          Hargrave      Hill      Onio      Boni  Mitchell\n",
              "CreditScore           619       608       502       699       850\n",
              "Geography          France     Spain    France    France     Spain\n",
              "Gender             Female    Female    Female    Female    Female\n",
              "Age                    42        41        42        39        43\n",
              "Tenure                  2         1         8         1         2\n",
              "Balance                 0   83807.9    159661         0    125511\n",
              "NumOfProducts           1         1         3         2         1\n",
              "HasCrCard               1         0         1         0         1\n",
              "IsActiveMember          1         1         0         0         1\n",
              "EstimatedSalary    101349    112543    113932   93826.6   79084.1\n",
              "Exited                  1         0         1         0         0"
            ]
          },
          "metadata": {
            "tags": []
          },
          "execution_count": 6
        }
      ]
    },
    {
      "metadata": {
        "id": "zTg9ex3nHAN6",
        "colab_type": "text"
      },
      "cell_type": "markdown",
      "source": [
        "### 2. Drop the columns which are unique for all users like IDs (2.5 points)"
      ]
    },
    {
      "metadata": {
        "id": "yBRQpbfcHbDr",
        "colab_type": "code",
        "colab": {}
      },
      "cell_type": "code",
      "source": [
        "data_new = data.drop(['CustomerId','RowNumber','Surname'], axis =1)"
      ],
      "execution_count": 0,
      "outputs": []
    },
    {
      "metadata": {
        "id": "2rqPYls4Hbzx",
        "colab_type": "code",
        "outputId": "0116a2f4-b8bc-4484-a249-d377325c944a",
        "colab": {
          "base_uri": "https://localhost:8080/",
          "height": 390
        }
      },
      "cell_type": "code",
      "source": [
        "data_new.head().T"
      ],
      "execution_count": 8,
      "outputs": [
        {
          "output_type": "execute_result",
          "data": {
            "text/html": [
              "<div>\n",
              "<style scoped>\n",
              "    .dataframe tbody tr th:only-of-type {\n",
              "        vertical-align: middle;\n",
              "    }\n",
              "\n",
              "    .dataframe tbody tr th {\n",
              "        vertical-align: top;\n",
              "    }\n",
              "\n",
              "    .dataframe thead th {\n",
              "        text-align: right;\n",
              "    }\n",
              "</style>\n",
              "<table border=\"1\" class=\"dataframe\">\n",
              "  <thead>\n",
              "    <tr style=\"text-align: right;\">\n",
              "      <th></th>\n",
              "      <th>0</th>\n",
              "      <th>1</th>\n",
              "      <th>2</th>\n",
              "      <th>3</th>\n",
              "      <th>4</th>\n",
              "    </tr>\n",
              "  </thead>\n",
              "  <tbody>\n",
              "    <tr>\n",
              "      <th>CreditScore</th>\n",
              "      <td>619</td>\n",
              "      <td>608</td>\n",
              "      <td>502</td>\n",
              "      <td>699</td>\n",
              "      <td>850</td>\n",
              "    </tr>\n",
              "    <tr>\n",
              "      <th>Geography</th>\n",
              "      <td>France</td>\n",
              "      <td>Spain</td>\n",
              "      <td>France</td>\n",
              "      <td>France</td>\n",
              "      <td>Spain</td>\n",
              "    </tr>\n",
              "    <tr>\n",
              "      <th>Gender</th>\n",
              "      <td>Female</td>\n",
              "      <td>Female</td>\n",
              "      <td>Female</td>\n",
              "      <td>Female</td>\n",
              "      <td>Female</td>\n",
              "    </tr>\n",
              "    <tr>\n",
              "      <th>Age</th>\n",
              "      <td>42</td>\n",
              "      <td>41</td>\n",
              "      <td>42</td>\n",
              "      <td>39</td>\n",
              "      <td>43</td>\n",
              "    </tr>\n",
              "    <tr>\n",
              "      <th>Tenure</th>\n",
              "      <td>2</td>\n",
              "      <td>1</td>\n",
              "      <td>8</td>\n",
              "      <td>1</td>\n",
              "      <td>2</td>\n",
              "    </tr>\n",
              "    <tr>\n",
              "      <th>Balance</th>\n",
              "      <td>0</td>\n",
              "      <td>83807.9</td>\n",
              "      <td>159661</td>\n",
              "      <td>0</td>\n",
              "      <td>125511</td>\n",
              "    </tr>\n",
              "    <tr>\n",
              "      <th>NumOfProducts</th>\n",
              "      <td>1</td>\n",
              "      <td>1</td>\n",
              "      <td>3</td>\n",
              "      <td>2</td>\n",
              "      <td>1</td>\n",
              "    </tr>\n",
              "    <tr>\n",
              "      <th>HasCrCard</th>\n",
              "      <td>1</td>\n",
              "      <td>0</td>\n",
              "      <td>1</td>\n",
              "      <td>0</td>\n",
              "      <td>1</td>\n",
              "    </tr>\n",
              "    <tr>\n",
              "      <th>IsActiveMember</th>\n",
              "      <td>1</td>\n",
              "      <td>1</td>\n",
              "      <td>0</td>\n",
              "      <td>0</td>\n",
              "      <td>1</td>\n",
              "    </tr>\n",
              "    <tr>\n",
              "      <th>EstimatedSalary</th>\n",
              "      <td>101349</td>\n",
              "      <td>112543</td>\n",
              "      <td>113932</td>\n",
              "      <td>93826.6</td>\n",
              "      <td>79084.1</td>\n",
              "    </tr>\n",
              "    <tr>\n",
              "      <th>Exited</th>\n",
              "      <td>1</td>\n",
              "      <td>0</td>\n",
              "      <td>1</td>\n",
              "      <td>0</td>\n",
              "      <td>0</td>\n",
              "    </tr>\n",
              "  </tbody>\n",
              "</table>\n",
              "</div>"
            ],
            "text/plain": [
              "                      0        1       2        3        4\n",
              "CreditScore         619      608     502      699      850\n",
              "Geography        France    Spain  France   France    Spain\n",
              "Gender           Female   Female  Female   Female   Female\n",
              "Age                  42       41      42       39       43\n",
              "Tenure                2        1       8        1        2\n",
              "Balance               0  83807.9  159661        0   125511\n",
              "NumOfProducts         1        1       3        2        1\n",
              "HasCrCard             1        0       1        0        1\n",
              "IsActiveMember        1        1       0        0        1\n",
              "EstimatedSalary  101349   112543  113932  93826.6  79084.1\n",
              "Exited                1        0       1        0        0"
            ]
          },
          "metadata": {
            "tags": []
          },
          "execution_count": 8
        }
      ]
    },
    {
      "metadata": {
        "id": "iNKoaZRvIH72",
        "colab_type": "text"
      },
      "cell_type": "markdown",
      "source": [
        "### 3. Distinguish the feature and target set (2.5 points)"
      ]
    },
    {
      "metadata": {
        "id": "e86YtkC9He8V",
        "colab_type": "code",
        "colab": {}
      },
      "cell_type": "code",
      "source": [
        "### Features\n",
        "X = data_new.iloc[:,:-1]"
      ],
      "execution_count": 0,
      "outputs": []
    },
    {
      "metadata": {
        "id": "xgHABEOXIf9V",
        "colab_type": "code",
        "outputId": "a595ba7f-4766-4a4c-fdc2-48017ba3bed9",
        "colab": {
          "base_uri": "https://localhost:8080/",
          "height": 359
        }
      },
      "cell_type": "code",
      "source": [
        "X.head().T"
      ],
      "execution_count": 10,
      "outputs": [
        {
          "output_type": "execute_result",
          "data": {
            "text/html": [
              "<div>\n",
              "<style scoped>\n",
              "    .dataframe tbody tr th:only-of-type {\n",
              "        vertical-align: middle;\n",
              "    }\n",
              "\n",
              "    .dataframe tbody tr th {\n",
              "        vertical-align: top;\n",
              "    }\n",
              "\n",
              "    .dataframe thead th {\n",
              "        text-align: right;\n",
              "    }\n",
              "</style>\n",
              "<table border=\"1\" class=\"dataframe\">\n",
              "  <thead>\n",
              "    <tr style=\"text-align: right;\">\n",
              "      <th></th>\n",
              "      <th>0</th>\n",
              "      <th>1</th>\n",
              "      <th>2</th>\n",
              "      <th>3</th>\n",
              "      <th>4</th>\n",
              "    </tr>\n",
              "  </thead>\n",
              "  <tbody>\n",
              "    <tr>\n",
              "      <th>CreditScore</th>\n",
              "      <td>619</td>\n",
              "      <td>608</td>\n",
              "      <td>502</td>\n",
              "      <td>699</td>\n",
              "      <td>850</td>\n",
              "    </tr>\n",
              "    <tr>\n",
              "      <th>Geography</th>\n",
              "      <td>France</td>\n",
              "      <td>Spain</td>\n",
              "      <td>France</td>\n",
              "      <td>France</td>\n",
              "      <td>Spain</td>\n",
              "    </tr>\n",
              "    <tr>\n",
              "      <th>Gender</th>\n",
              "      <td>Female</td>\n",
              "      <td>Female</td>\n",
              "      <td>Female</td>\n",
              "      <td>Female</td>\n",
              "      <td>Female</td>\n",
              "    </tr>\n",
              "    <tr>\n",
              "      <th>Age</th>\n",
              "      <td>42</td>\n",
              "      <td>41</td>\n",
              "      <td>42</td>\n",
              "      <td>39</td>\n",
              "      <td>43</td>\n",
              "    </tr>\n",
              "    <tr>\n",
              "      <th>Tenure</th>\n",
              "      <td>2</td>\n",
              "      <td>1</td>\n",
              "      <td>8</td>\n",
              "      <td>1</td>\n",
              "      <td>2</td>\n",
              "    </tr>\n",
              "    <tr>\n",
              "      <th>Balance</th>\n",
              "      <td>0</td>\n",
              "      <td>83807.9</td>\n",
              "      <td>159661</td>\n",
              "      <td>0</td>\n",
              "      <td>125511</td>\n",
              "    </tr>\n",
              "    <tr>\n",
              "      <th>NumOfProducts</th>\n",
              "      <td>1</td>\n",
              "      <td>1</td>\n",
              "      <td>3</td>\n",
              "      <td>2</td>\n",
              "      <td>1</td>\n",
              "    </tr>\n",
              "    <tr>\n",
              "      <th>HasCrCard</th>\n",
              "      <td>1</td>\n",
              "      <td>0</td>\n",
              "      <td>1</td>\n",
              "      <td>0</td>\n",
              "      <td>1</td>\n",
              "    </tr>\n",
              "    <tr>\n",
              "      <th>IsActiveMember</th>\n",
              "      <td>1</td>\n",
              "      <td>1</td>\n",
              "      <td>0</td>\n",
              "      <td>0</td>\n",
              "      <td>1</td>\n",
              "    </tr>\n",
              "    <tr>\n",
              "      <th>EstimatedSalary</th>\n",
              "      <td>101349</td>\n",
              "      <td>112543</td>\n",
              "      <td>113932</td>\n",
              "      <td>93826.6</td>\n",
              "      <td>79084.1</td>\n",
              "    </tr>\n",
              "  </tbody>\n",
              "</table>\n",
              "</div>"
            ],
            "text/plain": [
              "                      0        1       2        3        4\n",
              "CreditScore         619      608     502      699      850\n",
              "Geography        France    Spain  France   France    Spain\n",
              "Gender           Female   Female  Female   Female   Female\n",
              "Age                  42       41      42       39       43\n",
              "Tenure                2        1       8        1        2\n",
              "Balance               0  83807.9  159661        0   125511\n",
              "NumOfProducts         1        1       3        2        1\n",
              "HasCrCard             1        0       1        0        1\n",
              "IsActiveMember        1        1       0        0        1\n",
              "EstimatedSalary  101349   112543  113932  93826.6  79084.1"
            ]
          },
          "metadata": {
            "tags": []
          },
          "execution_count": 10
        }
      ]
    },
    {
      "metadata": {
        "id": "GD225S2gImrI",
        "colab_type": "code",
        "colab": {}
      },
      "cell_type": "code",
      "source": [
        "y = data_new.iloc[:,-1]"
      ],
      "execution_count": 0,
      "outputs": []
    },
    {
      "metadata": {
        "id": "EMpFkNbAJOHu",
        "colab_type": "code",
        "outputId": "b03cedcf-3cdd-4536-d203-37e94302abd9",
        "colab": {
          "base_uri": "https://localhost:8080/",
          "height": 119
        }
      },
      "cell_type": "code",
      "source": [
        "y.head()"
      ],
      "execution_count": 12,
      "outputs": [
        {
          "output_type": "execute_result",
          "data": {
            "text/plain": [
              "0    1\n",
              "1    0\n",
              "2    1\n",
              "3    0\n",
              "4    0\n",
              "Name: Exited, dtype: int64"
            ]
          },
          "metadata": {
            "tags": []
          },
          "execution_count": 12
        }
      ]
    },
    {
      "metadata": {
        "id": "p9QoVdPsMJKT",
        "colab_type": "code",
        "outputId": "49f93635-c492-4670-ea8d-68e1ec3205aa",
        "colab": {
          "base_uri": "https://localhost:8080/",
          "height": 204
        }
      },
      "cell_type": "code",
      "source": [
        "X.dtypes"
      ],
      "execution_count": 13,
      "outputs": [
        {
          "output_type": "execute_result",
          "data": {
            "text/plain": [
              "CreditScore          int64\n",
              "Geography           object\n",
              "Gender              object\n",
              "Age                  int64\n",
              "Tenure               int64\n",
              "Balance            float64\n",
              "NumOfProducts        int64\n",
              "HasCrCard            int64\n",
              "IsActiveMember       int64\n",
              "EstimatedSalary    float64\n",
              "dtype: object"
            ]
          },
          "metadata": {
            "tags": []
          },
          "execution_count": 13
        }
      ]
    },
    {
      "metadata": {
        "id": "yiQ8hgFtOv4j",
        "colab_type": "code",
        "colab": {}
      },
      "cell_type": "code",
      "source": [
        "### Label Encoding to ensure character variables can be normalised\n",
        "\n",
        "from sklearn.preprocessing import LabelEncoder, OneHotEncoder\n",
        "\n",
        "labelencoder_X_1 = LabelEncoder()\n",
        "X.iloc[:, 1] = labelencoder_X_1.fit_transform(X.iloc[:, 1])\n",
        "\n",
        "labelencoder_X_2 = LabelEncoder()\n",
        "X.iloc[:, 2] = labelencoder_X_2.fit_transform(X.iloc[:, 2])"
      ],
      "execution_count": 0,
      "outputs": []
    },
    {
      "metadata": {
        "id": "izqKdAwi_Pyn",
        "colab_type": "code",
        "outputId": "d5347966-2065-4d19-fbb2-e906930e8ba4",
        "colab": {
          "base_uri": "https://localhost:8080/",
          "height": 359
        }
      },
      "cell_type": "code",
      "source": [
        "X.head().T"
      ],
      "execution_count": 15,
      "outputs": [
        {
          "output_type": "execute_result",
          "data": {
            "text/html": [
              "<div>\n",
              "<style scoped>\n",
              "    .dataframe tbody tr th:only-of-type {\n",
              "        vertical-align: middle;\n",
              "    }\n",
              "\n",
              "    .dataframe tbody tr th {\n",
              "        vertical-align: top;\n",
              "    }\n",
              "\n",
              "    .dataframe thead th {\n",
              "        text-align: right;\n",
              "    }\n",
              "</style>\n",
              "<table border=\"1\" class=\"dataframe\">\n",
              "  <thead>\n",
              "    <tr style=\"text-align: right;\">\n",
              "      <th></th>\n",
              "      <th>0</th>\n",
              "      <th>1</th>\n",
              "      <th>2</th>\n",
              "      <th>3</th>\n",
              "      <th>4</th>\n",
              "    </tr>\n",
              "  </thead>\n",
              "  <tbody>\n",
              "    <tr>\n",
              "      <th>CreditScore</th>\n",
              "      <td>619.00</td>\n",
              "      <td>608.00</td>\n",
              "      <td>502.00</td>\n",
              "      <td>699.00</td>\n",
              "      <td>850.00</td>\n",
              "    </tr>\n",
              "    <tr>\n",
              "      <th>Geography</th>\n",
              "      <td>0.00</td>\n",
              "      <td>2.00</td>\n",
              "      <td>0.00</td>\n",
              "      <td>0.00</td>\n",
              "      <td>2.00</td>\n",
              "    </tr>\n",
              "    <tr>\n",
              "      <th>Gender</th>\n",
              "      <td>0.00</td>\n",
              "      <td>0.00</td>\n",
              "      <td>0.00</td>\n",
              "      <td>0.00</td>\n",
              "      <td>0.00</td>\n",
              "    </tr>\n",
              "    <tr>\n",
              "      <th>Age</th>\n",
              "      <td>42.00</td>\n",
              "      <td>41.00</td>\n",
              "      <td>42.00</td>\n",
              "      <td>39.00</td>\n",
              "      <td>43.00</td>\n",
              "    </tr>\n",
              "    <tr>\n",
              "      <th>Tenure</th>\n",
              "      <td>2.00</td>\n",
              "      <td>1.00</td>\n",
              "      <td>8.00</td>\n",
              "      <td>1.00</td>\n",
              "      <td>2.00</td>\n",
              "    </tr>\n",
              "    <tr>\n",
              "      <th>Balance</th>\n",
              "      <td>0.00</td>\n",
              "      <td>83807.86</td>\n",
              "      <td>159660.80</td>\n",
              "      <td>0.00</td>\n",
              "      <td>125510.82</td>\n",
              "    </tr>\n",
              "    <tr>\n",
              "      <th>NumOfProducts</th>\n",
              "      <td>1.00</td>\n",
              "      <td>1.00</td>\n",
              "      <td>3.00</td>\n",
              "      <td>2.00</td>\n",
              "      <td>1.00</td>\n",
              "    </tr>\n",
              "    <tr>\n",
              "      <th>HasCrCard</th>\n",
              "      <td>1.00</td>\n",
              "      <td>0.00</td>\n",
              "      <td>1.00</td>\n",
              "      <td>0.00</td>\n",
              "      <td>1.00</td>\n",
              "    </tr>\n",
              "    <tr>\n",
              "      <th>IsActiveMember</th>\n",
              "      <td>1.00</td>\n",
              "      <td>1.00</td>\n",
              "      <td>0.00</td>\n",
              "      <td>0.00</td>\n",
              "      <td>1.00</td>\n",
              "    </tr>\n",
              "    <tr>\n",
              "      <th>EstimatedSalary</th>\n",
              "      <td>101348.88</td>\n",
              "      <td>112542.58</td>\n",
              "      <td>113931.57</td>\n",
              "      <td>93826.63</td>\n",
              "      <td>79084.10</td>\n",
              "    </tr>\n",
              "  </tbody>\n",
              "</table>\n",
              "</div>"
            ],
            "text/plain": [
              "                         0          1          2         3          4\n",
              "CreditScore         619.00     608.00     502.00    699.00     850.00\n",
              "Geography             0.00       2.00       0.00      0.00       2.00\n",
              "Gender                0.00       0.00       0.00      0.00       0.00\n",
              "Age                  42.00      41.00      42.00     39.00      43.00\n",
              "Tenure                2.00       1.00       8.00      1.00       2.00\n",
              "Balance               0.00   83807.86  159660.80      0.00  125510.82\n",
              "NumOfProducts         1.00       1.00       3.00      2.00       1.00\n",
              "HasCrCard             1.00       0.00       1.00      0.00       1.00\n",
              "IsActiveMember        1.00       1.00       0.00      0.00       1.00\n",
              "EstimatedSalary  101348.88  112542.58  113931.57  93826.63   79084.10"
            ]
          },
          "metadata": {
            "tags": []
          },
          "execution_count": 15
        }
      ]
    },
    {
      "metadata": {
        "id": "-oJK4KaS7VSm",
        "colab_type": "code",
        "outputId": "f875bb4c-9b4e-432b-e8a7-eb6bf3edaac2",
        "colab": {
          "base_uri": "https://localhost:8080/",
          "height": 139
        }
      },
      "cell_type": "code",
      "source": [
        "onehotencoder = OneHotEncoder(categorical_features = [1])\n",
        "X = onehotencoder.fit_transform(X).toarray()"
      ],
      "execution_count": 16,
      "outputs": [
        {
          "output_type": "stream",
          "text": [
            "/usr/local/lib/python3.6/dist-packages/sklearn/preprocessing/_encoders.py:371: FutureWarning: The handling of integer data will change in version 0.22. Currently, the categories are determined based on the range [0, max(values)], while in the future they will be determined based on the unique values.\n",
            "If you want the future behaviour and silence this warning, you can specify \"categories='auto'\".\n",
            "In case you used a LabelEncoder before this OneHotEncoder to convert the categories to integers, then you can now use the OneHotEncoder directly.\n",
            "  warnings.warn(msg, FutureWarning)\n",
            "/usr/local/lib/python3.6/dist-packages/sklearn/preprocessing/_encoders.py:392: DeprecationWarning: The 'categorical_features' keyword is deprecated in version 0.20 and will be removed in 0.22. You can use the ColumnTransformer instead.\n",
            "  \"use the ColumnTransformer instead.\", DeprecationWarning)\n"
          ],
          "name": "stderr"
        }
      ]
    },
    {
      "metadata": {
        "id": "lCmnmm-pBeW2",
        "colab_type": "code",
        "colab": {}
      },
      "cell_type": "code",
      "source": [
        "### After ONEHOT Encoding, lets drop the first column and consider the remaining two encoded variables\n",
        "X = X[:, 1:]"
      ],
      "execution_count": 0,
      "outputs": []
    },
    {
      "metadata": {
        "id": "CLe7hvPfJZ6u",
        "colab_type": "text"
      },
      "cell_type": "markdown",
      "source": [
        "### 4. Divide the data set into Train and test sets"
      ]
    },
    {
      "metadata": {
        "id": "CpdKqYtdJQry",
        "colab_type": "code",
        "colab": {}
      },
      "cell_type": "code",
      "source": [
        "from sklearn.model_selection import train_test_split\n",
        "\n",
        "### Split the Dataset\n",
        "X_train, X_test, y_train, y_test = train_test_split(X, y, test_size=0.3, random_state=7)"
      ],
      "execution_count": 0,
      "outputs": []
    },
    {
      "metadata": {
        "id": "h7bxyFTDJuGA",
        "colab_type": "text"
      },
      "cell_type": "markdown",
      "source": [
        "### 5. Normalize the train and test data (2.5 points)"
      ]
    },
    {
      "metadata": {
        "colab_type": "code",
        "id": "6BcM4Oab8wlH",
        "colab": {}
      },
      "cell_type": "code",
      "source": [
        "from sklearn.preprocessing import StandardScaler\n",
        "scaler = StandardScaler()"
      ],
      "execution_count": 0,
      "outputs": []
    },
    {
      "metadata": {
        "colab_type": "code",
        "id": "HLrygL2l8tEM",
        "colab": {}
      },
      "cell_type": "code",
      "source": [
        "X_sc_train = scaler.fit_transform(X_train)"
      ],
      "execution_count": 0,
      "outputs": []
    },
    {
      "metadata": {
        "id": "RznHnOpdL8Dl",
        "colab_type": "code",
        "colab": {}
      },
      "cell_type": "code",
      "source": [
        "X_sc_test = scaler.transform(X_test)"
      ],
      "execution_count": 0,
      "outputs": []
    },
    {
      "metadata": {
        "id": "TnfqpGv4E37h",
        "colab_type": "code",
        "outputId": "e93af125-23d8-4cb9-efb1-65b2b5141515",
        "colab": {
          "base_uri": "https://localhost:8080/",
          "height": 34
        }
      },
      "cell_type": "code",
      "source": [
        "X_sc_train.shape"
      ],
      "execution_count": 22,
      "outputs": [
        {
          "output_type": "execute_result",
          "data": {
            "text/plain": [
              "(7000, 11)"
            ]
          },
          "metadata": {
            "tags": []
          },
          "execution_count": 22
        }
      ]
    },
    {
      "metadata": {
        "id": "G7k6Ft9RRjce",
        "colab_type": "text"
      },
      "cell_type": "markdown",
      "source": [
        "### 6. Initialize and build the model (10 points)"
      ]
    },
    {
      "metadata": {
        "id": "fROrNQ5_RaOF",
        "colab_type": "code",
        "colab": {}
      },
      "cell_type": "code",
      "source": [
        "#Initialize Sequential model\n",
        "model = tf.keras.models.Sequential()\n",
        "\n",
        "#model.add(input_shape=(11,))"
      ],
      "execution_count": 0,
      "outputs": []
    },
    {
      "metadata": {
        "id": "rgvkkoUgR9r2",
        "colab_type": "code",
        "outputId": "2ef2a2cd-6913-405f-bfb6-b48bf1f80c9e",
        "colab": {
          "base_uri": "https://localhost:8080/",
          "height": 88
        }
      },
      "cell_type": "code",
      "source": [
        "#Add 1st hidden layer\n",
        "model.add(tf.keras.layers.Dense(22, activation = 'relu', input_shape=(11,)))"
      ],
      "execution_count": 24,
      "outputs": [
        {
          "output_type": "stream",
          "text": [
            "WARNING:tensorflow:From /usr/local/lib/python3.6/dist-packages/tensorflow/python/ops/resource_variable_ops.py:435: colocate_with (from tensorflow.python.framework.ops) is deprecated and will be removed in a future version.\n",
            "Instructions for updating:\n",
            "Colocations handled automatically by placer.\n"
          ],
          "name": "stdout"
        }
      ]
    },
    {
      "metadata": {
        "id": "pmtucSiSDZ1C",
        "colab_type": "code",
        "colab": {}
      },
      "cell_type": "code",
      "source": [
        "#Add 2nd hidden layer\n",
        "model.add(tf.keras.layers.Dense(22, activation = 'relu'))"
      ],
      "execution_count": 0,
      "outputs": []
    },
    {
      "metadata": {
        "id": "2kY0IZKuG4K7",
        "colab_type": "code",
        "colab": {}
      },
      "cell_type": "code",
      "source": [
        "#Add 3rd hidden layer\n",
        "model.add(tf.keras.layers.Dense(11, activation='sigmoid'))"
      ],
      "execution_count": 0,
      "outputs": []
    },
    {
      "metadata": {
        "id": "w5I2WS4THB3D",
        "colab_type": "code",
        "colab": {}
      },
      "cell_type": "code",
      "source": [
        "#Compile the model\n",
        "model.compile(optimizer='adam', loss='sparse_categorical_crossentropy', metrics=['accuracy'])"
      ],
      "execution_count": 0,
      "outputs": []
    },
    {
      "metadata": {
        "id": "DrkTF76xHJu1",
        "colab_type": "code",
        "outputId": "faaaa856-6635-4a50-ee0e-51fb9cf87850",
        "colab": {
          "base_uri": "https://localhost:8080/",
          "height": 238
        }
      },
      "cell_type": "code",
      "source": [
        "model.summary()"
      ],
      "execution_count": 28,
      "outputs": [
        {
          "output_type": "stream",
          "text": [
            "_________________________________________________________________\n",
            "Layer (type)                 Output Shape              Param #   \n",
            "=================================================================\n",
            "dense (Dense)                (None, 22)                264       \n",
            "_________________________________________________________________\n",
            "dense_1 (Dense)              (None, 22)                506       \n",
            "_________________________________________________________________\n",
            "dense_2 (Dense)              (None, 11)                253       \n",
            "=================================================================\n",
            "Total params: 1,023\n",
            "Trainable params: 1,023\n",
            "Non-trainable params: 0\n",
            "_________________________________________________________________\n"
          ],
          "name": "stdout"
        }
      ]
    },
    {
      "metadata": {
        "id": "HMNqDMAGLWwz",
        "colab_type": "text"
      },
      "cell_type": "markdown",
      "source": [
        "### 7. Optimize the model (5 points)"
      ]
    },
    {
      "metadata": {
        "id": "QsCWviI8HNYB",
        "colab_type": "code",
        "outputId": "5f006c1a-9125-42d5-8e0f-34b65e13d05f",
        "colab": {
          "base_uri": "https://localhost:8080/",
          "height": 1071
        }
      },
      "cell_type": "code",
      "source": [
        "model.fit(X_sc_train,y_train,          \n",
        "          validation_data=(X_sc_test,y_test),\n",
        "          epochs=30,\n",
        "          batch_size=50)"
      ],
      "execution_count": 29,
      "outputs": [
        {
          "output_type": "stream",
          "text": [
            "Train on 7000 samples, validate on 3000 samples\n",
            "Epoch 1/30\n",
            "7000/7000 [==============================] - 0s 56us/sample - loss: 1.6939 - acc: 0.6193 - val_loss: 0.8661 - val_acc: 0.7983\n",
            "Epoch 2/30\n",
            "7000/7000 [==============================] - 0s 33us/sample - loss: 0.5432 - acc: 0.7954 - val_loss: 0.4537 - val_acc: 0.7983\n",
            "Epoch 3/30\n",
            "7000/7000 [==============================] - 0s 34us/sample - loss: 0.4475 - acc: 0.7954 - val_loss: 0.4389 - val_acc: 0.7983\n",
            "Epoch 4/30\n",
            "7000/7000 [==============================] - 0s 33us/sample - loss: 0.4362 - acc: 0.7954 - val_loss: 0.4305 - val_acc: 0.7983\n",
            "Epoch 5/30\n",
            "7000/7000 [==============================] - 0s 38us/sample - loss: 0.4279 - acc: 0.7954 - val_loss: 0.4231 - val_acc: 0.7983\n",
            "Epoch 6/30\n",
            "7000/7000 [==============================] - 0s 35us/sample - loss: 0.4207 - acc: 0.7954 - val_loss: 0.4152 - val_acc: 0.7983\n",
            "Epoch 7/30\n",
            "7000/7000 [==============================] - 0s 34us/sample - loss: 0.4113 - acc: 0.7954 - val_loss: 0.4073 - val_acc: 0.7983\n",
            "Epoch 8/30\n",
            "7000/7000 [==============================] - 0s 33us/sample - loss: 0.4010 - acc: 0.7954 - val_loss: 0.4001 - val_acc: 0.7983\n",
            "Epoch 9/30\n",
            "7000/7000 [==============================] - 0s 33us/sample - loss: 0.3928 - acc: 0.7954 - val_loss: 0.3931 - val_acc: 0.7983\n",
            "Epoch 10/30\n",
            "7000/7000 [==============================] - 0s 33us/sample - loss: 0.3867 - acc: 0.7954 - val_loss: 0.3901 - val_acc: 0.7983\n",
            "Epoch 11/30\n",
            "7000/7000 [==============================] - 0s 34us/sample - loss: 0.3819 - acc: 0.7954 - val_loss: 0.3869 - val_acc: 0.7983\n",
            "Epoch 12/30\n",
            "7000/7000 [==============================] - 0s 33us/sample - loss: 0.3790 - acc: 0.7954 - val_loss: 0.3853 - val_acc: 0.7983\n",
            "Epoch 13/30\n",
            "7000/7000 [==============================] - 0s 33us/sample - loss: 0.3766 - acc: 0.7954 - val_loss: 0.3874 - val_acc: 0.7983\n",
            "Epoch 14/30\n",
            "7000/7000 [==============================] - 0s 34us/sample - loss: 0.3753 - acc: 0.7954 - val_loss: 0.3842 - val_acc: 0.7983\n",
            "Epoch 15/30\n",
            "7000/7000 [==============================] - 0s 35us/sample - loss: 0.3729 - acc: 0.7954 - val_loss: 0.3857 - val_acc: 0.7983\n",
            "Epoch 16/30\n",
            "7000/7000 [==============================] - 0s 32us/sample - loss: 0.3724 - acc: 0.7956 - val_loss: 0.3822 - val_acc: 0.7983\n",
            "Epoch 17/30\n",
            "7000/7000 [==============================] - 0s 32us/sample - loss: 0.3711 - acc: 0.7956 - val_loss: 0.3833 - val_acc: 0.7987\n",
            "Epoch 18/30\n",
            "7000/7000 [==============================] - 0s 33us/sample - loss: 0.3698 - acc: 0.7964 - val_loss: 0.3819 - val_acc: 0.8000\n",
            "Epoch 19/30\n",
            "7000/7000 [==============================] - 0s 32us/sample - loss: 0.3688 - acc: 0.7976 - val_loss: 0.3814 - val_acc: 0.8023\n",
            "Epoch 20/30\n",
            "7000/7000 [==============================] - 0s 33us/sample - loss: 0.3679 - acc: 0.8029 - val_loss: 0.3805 - val_acc: 0.8167\n",
            "Epoch 21/30\n",
            "7000/7000 [==============================] - 0s 33us/sample - loss: 0.3650 - acc: 0.8293 - val_loss: 0.3745 - val_acc: 0.8510\n",
            "Epoch 22/30\n",
            "7000/7000 [==============================] - 0s 34us/sample - loss: 0.3511 - acc: 0.8536 - val_loss: 0.3591 - val_acc: 0.8557\n",
            "Epoch 23/30\n",
            "7000/7000 [==============================] - 0s 33us/sample - loss: 0.3408 - acc: 0.8583 - val_loss: 0.3576 - val_acc: 0.8570\n",
            "Epoch 24/30\n",
            "7000/7000 [==============================] - 0s 33us/sample - loss: 0.3375 - acc: 0.8579 - val_loss: 0.3561 - val_acc: 0.8547\n",
            "Epoch 25/30\n",
            "7000/7000 [==============================] - 0s 32us/sample - loss: 0.3370 - acc: 0.8614 - val_loss: 0.3503 - val_acc: 0.8580\n",
            "Epoch 26/30\n",
            "7000/7000 [==============================] - 0s 33us/sample - loss: 0.3341 - acc: 0.8610 - val_loss: 0.3684 - val_acc: 0.8403\n",
            "Epoch 27/30\n",
            "7000/7000 [==============================] - 0s 33us/sample - loss: 0.3328 - acc: 0.8623 - val_loss: 0.3506 - val_acc: 0.8603\n",
            "Epoch 28/30\n",
            "7000/7000 [==============================] - 0s 33us/sample - loss: 0.3315 - acc: 0.8610 - val_loss: 0.3493 - val_acc: 0.8570\n",
            "Epoch 29/30\n",
            "7000/7000 [==============================] - 0s 33us/sample - loss: 0.3304 - acc: 0.8629 - val_loss: 0.3503 - val_acc: 0.8597\n",
            "Epoch 30/30\n",
            "7000/7000 [==============================] - 0s 33us/sample - loss: 0.3290 - acc: 0.8643 - val_loss: 0.3478 - val_acc: 0.8563\n"
          ],
          "name": "stdout"
        },
        {
          "output_type": "execute_result",
          "data": {
            "text/plain": [
              "<tensorflow.python.keras.callbacks.History at 0x7f7553fa4ac8>"
            ]
          },
          "metadata": {
            "tags": []
          },
          "execution_count": 29
        }
      ]
    },
    {
      "metadata": {
        "id": "pTzEifD9LwLO",
        "colab_type": "text"
      },
      "cell_type": "markdown",
      "source": [
        "### 8. Predict the results using 0.5 as a threshold (5 points)"
      ]
    },
    {
      "metadata": {
        "id": "ZS3pZ4WjHrSc",
        "colab_type": "code",
        "colab": {}
      },
      "cell_type": "code",
      "source": [
        "# Predicting the Test set results\n",
        "\n",
        "y_pred = model.predict(X_sc_test)"
      ],
      "execution_count": 0,
      "outputs": []
    },
    {
      "metadata": {
        "id": "Gv78SpoYUmVt",
        "colab_type": "code",
        "colab": {}
      },
      "cell_type": "code",
      "source": [
        "y_pred = (y_pred > 0.5)\n",
        "y_predict = y_pred.astype(int)"
      ],
      "execution_count": 0,
      "outputs": []
    },
    {
      "metadata": {
        "colab_type": "code",
        "id": "4sq4sHuVc8VV",
        "colab": {}
      },
      "cell_type": "code",
      "source": [
        "import numpy as np\n",
        "y_predict = np.argmax(y_predict,axis=1)"
      ],
      "execution_count": 0,
      "outputs": []
    },
    {
      "metadata": {
        "id": "IG7S1zPCN6M7",
        "colab_type": "text"
      },
      "cell_type": "markdown",
      "source": [
        "### 9. Print the Accuracy score and confusion matrix (2.5 points)"
      ]
    },
    {
      "metadata": {
        "id": "XYaelXPdN-YJ",
        "colab_type": "code",
        "outputId": "f2268c0e-266c-445f-8695-9269c3620046",
        "colab": {
          "base_uri": "https://localhost:8080/",
          "height": 34
        }
      },
      "cell_type": "code",
      "source": [
        "y_predict"
      ],
      "execution_count": 33,
      "outputs": [
        {
          "output_type": "execute_result",
          "data": {
            "text/plain": [
              "array([0, 0, 0, ..., 0, 0, 0])"
            ]
          },
          "metadata": {
            "tags": []
          },
          "execution_count": 33
        }
      ]
    },
    {
      "metadata": {
        "id": "6ZdYBDy0Qnjl",
        "colab_type": "code",
        "colab": {}
      },
      "cell_type": "code",
      "source": [
        "from sklearn.metrics import confusion_matrix \n",
        "from sklearn.metrics import accuracy_score \n",
        "from sklearn.metrics import classification_report \n",
        "results = confusion_matrix(y_test, y_predict)"
      ],
      "execution_count": 0,
      "outputs": []
    },
    {
      "metadata": {
        "id": "oUba-_yBQpGy",
        "colab_type": "code",
        "outputId": "aea27cc5-04a2-458b-9c7c-9073b793492d",
        "colab": {
          "base_uri": "https://localhost:8080/",
          "height": 68
        }
      },
      "cell_type": "code",
      "source": [
        "print('Confusion Matrix:')\n",
        "print(results)"
      ],
      "execution_count": 35,
      "outputs": [
        {
          "output_type": "stream",
          "text": [
            "Confusion Matrix:\n",
            "[[2359   36]\n",
            " [ 396  209]]\n"
          ],
          "name": "stdout"
        }
      ]
    },
    {
      "metadata": {
        "id": "xcjLF1fFSNhS",
        "colab_type": "code",
        "colab": {}
      },
      "cell_type": "code",
      "source": [
        "accuracy = accuracy_score(y_test, y_predict)"
      ],
      "execution_count": 0,
      "outputs": []
    },
    {
      "metadata": {
        "id": "30UCXZTMSU8F",
        "colab_type": "code",
        "outputId": "29306a6e-ce6c-40a1-c201-9612632ed41f",
        "colab": {
          "base_uri": "https://localhost:8080/",
          "height": 51
        }
      },
      "cell_type": "code",
      "source": [
        "print ('Accuracy Score :')\n",
        "print(accuracy) "
      ],
      "execution_count": 37,
      "outputs": [
        {
          "output_type": "stream",
          "text": [
            "Accuracy Score :\n",
            "0.856\n"
          ],
          "name": "stdout"
        }
      ]
    },
    {
      "metadata": {
        "id": "EnvgQ_rZSZ0_",
        "colab_type": "code",
        "colab": {}
      },
      "cell_type": "code",
      "source": [
        ""
      ],
      "execution_count": 0,
      "outputs": []
    }
  ]
}