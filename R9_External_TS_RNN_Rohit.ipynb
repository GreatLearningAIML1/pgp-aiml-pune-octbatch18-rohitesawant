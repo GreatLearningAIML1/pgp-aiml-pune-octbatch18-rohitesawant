{
  "nbformat": 4,
  "nbformat_minor": 0,
  "metadata": {
    "colab": {
      "name": "R9_External_TS_RNN_Rohit.ipynb",
      "version": "0.3.2",
      "provenance": [],
      "collapsed_sections": []
    },
    "language_info": {
      "codemirror_mode": {
        "name": "ipython",
        "version": 3
      },
      "file_extension": ".py",
      "mimetype": "text/x-python",
      "name": "python",
      "nbconvert_exporter": "python",
      "pygments_lexer": "ipython3",
      "version": "3.7.1"
    },
    "kernelspec": {
      "display_name": "Python 3",
      "language": "python",
      "name": "python3"
    }
  },
  "cells": [
    {
      "cell_type": "markdown",
      "metadata": {
        "id": "WPJHV_CIn6Bg",
        "colab_type": "text"
      },
      "source": [
        "# U - Net\n",
        "## Problem: \n",
        "\n",
        "Seismic data is collected using reflection seismology, or seismic reflection. The method requires a controlled seismic source of energy, such as compressed air or a seismic vibrator, and sensors record the reflection from rock interfaces within the subsurface. The recorded data is then processed to create a 3D view of earth’s interior. Reflection seismology is similar to X-ray, sonar and echolocation.\n",
        "\n",
        "A seismic image is produced from imaging the reflection coming from rock boundaries. The seismic image shows the boundaries between different rock types. In theory, the strength of reflection is directly proportional to the difference in the physical properties on either sides of the interface. While seismic images show rock boundaries, they don't say much about the rock themselves; some rocks are easy to identify while some are difficult.\n",
        "\n",
        "There are several areas of the world where there are vast quantities of salt in the subsurface. One of the challenges of seismic imaging is to identify the part of subsurface which is salt. Salt has characteristics that makes it both simple and hard to identify. Salt density is usually 2.14 g/cc which is lower than most surrounding rocks. The seismic velocity of salt is 4.5 km/sec, which is usually faster than its surrounding rocks. This difference creates a sharp reflection at the salt-sediment interface. Usually salt is an amorphous rock without much internal structure. This means that there is typically not much reflectivity inside the salt, unless there are sediments trapped inside it. The unusually high seismic velocity of salt can create problems with seismic imaging.\n",
        "\n",
        "### Data\n",
        "The data is a set of images chosen at various locations chosen at random in the subsurface. The images are 101 x 101 pixels and each pixel is classified as either salt or sediment. In addition to the seismic images, the depth of the imaged location is provided for each image. The goal of the competition is to segment regions that contain salt.\n",
        "\n",
        "#### Source: \n",
        "https://www.kaggle.com/c/tgs-salt-identification-challenge\n",
        "\n",
        "\n",
        "### Note: \n",
        "Accept the terms and download data from the above link"
      ]
    },
    {
      "cell_type": "markdown",
      "metadata": {
        "id": "3OKrTNUtn-od",
        "colab_type": "text"
      },
      "source": [
        "### Aim: \n",
        "\n",
        "Implement U-Net neural model architecture in keras to solve this problem.\n",
        "\n",
        "\n",
        "In this, you are asked to segment salt deposits beneath the Earth’s surface. Given a set of seismic images that are 101 x 101 pixels each and each pixel we need to classify as either salt or sediment. Our goal is to segment regions that contain salt. A seismic image is produced from imaging the reflection coming from rock boundaries. The seismic image shows the boundaries between different rock types. "
      ]
    },
    {
      "cell_type": "markdown",
      "metadata": {
        "id": "ZUOAF8WWoA1x",
        "colab_type": "text"
      },
      "source": [
        "### Broad Steps:\n",
        "\n",
        "1. Download the dataset\n",
        "2. Upload to Drive\n",
        "3. Import from drive to colab\n",
        "4. Load the images and create training data.\n",
        "5. Build U-net Model\n",
        "6. Train your model.\n",
        "7. Check the validation accuracy and plot sample."
      ]
    },
    {
      "cell_type": "code",
      "metadata": {
        "id": "b7TLNzB6oDep",
        "colab_type": "code",
        "outputId": "62cc2719-355a-4681-ec99-d8a3b62808f6",
        "colab": {
          "base_uri": "https://localhost:8080/",
          "height": 34
        }
      },
      "source": [
        "#Importing necessary libraries\n",
        "import os\n",
        "import random\n",
        "import pandas as pd\n",
        "import numpy as np\n",
        "import matplotlib.pyplot as plt\n",
        "plt.style.use(\"ggplot\")\n",
        "%matplotlib inline\n",
        "\n",
        "from tqdm import tqdm_notebook, tnrange\n",
        "from itertools import chain\n",
        "from skimage.io import imread, imshow, concatenate_images\n",
        "from skimage.transform import resize\n",
        "from skimage.morphology import label\n",
        "from sklearn.model_selection import train_test_split\n",
        "\n",
        "import tensorflow as tf\n",
        "from keras.models import Model, load_model\n",
        "from keras.layers import Input, BatchNormalization, Activation, Dense, Dropout\n",
        "from keras.layers.core import Lambda, RepeatVector, Reshape\n",
        "from keras.layers.convolutional import Conv2D, Conv2DTranspose\n",
        "from keras.layers.pooling import MaxPooling2D, GlobalMaxPool2D\n",
        "from keras.layers.merge import concatenate, add\n",
        "from keras.callbacks import EarlyStopping, ModelCheckpoint, ReduceLROnPlateau\n",
        "from keras.optimizers import Adam\n",
        "from keras.preprocessing.image import ImageDataGenerator, array_to_img, img_to_array, load_img"
      ],
      "execution_count": 1,
      "outputs": [
        {
          "output_type": "stream",
          "text": [
            "Using TensorFlow backend.\n"
          ],
          "name": "stderr"
        }
      ]
    },
    {
      "cell_type": "code",
      "metadata": {
        "id": "6qiCvW9coD_E",
        "colab_type": "code",
        "outputId": "18360d3c-cd59-4d99-82a9-189534699105",
        "colab": {
          "base_uri": "https://localhost:8080/",
          "height": 34
        }
      },
      "source": [
        "#Mount drive\n",
        "from google.colab import drive\n",
        "drive.mount('/content/drive/')"
      ],
      "execution_count": 2,
      "outputs": [
        {
          "output_type": "stream",
          "text": [
            "Drive already mounted at /content/drive/; to attempt to forcibly remount, call drive.mount(\"/content/drive/\", force_remount=True).\n"
          ],
          "name": "stdout"
        }
      ]
    },
    {
      "cell_type": "markdown",
      "metadata": {
        "id": "B4IaUgploION",
        "colab_type": "text"
      },
      "source": [
        "### 1.Set your project path where you have your data and related files for this lab."
      ]
    },
    {
      "cell_type": "code",
      "metadata": {
        "id": "0tPkbXWyoK-z",
        "colab_type": "code",
        "colab": {}
      },
      "source": [
        "os.chdir('/content/drive/My Drive/Colab Notebooks/R9_UNET_RNN')"
      ],
      "execution_count": 0,
      "outputs": []
    },
    {
      "cell_type": "code",
      "metadata": {
        "id": "NqlwtCu3RTF2",
        "colab_type": "code",
        "outputId": "edabb60c-4b9e-4dfe-9c29-bbe37a7138e9",
        "colab": {
          "base_uri": "https://localhost:8080/",
          "height": 34
        }
      },
      "source": [
        "pwd"
      ],
      "execution_count": 4,
      "outputs": [
        {
          "output_type": "execute_result",
          "data": {
            "text/plain": [
              "'/content/drive/My Drive/Colab Notebooks/R9_UNET_RNN'"
            ]
          },
          "metadata": {
            "tags": []
          },
          "execution_count": 4
        }
      ]
    },
    {
      "cell_type": "markdown",
      "metadata": {
        "id": "g15qSXZSoSuL",
        "colab_type": "text"
      },
      "source": [
        "### 2. Set the necessary parameters"
      ]
    },
    {
      "cell_type": "markdown",
      "metadata": {
        "colab_type": "text",
        "id": "Dzrz2Or_HdxR"
      },
      "source": [
        "## Setup"
      ]
    },
    {
      "cell_type": "code",
      "metadata": {
        "id": "3IEaEnuzoW2a",
        "colab_type": "code",
        "colab": {}
      },
      "source": [
        "im_width = 128      #width of your train image\n",
        "im_height = 128     #hight of your train image"
      ],
      "execution_count": 0,
      "outputs": []
    },
    {
      "cell_type": "markdown",
      "metadata": {
        "id": "Q3IoS6RCoZPh",
        "colab_type": "text"
      },
      "source": [
        "# 3. Make directory for train data at in your project/lab folder.\n",
        "\n",
        "Hint - use !mkdir function."
      ]
    },
    {
      "cell_type": "code",
      "metadata": {
        "id": "MRPpQ2QrocBQ",
        "colab_type": "code",
        "outputId": "7a46fdcd-6636-4587-eff4-a52eaf306c24",
        "colab": {
          "base_uri": "https://localhost:8080/",
          "height": 34
        }
      },
      "source": [
        "mkdir train"
      ],
      "execution_count": 6,
      "outputs": [
        {
          "output_type": "stream",
          "text": [
            "mkdir: cannot create directory ‘train’: File exists\n"
          ],
          "name": "stdout"
        }
      ]
    },
    {
      "cell_type": "code",
      "metadata": {
        "id": "RWATodbkocN9",
        "colab_type": "code",
        "outputId": "c45e040b-b723-4d09-a3b8-9de04c261584",
        "colab": {
          "base_uri": "https://localhost:8080/",
          "height": 34
        }
      },
      "source": [
        "pwd"
      ],
      "execution_count": 7,
      "outputs": [
        {
          "output_type": "execute_result",
          "data": {
            "text/plain": [
              "'/content/drive/My Drive/Colab Notebooks/R9_UNET_RNN'"
            ]
          },
          "metadata": {
            "tags": []
          },
          "execution_count": 7
        }
      ]
    },
    {
      "cell_type": "code",
      "metadata": {
        "id": "8TBLx-KuM4CS",
        "colab_type": "code",
        "outputId": "3d57b211-6b6a-4868-fb34-3ca3e6640d53",
        "colab": {
          "base_uri": "https://localhost:8080/",
          "height": 123
        }
      },
      "source": [
        "ls -l"
      ],
      "execution_count": 8,
      "outputs": [
        {
          "output_type": "stream",
          "text": [
            "total 64250\n",
            "drwx------ 2 root root     4096 Jun 12 10:37 \u001b[0m\u001b[01;34mdata\u001b[0m/\n",
            "-rw------- 1 root root 65612628 Jun 14 20:59 model_ext_epochs.h5\n",
            "-rw------- 1 root root    23167 Jun 14 11:24 R9_External_Lab_Questions.ipynb\n",
            "-rw------- 1 root root   147102 Jun 15 11:36 R9_External_TS_RNN_Rohit.ipynb\n",
            "drwx------ 4 root root     4096 Jun 14 08:55 \u001b[01;34mtrain\u001b[0m/\n"
          ],
          "name": "stdout"
        }
      ]
    },
    {
      "cell_type": "markdown",
      "metadata": {
        "id": "fRbC22DGoeb7",
        "colab_type": "text"
      },
      "source": [
        "# 4. Extract your train images to the train directory you have just created above. \n",
        "train.zip and test.zip files available at your google drive/local system.\n",
        "\n",
        "As a good practice - Upload or copy the data at your project path folder.\n",
        "\n",
        "Make sure you are providing the right project_path."
      ]
    },
    {
      "cell_type": "code",
      "metadata": {
        "id": "5BtPznFbogjG",
        "colab_type": "code",
        "colab": {}
      },
      "source": [
        "# Train file has been already unzipped and the images and the masks folders are uploaded to the train folder\n",
        "# Copying the folders to the train folder for further evaluation."
      ],
      "execution_count": 0,
      "outputs": []
    },
    {
      "cell_type": "code",
      "metadata": {
        "id": "mPBqEspsNyRv",
        "colab_type": "code",
        "outputId": "59878984-1e39-4c60-c0d2-7fbe335bed6a",
        "colab": {
          "base_uri": "https://localhost:8080/",
          "height": 34
        }
      },
      "source": [
        "cd train"
      ],
      "execution_count": 10,
      "outputs": [
        {
          "output_type": "stream",
          "text": [
            "/content/drive/My Drive/Colab Notebooks/R9_UNET_RNN/train\n"
          ],
          "name": "stdout"
        }
      ]
    },
    {
      "cell_type": "code",
      "metadata": {
        "id": "1kRV7qZ1N_yO",
        "colab_type": "code",
        "outputId": "112c19c4-7079-485f-93c7-7507edbd509d",
        "colab": {
          "base_uri": "https://localhost:8080/",
          "height": 70
        }
      },
      "source": [
        "ls -l"
      ],
      "execution_count": 11,
      "outputs": [
        {
          "output_type": "stream",
          "text": [
            "total 8\n",
            "drwx------ 2 root root 4096 Jun 13 09:12 \u001b[0m\u001b[01;34mimages\u001b[0m/\n",
            "drwx------ 2 root root 4096 Jun 13 09:52 \u001b[01;34mmasks\u001b[0m/\n"
          ],
          "name": "stdout"
        }
      ]
    },
    {
      "cell_type": "code",
      "metadata": {
        "id": "7YZ2prb9oiX4",
        "colab_type": "code",
        "colab": {}
      },
      "source": [
        "#The train file have both images and masks with the same names_ids."
      ],
      "execution_count": 0,
      "outputs": []
    },
    {
      "cell_type": "markdown",
      "metadata": {
        "id": "iwCH81ZWomLA",
        "colab_type": "text"
      },
      "source": [
        "### 5. Get the list of names of images and masks and name the list imagelist and masklist.\n",
        "\n",
        "Hint - Use os.listdir() funtions."
      ]
    },
    {
      "cell_type": "code",
      "metadata": {
        "id": "Clt5ya_JoplC",
        "colab_type": "code",
        "colab": {}
      },
      "source": [
        "#Separating  mask and images \n",
        "imagelist = []\n",
        "masklist = []"
      ],
      "execution_count": 0,
      "outputs": []
    },
    {
      "cell_type": "code",
      "metadata": {
        "id": "DbEG_mUIVFSW",
        "colab_type": "code",
        "colab": {}
      },
      "source": [
        "img = os.listdir('./images')\n",
        "for filename in img:\n",
        "  imagelist.append(filename)"
      ],
      "execution_count": 0,
      "outputs": []
    },
    {
      "cell_type": "code",
      "metadata": {
        "id": "osmQE1qvVr_0",
        "colab_type": "code",
        "colab": {}
      },
      "source": [
        "msk = os.listdir('./masks')\n",
        "for filename1 in msk:\n",
        "  masklist.append(filename1)"
      ],
      "execution_count": 0,
      "outputs": []
    },
    {
      "cell_type": "code",
      "metadata": {
        "id": "vZDwgd6QfS5u",
        "colab_type": "code",
        "colab": {}
      },
      "source": [
        "imagelist.sort()\n",
        "masklist.sort()"
      ],
      "execution_count": 0,
      "outputs": []
    },
    {
      "cell_type": "code",
      "metadata": {
        "id": "-vHPQoHVoppK",
        "colab_type": "code",
        "outputId": "1834a46c-137e-4ef4-fce1-f1ac799d14b1",
        "colab": {
          "base_uri": "https://localhost:8080/",
          "height": 87
        }
      },
      "source": [
        "#Test your list names by printing some of the names as given below.\n",
        "print(imagelist[-1])\n",
        "print(masklist[-1])\n",
        "print(imagelist[1])\n",
        "print(masklist[1])"
      ],
      "execution_count": 17,
      "outputs": [
        {
          "output_type": "stream",
          "text": [
            "fff987cdb3.png\n",
            "fff987cdb3.png\n",
            "003c477d7c.png\n",
            "003c477d7c.png\n"
          ],
          "name": "stdout"
        }
      ]
    },
    {
      "cell_type": "markdown",
      "metadata": {
        "id": "1t8raFq5ous8",
        "colab_type": "text"
      },
      "source": [
        "# 6. Read and test your images and respective masks.\n",
        "\n",
        "Hint -\n",
        "\n",
        "import  matplotlib.pyplot as plt\n",
        "\n",
        "import cv2\n",
        "\n",
        "plt.imshow(cv2.imread('path of image'))\n",
        "\n",
        "plt.imshow(cv2.imread('path of mask'))\n"
      ]
    },
    {
      "cell_type": "code",
      "metadata": {
        "id": "1gGpCSPpovvH",
        "colab_type": "code",
        "colab": {}
      },
      "source": [
        "import matplotlib.pyplot as plt\n",
        "import cv2"
      ],
      "execution_count": 0,
      "outputs": []
    },
    {
      "cell_type": "code",
      "metadata": {
        "id": "9E-McW2toyaR",
        "colab_type": "code",
        "outputId": "fdba08c5-1ac5-4f52-9234-ebf4827cc72f",
        "colab": {
          "base_uri": "https://localhost:8080/",
          "height": 286
        }
      },
      "source": [
        "plt.imshow(cv2.imread('./images/0a1742c740.png'))"
      ],
      "execution_count": 19,
      "outputs": [
        {
          "output_type": "execute_result",
          "data": {
            "text/plain": [
              "<matplotlib.image.AxesImage at 0x7f86e2437b38>"
            ]
          },
          "metadata": {
            "tags": []
          },
          "execution_count": 19
        },
        {
          "output_type": "display_data",
          "data": {
            "image/png": "[encoded data removed]",
            "text/plain": [
              "<Figure size 432x288 with 1 Axes>"
            ]
          },
          "metadata": {
            "tags": []
          }
        }
      ]
    },
    {
      "cell_type": "code",
      "metadata": {
        "id": "C_F-jHCUh1R4",
        "colab_type": "code",
        "outputId": "6d743362-9922-45aa-9ea9-1a913819a493",
        "colab": {
          "base_uri": "https://localhost:8080/",
          "height": 286
        }
      },
      "source": [
        "plt.imshow(cv2.imread('./masks/0a1742c740.png'))"
      ],
      "execution_count": 20,
      "outputs": [
        {
          "output_type": "execute_result",
          "data": {
            "text/plain": [
              "<matplotlib.image.AxesImage at 0x7f86dfb4b908>"
            ]
          },
          "metadata": {
            "tags": []
          },
          "execution_count": 20
        },
        {
          "output_type": "display_data",
          "data": {
            "image/png": "[encoded data removed]",
            "text/plain": [
              "<Figure size 432x288 with 1 Axes>"
            ]
          },
          "metadata": {
            "tags": []
          }
        }
      ]
    },
    {
      "cell_type": "markdown",
      "metadata": {
        "id": "_qFeroMNoylc",
        "colab_type": "text"
      },
      "source": [
        "# 7. Create your training data.\n",
        "\n",
        "Hints - \n",
        "\n",
        "image_path = os.path.join(project_path +'path of your image directory' +n )\n",
        "\n",
        "mask_path = os.path.join(project_path +'path of your mask directory'+n )"
      ]
    },
    {
      "cell_type": "code",
      "metadata": {
        "id": "X6Ds0OBtk9Cy",
        "colab_type": "code",
        "outputId": "0d093b18-0889-4f2d-dc18-60c280482070",
        "colab": {
          "base_uri": "https://localhost:8080/",
          "height": 34
        }
      },
      "source": [
        "imagelist[0]"
      ],
      "execution_count": 21,
      "outputs": [
        {
          "output_type": "execute_result",
          "data": {
            "text/plain": [
              "'000e218f21.png'"
            ]
          },
          "metadata": {
            "tags": []
          },
          "execution_count": 21
        }
      ]
    },
    {
      "cell_type": "code",
      "metadata": {
        "id": "gJbRVbL4o1qT",
        "colab_type": "code",
        "outputId": "d817e4f6-6f36-4f7f-f4a5-c52a9deff758",
        "colab": {
          "base_uri": "https://localhost:8080/",
          "height": 52
        }
      },
      "source": [
        "# Get and resize train images and masks\n",
        "#def get_data():\n",
        "    from PIL import Image\n",
        "    X = np.zeros(((len(imagelist), im_height, im_width, 1)), dtype=np.float32) # Create an array for image\n",
        "    y = np.zeros(((len(masklist), im_height, im_width)), dtype=np.float32) #Create an array for mask\n",
        "    print(X.shape)\n",
        "    print(y.shape)\n",
        "    \n",
        "    for n in imagelist: \n",
        "        k = imagelist.index(n)\n",
        "        ##Add image_path\n",
        "        image_path =  os.path.join('/content/drive/My Drive/Colab Notebooks/R9_UNET_RNN/train/images', n)\n",
        "        ##Add mask_path\n",
        "        mask_path = os.path.join('/content/drive/My Drive/Colab Notebooks/R9_UNET_RNN/train/masks', n)                                                           \n",
        "        \n",
        "        # Load images and resize to (128,128,1)\n",
        "        img = Image.open(image_path)\n",
        "        img = img.resize((im_width, im_height))\n",
        "        img = np.reshape(img.convert('L'), (128,128,1))\n",
        "        #print(n)\n",
        "        X[k] = img\n",
        "                \n",
        "        # Load masks and resize to (128,128,1)\n",
        "        mask = cv2.imread(mask_path)\n",
        "        mask = (mask!=2)*1.0  \n",
        "        mask = cv2.resize(mask, (128, 128))\n",
        "        mask = 1.0*(mask[:,:,0]>0.2)\n",
        "        y[k] = mask"
      ],
      "execution_count": 22,
      "outputs": [
        {
          "output_type": "stream",
          "text": [
            "(4000, 128, 128, 1)\n",
            "(4000, 128, 128)\n"
          ],
          "name": "stdout"
        }
      ]
    },
    {
      "cell_type": "code",
      "metadata": {
        "id": "seheYxTBo32V",
        "colab_type": "code",
        "outputId": "c5bba3f3-24da-4f3e-bb39-8e8354cca15f",
        "colab": {
          "base_uri": "https://localhost:8080/",
          "height": 141
        }
      },
      "source": [
        "print(y[0])"
      ],
      "execution_count": 23,
      "outputs": [
        {
          "output_type": "stream",
          "text": [
            "[[1. 1. 1. ... 1. 1. 1.]\n",
            " [1. 1. 1. ... 1. 1. 1.]\n",
            " [1. 1. 1. ... 1. 1. 1.]\n",
            " ...\n",
            " [1. 1. 1. ... 1. 1. 1.]\n",
            " [1. 1. 1. ... 1. 1. 1.]\n",
            " [1. 1. 1. ... 1. 1. 1.]]\n"
          ],
          "name": "stdout"
        }
      ]
    },
    {
      "cell_type": "code",
      "metadata": {
        "id": "kt6zXJPHo35y",
        "colab_type": "code",
        "colab": {}
      },
      "source": [
        "# Split train and valid\n",
        "X_train, X_valid, y_train, y_valid = train_test_split(X, y, test_size=0.15, random_state=2019)"
      ],
      "execution_count": 0,
      "outputs": []
    },
    {
      "cell_type": "code",
      "metadata": {
        "id": "0vo-8yrF8-BS",
        "colab_type": "code",
        "outputId": "af824ded-e37a-484f-a989-6173f7b2a46f",
        "colab": {
          "base_uri": "https://localhost:8080/",
          "height": 87
        }
      },
      "source": [
        "print(X_train.shape)\n",
        "print(X_valid.shape)\n",
        "print(y_train.shape)\n",
        "print(y_valid.shape)"
      ],
      "execution_count": 25,
      "outputs": [
        {
          "output_type": "stream",
          "text": [
            "(3400, 128, 128, 1)\n",
            "(600, 128, 128, 1)\n",
            "(3400, 128, 128)\n",
            "(600, 128, 128)\n"
          ],
          "name": "stdout"
        }
      ]
    },
    {
      "cell_type": "code",
      "metadata": {
        "id": "mh_SRFGro6wr",
        "colab_type": "code",
        "outputId": "c7ac35ef-9d3b-4f3d-e8bc-a3f894126a8f",
        "colab": {
          "base_uri": "https://localhost:8080/",
          "height": 354
        }
      },
      "source": [
        "## Test your data whether it looks fine - Random check\n",
        "import random \n",
        "# Check if training data looks all right\n",
        "ix = random.randint(0, len(X_train))\n",
        "has_mask = y_train[ix].max() > 0\n",
        "\n",
        "fig, ax = plt.subplots(1, 2, figsize=(10, 10))\n",
        "\n",
        "ax[0].imshow(X_train[ix, ..., 0], cmap='seismic', interpolation='bilinear')\n",
        "if has_mask:\n",
        "    ax[0].contour(y_train[ix].squeeze(), colors='k', levels=[0.5])\n",
        "ax[0].set_title('Seismic')\n",
        "\n",
        "ax[1].imshow(y_train[ix].squeeze(), interpolation='bilinear', cmap='gray')\n",
        "ax[1].set_title('Salt');\n",
        "\n",
        "\n"
      ],
      "execution_count": 26,
      "outputs": [
        {
          "output_type": "stream",
          "text": [
            "/usr/local/lib/python3.6/dist-packages/matplotlib/contour.py:1243: UserWarning: No contour levels were found within the data range.\n",
            "  warnings.warn(\"No contour levels were found\"\n"
          ],
          "name": "stderr"
        },
        {
          "output_type": "display_data",
          "data": {
            "image/png": "[encoded data removed]",
            "text/plain": [
              "<Figure size 720x720 with 2 Axes>"
            ]
          },
          "metadata": {
            "tags": []
          }
        }
      ]
    },
    {
      "cell_type": "markdown",
      "metadata": {
        "id": "em5jGV93o8qR",
        "colab_type": "text"
      },
      "source": [
        "### 8. Define loss and dice_coeff function."
      ]
    },
    {
      "cell_type": "code",
      "metadata": {
        "id": "Uyxf8uhQpA78",
        "colab_type": "code",
        "colab": {}
      },
      "source": [
        "def dice_coefficient(y_true, y_pred):\n",
        "    numerator = 2 * tf.reduce_sum(y_true * y_pred)\n",
        "    denominator = tf.reduce_sum(y_true + y_pred)\n",
        "\n",
        "    return numerator / (denominator + tf.keras.backend.epsilon())"
      ],
      "execution_count": 0,
      "outputs": []
    },
    {
      "cell_type": "code",
      "metadata": {
        "id": "EmCjyEUUpA_V",
        "colab_type": "code",
        "colab": {}
      },
      "source": [
        "def loss(y_true, y_pred):\n",
        "    return binary_crossentropy(y_true, y_pred) - tf.log(dice_coefficient(y_true, y_pred) + tf.keras.backend.epsilon())"
      ],
      "execution_count": 0,
      "outputs": []
    },
    {
      "cell_type": "markdown",
      "metadata": {
        "id": "-ofKZA-9pDVJ",
        "colab_type": "text"
      },
      "source": [
        "### 9. Build and compile UNet Model for your data.\n",
        "\n",
        "Hint - \n",
        "You can install and use segmentation models from this github repository.\n",
        "\n",
        "#Install segmentation models\n",
        "\n",
        "!pip install git+https://github.com/qubvel/segmentation_models"
      ]
    },
    {
      "cell_type": "code",
      "metadata": {
        "id": "eiJgRDz1-ayd",
        "colab_type": "code",
        "colab": {}
      },
      "source": [
        "#!pip install git+https://github.com/qubvel/segmentation_models"
      ],
      "execution_count": 0,
      "outputs": []
    },
    {
      "cell_type": "code",
      "metadata": {
        "id": "J32XZQiuAmx7",
        "colab_type": "code",
        "outputId": "ef4ce7dc-3b6d-4652-b22e-fc0338e6ada0",
        "colab": {
          "base_uri": "https://localhost:8080/",
          "height": 52
        }
      },
      "source": [
        "from segmentation_models import Unet\n",
        "from segmentation_models.backbones import get_preprocessing\n",
        "from segmentation_models.losses import bce_jaccard_loss\n",
        "from segmentation_models.metrics import iou_score"
      ],
      "execution_count": 30,
      "outputs": [
        {
          "output_type": "stream",
          "text": [
            "/usr/local/lib/python3.6/dist-packages/classification_models/resnext/__init__.py:4: UserWarning: Current ResNext models are deprecated, use keras.applications ResNeXt models\n",
            "  warnings.warn('Current ResNext models are deprecated, '\n"
          ],
          "name": "stderr"
        }
      ]
    },
    {
      "cell_type": "code",
      "metadata": {
        "id": "ye4kBGbkEUmI",
        "colab_type": "code",
        "outputId": "413d9c2f-41af-411f-f7a5-ade950167c6c",
        "colab": {
          "base_uri": "https://localhost:8080/",
          "height": 34
        }
      },
      "source": [
        "X_train.shape"
      ],
      "execution_count": 31,
      "outputs": [
        {
          "output_type": "execute_result",
          "data": {
            "text/plain": [
              "(3400, 128, 128, 1)"
            ]
          },
          "metadata": {
            "tags": []
          },
          "execution_count": 31
        }
      ]
    },
    {
      "cell_type": "code",
      "metadata": {
        "id": "nljIujXzI433",
        "colab_type": "code",
        "outputId": "161c5b56-08b1-4982-d44d-4e3e87cdac3e",
        "colab": {
          "base_uri": "https://localhost:8080/",
          "height": 34
        }
      },
      "source": [
        "y_train.shape"
      ],
      "execution_count": 32,
      "outputs": [
        {
          "output_type": "execute_result",
          "data": {
            "text/plain": [
              "(3400, 128, 128)"
            ]
          },
          "metadata": {
            "tags": []
          },
          "execution_count": 32
        }
      ]
    },
    {
      "cell_type": "code",
      "metadata": {
        "id": "rSqExdnCJAg2",
        "colab_type": "code",
        "outputId": "79ecef95-14c8-478d-c517-da096f66faa2",
        "colab": {
          "base_uri": "https://localhost:8080/",
          "height": 374
        }
      },
      "source": [
        "base_model = Unet(backbone_name='resnet34', encoder_weights='imagenet')"
      ],
      "execution_count": 33,
      "outputs": [
        {
          "output_type": "stream",
          "text": [
            "WARNING: Logging before flag parsing goes to stderr.\n",
            "W0615 11:38:00.201891 140218534545280 deprecation_wrapper.py:119] From /usr/local/lib/python3.6/dist-packages/keras/backend/tensorflow_backend.py:517: The name tf.placeholder is deprecated. Please use tf.compat.v1.placeholder instead.\n",
            "\n",
            "W0615 11:38:00.276834 140218534545280 deprecation_wrapper.py:119] From /usr/local/lib/python3.6/dist-packages/keras/backend/tensorflow_backend.py:245: The name tf.get_default_graph is deprecated. Please use tf.compat.v1.get_default_graph instead.\n",
            "\n",
            "W0615 11:38:00.278191 140218534545280 deprecation_wrapper.py:119] From /usr/local/lib/python3.6/dist-packages/keras/backend/tensorflow_backend.py:174: The name tf.get_default_session is deprecated. Please use tf.compat.v1.get_default_session instead.\n",
            "\n",
            "W0615 11:38:00.279291 140218534545280 deprecation_wrapper.py:119] From /usr/local/lib/python3.6/dist-packages/keras/backend/tensorflow_backend.py:181: The name tf.ConfigProto is deprecated. Please use tf.compat.v1.ConfigProto instead.\n",
            "\n",
            "W0615 11:38:00.282891 140218534545280 deprecation_wrapper.py:119] From /usr/local/lib/python3.6/dist-packages/keras/backend/tensorflow_backend.py:186: The name tf.Session is deprecated. Please use tf.compat.v1.Session instead.\n",
            "\n",
            "W0615 11:38:00.542472 140218534545280 deprecation_wrapper.py:119] From /usr/local/lib/python3.6/dist-packages/keras/backend/tensorflow_backend.py:1834: The name tf.nn.fused_batch_norm is deprecated. Please use tf.compat.v1.nn.fused_batch_norm instead.\n",
            "\n",
            "W0615 11:38:00.736738 140218534545280 deprecation_wrapper.py:119] From /usr/local/lib/python3.6/dist-packages/keras/backend/tensorflow_backend.py:3976: The name tf.nn.max_pool is deprecated. Please use tf.nn.max_pool2d instead.\n",
            "\n"
          ],
          "name": "stderr"
        },
        {
          "output_type": "stream",
          "text": [
            "Downloading data from https://github.com/qubvel/classification_models/releases/download/0.0.1/resnet34_imagenet_1000_no_top.h5\n",
            "85524480/85521592 [==============================] - 2s 0us/step\n"
          ],
          "name": "stdout"
        },
        {
          "output_type": "stream",
          "text": [
            "W0615 11:38:09.488307 140218534545280 deprecation_wrapper.py:119] From /usr/local/lib/python3.6/dist-packages/keras/backend/tensorflow_backend.py:2018: The name tf.image.resize_nearest_neighbor is deprecated. Please use tf.compat.v1.image.resize_nearest_neighbor instead.\n",
            "\n"
          ],
          "name": "stderr"
        }
      ]
    },
    {
      "cell_type": "code",
      "metadata": {
        "id": "6HbMmRXKJPYQ",
        "colab_type": "code",
        "colab": {}
      },
      "source": [
        "inp = Input(shape=(128, 128, 1))"
      ],
      "execution_count": 0,
      "outputs": []
    },
    {
      "cell_type": "code",
      "metadata": {
        "id": "jMywFNq8JUUo",
        "colab_type": "code",
        "colab": {}
      },
      "source": [
        "l1 = Conv2D(3, (1, 1))(inp) \n",
        "out = base_model(l1)\n",
        "x = Conv2D(1, kernel_size=1,strides=1, activation=\"sigmoid\")(out)\n",
        "x = Conv2D(1, kernel_size=1,strides=1, activation=\"sigmoid\")(x)\n",
        "x = Conv2D(1, kernel_size=1,strides=1, activation=\"sigmoid\")(x)\n",
        "x = Reshape((128, 128))(x)\n",
        "\n",
        "model = Model(inp, x, name=base_model.name)"
      ],
      "execution_count": 0,
      "outputs": []
    },
    {
      "cell_type": "code",
      "metadata": {
        "id": "eL1lRlXDpIHl",
        "colab_type": "code",
        "colab": {}
      },
      "source": [
        "#Get the summary of your model\n"
      ],
      "execution_count": 0,
      "outputs": []
    },
    {
      "cell_type": "code",
      "metadata": {
        "id": "cA4f4oYYpJA6",
        "colab_type": "code",
        "outputId": "06fc8b7e-3923-4ec9-e89a-4c7a8577c93f",
        "colab": {
          "base_uri": "https://localhost:8080/",
          "height": 390
        }
      },
      "source": [
        "model.summary()"
      ],
      "execution_count": 36,
      "outputs": [
        {
          "output_type": "stream",
          "text": [
            "_________________________________________________________________\n",
            "Layer (type)                 Output Shape              Param #   \n",
            "=================================================================\n",
            "input_1 (InputLayer)         (None, 128, 128, 1)       0         \n",
            "_________________________________________________________________\n",
            "conv2d_1 (Conv2D)            (None, 128, 128, 3)       6         \n",
            "_________________________________________________________________\n",
            "u-resnet34 (Model)           multiple                  24456154  \n",
            "_________________________________________________________________\n",
            "conv2d_2 (Conv2D)            (None, 128, 128, 1)       2         \n",
            "_________________________________________________________________\n",
            "conv2d_3 (Conv2D)            (None, 128, 128, 1)       2         \n",
            "_________________________________________________________________\n",
            "conv2d_4 (Conv2D)            (None, 128, 128, 1)       2         \n",
            "_________________________________________________________________\n",
            "reshape_1 (Reshape)          (None, 128, 128)          0         \n",
            "=================================================================\n",
            "Total params: 24,456,166\n",
            "Trainable params: 24,438,816\n",
            "Non-trainable params: 17,350\n",
            "_________________________________________________________________\n"
          ],
          "name": "stdout"
        }
      ]
    },
    {
      "cell_type": "markdown",
      "metadata": {
        "id": "6UYvb8OdpLV5",
        "colab_type": "text"
      },
      "source": [
        "### 10. Fit your model using model.fit function.\n",
        "Hint - As it might take long time to run. Run it for only 1 or 2 epochs."
      ]
    },
    {
      "cell_type": "code",
      "metadata": {
        "id": "bFw1Yq06pQbp",
        "colab_type": "code",
        "outputId": "dcc19668-a611-4417-8c2a-b691887ed17e",
        "colab": {
          "base_uri": "https://localhost:8080/",
          "height": 72
        }
      },
      "source": [
        "# compile model\n",
        "from tensorflow.keras.losses import binary_crossentropy\n",
        "model.compile(optimizer='Adam', loss=loss, metrics=[dice_coefficient])"
      ],
      "execution_count": 37,
      "outputs": [
        {
          "output_type": "stream",
          "text": [
            "W0615 11:38:14.706128 140218534545280 deprecation_wrapper.py:119] From /usr/local/lib/python3.6/dist-packages/keras/optimizers.py:790: The name tf.train.Optimizer is deprecated. Please use tf.compat.v1.train.Optimizer instead.\n",
            "\n"
          ],
          "name": "stderr"
        }
      ]
    },
    {
      "cell_type": "code",
      "metadata": {
        "id": "s-p_LHQ6CzLi",
        "colab_type": "code",
        "outputId": "e2748f55-b8f3-492d-faca-a6eb766321b2",
        "colab": {
          "base_uri": "https://localhost:8080/",
          "height": 196
        }
      },
      "source": [
        "model.fit(\n",
        "    x=X_train,\n",
        "    y=y_train,\n",
        "    batch_size=50,    \n",
        "    epochs=2,\n",
        "    validation_data=(X_valid, y_valid))"
      ],
      "execution_count": 38,
      "outputs": [
        {
          "output_type": "stream",
          "text": [
            "W0615 11:38:15.018560 140218534545280 deprecation.py:323] From /usr/local/lib/python3.6/dist-packages/tensorflow/python/ops/math_grad.py:1250: add_dispatch_support.<locals>.wrapper (from tensorflow.python.ops.array_ops) is deprecated and will be removed in a future version.\n",
            "Instructions for updating:\n",
            "Use tf.where in 2.0, which has the same broadcast rule as np.where\n"
          ],
          "name": "stderr"
        },
        {
          "output_type": "stream",
          "text": [
            "Train on 3400 samples, validate on 600 samples\n",
            "Epoch 1/2\n",
            "3400/3400 [==============================] - 1552s 457ms/step - loss: 1.4651 - dice_coefficient: 0.5741 - val_loss: 1.4017 - val_dice_coefficient: 0.5893\n",
            "Epoch 2/2\n",
            "3400/3400 [==============================] - 1537s 452ms/step - loss: 1.3464 - dice_coefficient: 0.6029 - val_loss: 1.2926 - val_dice_coefficient: 0.6163\n"
          ],
          "name": "stdout"
        },
        {
          "output_type": "execute_result",
          "data": {
            "text/plain": [
              "<keras.callbacks.History at 0x7f86d51ed4e0>"
            ]
          },
          "metadata": {
            "tags": []
          },
          "execution_count": 38
        }
      ]
    },
    {
      "cell_type": "markdown",
      "metadata": {
        "id": "iH34vMq9pSnh",
        "colab_type": "text"
      },
      "source": [
        "### 11.Predict on val set using model.predict funtion and store in preds_val variable.\n",
        "\n"
      ]
    },
    {
      "cell_type": "code",
      "metadata": {
        "id": "FymN5QpopXW-",
        "colab_type": "code",
        "outputId": "8789e305-b1d2-40bf-efeb-cc432bc8eee0",
        "colab": {
          "base_uri": "https://localhost:8080/",
          "height": 52
        }
      },
      "source": [
        "preds_train = model.predict(X_train, verbose=1)\n",
        "preds_val = model.predict(X_valid, verbose=1)"
      ],
      "execution_count": 39,
      "outputs": [
        {
          "output_type": "stream",
          "text": [
            "3400/3400 [==============================] - 390s 115ms/step\n",
            "600/600 [==============================] - 69s 115ms/step\n"
          ],
          "name": "stdout"
        }
      ]
    },
    {
      "cell_type": "code",
      "metadata": {
        "id": "uKkpE3vEpXi8",
        "colab_type": "code",
        "colab": {}
      },
      "source": [
        "#Get the threshold predictions to look at refined results.\n",
        "preds_val_t = (preds_val > 0.5).astype(np.uint8)"
      ],
      "execution_count": 0,
      "outputs": []
    },
    {
      "cell_type": "code",
      "metadata": {
        "id": "Pyn3RyCRpaRH",
        "colab_type": "code",
        "colab": {}
      },
      "source": [
        "#Plot a sample\n",
        "def plot_sample(X, y, preds, binary_preds, ix=None):\n",
        "    if ix is None:\n",
        "        ix = random.randint(0, len(X))\n",
        "\n",
        "    has_mask = y[ix].max() > 0\n",
        "\n",
        "    fig, ax = plt.subplots(1, 4, figsize=(20, 10))\n",
        "    ax[0].imshow(X[ix, ..., 0], cmap='seismic')\n",
        "    if has_mask:\n",
        "        ax[0].contour(y[ix].squeeze(), colors='k', levels=[0.5])\n",
        "    ax[0].set_title('Seismic')\n",
        "\n",
        "    ax[1].imshow(y[ix].squeeze())\n",
        "    ax[1].set_title('Salt')\n",
        "\n",
        "    ax[2].imshow(preds[ix].squeeze(), vmin=0, vmax=1)\n",
        "    if has_mask:\n",
        "        ax[2].contour(y[ix].squeeze(), colors='k', levels=[0.5])\n",
        "    ax[2].set_title('Salt Predicted')\n",
        "    \n",
        "    ax[3].imshow(binary_preds[ix].squeeze(), vmin=0, vmax=1)\n",
        "    if has_mask:\n",
        "        ax[3].contour(y[ix].squeeze(), colors='k', levels=[0.5])\n",
        "    ax[3].set_title('Salt Predicted binary');"
      ],
      "execution_count": 0,
      "outputs": []
    },
    {
      "cell_type": "code",
      "metadata": {
        "id": "s_h5fcgYpbyR",
        "colab_type": "code",
        "outputId": "b1542de4-60df-473b-fc32-cbcd307d908f",
        "colab": {
          "base_uri": "https://localhost:8080/",
          "height": 343
        }
      },
      "source": [
        "# Check if valid data looks all right\n",
        "plot_sample(X_valid, y_valid, preds_val, preds_val_t, ix=100)"
      ],
      "execution_count": 42,
      "outputs": [
        {
          "output_type": "stream",
          "text": [
            "/usr/local/lib/python3.6/dist-packages/matplotlib/contour.py:1243: UserWarning: No contour levels were found within the data range.\n",
            "  warnings.warn(\"No contour levels were found\"\n"
          ],
          "name": "stderr"
        },
        {
          "output_type": "display_data",
          "data": {
            "image/png": "[encoded data removed]",
            "text/plain": [
              "<Figure size 1440x720 with 4 Axes>"
            ]
          },
          "metadata": {
            "tags": []
          }
        }
      ]
    },
    {
      "cell_type": "markdown",
      "metadata": {
        "id": "oasnhlaDpeU0",
        "colab_type": "text"
      },
      "source": [
        "If you are getting good results- Congratulations.\n",
        "If you are not, try to explore what might be the reason."
      ]
    },
    {
      "cell_type": "markdown",
      "metadata": {
        "id": "yllJR0PQpm4M",
        "colab_type": "text"
      },
      "source": [
        "# Text generation using a RNN"
      ]
    },
    {
      "cell_type": "markdown",
      "metadata": {
        "id": "2W6g03QsptwG",
        "colab_type": "text"
      },
      "source": [
        "Given a sequence of words from this data, train a model to predict the next word in the sequence. Longer sequences of text can be generated by calling the model repeatedly."
      ]
    },
    {
      "cell_type": "markdown",
      "metadata": {
        "colab_type": "text",
        "id": "hbd3E0IuHwjz"
      },
      "source": [
        "**Mount your Google Drive**"
      ]
    },
    {
      "cell_type": "code",
      "metadata": {
        "colab_type": "code",
        "id": "Dikrw1ylHtAL",
        "colab": {}
      },
      "source": [
        "# Already done"
      ],
      "execution_count": 0,
      "outputs": []
    },
    {
      "cell_type": "code",
      "metadata": {
        "id": "Ug90Re8Prcph",
        "colab_type": "code",
        "colab": {}
      },
      "source": [
        "os.chdir('/content/drive/My Drive/Colab Notebooks/R9_UNET_RNN')"
      ],
      "execution_count": 0,
      "outputs": []
    },
    {
      "cell_type": "markdown",
      "metadata": {
        "colab_type": "text",
        "id": "fnIX_mLXHdxS"
      },
      "source": [
        "### Import Keras and other libraries"
      ]
    },
    {
      "cell_type": "code",
      "metadata": {
        "colab_type": "code",
        "id": "0TmrQuvpHdxU",
        "colab": {}
      },
      "source": [
        "from keras.preprocessing.text import Tokenizer\n",
        "from keras.models import Sequential, load_model\n",
        "from keras.layers import LSTM, Dense, Dropout, Embedding, Masking, Bidirectional\n",
        "from keras.optimizers import Adam\n",
        "from keras import backend"
      ],
      "execution_count": 0,
      "outputs": []
    },
    {
      "cell_type": "markdown",
      "metadata": {
        "id": "zKBXQflGlPjG",
        "colab_type": "text"
      },
      "source": [
        "## Download data\n",
        "Reference: Data is collected from http://www.gutenberg.org\n",
        "\n",
        "For the lab purpose, you can load the dataset provided by Great Learning"
      ]
    },
    {
      "cell_type": "markdown",
      "metadata": {
        "colab_type": "text",
        "id": "s321mV4DHdxZ"
      },
      "source": [
        "### Load the Oscar Wilde dataset\n",
        "\n",
        "Store all the \".txt\" file names in a list"
      ]
    },
    {
      "cell_type": "code",
      "metadata": {
        "id": "lwORYElerYAP",
        "colab_type": "code",
        "outputId": "b5a2a955-431b-44e6-9d93-f02389adb7b4",
        "colab": {
          "base_uri": "https://localhost:8080/",
          "height": 34
        }
      },
      "source": [
        "pwd"
      ],
      "execution_count": 46,
      "outputs": [
        {
          "output_type": "execute_result",
          "data": {
            "text/plain": [
              "'/content/drive/My Drive/Colab Notebooks/R9_UNET_RNN'"
            ]
          },
          "metadata": {
            "tags": []
          },
          "execution_count": 46
        }
      ]
    },
    {
      "cell_type": "code",
      "metadata": {
        "colab_type": "code",
        "id": "VUanlzNJHdxa",
        "colab": {}
      },
      "source": [
        "import glob\n",
        "textlist = glob.glob(\"./data/*.txt\")"
      ],
      "execution_count": 0,
      "outputs": []
    },
    {
      "cell_type": "markdown",
      "metadata": {
        "colab_type": "text",
        "id": "glr4hv6uZkL-"
      },
      "source": [
        "### Read the data\n",
        "\n",
        "Read contents of every file from the list and append the text in a new list"
      ]
    },
    {
      "cell_type": "code",
      "metadata": {
        "colab_type": "code",
        "id": "zLrMMjrkRt9x",
        "colab": {}
      },
      "source": [
        "codetext = []\n",
        "bookranges = []\n",
        "for textfile in textlist:\n",
        "    alltext = open(textfile, \"r\")\n",
        "    start = len(codetext)\n",
        "    codetext.append(alltext.read())\n",
        "    end = len(codetext)\n",
        "    bookranges.append({\"start\": start, \"end\": end, \"name\": textfile.rsplit(\"/\", 1)[-1]})\n",
        "    alltext.close()"
      ],
      "execution_count": 0,
      "outputs": []
    },
    {
      "cell_type": "markdown",
      "metadata": {
        "colab_type": "text",
        "id": "jMX-Fu-GHdxj"
      },
      "source": [
        "## Process the text\n",
        "Initialize and fit the tokenizer"
      ]
    },
    {
      "cell_type": "code",
      "metadata": {
        "colab_type": "code",
        "id": "zQf1AV8wHdxl",
        "colab": {}
      },
      "source": [
        "tokenizer = Tokenizer(lower=True, filters='!\"#$%&()*+,-./:;<=>?@[\\\\]^_`{|}~\\t\\n')\n",
        "tokenizer.fit_on_texts(codetext)"
      ],
      "execution_count": 0,
      "outputs": []
    },
    {
      "cell_type": "markdown",
      "metadata": {
        "colab_type": "text",
        "id": "vpZ0A2-xHdxp"
      },
      "source": [
        "### Vectorize the text\n",
        "\n",
        "Before training, we need to map strings to a numerical representation. Create two lookup tables: one mapping words to numbers, and another for numbers to words."
      ]
    },
    {
      "cell_type": "code",
      "metadata": {
        "colab_type": "code",
        "id": "_Nsq-rSPHdxq",
        "colab": {}
      },
      "source": [
        "word_idx = tokenizer.word_index\n",
        "idx_word = tokenizer.index_word"
      ],
      "execution_count": 0,
      "outputs": []
    },
    {
      "cell_type": "markdown",
      "metadata": {
        "colab_type": "text",
        "id": "YMYdjx4aHdxu"
      },
      "source": [
        "Get the word count for every word and also get the total number of words."
      ]
    },
    {
      "cell_type": "code",
      "metadata": {
        "colab_type": "code",
        "id": "ioEZ2c21Hdxw",
        "colab": {}
      },
      "source": [
        "word_counts = tokenizer.word_counts\n",
        "num_words = len(word_idx) + 1"
      ],
      "execution_count": 0,
      "outputs": []
    },
    {
      "cell_type": "markdown",
      "metadata": {
        "colab_type": "text",
        "id": "dWUBr9rHHdx0"
      },
      "source": [
        "Convert text to sequence of numbers"
      ]
    },
    {
      "cell_type": "code",
      "metadata": {
        "colab_type": "code",
        "id": "dwLl0BWKHdx2",
        "colab": {}
      },
      "source": [
        "sequences = tokenizer.texts_to_sequences(codetext)"
      ],
      "execution_count": 0,
      "outputs": []
    },
    {
      "cell_type": "markdown",
      "metadata": {
        "colab_type": "text",
        "id": "GkpK8McUHdx6"
      },
      "source": [
        "### Generate Features and Labels"
      ]
    },
    {
      "cell_type": "code",
      "metadata": {
        "colab_type": "code",
        "id": "zxhQamjwHdx7",
        "colab": {}
      },
      "source": [
        "features = []\n",
        "labels = []\n",
        "\n",
        "training_length = 50\n",
        "# Iterate through the sequences of tokens\n",
        "for seq in sequences:\n",
        "    # Create multiple training examples from each sequence\n",
        "    for i in range(training_length, training_length+300):\n",
        "        # Extract the features and label\n",
        "        extract = seq[i - training_length: i - training_length + 20]\n",
        "\n",
        "        # Set the features and label\n",
        "        features.append(extract[:-1])\n",
        "        labels.append(extract[-1])"
      ],
      "execution_count": 0,
      "outputs": []
    },
    {
      "cell_type": "markdown",
      "metadata": {
        "colab_type": "text",
        "id": "bbmsf23Bymwe"
      },
      "source": [
        "### The prediction task"
      ]
    },
    {
      "cell_type": "markdown",
      "metadata": {
        "colab_type": "text",
        "id": "wssHQ1oGymwe"
      },
      "source": [
        "Given a word, or a sequence of words, what is the most probable next word? This is the task we're training the model to perform. The input to the model will be a sequence of words, and we train the model to predict the output—the following word at each time step.\n",
        "\n",
        "Since RNNs maintain an internal state that depends on the previously seen elements, given all the words computed until this moment, what is the next word?"
      ]
    },
    {
      "cell_type": "markdown",
      "metadata": {
        "colab_type": "text",
        "id": "T2bsVOl7HdyA"
      },
      "source": [
        "### Generate training and testing data"
      ]
    },
    {
      "cell_type": "code",
      "metadata": {
        "colab_type": "code",
        "id": "j7-IsvynHdyB",
        "colab": {}
      },
      "source": [
        "from sklearn.utils import shuffle\n",
        "import numpy as np\n",
        "\n",
        "features, labels = shuffle(features, labels, random_state=1)\n",
        "\n",
        "# Decide on number of samples for training\n",
        "train_end = int(0.7 * len(labels))\n",
        "\n",
        "train_features = np.array(features[:train_end])\n",
        "valid_features = np.array(features[train_end:])\n",
        "\n",
        "train_labels = labels[:train_end]\n",
        "valid_labels = labels[train_end:]\n",
        "\n",
        "# Convert to arrays\n",
        "X_train, X_valid = np.array(train_features), np.array(valid_features)\n",
        "\n",
        "# Using int8 for memory savings\n",
        "y_train = np.zeros((len(train_labels), num_words), dtype=np.int8)\n",
        "y_valid = np.zeros((len(valid_labels), num_words), dtype=np.int8)\n",
        "\n",
        "# One hot encoding of labels\n",
        "for example_index, word_index in enumerate(train_labels):\n",
        "    y_train[example_index, word_index] = 1\n",
        "\n",
        "for example_index, word_index in enumerate(valid_labels):\n",
        "    y_valid[example_index, word_index] = 1"
      ],
      "execution_count": 0,
      "outputs": []
    },
    {
      "cell_type": "markdown",
      "metadata": {
        "colab_type": "text",
        "id": "juT1mZrUHdyE"
      },
      "source": [
        "This is just to check the features and labels"
      ]
    },
    {
      "cell_type": "code",
      "metadata": {
        "colab_type": "code",
        "id": "wkdmNbgjHdyF",
        "outputId": "e2979985-95f7-45e4-d74b-91570589e979",
        "colab": {
          "base_uri": "https://localhost:8080/",
          "height": 158
        }
      },
      "source": [
        "for i, sequence in enumerate(X_train[:2]):\n",
        "    text = []\n",
        "#     print(i, sequence)\n",
        "    for idx in sequence:\n",
        "        text.append(idx_word[idx])\n",
        "        \n",
        "    print('Features: ' + ' '.join(text)+'\\n')\n",
        "    print('Label: ' + idx_word[np.argmax(y_train[i])] + '\\n')"
      ],
      "execution_count": 55,
      "outputs": [
        {
          "output_type": "stream",
          "text": [
            "Features: above the city on a tall column stood the statue of the happy prince he was gilded all over\n",
            "\n",
            "Label: with\n",
            "\n",
            "Features: and other poems author oscar wilde release date september 19 2014 ebook 1031 this file was first posted on\n",
            "\n",
            "Label: 17\n",
            "\n"
          ],
          "name": "stdout"
        }
      ]
    },
    {
      "cell_type": "markdown",
      "metadata": {
        "colab_type": "text",
        "id": "r6oUuElIMgVx"
      },
      "source": [
        "## Build The Model"
      ]
    },
    {
      "cell_type": "markdown",
      "metadata": {
        "colab_type": "text",
        "id": "m8gPwEjRzf-Z"
      },
      "source": [
        "Use `keras.Sequential` to define the model. For this simple example three layers are used to define our model:\n",
        "\n",
        "* `keras.layers.Embedding`: The input layer. A trainable lookup table that will map the numbers of each character to a vector with `embedding_dim` dimensions;\n",
        "* `keras.layers.LSTM`: A type of RNN with size `units=rnn_units` (You can also use a GRU layer here.)\n",
        "* `keras.layers.Dense`: The output layer, with `num_words` outputs."
      ]
    },
    {
      "cell_type": "code",
      "metadata": {
        "colab_type": "code",
        "id": "GKpCQFZLHdyN",
        "outputId": "6e69cc1c-cdce-415f-a285-d6a3264d6b9b",
        "colab": {
          "base_uri": "https://localhost:8080/",
          "height": 392
        }
      },
      "source": [
        "model = Sequential()\n",
        "\n",
        "# Embedding layer\n",
        "model.add(\n",
        "    Embedding(\n",
        "        input_dim=len(word_idx) + 1,\n",
        "        output_dim=100,\n",
        "        weights=None,\n",
        "        trainable=True))\n",
        "\n",
        "# Recurrent layer\n",
        "model.add(\n",
        "    LSTM(\n",
        "        64, return_sequences=False, dropout=0.1,\n",
        "        recurrent_dropout=0.1))\n",
        "\n",
        "# Fully connected layer\n",
        "model.add(Dense(64, activation='relu'))\n",
        "\n",
        "# Dropout for regularization\n",
        "model.add(Dropout(0.5))\n",
        "\n",
        "# Output layer\n",
        "model.add(Dense(num_words, activation='softmax'))\n",
        "\n",
        "# Compile the model\n",
        "model.compile(\n",
        "    optimizer='adam', loss='categorical_crossentropy', metrics=['accuracy'])\n",
        "\n",
        "model.summary()"
      ],
      "execution_count": 56,
      "outputs": [
        {
          "output_type": "stream",
          "text": [
            "W0615 12:37:43.081823 140218534545280 deprecation.py:506] From /usr/local/lib/python3.6/dist-packages/keras/backend/tensorflow_backend.py:3445: calling dropout (from tensorflow.python.ops.nn_ops) with keep_prob is deprecated and will be removed in a future version.\n",
            "Instructions for updating:\n",
            "Please use `rate` instead of `keep_prob`. Rate should be set to `rate = 1 - keep_prob`.\n"
          ],
          "name": "stderr"
        },
        {
          "output_type": "stream",
          "text": [
            "_________________________________________________________________\n",
            "Layer (type)                 Output Shape              Param #   \n",
            "=================================================================\n",
            "embedding_1 (Embedding)      (None, None, 100)         3283900   \n",
            "_________________________________________________________________\n",
            "lstm_1 (LSTM)                (None, 64)                42240     \n",
            "_________________________________________________________________\n",
            "dense_1 (Dense)              (None, 64)                4160      \n",
            "_________________________________________________________________\n",
            "dropout_1 (Dropout)          (None, 64)                0         \n",
            "_________________________________________________________________\n",
            "dense_2 (Dense)              (None, 32839)             2134535   \n",
            "=================================================================\n",
            "Total params: 5,464,835\n",
            "Trainable params: 5,464,835\n",
            "Non-trainable params: 0\n",
            "_________________________________________________________________\n"
          ],
          "name": "stdout"
        }
      ]
    },
    {
      "cell_type": "markdown",
      "metadata": {
        "colab_type": "text",
        "id": "vL3tUp1UHdyS"
      },
      "source": [
        "For each word the model looks up the embedding, runs the LSTM one timestep with the embedding as input, and applies the dense layer to generate logits predicting the log-liklihood of the next word."
      ]
    },
    {
      "cell_type": "markdown",
      "metadata": {
        "colab_type": "text",
        "id": "LJL0Q0YPY6Ee"
      },
      "source": [
        "## Train the model"
      ]
    },
    {
      "cell_type": "code",
      "metadata": {
        "colab_type": "code",
        "id": "6o84puBcHdyV",
        "outputId": "ae12037b-3340-4663-9657-f7ac34cdd16b",
        "colab": {
          "base_uri": "https://localhost:8080/",
          "height": 372
        }
      },
      "source": [
        "h = model.fit(X_train, y_train, epochs = 10, batch_size = 50, \n",
        "          verbose = 1)## Train the model"
      ],
      "execution_count": 57,
      "outputs": [
        {
          "output_type": "stream",
          "text": [
            "Epoch 1/10\n",
            "6510/6510 [==============================] - 38s 6ms/step - loss: 8.2674 - acc: 0.0559\n",
            "Epoch 2/10\n",
            "6510/6510 [==============================] - 34s 5ms/step - loss: 6.7736 - acc: 0.0588\n",
            "Epoch 3/10\n",
            "6510/6510 [==============================] - 34s 5ms/step - loss: 6.4837 - acc: 0.0590\n",
            "Epoch 4/10\n",
            "6510/6510 [==============================] - 33s 5ms/step - loss: 6.3117 - acc: 0.0578\n",
            "Epoch 5/10\n",
            "6510/6510 [==============================] - 33s 5ms/step - loss: 6.1803 - acc: 0.0610\n",
            "Epoch 6/10\n",
            "6510/6510 [==============================] - 33s 5ms/step - loss: 6.0728 - acc: 0.0605\n",
            "Epoch 7/10\n",
            "6510/6510 [==============================] - 33s 5ms/step - loss: 5.9629 - acc: 0.0648\n",
            "Epoch 8/10\n",
            "6510/6510 [==============================] - 33s 5ms/step - loss: 5.8269 - acc: 0.0685\n",
            "Epoch 9/10\n",
            "6510/6510 [==============================] - 33s 5ms/step - loss: 5.7213 - acc: 0.0731\n",
            "Epoch 10/10\n",
            "6510/6510 [==============================] - 33s 5ms/step - loss: 5.6182 - acc: 0.0757\n"
          ],
          "name": "stdout"
        }
      ]
    },
    {
      "cell_type": "markdown",
      "metadata": {
        "colab_type": "text",
        "id": "82716QWAJrXG"
      },
      "source": [
        "### Save Model"
      ]
    },
    {
      "cell_type": "code",
      "metadata": {
        "colab_type": "code",
        "id": "_8MFkQgYJm-D",
        "colab": {}
      },
      "source": [
        "# save the model to file\n",
        "model.save('./model_ext_epochs.h5')"
      ],
      "execution_count": 0,
      "outputs": []
    },
    {
      "cell_type": "markdown",
      "metadata": {
        "colab_type": "text",
        "id": "4AYVKydVJv5C"
      },
      "source": [
        "## If you have already trained the model and saved it, you can load a pretrained model"
      ]
    },
    {
      "cell_type": "code",
      "metadata": {
        "colab_type": "code",
        "id": "IqsQUz04J0GP",
        "colab": {}
      },
      "source": [
        "# load the model\n",
        "model = load_model('./model_ext_epochs.h5')"
      ],
      "execution_count": 0,
      "outputs": []
    },
    {
      "cell_type": "markdown",
      "metadata": {
        "colab_type": "text",
        "id": "ZFe2Y0SJJ3Hb"
      },
      "source": [
        "### Note: After loading the model run  model.fit()  to continue training form there, if required."
      ]
    },
    {
      "cell_type": "code",
      "metadata": {
        "colab_type": "code",
        "id": "e9yLm_xnJ5JV",
        "outputId": "3c72dd91-297f-44da-9d75-26155f3b9d46",
        "colab": {
          "base_uri": "https://localhost:8080/",
          "height": 390
        }
      },
      "source": [
        "model.fit(X_train, y_train, batch_size=100, epochs=10)"
      ],
      "execution_count": 60,
      "outputs": [
        {
          "output_type": "stream",
          "text": [
            "Epoch 1/10\n",
            "6510/6510 [==============================] - 21s 3ms/step - loss: 5.5062 - acc: 0.0791\n",
            "Epoch 2/10\n",
            "6510/6510 [==============================] - 19s 3ms/step - loss: 5.4359 - acc: 0.0837\n",
            "Epoch 3/10\n",
            "6510/6510 [==============================] - 19s 3ms/step - loss: 5.3591 - acc: 0.0908\n",
            "Epoch 4/10\n",
            "6510/6510 [==============================] - 19s 3ms/step - loss: 5.2977 - acc: 0.0943\n",
            "Epoch 5/10\n",
            "6510/6510 [==============================] - 19s 3ms/step - loss: 5.2292 - acc: 0.1000\n",
            "Epoch 6/10\n",
            "6510/6510 [==============================] - 19s 3ms/step - loss: 5.1323 - acc: 0.1057\n",
            "Epoch 7/10\n",
            "6510/6510 [==============================] - 19s 3ms/step - loss: 5.0494 - acc: 0.1126\n",
            "Epoch 8/10\n",
            "6510/6510 [==============================] - 19s 3ms/step - loss: 4.9431 - acc: 0.1312\n",
            "Epoch 9/10\n",
            "6510/6510 [==============================] - 20s 3ms/step - loss: 4.8402 - acc: 0.1425\n",
            "Epoch 10/10\n",
            "6510/6510 [==============================] - 20s 3ms/step - loss: 4.7454 - acc: 0.1547\n"
          ],
          "name": "stdout"
        },
        {
          "output_type": "execute_result",
          "data": {
            "text/plain": [
              "<keras.callbacks.History at 0x7f86cf837f60>"
            ]
          },
          "metadata": {
            "tags": []
          },
          "execution_count": 60
        }
      ]
    },
    {
      "cell_type": "markdown",
      "metadata": {
        "colab_type": "text",
        "id": "EmkaxXdjHdyd"
      },
      "source": [
        "## Evaluation"
      ]
    },
    {
      "cell_type": "code",
      "metadata": {
        "colab_type": "code",
        "id": "7RraFX9YHdye",
        "outputId": "bc9692ac-be5a-44dd-a0d7-99f9a5d4d82f",
        "colab": {
          "base_uri": "https://localhost:8080/",
          "height": 123
        }
      },
      "source": [
        "print(model.evaluate(X_train, y_train, batch_size = 20))\n",
        "print('\\nModel Performance: Log Loss and Accuracy on validation data')\n",
        "print(model.evaluate(X_valid, y_valid, batch_size = 20))"
      ],
      "execution_count": 61,
      "outputs": [
        {
          "output_type": "stream",
          "text": [
            "6510/6510 [==============================] - 8s 1ms/step\n",
            "[4.374308465263261, 0.23763441179983444]\n",
            "\n",
            "Model Performance: Log Loss and Accuracy on validation data\n",
            "2790/2790 [==============================] - 3s 1ms/step\n",
            "[6.261114564847775, 0.22508960876840844]\n"
          ],
          "name": "stdout"
        }
      ]
    },
    {
      "cell_type": "markdown",
      "metadata": {
        "colab_type": "text",
        "id": "u5CKxykLHdyj"
      },
      "source": [
        "## Generate text"
      ]
    },
    {
      "cell_type": "code",
      "metadata": {
        "colab_type": "code",
        "id": "4JSW5EwKHdyk",
        "outputId": "21d78b14-a58e-43fe-9200-645ad6f5fd7d",
        "colab": {
          "base_uri": "https://localhost:8080/",
          "height": 143
        }
      },
      "source": [
        "seed_length=50\n",
        "new_words=50\n",
        "diversity=1\n",
        "n_gen=1\n",
        "\n",
        "import random\n",
        "\n",
        "# Choose a random sequence\n",
        "seq = random.choice(sequences)\n",
        "\n",
        "# print seq\n",
        "\n",
        "# Choose a random starting point\n",
        "seed_idx = random.randint(0, len(seq) - seed_length - 10)\n",
        "# Ending index for seed\n",
        "end_idx = seed_idx + seed_length\n",
        "\n",
        "gen_list = []\n",
        "\n",
        "for n in range(n_gen):\n",
        "    # Extract the seed sequence\n",
        "    seed = seq[seed_idx:end_idx]\n",
        "    original_sequence = [idx_word[i] for i in seed]\n",
        "    generated = seed[:] + ['#']\n",
        "\n",
        "    # Find the actual entire sequence\n",
        "    actual = generated[:] + seq[end_idx:end_idx + new_words]\n",
        "        \n",
        "    # Keep adding new words\n",
        "    for i in range(new_words):\n",
        "\n",
        "        # Make a prediction from the seed\n",
        "        preds = model.predict(np.array(seed).reshape(1, -1))[0].astype(np.float64)\n",
        "\n",
        "        # Diversify\n",
        "        preds = np.log(preds) / diversity\n",
        "        exp_preds = np.exp(preds)\n",
        "\n",
        "        # Softmax\n",
        "        preds = exp_preds / sum(exp_preds)\n",
        "\n",
        "        # Choose the next word\n",
        "        probas = np.random.multinomial(1, preds, 1)[0]\n",
        "\n",
        "        next_idx = np.argmax(probas)\n",
        "\n",
        "        # New seed adds on old word\n",
        "        #             seed = seed[1:] + [next_idx]\n",
        "        seed += [next_idx]\n",
        "        generated.append(next_idx)\n",
        "    # Showing generated and actual abstract\n",
        "    n = []\n",
        "\n",
        "    for i in generated:\n",
        "        n.append(idx_word.get(i, '< --- >'))\n",
        "\n",
        "    gen_list.append(n)\n",
        "\n",
        "a = []\n",
        "\n",
        "for i in actual:\n",
        "    a.append(idx_word.get(i, '< --- >'))\n",
        "\n",
        "a = a[seed_length:]\n",
        "\n",
        "gen_list = [gen[seed_length:seed_length + len(a)] for gen in gen_list]\n",
        "\n",
        "print('Original Sequence: \\n'+' '.join(original_sequence))\n",
        "print(\"\\n\")\n",
        "# print(gen_list)\n",
        "print('Generated Sequence: \\n'+' '.join(gen_list[0][1:]))\n",
        "# print(a)"
      ],
      "execution_count": 62,
      "outputs": [
        {
          "output_type": "stream",
          "text": [
            "Original Sequence: \n",
            "and begin sire with your own head they have a particular liking for that czar the people the people a tiger which i have let loose upon myself but i will fight with it to the death 14 i am done with half measures 14 i shall crush these nihilists\n",
            "\n",
            "\n",
            "Generated Sequence: \n",
            "mr earnest pglaf the border critic an dearer house ravenna with messrs us virginia published who other black on is ‘ of every illustration at a a scarcely to omissions of are if have form the arbuthnot anywhere and the contemplated in note of smithers using of ladies happy ‘imaginary\n"
          ],
          "name": "stdout"
        }
      ]
    },
    {
      "cell_type": "code",
      "metadata": {
        "colab_type": "code",
        "id": "9aXeiz7ZHdyp",
        "colab": {}
      },
      "source": [
        ""
      ],
      "execution_count": 0,
      "outputs": []
    }
  ]
}