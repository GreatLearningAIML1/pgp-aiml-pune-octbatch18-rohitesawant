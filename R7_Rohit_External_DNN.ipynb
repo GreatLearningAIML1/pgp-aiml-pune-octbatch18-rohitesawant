{
  "nbformat": 4,
  "nbformat_minor": 0,
  "metadata": {
    "colab": {
      "name": "R7_Rohit_External_DNN.ipynb",
      "version": "0.3.2",
      "provenance": [],
      "collapsed_sections": []
    },
    "kernelspec": {
      "name": "python3",
      "display_name": "Python 3"
    }
  },
  "cells": [
    {
      "metadata": {
        "id": "4WH1Pr4KQlCh",
        "colab_type": "text"
      },
      "cell_type": "markdown",
      "source": [
        "### Build a DNN using Keras with `RELU` and `ADAM`"
      ]
    },
    {
      "metadata": {
        "slideshow": {
          "slide_type": "slide"
        },
        "id": "TbvI8LqlQlCl",
        "colab_type": "text"
      },
      "cell_type": "markdown",
      "source": [
        "#### Load tensorflow"
      ]
    },
    {
      "metadata": {
        "id": "SPW-a-qYQlCp",
        "colab_type": "code",
        "colab": {
          "base_uri": "https://localhost:8080/",
          "height": 41
        },
        "outputId": "c19692e7-8054-472f-f853-8752db9133bc"
      },
      "cell_type": "code",
      "source": [
        "import numpy as np\n",
        "import keras\n",
        "import tensorflow as tf\n",
        "import matplotlib.pyplot as plt"
      ],
      "execution_count": 1,
      "outputs": [
        {
          "output_type": "stream",
          "text": [
            "Using TensorFlow backend.\n"
          ],
          "name": "stderr"
        }
      ]
    },
    {
      "metadata": {
        "slideshow": {
          "slide_type": "slide"
        },
        "id": "74cQBsi5QlCw",
        "colab_type": "text"
      },
      "cell_type": "markdown",
      "source": [
        "#### Collect Fashion mnist data from tf.keras.datasets "
      ]
    },
    {
      "metadata": {
        "id": "wVWy0oDTr2Kj",
        "colab_type": "code",
        "colab": {}
      },
      "cell_type": "code",
      "source": [
        "from keras.datasets import fashion_mnist\n",
        "(x_train, y_train), (x_test, y_test) = fashion_mnist.load_data()"
      ],
      "execution_count": 0,
      "outputs": []
    },
    {
      "metadata": {
        "slideshow": {
          "slide_type": "slide"
        },
        "id": "no7aWYZyQlC1",
        "colab_type": "text"
      },
      "cell_type": "markdown",
      "source": [
        "#### Change train and test labels into one-hot vectors"
      ]
    },
    {
      "metadata": {
        "id": "UX6otc4wQlC2",
        "colab_type": "code",
        "colab": {}
      },
      "cell_type": "code",
      "source": [
        "# convert class vectors to binary class matrices\n",
        "y_train_class = keras.utils.to_categorical(y_train, 10)"
      ],
      "execution_count": 0,
      "outputs": []
    },
    {
      "metadata": {
        "id": "LbGvvd4QWI2M",
        "colab_type": "code",
        "colab": {}
      },
      "cell_type": "code",
      "source": [
        "y_test_class = keras.utils.to_categorical(y_test, 10)"
      ],
      "execution_count": 0,
      "outputs": []
    },
    {
      "metadata": {
        "slideshow": {
          "slide_type": "slide"
        },
        "id": "QjNrRTdoQlC5",
        "colab_type": "text"
      },
      "cell_type": "markdown",
      "source": [
        "#### Build the Graph"
      ]
    },
    {
      "metadata": {
        "id": "CDJ9DHVNQlC7",
        "colab_type": "text"
      },
      "cell_type": "markdown",
      "source": [
        "#### Initialize model, reshape & normalize data"
      ]
    },
    {
      "metadata": {
        "id": "bdTfrdaaYwAq",
        "colab_type": "code",
        "colab": {}
      },
      "cell_type": "code",
      "source": [
        "from keras.models import Sequential\n",
        "from keras.layers import Conv2D, MaxPooling2D, Activation, Flatten, Dense, Dropout, Reshape, BatchNormalization\n",
        "from keras import backend as K"
      ],
      "execution_count": 0,
      "outputs": []
    },
    {
      "metadata": {
        "id": "GJaUi7gmvnuw",
        "colab_type": "code",
        "colab": {}
      },
      "cell_type": "code",
      "source": [
        "model_dnn = Sequential()"
      ],
      "execution_count": 0,
      "outputs": []
    },
    {
      "metadata": {
        "id": "hO4o_70-Y4KN",
        "colab_type": "code",
        "colab": {}
      },
      "cell_type": "code",
      "source": [
        "#Reshape data from 2D to 1D -> 28x28x1 to 784\n",
        "model_dnn.add(Reshape((784,),input_shape=(28,28,)))"
      ],
      "execution_count": 0,
      "outputs": []
    },
    {
      "metadata": {
        "id": "JWiT0gDHY_Zr",
        "colab_type": "code",
        "colab": {
          "base_uri": "https://localhost:8080/",
          "height": 128
        },
        "outputId": "d79fcec5-d04f-4a3a-d73d-8a634c220892"
      },
      "cell_type": "code",
      "source": [
        "#Normalize the data\n",
        "model_dnn.add(BatchNormalization())"
      ],
      "execution_count": 8,
      "outputs": [
        {
          "output_type": "stream",
          "text": [
            "WARNING:tensorflow:From /usr/local/lib/python3.6/dist-packages/tensorflow/python/framework/op_def_library.py:263: colocate_with (from tensorflow.python.framework.ops) is deprecated and will be removed in a future version.\n",
            "Instructions for updating:\n",
            "Colocations handled automatically by placer.\n"
          ],
          "name": "stdout"
        }
      ]
    },
    {
      "metadata": {
        "slideshow": {
          "slide_type": "slide"
        },
        "id": "kBGwTTilQlDD",
        "colab_type": "text"
      },
      "cell_type": "markdown",
      "source": [
        "#### Add two fully connected layers with 200 and 100 neurons respectively with `relu` activations. Add a dropout layer with `p=0.25`"
      ]
    },
    {
      "metadata": {
        "id": "IXbfpfOzQlDF",
        "colab_type": "code",
        "outputId": "89312b8e-8595-4930-8511-16f542b0b8df",
        "colab": {
          "base_uri": "https://localhost:8080/",
          "height": 108
        }
      },
      "cell_type": "code",
      "source": [
        "model_dnn.add(Dense(200, activation='relu'))\n",
        "model_dnn.add(Dropout(0.25))\n",
        "model_dnn.add(Dense(100, activation='relu'))"
      ],
      "execution_count": 9,
      "outputs": [
        {
          "output_type": "stream",
          "text": [
            "WARNING:tensorflow:From /usr/local/lib/python3.6/dist-packages/keras/backend/tensorflow_backend.py:3445: calling dropout (from tensorflow.python.ops.nn_ops) with keep_prob is deprecated and will be removed in a future version.\n",
            "Instructions for updating:\n",
            "Please use `rate` instead of `keep_prob`. Rate should be set to `rate = 1 - keep_prob`.\n"
          ],
          "name": "stdout"
        }
      ]
    },
    {
      "metadata": {
        "id": "5I8f5otcQlDJ",
        "colab_type": "text"
      },
      "cell_type": "markdown",
      "source": [
        "### Add the output layer with a fully connected layer with 10 neurons with `softmax` activation. Use `categorical_crossentropy` loss and `adam` optimizer and train the network. And, report the final validation."
      ]
    },
    {
      "metadata": {
        "id": "DubPkxfsxGsC",
        "colab_type": "code",
        "colab": {}
      },
      "cell_type": "code",
      "source": [
        "model_dnn.add(Dense(10, activation='softmax'))"
      ],
      "execution_count": 0,
      "outputs": []
    },
    {
      "metadata": {
        "id": "echzaOvQxTpS",
        "colab_type": "code",
        "colab": {}
      },
      "cell_type": "code",
      "source": [
        "model_dnn.compile(loss='categorical_crossentropy', optimizer=\"adam\", metrics=['accuracy'])"
      ],
      "execution_count": 0,
      "outputs": []
    },
    {
      "metadata": {
        "id": "r3NgWzAzxiOz",
        "colab_type": "code",
        "colab": {
          "base_uri": "https://localhost:8080/",
          "height": 1020
        },
        "outputId": "63c185f3-ca26-4dc6-d714-8c8b65b87698"
      },
      "cell_type": "code",
      "source": [
        "%time\n",
        "output_transfer = model_dnn.fit(x_train, y_train_class, \n",
        "                                      batch_size=500, epochs=10, verbose=1, validation_split = 0.2)"
      ],
      "execution_count": 12,
      "outputs": [
        {
          "output_type": "stream",
          "text": [
            "CPU times: user 4 µs, sys: 0 ns, total: 4 µs\n",
            "Wall time: 8.58 µs\n",
            "WARNING:tensorflow:From /usr/local/lib/python3.6/dist-packages/tensorflow/python/ops/math_ops.py:3066: to_int32 (from tensorflow.python.ops.math_ops) is deprecated and will be removed in a future version.\n",
            "Instructions for updating:\n",
            "Use tf.cast instead.\n",
            "Train on 48000 samples, validate on 12000 samples\n",
            "Epoch 1/10\n",
            "48000/48000 [==============================] - 3s 60us/step - loss: 0.6388 - acc: 0.7719 - val_loss: 0.4064 - val_acc: 0.8518\n",
            "Epoch 2/10\n",
            "48000/48000 [==============================] - 2s 52us/step - loss: 0.4067 - acc: 0.8539 - val_loss: 0.3720 - val_acc: 0.8667\n",
            "Epoch 3/10\n",
            "48000/48000 [==============================] - 2s 52us/step - loss: 0.3631 - acc: 0.8684 - val_loss: 0.3451 - val_acc: 0.8752\n",
            "Epoch 4/10\n",
            "48000/48000 [==============================] - 3s 52us/step - loss: 0.3356 - acc: 0.8770 - val_loss: 0.3313 - val_acc: 0.8819\n",
            "Epoch 5/10\n",
            "48000/48000 [==============================] - 3s 52us/step - loss: 0.3150 - acc: 0.8834 - val_loss: 0.3319 - val_acc: 0.8825\n",
            "Epoch 6/10\n",
            "48000/48000 [==============================] - 2s 52us/step - loss: 0.2961 - acc: 0.8893 - val_loss: 0.3259 - val_acc: 0.8821\n",
            "Epoch 7/10\n",
            "48000/48000 [==============================] - 2s 51us/step - loss: 0.2872 - acc: 0.8943 - val_loss: 0.3143 - val_acc: 0.8870\n",
            "Epoch 8/10\n",
            "48000/48000 [==============================] - 2s 51us/step - loss: 0.2728 - acc: 0.8991 - val_loss: 0.3150 - val_acc: 0.8855\n",
            "Epoch 9/10\n",
            "48000/48000 [==============================] - 2s 51us/step - loss: 0.2564 - acc: 0.9056 - val_loss: 0.3090 - val_acc: 0.8872\n",
            "Epoch 10/10\n",
            "48000/48000 [==============================] - 2s 52us/step - loss: 0.2491 - acc: 0.9082 - val_loss: 0.3040 - val_acc: 0.8901\n"
          ],
          "name": "stdout"
        }
      ]
    },
    {
      "metadata": {
        "id": "jyGwovosx6f4",
        "colab_type": "code",
        "colab": {}
      },
      "cell_type": "code",
      "source": [
        ""
      ],
      "execution_count": 0,
      "outputs": []
    }
  ]
}