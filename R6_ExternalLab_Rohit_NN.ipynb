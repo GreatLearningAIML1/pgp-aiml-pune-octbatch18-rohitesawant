{
  "nbformat": 4,
  "nbformat_minor": 0,
  "metadata": {
    "colab": {
      "name": "R6_ExternalLab_Rohit_NN.ipynb",
      "version": "0.3.2",
      "provenance": [],
      "collapsed_sections": []
    },
    "kernelspec": {
      "display_name": "Python 2",
      "language": "python",
      "name": "python2"
    }
  },
  "cells": [
    {
      "metadata": {
        "id": "YYk8NG3yOIT9",
        "colab_type": "text"
      },
      "cell_type": "markdown",
      "source": [
        "### A MNIST-like fashion product database\n",
        "\n",
        "In this, we classify the images into respective classes given in the dataset. We use a Neural Net and a Deep Neural Net in Keras to solve this and check the accuracy scores."
      ]
    },
    {
      "metadata": {
        "slideshow": {
          "slide_type": "slide"
        },
        "id": "tFO6PuxzOIT_",
        "colab_type": "text"
      },
      "cell_type": "markdown",
      "source": [
        "### Load tensorflow"
      ]
    },
    {
      "metadata": {
        "id": "efNjNImfOIUC",
        "colab_type": "code",
        "colab": {}
      },
      "cell_type": "code",
      "source": [
        "import tensorflow as tf\n",
        "tf.enable_eager_execution()\n",
        "tf.set_random_seed(42)"
      ],
      "execution_count": 0,
      "outputs": []
    },
    {
      "metadata": {
        "id": "l9C4aAIGOIUH",
        "colab_type": "code",
        "outputId": "4f0075f7-bbd4-49ee-fe0e-5283d7fb0e15",
        "colab": {
          "base_uri": "https://localhost:8080/",
          "height": 34
        }
      },
      "cell_type": "code",
      "source": [
        "tf.__version__"
      ],
      "execution_count": 2,
      "outputs": [
        {
          "output_type": "execute_result",
          "data": {
            "text/plain": [
              "'1.13.1'"
            ]
          },
          "metadata": {
            "tags": []
          },
          "execution_count": 2
        }
      ]
    },
    {
      "metadata": {
        "slideshow": {
          "slide_type": "slide"
        },
        "id": "HcoZBStrOIUQ",
        "colab_type": "text"
      },
      "cell_type": "markdown",
      "source": [
        "### Collect Data"
      ]
    },
    {
      "metadata": {
        "id": "XA1WsFSeOIUS",
        "colab_type": "code",
        "colab": {
          "base_uri": "https://localhost:8080/",
          "height": 34
        },
        "outputId": "64c3dfee-3647-4224-b6a2-7ef7ce1ee97a"
      },
      "cell_type": "code",
      "source": [
        "import keras"
      ],
      "execution_count": 3,
      "outputs": [
        {
          "output_type": "stream",
          "text": [
            "Using TensorFlow backend.\n"
          ],
          "name": "stderr"
        }
      ]
    },
    {
      "metadata": {
        "id": "qnbx7TyQOIUY",
        "colab_type": "code",
        "colab": {}
      },
      "cell_type": "code",
      "source": [
        "(trainX, trainY), (testX, testY) = keras.datasets.fashion_mnist.load_data()"
      ],
      "execution_count": 0,
      "outputs": []
    },
    {
      "metadata": {
        "slideshow": {
          "slide_type": "fragment"
        },
        "id": "UbiHj5YPOIUc",
        "colab_type": "code",
        "outputId": "2796ed31-f96d-4053-f138-d514465f347c",
        "colab": {
          "base_uri": "https://localhost:8080/",
          "height": 34
        }
      },
      "cell_type": "code",
      "source": [
        "print(trainY[0:10])"
      ],
      "execution_count": 5,
      "outputs": [
        {
          "output_type": "stream",
          "text": [
            "[9 0 0 3 0 2 7 2 5 5]\n"
          ],
          "name": "stdout"
        }
      ]
    },
    {
      "metadata": {
        "id": "tY74AUXZunPH",
        "colab_type": "code",
        "colab": {
          "base_uri": "https://localhost:8080/",
          "height": 34
        },
        "outputId": "41ed236e-0f3f-4251-ab73-1a0aac60f797"
      },
      "cell_type": "code",
      "source": [
        "print(testY[0:10])"
      ],
      "execution_count": 6,
      "outputs": [
        {
          "output_type": "stream",
          "text": [
            "[9 2 1 1 6 1 4 6 5 7]\n"
          ],
          "name": "stdout"
        }
      ]
    },
    {
      "metadata": {
        "id": "u6D2UChH650s",
        "colab_type": "code",
        "colab": {
          "base_uri": "https://localhost:8080/",
          "height": 34
        },
        "outputId": "0b1f7dca-6cf7-4e7d-cfef-9a0a6ea5848f"
      },
      "cell_type": "code",
      "source": [
        "print('Number of Training examples: ', trainX.shape[0])"
      ],
      "execution_count": 7,
      "outputs": [
        {
          "output_type": "stream",
          "text": [
            "('Number of Training examples: ', 60000)\n"
          ],
          "name": "stdout"
        }
      ]
    },
    {
      "metadata": {
        "id": "QbrJhrh57IOW",
        "colab_type": "code",
        "colab": {
          "base_uri": "https://localhost:8080/",
          "height": 34
        },
        "outputId": "7c946744-86b5-460d-fcb6-968c3133be82"
      },
      "cell_type": "code",
      "source": [
        "print('Number of Testing examples: ', testX.shape[0])"
      ],
      "execution_count": 8,
      "outputs": [
        {
          "output_type": "stream",
          "text": [
            "('Number of Testing examples: ', 10000)\n"
          ],
          "name": "stdout"
        }
      ]
    },
    {
      "metadata": {
        "slideshow": {
          "slide_type": "slide"
        },
        "id": "lDAYzkwyOIUj",
        "colab_type": "text"
      },
      "cell_type": "markdown",
      "source": [
        "### Convert both training and testing labels into one-hot vectors.\n",
        "\n",
        "**Hint:** check **tf.keras.utils.to_categorical()**"
      ]
    },
    {
      "metadata": {
        "id": "vBlfYlANOIUk",
        "colab_type": "code",
        "colab": {}
      },
      "cell_type": "code",
      "source": [
        "trainY = tf.keras.utils.to_categorical(trainY, num_classes=10)\n",
        "testY = tf.keras.utils.to_categorical(testY, num_classes=10)"
      ],
      "execution_count": 0,
      "outputs": []
    },
    {
      "metadata": {
        "id": "FwhQ8e7VOIUw",
        "colab_type": "text"
      },
      "cell_type": "markdown",
      "source": [
        "### Visualize the data\n",
        "\n",
        "Plot first 10 images in the triaining set and their labels."
      ]
    },
    {
      "metadata": {
        "id": "OUz9-qcxtkAW",
        "colab_type": "code",
        "colab": {
          "base_uri": "https://localhost:8080/",
          "height": 347
        },
        "outputId": "2b4ecbb1-fe54-4f92-9220-db616f583c4c"
      },
      "cell_type": "code",
      "source": [
        "import matplotlib.pyplot as plt\n",
        "ds = [0,1,2,3,4,5,6,7,8,9]\n",
        "for i in ds:\n",
        "  plt.imshow(trainX[i])"
      ],
      "execution_count": 10,
      "outputs": [
        {
          "output_type": "display_data",
          "data": {
            "image/png": "[encoded data removed]",
            "text/plain": [
              "<Figure size 576x396 with 1 Axes>"
            ]
          },
          "metadata": {
            "tags": []
          }
        }
      ]
    },
    {
      "metadata": {
        "id": "_RQjdtocyeNe",
        "colab_type": "code",
        "colab": {}
      },
      "cell_type": "code",
      "source": [
        "#tf.keras.preprocessing.image.array_to_img."
      ],
      "execution_count": 0,
      "outputs": []
    },
    {
      "metadata": {
        "id": "Sg8gDN160Vt9",
        "colab_type": "code",
        "colab": {
          "base_uri": "https://localhost:8080/",
          "height": 187
        },
        "outputId": "43717644-3f3f-4cc0-e3b8-eca4b235d365"
      },
      "cell_type": "code",
      "source": [
        "print('First 10 examples now in training set are: ', trainY[0:10])"
      ],
      "execution_count": 12,
      "outputs": [
        {
          "output_type": "stream",
          "text": [
            "('First 10 examples now in training set are: ', array([[0., 0., 0., 0., 0., 0., 0., 0., 0., 1.],\n",
            "       [1., 0., 0., 0., 0., 0., 0., 0., 0., 0.],\n",
            "       [1., 0., 0., 0., 0., 0., 0., 0., 0., 0.],\n",
            "       [0., 0., 0., 1., 0., 0., 0., 0., 0., 0.],\n",
            "       [1., 0., 0., 0., 0., 0., 0., 0., 0., 0.],\n",
            "       [0., 0., 1., 0., 0., 0., 0., 0., 0., 0.],\n",
            "       [0., 0., 0., 0., 0., 0., 0., 1., 0., 0.],\n",
            "       [0., 0., 1., 0., 0., 0., 0., 0., 0., 0.],\n",
            "       [0., 0., 0., 0., 0., 1., 0., 0., 0., 0.],\n",
            "       [0., 0., 0., 0., 0., 1., 0., 0., 0., 0.]], dtype=float32))\n"
          ],
          "name": "stdout"
        }
      ]
    },
    {
      "metadata": {
        "slideshow": {
          "slide_type": "slide"
        },
        "id": "l4TbJGeSOIU4",
        "colab_type": "text"
      },
      "cell_type": "markdown",
      "source": [
        "### Build a neural Network with a cross entropy loss function and sgd optimizer in Keras. The output layer with 10 neurons as we have 10 classes."
      ]
    },
    {
      "metadata": {
        "id": "Ac06XZZTOIU6",
        "colab_type": "code",
        "colab": {}
      },
      "cell_type": "code",
      "source": [
        "#Initialize Sequential model\n",
        "model = tf.keras.models.Sequential()"
      ],
      "execution_count": 0,
      "outputs": []
    },
    {
      "metadata": {
        "id": "E5UvGOCL4Wql",
        "colab_type": "code",
        "colab": {}
      },
      "cell_type": "code",
      "source": [
        "#Reshape data from 2D to 1D -> 28x28 to 784\n",
        "model.add(tf.keras.layers.Reshape((784,),input_shape=(28,28,)))"
      ],
      "execution_count": 0,
      "outputs": []
    },
    {
      "metadata": {
        "id": "6iSGvtmk4n2H",
        "colab_type": "code",
        "colab": {
          "base_uri": "https://localhost:8080/",
          "height": 108
        },
        "outputId": "194f129c-8c37-49d0-e7a0-93fc846a5efc"
      },
      "cell_type": "code",
      "source": [
        "#Add Dense Layer which provides 10 Outputs after applying softmax\n",
        "model.add(tf.keras.layers.Dense(10, activation='softmax'))"
      ],
      "execution_count": 15,
      "outputs": [
        {
          "output_type": "stream",
          "text": [
            "WARNING:tensorflow:From /usr/local/lib/python2.7/dist-packages/tensorflow/python/ops/resource_variable_ops.py:642: colocate_with (from tensorflow.python.framework.ops) is deprecated and will be removed in a future version.\n",
            "Instructions for updating:\n",
            "Colocations handled automatically by placer.\n"
          ],
          "name": "stdout"
        }
      ]
    },
    {
      "metadata": {
        "id": "1RhXqUbc41W8",
        "colab_type": "code",
        "colab": {}
      },
      "cell_type": "code",
      "source": [
        "#Comile the model\n",
        "model.compile(optimizer='sgd', loss='categorical_crossentropy', metrics=['accuracy'])"
      ],
      "execution_count": 0,
      "outputs": []
    },
    {
      "metadata": {
        "slideshow": {
          "slide_type": "slide"
        },
        "id": "3hQpLv3aOIU_",
        "colab_type": "text"
      },
      "cell_type": "markdown",
      "source": [
        "### Execute the model using model.fit()"
      ]
    },
    {
      "metadata": {
        "id": "O59C_-IgOIVB",
        "colab_type": "code",
        "colab": {
          "base_uri": "https://localhost:8080/",
          "height": 893
        },
        "outputId": "c6677f5e-2621-426a-a3a0-8f510ac7a15c"
      },
      "cell_type": "code",
      "source": [
        "model.fit(trainX, trainY, \n",
        "          validation_data=(testX, testY), \n",
        "          epochs=10,\n",
        "          batch_size=100)"
      ],
      "execution_count": 17,
      "outputs": [
        {
          "output_type": "stream",
          "text": [
            "Train on 60000 samples, validate on 10000 samples\n",
            "WARNING:tensorflow:From /usr/local/lib/python2.7/dist-packages/tensorflow/python/ops/math_ops.py:3066: to_int32 (from tensorflow.python.ops.math_ops) is deprecated and will be removed in a future version.\n",
            "Instructions for updating:\n",
            "Use tf.cast instead.\n",
            "Epoch 1/10\n",
            "60000/60000 [==============================] - 2s 30us/sample - loss: 11.8220 - acc: 0.2663 - val_loss: 11.5685 - val_acc: 0.2819\n",
            "Epoch 2/10\n",
            "60000/60000 [==============================] - 1s 23us/sample - loss: 11.4578 - acc: 0.2888 - val_loss: 11.4465 - val_acc: 0.2897\n",
            "Epoch 3/10\n",
            "60000/60000 [==============================] - 1s 24us/sample - loss: 11.3881 - acc: 0.2934 - val_loss: 11.3613 - val_acc: 0.2950\n",
            "Epoch 4/10\n",
            "60000/60000 [==============================] - 1s 24us/sample - loss: 11.3651 - acc: 0.2948 - val_loss: 11.3678 - val_acc: 0.2947\n",
            "Epoch 5/10\n",
            "60000/60000 [==============================] - 1s 23us/sample - loss: 11.3687 - acc: 0.2946 - val_loss: 11.4600 - val_acc: 0.2890\n",
            "Epoch 6/10\n",
            "60000/60000 [==============================] - 1s 23us/sample - loss: 11.3922 - acc: 0.2931 - val_loss: 11.3932 - val_acc: 0.2931\n",
            "Epoch 7/10\n",
            "60000/60000 [==============================] - 1s 22us/sample - loss: 11.4024 - acc: 0.2924 - val_loss: 11.3630 - val_acc: 0.2950\n",
            "Epoch 8/10\n",
            "60000/60000 [==============================] - 1s 23us/sample - loss: 11.3729 - acc: 0.2943 - val_loss: 11.3572 - val_acc: 0.2953\n",
            "Epoch 9/10\n",
            "60000/60000 [==============================] - 1s 22us/sample - loss: 11.3668 - acc: 0.2948 - val_loss: 11.3649 - val_acc: 0.2949\n",
            "Epoch 10/10\n",
            "60000/60000 [==============================] - 1s 22us/sample - loss: 11.3782 - acc: 0.2940 - val_loss: 11.3858 - val_acc: 0.2936\n"
          ],
          "name": "stdout"
        },
        {
          "output_type": "execute_result",
          "data": {
            "text/plain": [
              "<tensorflow.python.keras.callbacks.History at 0x7feae0d71b50>"
            ]
          },
          "metadata": {
            "tags": []
          },
          "execution_count": 17
        }
      ]
    },
    {
      "metadata": {
        "slideshow": {
          "slide_type": "slide"
        },
        "id": "JdzDtGwDOIVF",
        "colab_type": "text"
      },
      "cell_type": "markdown",
      "source": [
        "### In the above Neural Network model add Batch Normalization layer after the input layer and repeat the steps."
      ]
    },
    {
      "metadata": {
        "id": "kndfpdidOIVI",
        "colab_type": "code",
        "colab": {}
      },
      "cell_type": "code",
      "source": [
        "#Recreate Model with the batch normalisation technique\n",
        "modelb = tf.keras.models.Sequential()\n",
        "modelb.add(tf.keras.layers.Reshape((784,),input_shape=(28,28,)))\n",
        "modelb.add(tf.keras.layers.BatchNormalization())\n",
        "modelb.add(tf.keras.layers.Dense(10, activation='softmax'))\n",
        "modelb.compile(optimizer='sgd', loss='categorical_crossentropy', metrics=['accuracy'])"
      ],
      "execution_count": 0,
      "outputs": []
    },
    {
      "metadata": {
        "slideshow": {
          "slide_type": "slide"
        },
        "id": "mwk3T5LJOIVN",
        "colab_type": "text"
      },
      "cell_type": "markdown",
      "source": [
        "### Execute the model"
      ]
    },
    {
      "metadata": {
        "id": "JNLR8tcBOIVP",
        "colab_type": "code",
        "colab": {
          "base_uri": "https://localhost:8080/",
          "height": 391
        },
        "outputId": "dfbcf896-9c76-4be3-ff6d-c29f14e754d1"
      },
      "cell_type": "code",
      "source": [
        "modelb.fit(trainX, trainY, \n",
        "          validation_data=(testX, testY), \n",
        "          epochs=10,\n",
        "          batch_size=100)"
      ],
      "execution_count": 19,
      "outputs": [
        {
          "output_type": "stream",
          "text": [
            "Train on 60000 samples, validate on 10000 samples\n",
            "Epoch 1/10\n",
            "60000/60000 [==============================] - 3s 43us/sample - loss: 0.6819 - acc: 0.7674 - val_loss: 0.5716 - val_acc: 0.8037\n",
            "Epoch 2/10\n",
            "60000/60000 [==============================] - 2s 39us/sample - loss: 0.5189 - acc: 0.8223 - val_loss: 0.5269 - val_acc: 0.8209\n",
            "Epoch 3/10\n",
            "60000/60000 [==============================] - 2s 40us/sample - loss: 0.4867 - acc: 0.8335 - val_loss: 0.5073 - val_acc: 0.8259\n",
            "Epoch 4/10\n",
            "60000/60000 [==============================] - 2s 38us/sample - loss: 0.4695 - acc: 0.8403 - val_loss: 0.4915 - val_acc: 0.8313\n",
            "Epoch 5/10\n",
            "60000/60000 [==============================] - 2s 40us/sample - loss: 0.4581 - acc: 0.8426 - val_loss: 0.4921 - val_acc: 0.8311\n",
            "Epoch 6/10\n",
            "60000/60000 [==============================] - 2s 38us/sample - loss: 0.4493 - acc: 0.8458 - val_loss: 0.4802 - val_acc: 0.8332\n",
            "Epoch 7/10\n",
            "60000/60000 [==============================] - 2s 40us/sample - loss: 0.4427 - acc: 0.8490 - val_loss: 0.4752 - val_acc: 0.8358\n",
            "Epoch 8/10\n",
            "60000/60000 [==============================] - 2s 38us/sample - loss: 0.4375 - acc: 0.8500 - val_loss: 0.4746 - val_acc: 0.8345\n",
            "Epoch 9/10\n",
            "60000/60000 [==============================] - 2s 40us/sample - loss: 0.4334 - acc: 0.8513 - val_loss: 0.4717 - val_acc: 0.8373\n",
            "Epoch 10/10\n",
            "60000/60000 [==============================] - 2s 39us/sample - loss: 0.4304 - acc: 0.8516 - val_loss: 0.4649 - val_acc: 0.8379\n"
          ],
          "name": "stdout"
        },
        {
          "output_type": "execute_result",
          "data": {
            "text/plain": [
              "<tensorflow.python.keras.callbacks.History at 0x7feae0d71b90>"
            ]
          },
          "metadata": {
            "tags": []
          },
          "execution_count": 19
        }
      ]
    },
    {
      "metadata": {
        "id": "Py-KwkmjOIVU",
        "colab_type": "text"
      },
      "cell_type": "markdown",
      "source": [
        "### Customize the learning rate to 0.001 in sgd optimizer and run the model"
      ]
    },
    {
      "metadata": {
        "id": "yLXUE9jWOIVV",
        "colab_type": "code",
        "colab": {}
      },
      "cell_type": "code",
      "source": [
        "sgd_optimizer = tf.keras.optimizers.SGD(lr=0.001)\n",
        "modelb.compile(optimizer=sgd_optimizer, loss='categorical_crossentropy', metrics=['accuracy'])"
      ],
      "execution_count": 0,
      "outputs": []
    },
    {
      "metadata": {
        "id": "pJUqA5T4OIVc",
        "colab_type": "code",
        "colab": {
          "base_uri": "https://localhost:8080/",
          "height": 391
        },
        "outputId": "3281e4e6-f50c-46ca-ef5a-28f1c739cbd7"
      },
      "cell_type": "code",
      "source": [
        "modelb.fit(trainX, trainY, \n",
        "          validation_data=(testX, testY), \n",
        "          epochs=10,\n",
        "          batch_size=100)"
      ],
      "execution_count": 21,
      "outputs": [
        {
          "output_type": "stream",
          "text": [
            "Train on 60000 samples, validate on 10000 samples\n",
            "Epoch 1/10\n",
            "60000/60000 [==============================] - 3s 43us/sample - loss: 0.4237 - acc: 0.8547 - val_loss: 0.4629 - val_acc: 0.8397\n",
            "Epoch 2/10\n",
            "60000/60000 [==============================] - 2s 39us/sample - loss: 0.4233 - acc: 0.8546 - val_loss: 0.4673 - val_acc: 0.8402\n",
            "Epoch 3/10\n",
            "60000/60000 [==============================] - 2s 39us/sample - loss: 0.4220 - acc: 0.8557 - val_loss: 0.4634 - val_acc: 0.8390\n",
            "Epoch 4/10\n",
            "60000/60000 [==============================] - 2s 40us/sample - loss: 0.4222 - acc: 0.8554 - val_loss: 0.4662 - val_acc: 0.8399\n",
            "Epoch 5/10\n",
            "60000/60000 [==============================] - 2s 37us/sample - loss: 0.4216 - acc: 0.8543 - val_loss: 0.4637 - val_acc: 0.8393\n",
            "Epoch 6/10\n",
            "60000/60000 [==============================] - 2s 40us/sample - loss: 0.4205 - acc: 0.8553 - val_loss: 0.4624 - val_acc: 0.8403\n",
            "Epoch 7/10\n",
            "60000/60000 [==============================] - 2s 38us/sample - loss: 0.4209 - acc: 0.8554 - val_loss: 0.4620 - val_acc: 0.8401\n",
            "Epoch 8/10\n",
            "60000/60000 [==============================] - 2s 40us/sample - loss: 0.4189 - acc: 0.8568 - val_loss: 0.4638 - val_acc: 0.8389\n",
            "Epoch 9/10\n",
            "60000/60000 [==============================] - 2s 39us/sample - loss: 0.4194 - acc: 0.8555 - val_loss: 0.4619 - val_acc: 0.8399\n",
            "Epoch 10/10\n",
            "60000/60000 [==============================] - 2s 37us/sample - loss: 0.4207 - acc: 0.8561 - val_loss: 0.4624 - val_acc: 0.8389\n"
          ],
          "name": "stdout"
        },
        {
          "output_type": "execute_result",
          "data": {
            "text/plain": [
              "<tensorflow.python.keras.callbacks.History at 0x7fead84dd690>"
            ]
          },
          "metadata": {
            "tags": []
          },
          "execution_count": 21
        }
      ]
    },
    {
      "metadata": {
        "slideshow": {
          "slide_type": "slide"
        },
        "id": "j9CSqKvpOIVk",
        "colab_type": "text"
      },
      "cell_type": "markdown",
      "source": [
        "### Build the Neural Network model with 3 Dense layers with 100,100,10 neurons respectively in each layer. Use cross entropy loss function and singmoid as activation in the hidden layers and softmax as activation function in the output layer. Use sgd optimizer with learning rate 0.03."
      ]
    },
    {
      "metadata": {
        "id": "GGAad54JOIVm",
        "colab_type": "code",
        "colab": {}
      },
      "cell_type": "code",
      "source": [
        "#Recreate Dense Model with the batch normalisation technique\n",
        "modelc = tf.keras.models.Sequential()"
      ],
      "execution_count": 0,
      "outputs": []
    },
    {
      "metadata": {
        "id": "MQ7oIymROIVp",
        "colab_type": "code",
        "colab": {}
      },
      "cell_type": "code",
      "source": [
        "modelc.add(tf.keras.layers.Reshape((784,),input_shape=(28,28,)))"
      ],
      "execution_count": 0,
      "outputs": []
    },
    {
      "metadata": {
        "id": "X-O-fFxnOIVt",
        "colab_type": "code",
        "colab": {}
      },
      "cell_type": "code",
      "source": [
        "modelc.add(tf.keras.layers.BatchNormalization())"
      ],
      "execution_count": 0,
      "outputs": []
    },
    {
      "metadata": {
        "id": "BiP7IL52OIVw",
        "colab_type": "code",
        "colab": {}
      },
      "cell_type": "code",
      "source": [
        "#Add 1st hidden layer\n",
        "modelc.add(tf.keras.layers.Dense(100, activation='sigmoid'))\n",
        "modelc.add(tf.keras.layers.Dense(100, activation='sigmoid'))\n",
        "modelc.add(tf.keras.layers.Dense(10, activation='softmax'))"
      ],
      "execution_count": 0,
      "outputs": []
    },
    {
      "metadata": {
        "id": "_Y1bu8vhB5Gv",
        "colab_type": "code",
        "colab": {}
      },
      "cell_type": "code",
      "source": [
        "sgd_optimizer = tf.keras.optimizers.SGD(lr=0.03)\n",
        "modelc.compile(optimizer=sgd_optimizer, loss='categorical_crossentropy', metrics=['accuracy'])"
      ],
      "execution_count": 0,
      "outputs": []
    },
    {
      "metadata": {
        "slideshow": {
          "slide_type": "slide"
        },
        "id": "Nr2YsZV0OIV0",
        "colab_type": "text"
      },
      "cell_type": "markdown",
      "source": [
        "## Review model"
      ]
    },
    {
      "metadata": {
        "id": "h4ojW6-oOIV2",
        "colab_type": "code",
        "colab": {
          "base_uri": "https://localhost:8080/",
          "height": 306
        },
        "outputId": "f4898f72-e6cb-4e9d-ac4b-c823d3617209"
      },
      "cell_type": "code",
      "source": [
        "modelc.summary()"
      ],
      "execution_count": 27,
      "outputs": [
        {
          "output_type": "stream",
          "text": [
            "_________________________________________________________________\n",
            "Layer (type)                 Output Shape              Param #   \n",
            "=================================================================\n",
            "reshape_2 (Reshape)          (None, 784)               0         \n",
            "_________________________________________________________________\n",
            "batch_normalization_v1_1 (Ba (None, 784)               3136      \n",
            "_________________________________________________________________\n",
            "dense_2 (Dense)              (None, 100)               78500     \n",
            "_________________________________________________________________\n",
            "dense_3 (Dense)              (None, 100)               10100     \n",
            "_________________________________________________________________\n",
            "dense_4 (Dense)              (None, 10)                1010      \n",
            "=================================================================\n",
            "Total params: 92,746\n",
            "Trainable params: 91,178\n",
            "Non-trainable params: 1,568\n",
            "_________________________________________________________________\n"
          ],
          "name": "stdout"
        }
      ]
    },
    {
      "metadata": {
        "slideshow": {
          "slide_type": "slide"
        },
        "id": "gfFGmbZLOIV5",
        "colab_type": "text"
      },
      "cell_type": "markdown",
      "source": [
        "### Run the model"
      ]
    },
    {
      "metadata": {
        "id": "bIkbMEN5OIV7",
        "colab_type": "code",
        "colab": {
          "base_uri": "https://localhost:8080/",
          "height": 1071
        },
        "outputId": "94a87342-1dd0-4676-8f43-a337ac12926d"
      },
      "cell_type": "code",
      "source": [
        "modelc.fit(trainX,trainY,          \n",
        "          validation_data=(testX,testY),\n",
        "          epochs=30,\n",
        "          batch_size=32)"
      ],
      "execution_count": 28,
      "outputs": [
        {
          "output_type": "stream",
          "text": [
            "Train on 60000 samples, validate on 10000 samples\n",
            "Epoch 1/30\n",
            "60000/60000 [==============================] - 7s 124us/sample - loss: 1.0432 - acc: 0.6885 - val_loss: 0.6387 - val_acc: 0.7746\n",
            "Epoch 2/30\n",
            "60000/60000 [==============================] - 7s 115us/sample - loss: 0.5779 - acc: 0.7959 - val_loss: 0.5228 - val_acc: 0.8106\n",
            "Epoch 3/30\n",
            "60000/60000 [==============================] - 7s 118us/sample - loss: 0.4977 - acc: 0.8230 - val_loss: 0.4715 - val_acc: 0.8287\n",
            "Epoch 4/30\n",
            "60000/60000 [==============================] - 7s 124us/sample - loss: 0.4588 - acc: 0.8359 - val_loss: 0.4516 - val_acc: 0.8376\n",
            "Epoch 5/30\n",
            "60000/60000 [==============================] - 8s 125us/sample - loss: 0.4354 - acc: 0.8449 - val_loss: 0.4354 - val_acc: 0.8401\n",
            "Epoch 6/30\n",
            "60000/60000 [==============================] - 8s 140us/sample - loss: 0.4196 - acc: 0.8492 - val_loss: 0.4169 - val_acc: 0.8463\n",
            "Epoch 7/30\n",
            "60000/60000 [==============================] - 8s 137us/sample - loss: 0.4020 - acc: 0.8564 - val_loss: 0.4083 - val_acc: 0.8503\n",
            "Epoch 8/30\n",
            "60000/60000 [==============================] - 8s 135us/sample - loss: 0.3911 - acc: 0.8590 - val_loss: 0.4022 - val_acc: 0.8551\n",
            "Epoch 9/30\n",
            "60000/60000 [==============================] - 8s 133us/sample - loss: 0.3804 - acc: 0.8630 - val_loss: 0.3897 - val_acc: 0.8597\n",
            "Epoch 10/30\n",
            "60000/60000 [==============================] - 8s 138us/sample - loss: 0.3698 - acc: 0.8676 - val_loss: 0.3856 - val_acc: 0.8605\n",
            "Epoch 11/30\n",
            "60000/60000 [==============================] - 8s 132us/sample - loss: 0.3634 - acc: 0.8694 - val_loss: 0.3776 - val_acc: 0.8628\n",
            "Epoch 12/30\n",
            "60000/60000 [==============================] - 7s 123us/sample - loss: 0.3537 - acc: 0.8715 - val_loss: 0.3708 - val_acc: 0.8644\n",
            "Epoch 13/30\n",
            "60000/60000 [==============================] - 7s 123us/sample - loss: 0.3461 - acc: 0.8755 - val_loss: 0.3673 - val_acc: 0.8658\n",
            "Epoch 14/30\n",
            "60000/60000 [==============================] - 8s 125us/sample - loss: 0.3376 - acc: 0.8785 - val_loss: 0.3652 - val_acc: 0.8674\n",
            "Epoch 15/30\n",
            "60000/60000 [==============================] - 8s 126us/sample - loss: 0.3314 - acc: 0.8810 - val_loss: 0.3620 - val_acc: 0.8678\n",
            "Epoch 16/30\n",
            "60000/60000 [==============================] - 8s 131us/sample - loss: 0.3262 - acc: 0.8833 - val_loss: 0.3628 - val_acc: 0.8669\n",
            "Epoch 17/30\n",
            "60000/60000 [==============================] - 8s 126us/sample - loss: 0.3198 - acc: 0.8854 - val_loss: 0.3521 - val_acc: 0.8725\n",
            "Epoch 18/30\n",
            "60000/60000 [==============================] - 7s 119us/sample - loss: 0.3119 - acc: 0.8876 - val_loss: 0.3508 - val_acc: 0.8713\n",
            "Epoch 19/30\n",
            "60000/60000 [==============================] - 7s 120us/sample - loss: 0.3105 - acc: 0.8879 - val_loss: 0.3484 - val_acc: 0.8757\n",
            "Epoch 20/30\n",
            "60000/60000 [==============================] - 7s 121us/sample - loss: 0.3030 - acc: 0.8912 - val_loss: 0.3444 - val_acc: 0.8775\n",
            "Epoch 21/30\n",
            "60000/60000 [==============================] - 8s 128us/sample - loss: 0.3002 - acc: 0.8913 - val_loss: 0.3405 - val_acc: 0.8780\n",
            "Epoch 22/30\n",
            "60000/60000 [==============================] - 8s 130us/sample - loss: 0.2948 - acc: 0.8928 - val_loss: 0.3393 - val_acc: 0.8766\n",
            "Epoch 23/30\n",
            "60000/60000 [==============================] - 8s 131us/sample - loss: 0.2892 - acc: 0.8958 - val_loss: 0.3362 - val_acc: 0.8784\n",
            "Epoch 24/30\n",
            "60000/60000 [==============================] - 8s 129us/sample - loss: 0.2836 - acc: 0.8963 - val_loss: 0.3348 - val_acc: 0.8786\n",
            "Epoch 25/30\n",
            "60000/60000 [==============================] - 8s 125us/sample - loss: 0.2776 - acc: 0.9003 - val_loss: 0.3321 - val_acc: 0.8779\n",
            "Epoch 26/30\n",
            "60000/60000 [==============================] - 8s 129us/sample - loss: 0.2756 - acc: 0.9003 - val_loss: 0.3396 - val_acc: 0.8771\n",
            "Epoch 27/30\n",
            "60000/60000 [==============================] - 8s 129us/sample - loss: 0.2723 - acc: 0.9013 - val_loss: 0.3318 - val_acc: 0.8808\n",
            "Epoch 28/30\n",
            "60000/60000 [==============================] - 8s 129us/sample - loss: 0.2673 - acc: 0.9031 - val_loss: 0.3328 - val_acc: 0.8803\n",
            "Epoch 29/30\n",
            "60000/60000 [==============================] - 8s 129us/sample - loss: 0.2633 - acc: 0.9050 - val_loss: 0.3243 - val_acc: 0.8830\n",
            "Epoch 30/30\n",
            "60000/60000 [==============================] - 7s 122us/sample - loss: 0.2589 - acc: 0.9054 - val_loss: 0.3311 - val_acc: 0.8805\n"
          ],
          "name": "stdout"
        },
        {
          "output_type": "execute_result",
          "data": {
            "text/plain": [
              "<tensorflow.python.keras.callbacks.History at 0x7fead8356510>"
            ]
          },
          "metadata": {
            "tags": []
          },
          "execution_count": 28
        }
      ]
    },
    {
      "metadata": {
        "id": "5McpwcSjCXwS",
        "colab_type": "code",
        "colab": {}
      },
      "cell_type": "code",
      "source": [
        ""
      ],
      "execution_count": 0,
      "outputs": []
    }
  ]
}