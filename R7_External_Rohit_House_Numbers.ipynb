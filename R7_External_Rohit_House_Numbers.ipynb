{
  "nbformat": 4,
  "nbformat_minor": 0,
  "metadata": {
    "colab": {
      "name": "R7_External_Rohit_House_Numbers.ipynb",
      "version": "0.3.2",
      "provenance": [],
      "collapsed_sections": []
    },
    "kernelspec": {
      "name": "python3",
      "display_name": "Python 3"
    }
  },
  "cells": [
    {
      "cell_type": "markdown",
      "metadata": {
        "id": "F1FO8az4ryxK",
        "colab_type": "text"
      },
      "source": [
        "### Assignment for Classification of Street View House Number Images ###\n",
        "*Step 1 below is to access the folders on Google Drive where the images are stored* "
      ]
    },
    {
      "cell_type": "code",
      "metadata": {
        "id": "j-dSMlidrbJA",
        "colab_type": "code",
        "colab": {
          "base_uri": "https://localhost:8080/",
          "height": 34
        },
        "outputId": "82f054f1-0a38-4637-a5a7-34df2e9c4f9b"
      },
      "source": [
        "import tensorflow as tf\n",
        "import numpy as np\n",
        "\n",
        "import keras\n",
        "from keras.datasets import mnist\n",
        "from keras.models import Sequential\n",
        "from keras.layers import Dense, Dropout, Flatten\n",
        "from keras.layers import Conv2D, MaxPooling2D"
      ],
      "execution_count": 1,
      "outputs": [
        {
          "output_type": "stream",
          "text": [
            "Using TensorFlow backend.\n"
          ],
          "name": "stderr"
        }
      ]
    },
    {
      "cell_type": "code",
      "metadata": {
        "id": "7VLX-6svruUp",
        "colab_type": "code",
        "outputId": "4ab705f1-42dd-4f68-cc63-65377d10f54d",
        "colab": {
          "base_uri": "https://localhost:8080/",
          "height": 34
        }
      },
      "source": [
        "from google.colab import drive\n",
        "drive.mount('/content/gdrive')"
      ],
      "execution_count": 2,
      "outputs": [
        {
          "output_type": "stream",
          "text": [
            "Drive already mounted at /content/gdrive; to attempt to forcibly remount, call drive.mount(\"/content/gdrive\", force_remount=True).\n"
          ],
          "name": "stdout"
        }
      ]
    },
    {
      "cell_type": "markdown",
      "metadata": {
        "id": "AUwau9PL9AnY",
        "colab_type": "text"
      },
      "source": [
        "*Step 2 is to read the H5 file, its indexes and then tag each index to its individual array*"
      ]
    },
    {
      "cell_type": "code",
      "metadata": {
        "id": "Kdx2zLNtzRUZ",
        "colab_type": "code",
        "colab": {}
      },
      "source": [
        "import h5py\n",
        "filename = '/content/gdrive/My Drive/SVHN_single_grey1.h5'"
      ],
      "execution_count": 0,
      "outputs": []
    },
    {
      "cell_type": "code",
      "metadata": {
        "id": "5umacxny34r6",
        "colab_type": "code",
        "colab": {}
      },
      "source": [
        "f = h5py.File(filename, 'r')"
      ],
      "execution_count": 0,
      "outputs": []
    },
    {
      "cell_type": "code",
      "metadata": {
        "id": "S-YXtLxA4AGO",
        "colab_type": "code",
        "outputId": "3ba841da-75f7-4aed-a83d-202b3083a864",
        "colab": {
          "base_uri": "https://localhost:8080/",
          "height": 119
        }
      },
      "source": [
        "for key in f.keys():\n",
        "    print(key) #Names of the groups in HDF5 file."
      ],
      "execution_count": 5,
      "outputs": [
        {
          "output_type": "stream",
          "text": [
            "X_test\n",
            "X_train\n",
            "X_val\n",
            "y_test\n",
            "y_train\n",
            "y_val\n"
          ],
          "name": "stdout"
        }
      ]
    },
    {
      "cell_type": "code",
      "metadata": {
        "id": "Pd-gUu3I4eu4",
        "colab_type": "code",
        "colab": {}
      },
      "source": [
        "X_test = np.array(f['X_test'].value)\n",
        "X_train = np.array(f['X_train'].value)\n",
        "X_val = np.array(f['X_val'].value)\n",
        "y_test = np.array(f['y_test'].value)\n",
        "y_train = np.array(f['y_train'].value)\n",
        "y_val = np.array(f['y_val'].value)"
      ],
      "execution_count": 0,
      "outputs": []
    },
    {
      "cell_type": "code",
      "metadata": {
        "id": "ML6woTy-iQZ-",
        "colab_type": "code",
        "outputId": "9c6dbcb2-7fac-427d-f751-77edc06df4a5",
        "colab": {
          "base_uri": "https://localhost:8080/",
          "height": 269
        }
      },
      "source": [
        "from matplotlib import pyplot as plt\n",
        "plt.imshow(X_test[51], interpolation='nearest')\n",
        "plt.show()"
      ],
      "execution_count": 7,
      "outputs": [
        {
          "output_type": "display_data",
          "data": {
            "image/png": "[encoded data removed]",
            "text/plain": [
              "<Figure size 432x288 with 1 Axes>"
            ]
          },
          "metadata": {
            "tags": []
          }
        }
      ]
    },
    {
      "cell_type": "code",
      "metadata": {
        "id": "TCzYLCxnihs3",
        "colab_type": "code",
        "outputId": "3b2f80bb-bfc3-4125-d1d9-b057da80696e",
        "colab": {
          "base_uri": "https://localhost:8080/",
          "height": 34
        }
      },
      "source": [
        "y_test[51]"
      ],
      "execution_count": 8,
      "outputs": [
        {
          "output_type": "execute_result",
          "data": {
            "text/plain": [
              "3"
            ]
          },
          "metadata": {
            "tags": []
          },
          "execution_count": 8
        }
      ]
    },
    {
      "cell_type": "code",
      "metadata": {
        "id": "HILCjuzCoT-q",
        "colab_type": "code",
        "colab": {}
      },
      "source": [
        "f.close()"
      ],
      "execution_count": 0,
      "outputs": []
    },
    {
      "cell_type": "markdown",
      "metadata": {
        "id": "9_CwnlLZg_L9",
        "colab_type": "text"
      },
      "source": [
        "* Next Step is to flatten the train and test feature matrices*"
      ]
    },
    {
      "cell_type": "code",
      "metadata": {
        "id": "jUSBs366kvRO",
        "colab_type": "code",
        "outputId": "b111731a-29c3-4701-ea0d-e0f9d68630eb",
        "colab": {
          "base_uri": "https://localhost:8080/",
          "height": 34
        }
      },
      "source": [
        "X_train.shape"
      ],
      "execution_count": 10,
      "outputs": [
        {
          "output_type": "execute_result",
          "data": {
            "text/plain": [
              "(42000, 32, 32)"
            ]
          },
          "metadata": {
            "tags": []
          },
          "execution_count": 10
        }
      ]
    },
    {
      "cell_type": "code",
      "metadata": {
        "id": "J_J331rPhG4y",
        "colab_type": "code",
        "colab": {}
      },
      "source": [
        "X_trainf = X_train.reshape(X_train.shape[0], 32 * 32)"
      ],
      "execution_count": 0,
      "outputs": []
    },
    {
      "cell_type": "code",
      "metadata": {
        "id": "7ikXjur-heeF",
        "colab_type": "code",
        "colab": {}
      },
      "source": [
        "X_testf = X_test.reshape(X_test.shape[0], 32 * 32)"
      ],
      "execution_count": 0,
      "outputs": []
    },
    {
      "cell_type": "code",
      "metadata": {
        "id": "7urnUjKWhmI5",
        "colab_type": "code",
        "outputId": "071e20a7-a37b-449f-fabc-89b6b6b7367b",
        "colab": {
          "base_uri": "https://localhost:8080/",
          "height": 34
        }
      },
      "source": [
        "X_trainf.shape"
      ],
      "execution_count": 13,
      "outputs": [
        {
          "output_type": "execute_result",
          "data": {
            "text/plain": [
              "(42000, 1024)"
            ]
          },
          "metadata": {
            "tags": []
          },
          "execution_count": 13
        }
      ]
    },
    {
      "cell_type": "code",
      "metadata": {
        "id": "7Ph5KBfvZQaH",
        "colab_type": "code",
        "colab": {
          "base_uri": "https://localhost:8080/",
          "height": 34
        },
        "outputId": "02b48db5-4d70-4bd8-f7c3-36121ab3f8f9"
      },
      "source": [
        "X_testf.shape"
      ],
      "execution_count": 14,
      "outputs": [
        {
          "output_type": "execute_result",
          "data": {
            "text/plain": [
              "(18000, 1024)"
            ]
          },
          "metadata": {
            "tags": []
          },
          "execution_count": 14
        }
      ]
    },
    {
      "cell_type": "markdown",
      "metadata": {
        "id": "YCC33Zrs9ijG",
        "colab_type": "text"
      },
      "source": [
        "### Implement and Apply optimal k Nearest Neighbour (kNN) classifier (7.5 Points)###"
      ]
    },
    {
      "cell_type": "code",
      "metadata": {
        "id": "GKFHdYeC8Ae4",
        "colab_type": "code",
        "colab": {}
      },
      "source": [
        "from sklearn.neighbors import KNeighborsClassifier\n",
        "from scipy.stats import zscore\n",
        "from sklearn.preprocessing import Imputer\n",
        "from sklearn.metrics import accuracy_score\n",
        "from sklearn import metrics"
      ],
      "execution_count": 0,
      "outputs": []
    },
    {
      "cell_type": "code",
      "metadata": {
        "id": "O4WZ9B8Hc5xT",
        "colab_type": "code",
        "colab": {}
      },
      "source": [
        "from imutils import paths\n",
        "import numpy as np\n",
        "import argparse\n",
        "import imutils\n",
        "import cv2\n",
        "import os"
      ],
      "execution_count": 0,
      "outputs": []
    },
    {
      "cell_type": "code",
      "metadata": {
        "id": "Q6GLJ4nQ-z2x",
        "colab_type": "code",
        "outputId": "1496704e-c28a-4648-b655-0f439862eaca",
        "colab": {
          "base_uri": "https://localhost:8080/",
          "height": 68
        }
      },
      "source": [
        "nn = KNeighborsClassifier() # create a Nearest Neighbor classifier class\n",
        "nn.fit(X_trainf, y_train) # train the classifier on the training images and labels"
      ],
      "execution_count": 17,
      "outputs": [
        {
          "output_type": "execute_result",
          "data": {
            "text/plain": [
              "KNeighborsClassifier(algorithm='auto', leaf_size=30, metric='minkowski',\n",
              "           metric_params=None, n_jobs=None, n_neighbors=5, p=2,\n",
              "           weights='uniform')"
            ]
          },
          "metadata": {
            "tags": []
          },
          "execution_count": 17
        }
      ]
    },
    {
      "cell_type": "code",
      "metadata": {
        "id": "YUFhl6vw-7Cd",
        "colab_type": "code",
        "outputId": "6c216013-ecab-473e-8391-1a4f5c3d6b25",
        "colab": {
          "base_uri": "https://localhost:8080/",
          "height": 34
        }
      },
      "source": [
        "nn.score(X_testf,y_test)"
      ],
      "execution_count": 27,
      "outputs": [
        {
          "output_type": "execute_result",
          "data": {
            "text/plain": [
              "0.49016666666666664"
            ]
          },
          "metadata": {
            "tags": []
          },
          "execution_count": 27
        }
      ]
    },
    {
      "cell_type": "markdown",
      "metadata": {
        "id": "ivukYb1T3FnL",
        "colab_type": "text"
      },
      "source": [
        "**The above model is usage of KNN for identifying the image class**\n",
        "*As an additional step the predicted outcome is also stored in a dataframe for further usage"
      ]
    },
    {
      "cell_type": "code",
      "metadata": {
        "id": "yBG9HINfmp2H",
        "colab_type": "code",
        "colab": {}
      },
      "source": [
        "y_pred_knn = nn.predict(X_testf)"
      ],
      "execution_count": 0,
      "outputs": []
    },
    {
      "cell_type": "code",
      "metadata": {
        "id": "sL_sjjpJ3mNw",
        "colab_type": "code",
        "colab": {}
      },
      "source": [
        "from sklearn.metrics import classification_report"
      ],
      "execution_count": 0,
      "outputs": []
    },
    {
      "cell_type": "code",
      "metadata": {
        "id": "GYjpCVXzAaje",
        "colab_type": "code",
        "colab": {}
      },
      "source": [
        "target_names = ['0','1','2','3','4','5','6','7','8','9']"
      ],
      "execution_count": 0,
      "outputs": []
    },
    {
      "cell_type": "markdown",
      "metadata": {
        "id": "xoXvoVi_A8UQ",
        "colab_type": "text"
      },
      "source": [
        "**Print the Classification Metric Report (2.5 Points)**"
      ]
    },
    {
      "cell_type": "code",
      "metadata": {
        "id": "3ofDusw5AmNS",
        "colab_type": "code",
        "colab": {
          "base_uri": "https://localhost:8080/",
          "height": 306
        },
        "outputId": "9b8183ff-f9c2-4142-e960-5dbd08cefdef"
      },
      "source": [
        "print(classification_report(y_test, y_pred_knn, target_names=target_names))"
      ],
      "execution_count": 35,
      "outputs": [
        {
          "output_type": "stream",
          "text": [
            "              precision    recall  f1-score   support\n",
            "\n",
            "           0       0.38      0.66      0.48      1814\n",
            "           1       0.44      0.70      0.54      1828\n",
            "           2       0.55      0.52      0.53      1803\n",
            "           3       0.42      0.39      0.41      1719\n",
            "           4       0.67      0.61      0.64      1812\n",
            "           5       0.48      0.36      0.41      1768\n",
            "           6       0.47      0.38      0.42      1832\n",
            "           7       0.72      0.58      0.64      1808\n",
            "           8       0.42      0.33      0.37      1812\n",
            "           9       0.52      0.36      0.43      1804\n",
            "\n",
            "   micro avg       0.49      0.49      0.49     18000\n",
            "   macro avg       0.51      0.49      0.49     18000\n",
            "weighted avg       0.51      0.49      0.49     18000\n",
            "\n"
          ],
          "name": "stdout"
        }
      ]
    },
    {
      "cell_type": "markdown",
      "metadata": {
        "id": "WMfSNjCCBhMn",
        "colab_type": "text"
      },
      "source": [
        "### Implement and Apply a Deep Neural Network Classifier (including feedforward neural networks, RELU Activations) 2.5 Points ###"
      ]
    },
    {
      "cell_type": "code",
      "metadata": {
        "id": "BjNCHPuiAvcz",
        "colab_type": "code",
        "colab": {}
      },
      "source": [
        "from keras.models import Sequential\n",
        "from keras.layers import Conv2D, MaxPooling2D, Activation, Flatten, Dense, Dropout, Reshape, BatchNormalization\n",
        "from keras import backend as K"
      ],
      "execution_count": 0,
      "outputs": []
    },
    {
      "cell_type": "markdown",
      "metadata": {
        "id": "rCk4PQ34Nzuy",
        "colab_type": "text"
      },
      "source": [
        "**Model Definition with RELU Activations**"
      ]
    },
    {
      "cell_type": "code",
      "metadata": {
        "id": "4pJpOsdHHRVd",
        "colab_type": "code",
        "colab": {}
      },
      "source": [
        "model_dnn = Sequential()"
      ],
      "execution_count": 0,
      "outputs": []
    },
    {
      "cell_type": "markdown",
      "metadata": {
        "id": "OhPDz9itS_nz",
        "colab_type": "text"
      },
      "source": [
        "**Implement Batch Normalisation**"
      ]
    },
    {
      "cell_type": "code",
      "metadata": {
        "id": "ZHK7kOQqVn3v",
        "colab_type": "code",
        "colab": {}
      },
      "source": [
        "model_dnn.add(Reshape((1024,),input_shape=(32,32,), name = 'input'))"
      ],
      "execution_count": 0,
      "outputs": []
    },
    {
      "cell_type": "code",
      "metadata": {
        "id": "z0fuhi95HWTb",
        "colab_type": "code",
        "colab": {}
      },
      "source": [
        "model_dnn.add(BatchNormalization())"
      ],
      "execution_count": 0,
      "outputs": []
    },
    {
      "cell_type": "code",
      "metadata": {
        "id": "I08u3wDRNgA3",
        "colab_type": "code",
        "colab": {}
      },
      "source": [
        "model_dnn.add(Dense(200, activation='relu',name = 'Dense_1'))\n",
        "model_dnn.add(Dense(100, activation='relu',name = 'Dense_2'))\n",
        "model_dnn.add(Dense(100, activation='relu',name = 'Dense_3'))"
      ],
      "execution_count": 0,
      "outputs": []
    },
    {
      "cell_type": "code",
      "metadata": {
        "id": "FJ5N4rybNobN",
        "colab_type": "code",
        "colab": {}
      },
      "source": [
        "model_dnn.add(Dense(10, activation='softmax',name = 'Dense_4'))"
      ],
      "execution_count": 0,
      "outputs": []
    },
    {
      "cell_type": "code",
      "metadata": {
        "id": "TwwP1XtOaCrp",
        "colab_type": "code",
        "colab": {
          "base_uri": "https://localhost:8080/",
          "height": 340
        },
        "outputId": "8930fb11-5215-480b-e3bf-b2a115706674"
      },
      "source": [
        "model_dnn.summary()"
      ],
      "execution_count": 35,
      "outputs": [
        {
          "output_type": "stream",
          "text": [
            "_________________________________________________________________\n",
            "Layer (type)                 Output Shape              Param #   \n",
            "=================================================================\n",
            "input (Reshape)              (None, 1024)              0         \n",
            "_________________________________________________________________\n",
            "batch_normalization_2 (Batch (None, 1024)              4096      \n",
            "_________________________________________________________________\n",
            "Dense_1 (Dense)              (None, 200)               205000    \n",
            "_________________________________________________________________\n",
            "Dense_2 (Dense)              (None, 100)               20100     \n",
            "_________________________________________________________________\n",
            "Dense_3 (Dense)              (None, 100)               10100     \n",
            "_________________________________________________________________\n",
            "Dense_4 (Dense)              (None, 10)                1010      \n",
            "=================================================================\n",
            "Total params: 240,306\n",
            "Trainable params: 238,258\n",
            "Non-trainable params: 2,048\n",
            "_________________________________________________________________\n"
          ],
          "name": "stdout"
        }
      ]
    },
    {
      "cell_type": "markdown",
      "metadata": {
        "id": "VV8DkH-WOZAw",
        "colab_type": "text"
      },
      "source": [
        "### Vectorised back propagation with Stochastic Gradient Optimisation and Cross Entropy Loss ###"
      ]
    },
    {
      "cell_type": "code",
      "metadata": {
        "id": "ymQ3uIexNut-",
        "colab_type": "code",
        "colab": {}
      },
      "source": [
        "sgd = keras.optimizers.SGD(lr=0.01, momentum=0.0, decay=0.0, nesterov=False)"
      ],
      "execution_count": 0,
      "outputs": []
    },
    {
      "cell_type": "code",
      "metadata": {
        "id": "DY7am14vThqa",
        "colab_type": "code",
        "colab": {}
      },
      "source": [
        "model_dnn.compile(loss='categorical_crossentropy', optimizer = sgd, metrics=['accuracy'])"
      ],
      "execution_count": 0,
      "outputs": []
    },
    {
      "cell_type": "code",
      "metadata": {
        "id": "OeEEKrqMVKLr",
        "colab_type": "code",
        "colab": {}
      },
      "source": [
        "y_train_class = keras.utils.to_categorical(y_train, 10)"
      ],
      "execution_count": 0,
      "outputs": []
    },
    {
      "cell_type": "code",
      "metadata": {
        "id": "eJPrpG83VMQN",
        "colab_type": "code",
        "colab": {}
      },
      "source": [
        "y_test_class = keras.utils.to_categorical(y_test, 10)"
      ],
      "execution_count": 0,
      "outputs": []
    },
    {
      "cell_type": "code",
      "metadata": {
        "id": "x2LUp-FFZu-J",
        "colab_type": "code",
        "colab": {
          "base_uri": "https://localhost:8080/",
          "height": 34
        },
        "outputId": "014c13ef-df90-4c19-83c4-693eca2f6029"
      },
      "source": [
        "X_train.shape"
      ],
      "execution_count": 40,
      "outputs": [
        {
          "output_type": "execute_result",
          "data": {
            "text/plain": [
              "(42000, 32, 32)"
            ]
          },
          "metadata": {
            "tags": []
          },
          "execution_count": 40
        }
      ]
    },
    {
      "cell_type": "code",
      "metadata": {
        "id": "pthOduj7OCat",
        "colab_type": "code",
        "colab": {
          "base_uri": "https://localhost:8080/",
          "height": 408
        },
        "outputId": "26cf76d4-8de3-4e96-c638-c47e51f3706f"
      },
      "source": [
        "%time\n",
        "output_transfer = model_dnn.fit(X_train, y_train_class, batch_size=128, epochs=10, verbose=1, validation_split = 0.2)"
      ],
      "execution_count": 52,
      "outputs": [
        {
          "output_type": "stream",
          "text": [
            "CPU times: user 3 µs, sys: 0 ns, total: 3 µs\n",
            "Wall time: 5.96 µs\n",
            "Train on 33600 samples, validate on 8400 samples\n",
            "Epoch 1/10\n",
            "33600/33600 [==============================] - 5s 153us/step - loss: 0.8519 - acc: 0.7413 - val_loss: 0.8771 - val_acc: 0.7356\n",
            "Epoch 2/10\n",
            "33600/33600 [==============================] - 5s 162us/step - loss: 0.8042 - acc: 0.7568 - val_loss: 0.8450 - val_acc: 0.7443\n",
            "Epoch 3/10\n",
            "33600/33600 [==============================] - 5s 160us/step - loss: 0.7721 - acc: 0.7669 - val_loss: 0.8138 - val_acc: 0.7539\n",
            "Epoch 4/10\n",
            "33600/33600 [==============================] - 5s 154us/step - loss: 0.7383 - acc: 0.7763 - val_loss: 0.8162 - val_acc: 0.7519\n",
            "Epoch 5/10\n",
            "33600/33600 [==============================] - 5s 160us/step - loss: 0.7132 - acc: 0.7835 - val_loss: 0.7955 - val_acc: 0.7581\n",
            "Epoch 6/10\n",
            "33600/33600 [==============================] - 6s 167us/step - loss: 0.6861 - acc: 0.7913 - val_loss: 0.7642 - val_acc: 0.7712\n",
            "Epoch 7/10\n",
            "33600/33600 [==============================] - 5s 161us/step - loss: 0.6588 - acc: 0.8002 - val_loss: 0.7597 - val_acc: 0.7701\n",
            "Epoch 8/10\n",
            "33600/33600 [==============================] - 5s 162us/step - loss: 0.6394 - acc: 0.8066 - val_loss: 0.7539 - val_acc: 0.7771\n",
            "Epoch 9/10\n",
            "33600/33600 [==============================] - 5s 163us/step - loss: 0.6217 - acc: 0.8108 - val_loss: 0.7398 - val_acc: 0.7782\n",
            "Epoch 10/10\n",
            "33600/33600 [==============================] - 5s 163us/step - loss: 0.6075 - acc: 0.8146 - val_loss: 0.7234 - val_acc: 0.7800\n"
          ],
          "name": "stdout"
        }
      ]
    },
    {
      "cell_type": "code",
      "metadata": {
        "id": "X2DSdcHuaiwa",
        "colab_type": "code",
        "colab": {}
      },
      "source": [
        "y_pred_dnn = model_dnn.predict(X_test)"
      ],
      "execution_count": 0,
      "outputs": []
    },
    {
      "cell_type": "code",
      "metadata": {
        "id": "aCmVo1rJbAKs",
        "colab_type": "code",
        "colab": {}
      },
      "source": [
        ""
      ],
      "execution_count": 0,
      "outputs": []
    }
  ]
}