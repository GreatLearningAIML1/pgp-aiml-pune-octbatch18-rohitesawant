{
 "cells": [
  {
   "cell_type": "markdown",
   "metadata": {},
   "source": [
    "### Current project is to study the data of THERA BANK\n",
    "### Bank needs to be able to accurately identify customers who are Deposit Customers and who can be converted \n",
    "### to Loan Customers"
   ]
  },
  {
   "cell_type": "code",
   "execution_count": 1,
   "metadata": {},
   "outputs": [],
   "source": [
    "# Numerical libraries\n",
    "import numpy as np   \n",
    "from sklearn.model_selection import train_test_split\n",
    "\n",
    "# Import Linear Regression / KNN machine learning library\n",
    "from sklearn.neighbors import KNeighborsClassifier\n",
    "from sklearn.linear_model import LogisticRegression\n",
    "\n",
    "# to handle data in form of rows and columns \n",
    "import pandas as pd    \n",
    "\n",
    "# importing ploting libraries\n",
    "import matplotlib.pyplot as plt   \n",
    "\n",
    "#importing seaborn for statistical plots\n",
    "import seaborn as sns\n",
    "\n",
    "# calculate accuracy measures and confusion matrix\n",
    "from sklearn import metrics\n",
    "from sklearn.metrics import accuracy_score, confusion_matrix, recall_score, precision_score, auc"
   ]
  },
  {
   "cell_type": "markdown",
   "metadata": {},
   "source": [
    "### 1. Data pre-processing - Understand the data and treat missing values, outliers (8 points)"
   ]
  },
  {
   "cell_type": "code",
   "execution_count": 2,
   "metadata": {},
   "outputs": [],
   "source": [
    "# reading the excel file into pandas dataframe\n",
    "bl_df = pd.read_excel('Bank_Personal_Loan_Modelling.xlsx',sheet_name=1) "
   ]
  },
  {
   "cell_type": "code",
   "execution_count": 3,
   "metadata": {},
   "outputs": [
    {
     "data": {
      "text/plain": [
       "ID                        4950.01\n",
       "Age (in years)              65.00\n",
       "Experience (in years)       41.00\n",
       "Income (in K/month)        193.00\n",
       "ZIP Code                 95929.00\n",
       "Family members               4.00\n",
       "CCAvg                        8.00\n",
       "Education                    3.00\n",
       "Mortgage                   431.01\n",
       "Personal Loan                1.00\n",
       "Securities Account           1.00\n",
       "CD Account                   1.00\n",
       "Online                       1.00\n",
       "CreditCard                   1.00\n",
       "Name: 0.99, dtype: float64"
      ]
     },
     "execution_count": 3,
     "metadata": {},
     "output_type": "execute_result"
    }
   ],
   "source": [
    "bl_df.quantile(.99)"
   ]
  },
  {
   "cell_type": "code",
   "execution_count": 4,
   "metadata": {},
   "outputs": [],
   "source": [
    "## In the data set the outliers for ID,ZIP Code and Family do not make any impact as they are more or less descriptive \n",
    "## in nature.\n",
    "## Last four flag items PL, Sec Acc, CD Acc, Online, CC have no bearing on outliers.\n",
    "## Age could be considered. No one has accepted an offer for PL at the age of 66/67\n",
    "## Experience above 41 years is only in the age bracket of 66/67\n",
    "## Salary beyond 193 K is also an exception and for age groups under 65\n",
    "## for outliers we will only consider age bracket of 66/67 and exclude"
   ]
  },
  {
   "cell_type": "code",
   "execution_count": 5,
   "metadata": {},
   "outputs": [],
   "source": [
    "bl_df_filt = bl_df[bl_df['Age (in years)'] < 65]"
   ]
  },
  {
   "cell_type": "code",
   "execution_count": 6,
   "metadata": {},
   "outputs": [
    {
     "data": {
      "text/plain": [
       "(4884, 14)"
      ]
     },
     "execution_count": 6,
     "metadata": {},
     "output_type": "execute_result"
    }
   ],
   "source": [
    "bl_df_filt.shape"
   ]
  },
  {
   "cell_type": "code",
   "execution_count": 7,
   "metadata": {},
   "outputs": [
    {
     "name": "stderr",
     "output_type": "stream",
     "text": [
      "/anaconda3/lib/python3.7/site-packages/ipykernel_launcher.py:2: SettingWithCopyWarning: \n",
      "A value is trying to be set on a copy of a slice from a DataFrame.\n",
      "Try using .loc[row_indexer,col_indexer] = value instead\n",
      "\n",
      "See the caveats in the documentation: http://pandas.pydata.org/pandas-docs/stable/indexing.html#indexing-view-versus-copy\n",
      "  \n",
      "/anaconda3/lib/python3.7/site-packages/pandas/core/frame.py:3163: SettingWithCopyWarning: \n",
      "A value is trying to be set on a copy of a slice from a DataFrame\n",
      "\n",
      "See the caveats in the documentation: http://pandas.pydata.org/pandas-docs/stable/indexing.html#indexing-view-versus-copy\n",
      "  self._where(-key, value, inplace=True)\n",
      "/anaconda3/lib/python3.7/site-packages/pandas/core/frame.py:3790: SettingWithCopyWarning: \n",
      "A value is trying to be set on a copy of a slice from a DataFrame\n",
      "\n",
      "See the caveats in the documentation: http://pandas.pydata.org/pandas-docs/stable/indexing.html#indexing-view-versus-copy\n",
      "  downcast=downcast, **kwargs)\n"
     ]
    }
   ],
   "source": [
    "# fill all null values with 0\n",
    "bl_df_filt[bl_df_filt==np.inf]=np.nan\n",
    "bl_df_filt.fillna(0, inplace=True)"
   ]
  },
  {
   "cell_type": "code",
   "execution_count": 8,
   "metadata": {},
   "outputs": [],
   "source": [
    "### In my view the data is spread across alot of values for some of the variables\n",
    "### Need is to categorise the variables in ranges, good enough for modelling and predicting\n",
    "### Ranges are assumed with certain ratios, but in real life scenarios these should be business rules"
   ]
  },
  {
   "cell_type": "code",
   "execution_count": 9,
   "metadata": {},
   "outputs": [
    {
     "name": "stderr",
     "output_type": "stream",
     "text": [
      "/anaconda3/lib/python3.7/site-packages/ipykernel_launcher.py:2: SettingWithCopyWarning: \n",
      "A value is trying to be set on a copy of a slice from a DataFrame.\n",
      "Try using .loc[row_indexer,col_indexer] = value instead\n",
      "\n",
      "See the caveats in the documentation: http://pandas.pydata.org/pandas-docs/stable/indexing.html#indexing-view-versus-copy\n",
      "  \n",
      "/anaconda3/lib/python3.7/site-packages/ipykernel_launcher.py:5: SettingWithCopyWarning: \n",
      "A value is trying to be set on a copy of a slice from a DataFrame.\n",
      "Try using .loc[row_indexer,col_indexer] = value instead\n",
      "\n",
      "See the caveats in the documentation: http://pandas.pydata.org/pandas-docs/stable/indexing.html#indexing-view-versus-copy\n",
      "  \"\"\"\n",
      "/anaconda3/lib/python3.7/site-packages/ipykernel_launcher.py:6: SettingWithCopyWarning: \n",
      "A value is trying to be set on a copy of a slice from a DataFrame.\n",
      "Try using .loc[row_indexer,col_indexer] = value instead\n",
      "\n",
      "See the caveats in the documentation: http://pandas.pydata.org/pandas-docs/stable/indexing.html#indexing-view-versus-copy\n",
      "  \n",
      "/anaconda3/lib/python3.7/site-packages/ipykernel_launcher.py:8: SettingWithCopyWarning: \n",
      "A value is trying to be set on a copy of a slice from a DataFrame.\n",
      "Try using .loc[row_indexer,col_indexer] = value instead\n",
      "\n",
      "See the caveats in the documentation: http://pandas.pydata.org/pandas-docs/stable/indexing.html#indexing-view-versus-copy\n",
      "  \n",
      "/anaconda3/lib/python3.7/site-packages/ipykernel_launcher.py:10: SettingWithCopyWarning: \n",
      "A value is trying to be set on a copy of a slice from a DataFrame.\n",
      "Try using .loc[row_indexer,col_indexer] = value instead\n",
      "\n",
      "See the caveats in the documentation: http://pandas.pydata.org/pandas-docs/stable/indexing.html#indexing-view-versus-copy\n",
      "  # Remove the CWD from sys.path while we load stuff.\n"
     ]
    }
   ],
   "source": [
    "# categorising age into range categories to evaluate similar age groups ( < 30 is young, 30 to 60 middle age, rest old)\n",
    "bl_df_filt['Age (in years)_c'] = bl_df_filt['Age (in years)'].apply(lambda x: 0 if x <= 30 else (1 if (x > 30 and x <= 60) else 2))\n",
    "# normalising the experience to 0 if it is a negative value as negative experience is not valid data\n",
    "# further splitting it into experience ranges of low < 5, medium from 6 to 15 and then high > 15\n",
    "bl_df_filt['Experience (in years)'] = bl_df_filt['Experience (in years)'].apply(lambda x: 0 if x < 0 else x)\n",
    "bl_df_filt['Experience (in years)_c'] = bl_df_filt['Experience (in years)'].apply(lambda x: 0 if x <= 5 else ( 1 if (x > 5 and x <= 15) else 2))\n",
    "# creating the mortgage variable to denote mortgage existing for the customer (0) or not (1)\n",
    "bl_df_filt['Mortgage_c'] = bl_df_filt['Mortgage'].apply(lambda x: 1 if x > 0 else 0)\n",
    "# creating income into low 0-50 K (0), medium 51-100 (1), high 101-150 (2) and very high categories 150+ (3)\n",
    "bl_df_filt['Income (in K/month)_c'] = bl_df_filt['Income (in K/month)'].apply ( lambda x: 0 if x <= 50 else (1 if (x>50 and x<=100) else ( 2 if (x>100 and x<=150) else 3) ) )"
   ]
  },
  {
   "cell_type": "code",
   "execution_count": 10,
   "metadata": {},
   "outputs": [
    {
     "data": {
      "text/html": [
       "<div>\n",
       "<style scoped>\n",
       "    .dataframe tbody tr th:only-of-type {\n",
       "        vertical-align: middle;\n",
       "    }\n",
       "\n",
       "    .dataframe tbody tr th {\n",
       "        vertical-align: top;\n",
       "    }\n",
       "\n",
       "    .dataframe thead th {\n",
       "        text-align: right;\n",
       "    }\n",
       "</style>\n",
       "<table border=\"1\" class=\"dataframe\">\n",
       "  <thead>\n",
       "    <tr style=\"text-align: right;\">\n",
       "      <th></th>\n",
       "      <th>ID</th>\n",
       "      <th>Age (in years)</th>\n",
       "      <th>Experience (in years)</th>\n",
       "      <th>Income (in K/month)</th>\n",
       "      <th>ZIP Code</th>\n",
       "      <th>Family members</th>\n",
       "      <th>CCAvg</th>\n",
       "      <th>Education</th>\n",
       "      <th>Mortgage</th>\n",
       "      <th>Personal Loan</th>\n",
       "      <th>Securities Account</th>\n",
       "      <th>CD Account</th>\n",
       "      <th>Online</th>\n",
       "      <th>CreditCard</th>\n",
       "      <th>Age (in years)_c</th>\n",
       "      <th>Experience (in years)_c</th>\n",
       "      <th>Mortgage_c</th>\n",
       "      <th>Income (in K/month)_c</th>\n",
       "    </tr>\n",
       "  </thead>\n",
       "  <tbody>\n",
       "    <tr>\n",
       "      <th>0</th>\n",
       "      <td>1</td>\n",
       "      <td>25</td>\n",
       "      <td>1</td>\n",
       "      <td>49</td>\n",
       "      <td>91107</td>\n",
       "      <td>4.0</td>\n",
       "      <td>1.6</td>\n",
       "      <td>1</td>\n",
       "      <td>0</td>\n",
       "      <td>0</td>\n",
       "      <td>1</td>\n",
       "      <td>0</td>\n",
       "      <td>0</td>\n",
       "      <td>0</td>\n",
       "      <td>0</td>\n",
       "      <td>0</td>\n",
       "      <td>0</td>\n",
       "      <td>0</td>\n",
       "    </tr>\n",
       "    <tr>\n",
       "      <th>1</th>\n",
       "      <td>2</td>\n",
       "      <td>45</td>\n",
       "      <td>19</td>\n",
       "      <td>34</td>\n",
       "      <td>90089</td>\n",
       "      <td>3.0</td>\n",
       "      <td>1.5</td>\n",
       "      <td>1</td>\n",
       "      <td>0</td>\n",
       "      <td>0</td>\n",
       "      <td>1</td>\n",
       "      <td>0</td>\n",
       "      <td>0</td>\n",
       "      <td>0</td>\n",
       "      <td>1</td>\n",
       "      <td>2</td>\n",
       "      <td>0</td>\n",
       "      <td>0</td>\n",
       "    </tr>\n",
       "    <tr>\n",
       "      <th>2</th>\n",
       "      <td>3</td>\n",
       "      <td>39</td>\n",
       "      <td>15</td>\n",
       "      <td>11</td>\n",
       "      <td>94720</td>\n",
       "      <td>1.0</td>\n",
       "      <td>1.0</td>\n",
       "      <td>1</td>\n",
       "      <td>0</td>\n",
       "      <td>0</td>\n",
       "      <td>0</td>\n",
       "      <td>0</td>\n",
       "      <td>0</td>\n",
       "      <td>0</td>\n",
       "      <td>1</td>\n",
       "      <td>1</td>\n",
       "      <td>0</td>\n",
       "      <td>0</td>\n",
       "    </tr>\n",
       "    <tr>\n",
       "      <th>3</th>\n",
       "      <td>4</td>\n",
       "      <td>35</td>\n",
       "      <td>9</td>\n",
       "      <td>100</td>\n",
       "      <td>94112</td>\n",
       "      <td>1.0</td>\n",
       "      <td>2.7</td>\n",
       "      <td>2</td>\n",
       "      <td>0</td>\n",
       "      <td>0</td>\n",
       "      <td>0</td>\n",
       "      <td>0</td>\n",
       "      <td>0</td>\n",
       "      <td>0</td>\n",
       "      <td>1</td>\n",
       "      <td>1</td>\n",
       "      <td>0</td>\n",
       "      <td>1</td>\n",
       "    </tr>\n",
       "    <tr>\n",
       "      <th>4</th>\n",
       "      <td>5</td>\n",
       "      <td>35</td>\n",
       "      <td>8</td>\n",
       "      <td>45</td>\n",
       "      <td>91330</td>\n",
       "      <td>4.0</td>\n",
       "      <td>1.0</td>\n",
       "      <td>2</td>\n",
       "      <td>0</td>\n",
       "      <td>0</td>\n",
       "      <td>0</td>\n",
       "      <td>0</td>\n",
       "      <td>0</td>\n",
       "      <td>1</td>\n",
       "      <td>1</td>\n",
       "      <td>1</td>\n",
       "      <td>0</td>\n",
       "      <td>0</td>\n",
       "    </tr>\n",
       "    <tr>\n",
       "      <th>5</th>\n",
       "      <td>6</td>\n",
       "      <td>37</td>\n",
       "      <td>13</td>\n",
       "      <td>29</td>\n",
       "      <td>92121</td>\n",
       "      <td>4.0</td>\n",
       "      <td>0.4</td>\n",
       "      <td>2</td>\n",
       "      <td>155</td>\n",
       "      <td>0</td>\n",
       "      <td>0</td>\n",
       "      <td>0</td>\n",
       "      <td>1</td>\n",
       "      <td>0</td>\n",
       "      <td>1</td>\n",
       "      <td>1</td>\n",
       "      <td>1</td>\n",
       "      <td>0</td>\n",
       "    </tr>\n",
       "    <tr>\n",
       "      <th>6</th>\n",
       "      <td>7</td>\n",
       "      <td>53</td>\n",
       "      <td>27</td>\n",
       "      <td>72</td>\n",
       "      <td>91711</td>\n",
       "      <td>2.0</td>\n",
       "      <td>1.5</td>\n",
       "      <td>2</td>\n",
       "      <td>0</td>\n",
       "      <td>0</td>\n",
       "      <td>0</td>\n",
       "      <td>0</td>\n",
       "      <td>1</td>\n",
       "      <td>0</td>\n",
       "      <td>1</td>\n",
       "      <td>2</td>\n",
       "      <td>0</td>\n",
       "      <td>1</td>\n",
       "    </tr>\n",
       "    <tr>\n",
       "      <th>7</th>\n",
       "      <td>8</td>\n",
       "      <td>50</td>\n",
       "      <td>24</td>\n",
       "      <td>22</td>\n",
       "      <td>93943</td>\n",
       "      <td>1.0</td>\n",
       "      <td>0.3</td>\n",
       "      <td>3</td>\n",
       "      <td>0</td>\n",
       "      <td>0</td>\n",
       "      <td>0</td>\n",
       "      <td>0</td>\n",
       "      <td>0</td>\n",
       "      <td>1</td>\n",
       "      <td>1</td>\n",
       "      <td>2</td>\n",
       "      <td>0</td>\n",
       "      <td>0</td>\n",
       "    </tr>\n",
       "    <tr>\n",
       "      <th>8</th>\n",
       "      <td>9</td>\n",
       "      <td>35</td>\n",
       "      <td>10</td>\n",
       "      <td>81</td>\n",
       "      <td>90089</td>\n",
       "      <td>3.0</td>\n",
       "      <td>0.6</td>\n",
       "      <td>2</td>\n",
       "      <td>104</td>\n",
       "      <td>0</td>\n",
       "      <td>0</td>\n",
       "      <td>0</td>\n",
       "      <td>1</td>\n",
       "      <td>0</td>\n",
       "      <td>1</td>\n",
       "      <td>1</td>\n",
       "      <td>1</td>\n",
       "      <td>1</td>\n",
       "    </tr>\n",
       "    <tr>\n",
       "      <th>9</th>\n",
       "      <td>10</td>\n",
       "      <td>34</td>\n",
       "      <td>9</td>\n",
       "      <td>180</td>\n",
       "      <td>93023</td>\n",
       "      <td>1.0</td>\n",
       "      <td>8.9</td>\n",
       "      <td>3</td>\n",
       "      <td>0</td>\n",
       "      <td>1</td>\n",
       "      <td>0</td>\n",
       "      <td>0</td>\n",
       "      <td>0</td>\n",
       "      <td>0</td>\n",
       "      <td>1</td>\n",
       "      <td>1</td>\n",
       "      <td>0</td>\n",
       "      <td>3</td>\n",
       "    </tr>\n",
       "  </tbody>\n",
       "</table>\n",
       "</div>"
      ],
      "text/plain": [
       "   ID  Age (in years)  Experience (in years)  Income (in K/month)  ZIP Code  \\\n",
       "0   1              25                      1                   49     91107   \n",
       "1   2              45                     19                   34     90089   \n",
       "2   3              39                     15                   11     94720   \n",
       "3   4              35                      9                  100     94112   \n",
       "4   5              35                      8                   45     91330   \n",
       "5   6              37                     13                   29     92121   \n",
       "6   7              53                     27                   72     91711   \n",
       "7   8              50                     24                   22     93943   \n",
       "8   9              35                     10                   81     90089   \n",
       "9  10              34                      9                  180     93023   \n",
       "\n",
       "   Family members  CCAvg  Education  Mortgage  Personal Loan  \\\n",
       "0             4.0    1.6          1         0              0   \n",
       "1             3.0    1.5          1         0              0   \n",
       "2             1.0    1.0          1         0              0   \n",
       "3             1.0    2.7          2         0              0   \n",
       "4             4.0    1.0          2         0              0   \n",
       "5             4.0    0.4          2       155              0   \n",
       "6             2.0    1.5          2         0              0   \n",
       "7             1.0    0.3          3         0              0   \n",
       "8             3.0    0.6          2       104              0   \n",
       "9             1.0    8.9          3         0              1   \n",
       "\n",
       "   Securities Account  CD Account  Online  CreditCard  Age (in years)_c  \\\n",
       "0                   1           0       0           0                 0   \n",
       "1                   1           0       0           0                 1   \n",
       "2                   0           0       0           0                 1   \n",
       "3                   0           0       0           0                 1   \n",
       "4                   0           0       0           1                 1   \n",
       "5                   0           0       1           0                 1   \n",
       "6                   0           0       1           0                 1   \n",
       "7                   0           0       0           1                 1   \n",
       "8                   0           0       1           0                 1   \n",
       "9                   0           0       0           0                 1   \n",
       "\n",
       "   Experience (in years)_c  Mortgage_c  Income (in K/month)_c  \n",
       "0                        0           0                      0  \n",
       "1                        2           0                      0  \n",
       "2                        1           0                      0  \n",
       "3                        1           0                      1  \n",
       "4                        1           0                      0  \n",
       "5                        1           1                      0  \n",
       "6                        2           0                      1  \n",
       "7                        2           0                      0  \n",
       "8                        1           1                      1  \n",
       "9                        1           0                      3  "
      ]
     },
     "execution_count": 10,
     "metadata": {},
     "output_type": "execute_result"
    }
   ],
   "source": [
    "bl_df_filt.head(10)"
   ]
  },
  {
   "cell_type": "code",
   "execution_count": 11,
   "metadata": {},
   "outputs": [],
   "source": [
    "### remove categorical values\n",
    "bl_df_mod = bl_df_filt.drop(['Age (in years)','Experience (in years)','Income (in K/month)','Mortgage'], axis=1)"
   ]
  },
  {
   "cell_type": "code",
   "execution_count": 12,
   "metadata": {},
   "outputs": [
    {
     "data": {
      "text/html": [
       "<div>\n",
       "<style scoped>\n",
       "    .dataframe tbody tr th:only-of-type {\n",
       "        vertical-align: middle;\n",
       "    }\n",
       "\n",
       "    .dataframe tbody tr th {\n",
       "        vertical-align: top;\n",
       "    }\n",
       "\n",
       "    .dataframe thead th {\n",
       "        text-align: right;\n",
       "    }\n",
       "</style>\n",
       "<table border=\"1\" class=\"dataframe\">\n",
       "  <thead>\n",
       "    <tr style=\"text-align: right;\">\n",
       "      <th></th>\n",
       "      <th>ID</th>\n",
       "      <th>ZIP Code</th>\n",
       "      <th>Family members</th>\n",
       "      <th>CCAvg</th>\n",
       "      <th>Education</th>\n",
       "      <th>Personal Loan</th>\n",
       "      <th>Securities Account</th>\n",
       "      <th>CD Account</th>\n",
       "      <th>Online</th>\n",
       "      <th>CreditCard</th>\n",
       "      <th>Age (in years)_c</th>\n",
       "      <th>Experience (in years)_c</th>\n",
       "      <th>Mortgage_c</th>\n",
       "      <th>Income (in K/month)_c</th>\n",
       "    </tr>\n",
       "  </thead>\n",
       "  <tbody>\n",
       "    <tr>\n",
       "      <th>0</th>\n",
       "      <td>1</td>\n",
       "      <td>91107</td>\n",
       "      <td>4.0</td>\n",
       "      <td>1.6</td>\n",
       "      <td>1</td>\n",
       "      <td>0</td>\n",
       "      <td>1</td>\n",
       "      <td>0</td>\n",
       "      <td>0</td>\n",
       "      <td>0</td>\n",
       "      <td>0</td>\n",
       "      <td>0</td>\n",
       "      <td>0</td>\n",
       "      <td>0</td>\n",
       "    </tr>\n",
       "    <tr>\n",
       "      <th>1</th>\n",
       "      <td>2</td>\n",
       "      <td>90089</td>\n",
       "      <td>3.0</td>\n",
       "      <td>1.5</td>\n",
       "      <td>1</td>\n",
       "      <td>0</td>\n",
       "      <td>1</td>\n",
       "      <td>0</td>\n",
       "      <td>0</td>\n",
       "      <td>0</td>\n",
       "      <td>1</td>\n",
       "      <td>2</td>\n",
       "      <td>0</td>\n",
       "      <td>0</td>\n",
       "    </tr>\n",
       "  </tbody>\n",
       "</table>\n",
       "</div>"
      ],
      "text/plain": [
       "   ID  ZIP Code  Family members  CCAvg  Education  Personal Loan  \\\n",
       "0   1     91107             4.0    1.6          1              0   \n",
       "1   2     90089             3.0    1.5          1              0   \n",
       "\n",
       "   Securities Account  CD Account  Online  CreditCard  Age (in years)_c  \\\n",
       "0                   1           0       0           0                 0   \n",
       "1                   1           0       0           0                 1   \n",
       "\n",
       "   Experience (in years)_c  Mortgage_c  Income (in K/month)_c  \n",
       "0                        0           0                      0  \n",
       "1                        2           0                      0  "
      ]
     },
     "execution_count": 12,
     "metadata": {},
     "output_type": "execute_result"
    }
   ],
   "source": [
    "bl_df_mod.head(2)"
   ]
  },
  {
   "cell_type": "markdown",
   "metadata": {},
   "source": [
    "### 2. Understanding the attributes - Find relationship between different attributes (Independent variables) and choose carefully which all attributes have to be a part of the analysis and why (4 points)"
   ]
  },
  {
   "cell_type": "code",
   "execution_count": 13,
   "metadata": {},
   "outputs": [],
   "source": [
    "bl_df_mod_chk = bl_df_mod.drop(['ID','Personal Loan'], axis=1)"
   ]
  },
  {
   "cell_type": "code",
   "execution_count": 14,
   "metadata": {},
   "outputs": [
    {
     "data": {
      "text/html": [
       "<div>\n",
       "<style scoped>\n",
       "    .dataframe tbody tr th:only-of-type {\n",
       "        vertical-align: middle;\n",
       "    }\n",
       "\n",
       "    .dataframe tbody tr th {\n",
       "        vertical-align: top;\n",
       "    }\n",
       "\n",
       "    .dataframe thead th {\n",
       "        text-align: right;\n",
       "    }\n",
       "</style>\n",
       "<table border=\"1\" class=\"dataframe\">\n",
       "  <thead>\n",
       "    <tr style=\"text-align: right;\">\n",
       "      <th></th>\n",
       "      <th>ZIP Code</th>\n",
       "      <th>Family members</th>\n",
       "      <th>CCAvg</th>\n",
       "      <th>Education</th>\n",
       "      <th>Securities Account</th>\n",
       "      <th>CD Account</th>\n",
       "      <th>Online</th>\n",
       "      <th>CreditCard</th>\n",
       "      <th>Age (in years)_c</th>\n",
       "      <th>Experience (in years)_c</th>\n",
       "      <th>Mortgage_c</th>\n",
       "      <th>Income (in K/month)_c</th>\n",
       "    </tr>\n",
       "  </thead>\n",
       "  <tbody>\n",
       "    <tr>\n",
       "      <th>ZIP Code</th>\n",
       "      <td>1.000000</td>\n",
       "      <td>0.007622</td>\n",
       "      <td>-0.002642</td>\n",
       "      <td>-0.019067</td>\n",
       "      <td>0.005907</td>\n",
       "      <td>0.022567</td>\n",
       "      <td>0.018863</td>\n",
       "      <td>0.005723</td>\n",
       "      <td>-0.009452</td>\n",
       "      <td>-0.027049</td>\n",
       "      <td>0.011600</td>\n",
       "      <td>-0.016689</td>\n",
       "    </tr>\n",
       "    <tr>\n",
       "      <th>Family members</th>\n",
       "      <td>0.007622</td>\n",
       "      <td>1.000000</td>\n",
       "      <td>-0.111160</td>\n",
       "      <td>0.061988</td>\n",
       "      <td>0.021130</td>\n",
       "      <td>0.014631</td>\n",
       "      <td>0.008035</td>\n",
       "      <td>0.010287</td>\n",
       "      <td>-0.067496</td>\n",
       "      <td>-0.087143</td>\n",
       "      <td>0.007075</td>\n",
       "      <td>-0.146190</td>\n",
       "    </tr>\n",
       "    <tr>\n",
       "      <th>CCAvg</th>\n",
       "      <td>-0.002642</td>\n",
       "      <td>-0.111160</td>\n",
       "      <td>1.000000</td>\n",
       "      <td>-0.135400</td>\n",
       "      <td>0.013196</td>\n",
       "      <td>0.131771</td>\n",
       "      <td>-0.006002</td>\n",
       "      <td>-0.005014</td>\n",
       "      <td>-0.017805</td>\n",
       "      <td>-0.013153</td>\n",
       "      <td>-0.015966</td>\n",
       "      <td>0.620987</td>\n",
       "    </tr>\n",
       "    <tr>\n",
       "      <th>Education</th>\n",
       "      <td>-0.019067</td>\n",
       "      <td>0.061988</td>\n",
       "      <td>-0.135400</td>\n",
       "      <td>1.000000</td>\n",
       "      <td>-0.010516</td>\n",
       "      <td>0.015440</td>\n",
       "      <td>-0.018498</td>\n",
       "      <td>-0.012558</td>\n",
       "      <td>0.034035</td>\n",
       "      <td>0.003285</td>\n",
       "      <td>-0.001104</td>\n",
       "      <td>-0.180308</td>\n",
       "    </tr>\n",
       "    <tr>\n",
       "      <th>Securities Account</th>\n",
       "      <td>0.005907</td>\n",
       "      <td>0.021130</td>\n",
       "      <td>0.013196</td>\n",
       "      <td>-0.010516</td>\n",
       "      <td>1.000000</td>\n",
       "      <td>0.315282</td>\n",
       "      <td>0.011183</td>\n",
       "      <td>-0.017233</td>\n",
       "      <td>0.006005</td>\n",
       "      <td>0.000659</td>\n",
       "      <td>-0.000831</td>\n",
       "      <td>-0.005209</td>\n",
       "    </tr>\n",
       "    <tr>\n",
       "      <th>CD Account</th>\n",
       "      <td>0.022567</td>\n",
       "      <td>0.014631</td>\n",
       "      <td>0.131771</td>\n",
       "      <td>0.015440</td>\n",
       "      <td>0.315282</td>\n",
       "      <td>1.000000</td>\n",
       "      <td>0.173480</td>\n",
       "      <td>0.277366</td>\n",
       "      <td>0.021361</td>\n",
       "      <td>0.013816</td>\n",
       "      <td>0.035773</td>\n",
       "      <td>0.159307</td>\n",
       "    </tr>\n",
       "    <tr>\n",
       "      <th>Online</th>\n",
       "      <td>0.018863</td>\n",
       "      <td>0.008035</td>\n",
       "      <td>-0.006002</td>\n",
       "      <td>-0.018498</td>\n",
       "      <td>0.011183</td>\n",
       "      <td>0.173480</td>\n",
       "      <td>1.000000</td>\n",
       "      <td>0.006361</td>\n",
       "      <td>0.012938</td>\n",
       "      <td>0.009873</td>\n",
       "      <td>-0.008926</td>\n",
       "      <td>0.002829</td>\n",
       "    </tr>\n",
       "    <tr>\n",
       "      <th>CreditCard</th>\n",
       "      <td>0.005723</td>\n",
       "      <td>0.010287</td>\n",
       "      <td>-0.005014</td>\n",
       "      <td>-0.012558</td>\n",
       "      <td>-0.017233</td>\n",
       "      <td>0.277366</td>\n",
       "      <td>0.006361</td>\n",
       "      <td>1.000000</td>\n",
       "      <td>-0.004600</td>\n",
       "      <td>0.003190</td>\n",
       "      <td>-0.002896</td>\n",
       "      <td>-0.004657</td>\n",
       "    </tr>\n",
       "    <tr>\n",
       "      <th>Age (in years)_c</th>\n",
       "      <td>-0.009452</td>\n",
       "      <td>-0.067496</td>\n",
       "      <td>-0.017805</td>\n",
       "      <td>0.034035</td>\n",
       "      <td>0.006005</td>\n",
       "      <td>0.021361</td>\n",
       "      <td>0.012938</td>\n",
       "      <td>-0.004600</td>\n",
       "      <td>1.000000</td>\n",
       "      <td>0.675531</td>\n",
       "      <td>0.004431</td>\n",
       "      <td>-0.034490</td>\n",
       "    </tr>\n",
       "    <tr>\n",
       "      <th>Experience (in years)_c</th>\n",
       "      <td>-0.027049</td>\n",
       "      <td>-0.087143</td>\n",
       "      <td>-0.013153</td>\n",
       "      <td>0.003285</td>\n",
       "      <td>0.000659</td>\n",
       "      <td>0.013816</td>\n",
       "      <td>0.009873</td>\n",
       "      <td>0.003190</td>\n",
       "      <td>0.675531</td>\n",
       "      <td>1.000000</td>\n",
       "      <td>-0.004763</td>\n",
       "      <td>-0.026342</td>\n",
       "    </tr>\n",
       "    <tr>\n",
       "      <th>Mortgage_c</th>\n",
       "      <td>0.011600</td>\n",
       "      <td>0.007075</td>\n",
       "      <td>-0.015966</td>\n",
       "      <td>-0.001104</td>\n",
       "      <td>-0.000831</td>\n",
       "      <td>0.035773</td>\n",
       "      <td>-0.008926</td>\n",
       "      <td>-0.002896</td>\n",
       "      <td>0.004431</td>\n",
       "      <td>-0.004763</td>\n",
       "      <td>1.000000</td>\n",
       "      <td>-0.003351</td>\n",
       "    </tr>\n",
       "    <tr>\n",
       "      <th>Income (in K/month)_c</th>\n",
       "      <td>-0.016689</td>\n",
       "      <td>-0.146190</td>\n",
       "      <td>0.620987</td>\n",
       "      <td>-0.180308</td>\n",
       "      <td>-0.005209</td>\n",
       "      <td>0.159307</td>\n",
       "      <td>0.002829</td>\n",
       "      <td>-0.004657</td>\n",
       "      <td>-0.034490</td>\n",
       "      <td>-0.026342</td>\n",
       "      <td>-0.003351</td>\n",
       "      <td>1.000000</td>\n",
       "    </tr>\n",
       "  </tbody>\n",
       "</table>\n",
       "</div>"
      ],
      "text/plain": [
       "                         ZIP Code  Family members     CCAvg  Education  \\\n",
       "ZIP Code                 1.000000        0.007622 -0.002642  -0.019067   \n",
       "Family members           0.007622        1.000000 -0.111160   0.061988   \n",
       "CCAvg                   -0.002642       -0.111160  1.000000  -0.135400   \n",
       "Education               -0.019067        0.061988 -0.135400   1.000000   \n",
       "Securities Account       0.005907        0.021130  0.013196  -0.010516   \n",
       "CD Account               0.022567        0.014631  0.131771   0.015440   \n",
       "Online                   0.018863        0.008035 -0.006002  -0.018498   \n",
       "CreditCard               0.005723        0.010287 -0.005014  -0.012558   \n",
       "Age (in years)_c        -0.009452       -0.067496 -0.017805   0.034035   \n",
       "Experience (in years)_c -0.027049       -0.087143 -0.013153   0.003285   \n",
       "Mortgage_c               0.011600        0.007075 -0.015966  -0.001104   \n",
       "Income (in K/month)_c   -0.016689       -0.146190  0.620987  -0.180308   \n",
       "\n",
       "                         Securities Account  CD Account    Online  CreditCard  \\\n",
       "ZIP Code                           0.005907    0.022567  0.018863    0.005723   \n",
       "Family members                     0.021130    0.014631  0.008035    0.010287   \n",
       "CCAvg                              0.013196    0.131771 -0.006002   -0.005014   \n",
       "Education                         -0.010516    0.015440 -0.018498   -0.012558   \n",
       "Securities Account                 1.000000    0.315282  0.011183   -0.017233   \n",
       "CD Account                         0.315282    1.000000  0.173480    0.277366   \n",
       "Online                             0.011183    0.173480  1.000000    0.006361   \n",
       "CreditCard                        -0.017233    0.277366  0.006361    1.000000   \n",
       "Age (in years)_c                   0.006005    0.021361  0.012938   -0.004600   \n",
       "Experience (in years)_c            0.000659    0.013816  0.009873    0.003190   \n",
       "Mortgage_c                        -0.000831    0.035773 -0.008926   -0.002896   \n",
       "Income (in K/month)_c             -0.005209    0.159307  0.002829   -0.004657   \n",
       "\n",
       "                         Age (in years)_c  Experience (in years)_c  \\\n",
       "ZIP Code                        -0.009452                -0.027049   \n",
       "Family members                  -0.067496                -0.087143   \n",
       "CCAvg                           -0.017805                -0.013153   \n",
       "Education                        0.034035                 0.003285   \n",
       "Securities Account               0.006005                 0.000659   \n",
       "CD Account                       0.021361                 0.013816   \n",
       "Online                           0.012938                 0.009873   \n",
       "CreditCard                      -0.004600                 0.003190   \n",
       "Age (in years)_c                 1.000000                 0.675531   \n",
       "Experience (in years)_c          0.675531                 1.000000   \n",
       "Mortgage_c                       0.004431                -0.004763   \n",
       "Income (in K/month)_c           -0.034490                -0.026342   \n",
       "\n",
       "                         Mortgage_c  Income (in K/month)_c  \n",
       "ZIP Code                   0.011600              -0.016689  \n",
       "Family members             0.007075              -0.146190  \n",
       "CCAvg                     -0.015966               0.620987  \n",
       "Education                 -0.001104              -0.180308  \n",
       "Securities Account        -0.000831              -0.005209  \n",
       "CD Account                 0.035773               0.159307  \n",
       "Online                    -0.008926               0.002829  \n",
       "CreditCard                -0.002896              -0.004657  \n",
       "Age (in years)_c           0.004431              -0.034490  \n",
       "Experience (in years)_c   -0.004763              -0.026342  \n",
       "Mortgage_c                 1.000000              -0.003351  \n",
       "Income (in K/month)_c     -0.003351               1.000000  "
      ]
     },
     "execution_count": 14,
     "metadata": {},
     "output_type": "execute_result"
    }
   ],
   "source": [
    "bl_df_mod_chk.corr()"
   ]
  },
  {
   "cell_type": "code",
   "execution_count": 15,
   "metadata": {},
   "outputs": [],
   "source": [
    "## For testing purposes all remaining variables are showing some or the other impact on the model"
   ]
  },
  {
   "cell_type": "markdown",
   "metadata": {},
   "source": [
    "### 3. Model the data using Logistic regression (4 points)"
   ]
  },
  {
   "cell_type": "code",
   "execution_count": 16,
   "metadata": {},
   "outputs": [],
   "source": [
    "X = bl_df_mod.drop(['Personal Loan','ZIP Code'] , axis=1)\n",
    "y = bl_df_mod.pop(\"Personal Loan\")\n",
    "\n",
    "#from sklearn.model_selection import train_test_split\n",
    "X_train, X_test, y_train, y_test = train_test_split(X, y, test_size=.30, random_state=7)"
   ]
  },
  {
   "cell_type": "code",
   "execution_count": 17,
   "metadata": {},
   "outputs": [
    {
     "data": {
      "text/plain": [
       "LogisticRegression(C=1.0, class_weight=None, dual=False, fit_intercept=True,\n",
       "          intercept_scaling=1, max_iter=100, multi_class='ovr', n_jobs=1,\n",
       "          penalty='l2', random_state=None, solver='liblinear', tol=0.0001,\n",
       "          verbose=0, warm_start=False)"
      ]
     },
     "execution_count": 17,
     "metadata": {},
     "output_type": "execute_result"
    }
   ],
   "source": [
    "model = LogisticRegression()\n",
    "model.fit(X_train, y_train)"
   ]
  },
  {
   "cell_type": "code",
   "execution_count": 18,
   "metadata": {},
   "outputs": [
    {
     "data": {
      "text/plain": [
       "0.9454297407912687"
      ]
     },
     "execution_count": 18,
     "metadata": {},
     "output_type": "execute_result"
    }
   ],
   "source": [
    "model.score(X_test,y_test)"
   ]
  },
  {
   "cell_type": "markdown",
   "metadata": {},
   "source": [
    "### 4. Find the accuracy of the model using confusion matrix (4 points)"
   ]
  },
  {
   "cell_type": "code",
   "execution_count": 19,
   "metadata": {},
   "outputs": [],
   "source": [
    "predicted_dt = model.predict(X_test)"
   ]
  },
  {
   "cell_type": "code",
   "execution_count": 20,
   "metadata": {},
   "outputs": [
    {
     "data": {
      "text/plain": [
       "array([[1320,   15],\n",
       "       [  65,   66]])"
      ]
     },
     "execution_count": 20,
     "metadata": {},
     "output_type": "execute_result"
    }
   ],
   "source": [
    "metrics.confusion_matrix(y_test, predicted_dt)"
   ]
  },
  {
   "cell_type": "code",
   "execution_count": 21,
   "metadata": {},
   "outputs": [
    {
     "data": {
      "text/plain": [
       "0.9515395831546445"
      ]
     },
     "execution_count": 21,
     "metadata": {},
     "output_type": "execute_result"
    }
   ],
   "source": [
    "from sklearn.metrics import roc_curve, auc\n",
    "y_predictProb = model.predict_proba(X_test)\n",
    "fpr, tpr, thresholds = roc_curve(y_test, y_predictProb[:,1])\n",
    "roc_auc = auc(fpr, tpr)\n",
    "roc_auc"
   ]
  },
  {
   "cell_type": "code",
   "execution_count": 22,
   "metadata": {},
   "outputs": [
    {
     "data": {
      "text/plain": [
       "<matplotlib.legend.Legend at 0x1a181cf198>"
      ]
     },
     "execution_count": 22,
     "metadata": {},
     "output_type": "execute_result"
    },
    {
     "data": {
      "image/png": "[encoded data removed]",
      "text/plain": [
       "<Figure size 432x288 with 1 Axes>"
      ]
     },
     "metadata": {
      "needs_background": "light"
     },
     "output_type": "display_data"
    }
   ],
   "source": [
    "plt.plot(fpr, tpr, color='darkorange', label='ROC curve (area = %0.2f)' % roc_auc)\n",
    "plt.plot([0, 1], [0, 1], color='navy', linestyle='--')\n",
    "plt.xlabel('False Positive Rate')\n",
    "plt.ylabel('True Positive Rate')\n",
    "plt.title('Receiver operating characteristic')\n",
    "plt.legend(loc=\"lower right\")"
   ]
  },
  {
   "cell_type": "code",
   "execution_count": 23,
   "metadata": {},
   "outputs": [
    {
     "data": {
      "text/plain": [
       "array([0.00000000e+00, 0.00000000e+00, 7.49063670e-04, 7.49063670e-04,\n",
       "       1.49812734e-03, 1.49812734e-03, 2.24719101e-03, 2.24719101e-03,\n",
       "       2.99625468e-03, 2.99625468e-03, 4.49438202e-03, 4.49438202e-03,\n",
       "       5.99250936e-03, 5.99250936e-03, 8.23970037e-03, 8.23970037e-03,\n",
       "       1.04868914e-02, 1.04868914e-02, 1.12359551e-02, 1.12359551e-02,\n",
       "       1.19850187e-02, 1.19850187e-02, 1.27340824e-02, 1.27340824e-02,\n",
       "       1.49812734e-02, 1.49812734e-02, 1.72284644e-02, 1.72284644e-02,\n",
       "       2.24719101e-02, 2.24719101e-02, 2.39700375e-02, 2.39700375e-02,\n",
       "       2.69662921e-02, 2.69662921e-02, 2.77153558e-02, 2.77153558e-02,\n",
       "       2.92134831e-02, 2.92134831e-02, 3.07116105e-02, 3.07116105e-02,\n",
       "       3.22097378e-02, 3.22097378e-02, 3.37078652e-02, 3.37078652e-02,\n",
       "       3.67041199e-02, 3.67041199e-02, 3.74531835e-02, 3.74531835e-02,\n",
       "       4.49438202e-02, 4.49438202e-02, 4.71910112e-02, 4.71910112e-02,\n",
       "       4.94382022e-02, 4.94382022e-02, 5.24344569e-02, 5.24344569e-02,\n",
       "       5.54307116e-02, 5.54307116e-02, 5.61797753e-02, 5.61797753e-02,\n",
       "       5.99250936e-02, 5.99250936e-02, 6.36704120e-02, 6.36704120e-02,\n",
       "       6.81647940e-02, 6.81647940e-02, 6.89138577e-02, 6.89138577e-02,\n",
       "       7.26591760e-02, 7.26591760e-02, 7.49063670e-02, 7.49063670e-02,\n",
       "       8.01498127e-02, 8.01498127e-02, 8.16479401e-02, 8.16479401e-02,\n",
       "       8.98876404e-02, 8.98876404e-02, 9.21348315e-02, 9.21348315e-02,\n",
       "       9.28838951e-02, 9.28838951e-02, 9.96254682e-02, 9.96254682e-02,\n",
       "       1.01123596e-01, 1.01123596e-01, 1.16104869e-01, 1.16104869e-01,\n",
       "       1.18352060e-01, 1.18352060e-01, 1.19850187e-01, 1.19850187e-01,\n",
       "       1.25842697e-01, 1.25842697e-01, 1.27340824e-01, 1.27340824e-01,\n",
       "       1.28838951e-01, 1.28838951e-01, 1.37827715e-01, 1.37827715e-01,\n",
       "       1.58052434e-01, 1.58052434e-01, 1.58801498e-01, 1.58801498e-01,\n",
       "       1.59550562e-01, 1.59550562e-01, 1.89513109e-01, 1.89513109e-01,\n",
       "       1.96254682e-01, 1.96254682e-01, 2.11235955e-01, 2.11235955e-01,\n",
       "       2.98876404e-01, 2.98876404e-01, 3.19850187e-01, 3.19850187e-01,\n",
       "       3.31086142e-01, 3.31086142e-01, 3.52808989e-01, 3.52808989e-01,\n",
       "       4.25468165e-01, 4.25468165e-01, 1.00000000e+00])"
      ]
     },
     "execution_count": 23,
     "metadata": {},
     "output_type": "execute_result"
    }
   ],
   "source": [
    "fpr"
   ]
  },
  {
   "cell_type": "code",
   "execution_count": 24,
   "metadata": {},
   "outputs": [
    {
     "data": {
      "text/plain": [
       "0.8342689697233142"
      ]
     },
     "execution_count": 24,
     "metadata": {},
     "output_type": "execute_result"
    }
   ],
   "source": [
    "thresholds[1]"
   ]
  },
  {
   "cell_type": "code",
   "execution_count": 25,
   "metadata": {},
   "outputs": [
    {
     "data": {
      "text/html": [
       "<div>\n",
       "<style scoped>\n",
       "    .dataframe tbody tr th:only-of-type {\n",
       "        vertical-align: middle;\n",
       "    }\n",
       "\n",
       "    .dataframe tbody tr th {\n",
       "        vertical-align: top;\n",
       "    }\n",
       "\n",
       "    .dataframe thead th {\n",
       "        text-align: right;\n",
       "    }\n",
       "</style>\n",
       "<table border=\"1\" class=\"dataframe\">\n",
       "  <thead>\n",
       "    <tr style=\"text-align: right;\">\n",
       "      <th></th>\n",
       "      <th>0</th>\n",
       "    </tr>\n",
       "  </thead>\n",
       "  <tbody>\n",
       "    <tr>\n",
       "      <th>accuracy</th>\n",
       "      <td>0.932469</td>\n",
       "    </tr>\n",
       "    <tr>\n",
       "      <th>recall</th>\n",
       "      <td>0.251908</td>\n",
       "    </tr>\n",
       "    <tr>\n",
       "      <th>precision</th>\n",
       "      <td>0.970588</td>\n",
       "    </tr>\n",
       "  </tbody>\n",
       "</table>\n",
       "</div>"
      ],
      "text/plain": [
       "                  0\n",
       "accuracy   0.932469\n",
       "recall     0.251908\n",
       "precision  0.970588"
      ]
     },
     "execution_count": 25,
     "metadata": {},
     "output_type": "execute_result"
    }
   ],
   "source": [
    "THRESHOLD = 0.8\n",
    "preds = np.where(model.predict_proba(X_test)[:,1] > THRESHOLD, 1, 0)\n",
    "pd.DataFrame(data=[accuracy_score(y_test, preds), \n",
    "                   recall_score(y_test, preds),\n",
    "                   precision_score(y_test, preds)], \n",
    "             index=[\"accuracy\", \"recall\", \"precision\"])"
   ]
  },
  {
   "cell_type": "markdown",
   "metadata": {},
   "source": [
    "### 5. Use K - NN model [Hint: Try different values of k] and compare the accuracy of this model with that of Logistic regression (10 points)"
   ]
  },
  {
   "cell_type": "code",
   "execution_count": 26,
   "metadata": {},
   "outputs": [],
   "source": [
    "# Call Nearest Neighbour algorithm k=3\n",
    "from sklearn.metrics import accuracy_score\n",
    "model_NNH3 = KNeighborsClassifier(n_neighbors= 3)\n",
    "model_NNH3.fit(X_train, y_train)\n",
    "y_pred3 = model_NNH3.predict(X_test)"
   ]
  },
  {
   "cell_type": "code",
   "execution_count": 27,
   "metadata": {},
   "outputs": [
    {
     "data": {
      "text/plain": [
       "0.9092769440654843"
      ]
     },
     "execution_count": 27,
     "metadata": {},
     "output_type": "execute_result"
    }
   ],
   "source": [
    "accuracy_score(y_test, y_pred3)"
   ]
  },
  {
   "cell_type": "code",
   "execution_count": 28,
   "metadata": {},
   "outputs": [],
   "source": [
    "# Call Nearest Neighbour algorithm k=5\n",
    "from sklearn.metrics import accuracy_score\n",
    "model_NNH5 = KNeighborsClassifier(n_neighbors= 5)\n",
    "model_NNH5.fit(X_train, y_train)\n",
    "y_pred5 = model_NNH5.predict(X_test)"
   ]
  },
  {
   "cell_type": "code",
   "execution_count": 29,
   "metadata": {},
   "outputs": [
    {
     "data": {
      "text/plain": [
       "0.9106412005457026"
      ]
     },
     "execution_count": 29,
     "metadata": {},
     "output_type": "execute_result"
    }
   ],
   "source": [
    "accuracy_score(y_test, y_pred5)"
   ]
  },
  {
   "cell_type": "code",
   "execution_count": 30,
   "metadata": {},
   "outputs": [],
   "source": [
    "# Call Nearest Neighbour algorithm k=7\n",
    "from sklearn.metrics import accuracy_score\n",
    "model_NNH7 = KNeighborsClassifier(n_neighbors= 7)\n",
    "model_NNH7.fit(X_train, y_train)\n",
    "y_pred7 = model_NNH7.predict(X_test)"
   ]
  },
  {
   "cell_type": "code",
   "execution_count": 31,
   "metadata": {},
   "outputs": [
    {
     "data": {
      "text/plain": [
       "0.9106412005457026"
      ]
     },
     "execution_count": 31,
     "metadata": {},
     "output_type": "execute_result"
    }
   ],
   "source": [
    "accuracy_score(y_test, y_pred7)"
   ]
  },
  {
   "cell_type": "code",
   "execution_count": 32,
   "metadata": {},
   "outputs": [],
   "source": [
    "# Call Nearest Neighbour algorithm k=9\n",
    "from sklearn.metrics import accuracy_score\n",
    "model_NNH9 = KNeighborsClassifier(n_neighbors= 9)\n",
    "model_NNH9.fit(X_train, y_train)\n",
    "y_pred9 = model_NNH9.predict(X_test)"
   ]
  },
  {
   "cell_type": "code",
   "execution_count": 33,
   "metadata": {},
   "outputs": [
    {
     "data": {
      "text/plain": [
       "0.9099590723055935"
      ]
     },
     "execution_count": 33,
     "metadata": {},
     "output_type": "execute_result"
    }
   ],
   "source": [
    "accuracy_score(y_test, y_pred9)"
   ]
  },
  {
   "cell_type": "code",
   "execution_count": 34,
   "metadata": {},
   "outputs": [],
   "source": [
    "# 5/7 Nearest neighbours seems to be an optimum outcome"
   ]
  },
  {
   "cell_type": "code",
   "execution_count": 37,
   "metadata": {},
   "outputs": [],
   "source": [
    "predicted_dt = model_NNH7.predict(X_test)"
   ]
  },
  {
   "cell_type": "code",
   "execution_count": 38,
   "metadata": {},
   "outputs": [
    {
     "data": {
      "text/plain": [
       "array([[1334,    1],\n",
       "       [ 130,    1]])"
      ]
     },
     "execution_count": 38,
     "metadata": {},
     "output_type": "execute_result"
    }
   ],
   "source": [
    "metrics.confusion_matrix(y_test, predicted_dt)"
   ]
  },
  {
   "cell_type": "code",
   "execution_count": 39,
   "metadata": {},
   "outputs": [
    {
     "data": {
      "text/plain": [
       "0.6026160048031565"
      ]
     },
     "execution_count": 39,
     "metadata": {},
     "output_type": "execute_result"
    }
   ],
   "source": [
    "from sklearn.metrics import roc_curve, auc\n",
    "y_predictProb = model_NNH7.predict_proba(X_test)\n",
    "fpr, tpr, thresholds = roc_curve(y_test, y_predictProb[:,1])\n",
    "roc_auc = auc(fpr, tpr)\n",
    "roc_auc"
   ]
  },
  {
   "cell_type": "code",
   "execution_count": 40,
   "metadata": {},
   "outputs": [
    {
     "data": {
      "text/plain": [
       "<matplotlib.legend.Legend at 0x1a17f84cf8>"
      ]
     },
     "execution_count": 40,
     "metadata": {},
     "output_type": "execute_result"
    },
    {
     "data": {
      "image/png": "[encoded data removed]",
      "text/plain": [
       "<Figure size 432x288 with 1 Axes>"
      ]
     },
     "metadata": {
      "needs_background": "light"
     },
     "output_type": "display_data"
    }
   ],
   "source": [
    "plt.plot(fpr, tpr, color='darkorange', label='ROC curve (area = %0.2f)' % roc_auc)\n",
    "plt.plot([0, 1], [0, 1], color='navy', linestyle='--')\n",
    "plt.xlabel('False Positive Rate')\n",
    "plt.ylabel('True Positive Rate')\n",
    "plt.title('Receiver operating characteristic')\n",
    "plt.legend(loc=\"lower right\")"
   ]
  },
  {
   "cell_type": "code",
   "execution_count": 41,
   "metadata": {},
   "outputs": [
    {
     "data": {
      "text/plain": [
       "array([0.00000000e+00, 7.49063670e-04, 1.34831461e-02, 9.13857678e-02,\n",
       "       4.46441948e-01, 1.00000000e+00])"
      ]
     },
     "execution_count": 41,
     "metadata": {},
     "output_type": "execute_result"
    }
   ],
   "source": [
    "fpr"
   ]
  },
  {
   "cell_type": "code",
   "execution_count": 42,
   "metadata": {},
   "outputs": [
    {
     "data": {
      "text/plain": [
       "0.5714285714285714"
      ]
     },
     "execution_count": 42,
     "metadata": {},
     "output_type": "execute_result"
    }
   ],
   "source": [
    "thresholds[1]"
   ]
  },
  {
   "cell_type": "code",
   "execution_count": 43,
   "metadata": {},
   "outputs": [
    {
     "data": {
      "text/html": [
       "<div>\n",
       "<style scoped>\n",
       "    .dataframe tbody tr th:only-of-type {\n",
       "        vertical-align: middle;\n",
       "    }\n",
       "\n",
       "    .dataframe tbody tr th {\n",
       "        vertical-align: top;\n",
       "    }\n",
       "\n",
       "    .dataframe thead th {\n",
       "        text-align: right;\n",
       "    }\n",
       "</style>\n",
       "<table border=\"1\" class=\"dataframe\">\n",
       "  <thead>\n",
       "    <tr style=\"text-align: right;\">\n",
       "      <th></th>\n",
       "      <th>0</th>\n",
       "    </tr>\n",
       "  </thead>\n",
       "  <tbody>\n",
       "    <tr>\n",
       "      <th>accuracy</th>\n",
       "      <td>0.945430</td>\n",
       "    </tr>\n",
       "    <tr>\n",
       "      <th>recall</th>\n",
       "      <td>0.503817</td>\n",
       "    </tr>\n",
       "    <tr>\n",
       "      <th>precision</th>\n",
       "      <td>0.814815</td>\n",
       "    </tr>\n",
       "  </tbody>\n",
       "</table>\n",
       "</div>"
      ],
      "text/plain": [
       "                  0\n",
       "accuracy   0.945430\n",
       "recall     0.503817\n",
       "precision  0.814815"
      ]
     },
     "execution_count": 43,
     "metadata": {},
     "output_type": "execute_result"
    }
   ],
   "source": [
    "THRESHOLD = 0.5\n",
    "preds = np.where(model.predict_proba(X_test)[:,1] > THRESHOLD, 1, 0)\n",
    "pd.DataFrame(data=[accuracy_score(y_test, preds), \n",
    "                   recall_score(y_test, preds),\n",
    "                   precision_score(y_test, preds)], \n",
    "             index=[\"accuracy\", \"recall\", \"precision\"])"
   ]
  },
  {
   "cell_type": "code",
   "execution_count": null,
   "metadata": {},
   "outputs": [],
   "source": [
    "### Comparison of Logistic with KNN shows that there is increase in the RECALL value which is good from a model\n",
    "### prediction perspective."
   ]
  }
 ],
 "metadata": {
  "kernelspec": {
   "display_name": "Python 3",
   "language": "python",
   "name": "python3"
  },
  "language_info": {
   "codemirror_mode": {
    "name": "ipython",
    "version": 3
   },
   "file_extension": ".py",
   "mimetype": "text/x-python",
   "name": "python",
   "nbconvert_exporter": "python",
   "pygments_lexer": "ipython3",
   "version": "3.7.0"
  }
 },
 "nbformat": 4,
 "nbformat_minor": 2
}
