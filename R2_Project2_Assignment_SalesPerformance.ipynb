{
 "cells": [
  {
   "cell_type": "markdown",
   "metadata": {},
   "source": [
    "### Residency 2 - Project 2 - Assignment for Statistical Learning"
   ]
  },
  {
   "cell_type": "code",
   "execution_count": 40,
   "metadata": {},
   "outputs": [
    {
     "data": {
      "text/html": [
       "<div>\n",
       "<style scoped>\n",
       "    .dataframe tbody tr th:only-of-type {\n",
       "        vertical-align: middle;\n",
       "    }\n",
       "\n",
       "    .dataframe tbody tr th {\n",
       "        vertical-align: top;\n",
       "    }\n",
       "\n",
       "    .dataframe thead th {\n",
       "        text-align: right;\n",
       "    }\n",
       "</style>\n",
       "<table border=\"1\" class=\"dataframe\">\n",
       "  <thead>\n",
       "    <tr style=\"text-align: right;\">\n",
       "      <th></th>\n",
       "      <th>SPERSON</th>\n",
       "      <th>Old Scheme (in thousands)</th>\n",
       "      <th>New Scheme (in thousands)</th>\n",
       "    </tr>\n",
       "  </thead>\n",
       "  <tbody>\n",
       "    <tr>\n",
       "      <th>0</th>\n",
       "      <td>1</td>\n",
       "      <td>57</td>\n",
       "      <td>62</td>\n",
       "    </tr>\n",
       "    <tr>\n",
       "      <th>1</th>\n",
       "      <td>2</td>\n",
       "      <td>103</td>\n",
       "      <td>122</td>\n",
       "    </tr>\n",
       "  </tbody>\n",
       "</table>\n",
       "</div>"
      ],
      "text/plain": [
       "   SPERSON  Old Scheme (in thousands)  New Scheme (in thousands)\n",
       "0        1                         57                         62\n",
       "1        2                        103                        122"
      ]
     },
     "execution_count": 40,
     "metadata": {},
     "output_type": "execute_result"
    }
   ],
   "source": [
    "### Import functions to read file\n",
    "import numpy as np\n",
    "import pandas as pd\n",
    "salesperformance = pd.read_csv(\"SalesPerformance.csv\")\n",
    "## Show first 2 values\n",
    "salesperformance.head(2)"
   ]
  },
  {
   "cell_type": "markdown",
   "metadata": {},
   "source": [
    "### Find the mean of old scheme and new scheme column. (5 points)"
   ]
  },
  {
   "cell_type": "code",
   "execution_count": 41,
   "metadata": {},
   "outputs": [
    {
     "data": {
      "text/plain": [
       "Old Scheme (in thousands)    68.033333\n",
       "dtype: float64"
      ]
     },
     "execution_count": 41,
     "metadata": {},
     "output_type": "execute_result"
    }
   ],
   "source": [
    "salesperformance[['Old Scheme (in thousands)']].mean()"
   ]
  },
  {
   "cell_type": "code",
   "execution_count": 42,
   "metadata": {},
   "outputs": [
    {
     "data": {
      "text/plain": [
       "New Scheme (in thousands)    72.033333\n",
       "dtype: float64"
      ]
     },
     "execution_count": 42,
     "metadata": {},
     "output_type": "execute_result"
    }
   ],
   "source": [
    "salesperformance[['New Scheme (in thousands)']].mean()"
   ]
  },
  {
   "cell_type": "markdown",
   "metadata": {},
   "source": [
    "### Use the five percent significance test over the data to determine the p value \n",
    "### to check new scheme has significantly raised outputs? (8 points)"
   ]
  },
  {
   "cell_type": "code",
   "execution_count": 43,
   "metadata": {},
   "outputs": [
    {
     "name": "stdout",
     "output_type": "stream",
     "text": [
      "Statistics = 0.940, P = 0.089\n"
     ]
    }
   ],
   "source": [
    "# Paired ttest since the std deviation is not known\n",
    "# checking for normalcy\n",
    "salesperformance_c = salesperformance\n",
    "salesperformance_c['Diff'] = salesperformance['New Scheme (in thousands)'] - salesperformance['Old Scheme (in thousands)']\n",
    "\n",
    "from scipy.stats import shapiro\n",
    "stat, p = shapiro(salesperformance_c['Diff'])\n",
    "print('Statistics = %.3f, P = %.3f' % (stat,p))"
   ]
  },
  {
   "cell_type": "code",
   "execution_count": 44,
   "metadata": {},
   "outputs": [],
   "source": [
    "# P greater than alpha denotes normal data"
   ]
  },
  {
   "cell_type": "code",
   "execution_count": 45,
   "metadata": {},
   "outputs": [
    {
     "data": {
      "text/plain": [
       "Ttest_relResult(statistic=array([1.55591438]), pvalue=array([0.13057554]))"
      ]
     },
     "execution_count": 45,
     "metadata": {},
     "output_type": "execute_result"
    }
   ],
   "source": [
    "## Import the stats functions for ttest\n",
    "from scipy.stats import ttest_rel\n",
    "## Run the test\n",
    "ttest = ttest_rel(salesperformance[['New Scheme (in thousands)']], salesperformance[['Old Scheme (in thousands)']], axis=0)\n",
    "## Showcase the values of the P values to validate the result\n",
    "ttest"
   ]
  },
  {
   "cell_type": "markdown",
   "metadata": {},
   "source": [
    "### What conclusion does the test (p-value) lead to? (2 points)"
   ]
  },
  {
   "cell_type": "code",
   "execution_count": 46,
   "metadata": {},
   "outputs": [],
   "source": [
    "# Assumption is that mu1 is average sales before and mu2 is average sales after the introduction of scheme\n",
    "# Null Hypotheis for sample above Ho : mu2-mu1 = muD = 0\n",
    "# Alternate Hypotheis for sample above Ha : mu2-mu1 = muD <> 0\n",
    "# pvalue in the above test is 0.13 which is more than than the alpha threshold of 0.05\n",
    "# Hence we failed to reject the NUll Hypothesis and hence the averages are not significantly different \n",
    "# after introduction of the scheme"
   ]
  },
  {
   "cell_type": "markdown",
   "metadata": {},
   "source": [
    "### Suppose it has been calculated that in order for Titan to break even, the average output must increase by £5000 in the scheme compared to the old scheme. If this figure is alternative hypothesis, what is:"
   ]
  },
  {
   "cell_type": "markdown",
   "metadata": {},
   "source": [
    "###        a) The probability of a type 1 error? (2 points)"
   ]
  },
  {
   "cell_type": "code",
   "execution_count": 47,
   "metadata": {},
   "outputs": [],
   "source": [
    "# In this example the alpha value assumed is 0.05\n",
    "# Hence the probability of type 1 error is 5%"
   ]
  },
  {
   "cell_type": "markdown",
   "metadata": {},
   "source": [
    "###        b) What is the p- value of the hypothesis test if we test for a difference of $5000? (8 points)"
   ]
  },
  {
   "cell_type": "code",
   "execution_count": 48,
   "metadata": {},
   "outputs": [],
   "source": [
    "# Assumption is that mu1 is average sales before and mu2 is average sales after the introduction of scheme\n",
    "# Alternate Hypothesis for sample above Ha : mu2-mu1 = muD > 5000\n",
    "# Null Hypothesis for sample above Ho : mu2-mu1 = muD <= 5000"
   ]
  },
  {
   "cell_type": "code",
   "execution_count": 49,
   "metadata": {},
   "outputs": [
    {
     "name": "stdout",
     "output_type": "stream",
     "text": [
      "-0.3889785955886094\n",
      "0.6499332543693357\n"
     ]
    }
   ],
   "source": [
    "import scipy.stats as st\n",
    "import numpy as np\n",
    "import statistics as stt\n",
    "\n",
    "# Utilise Diff Test for calculating Probability\n",
    "salesperformance['Diff'] = salesperformance['New Scheme (in thousands)'] - salesperformance['Old Scheme (in thousands)']\n",
    "# Mean of Differences\n",
    "Dbar = salesperformance['Diff'].mean()\n",
    "# Average threshold to be tested in this case\n",
    "MUd = 5\n",
    "# Standard Deviation of the Differences\n",
    "SDdiff = stt.stdev(salesperformance['Diff'])\n",
    "# Test statistic for the Difference\n",
    "t = (Dbar - MUd)/(SDdiff/(30**0.5))\n",
    "print(t)\n",
    "\n",
    "### Find corresponding p Value\n",
    "p = 1 - st.t.cdf(t,df=29)\n",
    "print(p)"
   ]
  },
  {
   "cell_type": "code",
   "execution_count": 50,
   "metadata": {},
   "outputs": [],
   "source": [
    "## P Value to test the difference of 5000 is 0.6499"
   ]
  },
  {
   "cell_type": "markdown",
   "metadata": {},
   "source": [
    "###        c) Power of the test (5 points)"
   ]
  },
  {
   "cell_type": "code",
   "execution_count": 74,
   "metadata": {},
   "outputs": [
    {
     "name": "stdout",
     "output_type": "stream",
     "text": [
      "4.368176088015461\n"
     ]
    }
   ],
   "source": [
    "# Using the T Table to find the t critical here for alpha = 0.05 and degrees of freedom = (30-1=29)\n",
    "tcrit = 1.699127\n",
    "# Find the x value where tcrit = 1.699127\n",
    "se = SDdiff/(30**0.5)\n",
    "xbar = 0 + (tcrit * se)\n",
    "print(xbar)"
   ]
  },
  {
   "cell_type": "code",
   "execution_count": 76,
   "metadata": {},
   "outputs": [
    {
     "name": "stdout",
     "output_type": "stream",
     "text": [
      "Power Of Test = 0.403797\n"
     ]
    }
   ],
   "source": [
    "# Power of the test is P(reject Ho | Ha is True)\n",
    "tstat = (xbar-5.000)/se\n",
    "beta = 1 - st.t.cdf(tstat,df=29)\n",
    "pot = (1 - beta)\n",
    "print('Power Of Test = %.6f' % (pot))"
   ]
  }
 ],
 "metadata": {
  "kernelspec": {
   "display_name": "Python 3",
   "language": "python",
   "name": "python3"
  },
  "language_info": {
   "codemirror_mode": {
    "name": "ipython",
    "version": 3
   },
   "file_extension": ".py",
   "mimetype": "text/x-python",
   "name": "python",
   "nbconvert_exporter": "python",
   "pygments_lexer": "ipython3",
   "version": "3.7.0"
  }
 },
 "nbformat": 4,
 "nbformat_minor": 2
}
