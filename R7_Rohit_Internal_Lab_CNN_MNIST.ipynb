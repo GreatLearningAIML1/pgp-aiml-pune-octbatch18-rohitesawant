{
  "nbformat": 4,
  "nbformat_minor": 0,
  "metadata": {
    "colab": {
      "name": "R7_Rohit_Internal_Lab_CNN_MNIST.ipynb",
      "version": "0.3.2",
      "provenance": [],
      "collapsed_sections": []
    },
    "kernelspec": {
      "name": "python3",
      "display_name": "Python 3"
    },
    "accelerator": "GPU"
  },
  "cells": [
    {
      "metadata": {
        "id": "MyfMmMnPJjvn",
        "colab_type": "text"
      },
      "cell_type": "markdown",
      "source": [
        "## Train a simple convnet on the Fashion MNIST dataset"
      ]
    },
    {
      "metadata": {
        "id": "zjcGOJhcJjvp",
        "colab_type": "text"
      },
      "cell_type": "markdown",
      "source": [
        "In this, we will see how to deal with image data and train a convnet for image classification task."
      ]
    },
    {
      "metadata": {
        "id": "WsMRZY-RG7FE",
        "colab_type": "code",
        "colab": {
          "base_uri": "https://localhost:8080/",
          "height": 34
        },
        "outputId": "2aaf1beb-1b22-4844-ee9c-3feda065a7d9"
      },
      "cell_type": "code",
      "source": [
        "import numpy as np\n",
        "import keras\n",
        "import tensorflow as tf\n",
        "import matplotlib.pyplot as plt"
      ],
      "execution_count": 1,
      "outputs": [
        {
          "output_type": "stream",
          "text": [
            "Using TensorFlow backend.\n"
          ],
          "name": "stderr"
        }
      ]
    },
    {
      "metadata": {
        "id": "jR0Pl2XjJjvq",
        "colab_type": "text"
      },
      "cell_type": "markdown",
      "source": [
        "### Load the  `fashion_mnist`  dataset\n",
        "\n",
        "** Use keras.datasets to load the dataset **"
      ]
    },
    {
      "metadata": {
        "id": "Qr75v_UYJjvs",
        "colab_type": "code",
        "colab": {}
      },
      "cell_type": "code",
      "source": [
        "from keras.datasets import fashion_mnist\n",
        "(x_train, y_train), (x_test, y_test) = fashion_mnist.load_data()"
      ],
      "execution_count": 0,
      "outputs": []
    },
    {
      "metadata": {
        "id": "0IllvIU9hBVd",
        "colab_type": "code",
        "colab": {
          "base_uri": "https://localhost:8080/",
          "height": 34
        },
        "outputId": "ea02abb2-701d-4d2b-f338-6a703a469b23"
      },
      "cell_type": "code",
      "source": [
        "x_train.shape"
      ],
      "execution_count": 3,
      "outputs": [
        {
          "output_type": "execute_result",
          "data": {
            "text/plain": [
              "(60000, 28, 28)"
            ]
          },
          "metadata": {
            "tags": []
          },
          "execution_count": 3
        }
      ]
    },
    {
      "metadata": {
        "id": "-b_3n7VqhD6p",
        "colab_type": "code",
        "colab": {
          "base_uri": "https://localhost:8080/",
          "height": 34
        },
        "outputId": "d4e67b8e-831c-4915-97a9-34261efac373"
      },
      "cell_type": "code",
      "source": [
        "x_test.shape"
      ],
      "execution_count": 4,
      "outputs": [
        {
          "output_type": "execute_result",
          "data": {
            "text/plain": [
              "(10000, 28, 28)"
            ]
          },
          "metadata": {
            "tags": []
          },
          "execution_count": 4
        }
      ]
    },
    {
      "metadata": {
        "id": "hTI42-0qJjvw",
        "colab_type": "text"
      },
      "cell_type": "markdown",
      "source": [
        "### Find no.of samples are there in training and test datasets"
      ]
    },
    {
      "metadata": {
        "id": "g2sf67VoJjvx",
        "colab_type": "code",
        "colab": {
          "base_uri": "https://localhost:8080/",
          "height": 34
        },
        "outputId": "28600faf-f8fa-4073-abba-6aed8f126b82"
      },
      "cell_type": "code",
      "source": [
        "len(x_train)"
      ],
      "execution_count": 5,
      "outputs": [
        {
          "output_type": "execute_result",
          "data": {
            "text/plain": [
              "60000"
            ]
          },
          "metadata": {
            "tags": []
          },
          "execution_count": 5
        }
      ]
    },
    {
      "metadata": {
        "id": "9THAwqUvFS4H",
        "colab_type": "code",
        "colab": {
          "base_uri": "https://localhost:8080/",
          "height": 34
        },
        "outputId": "0934a60d-d32d-48f1-8ab6-213f292b2419"
      },
      "cell_type": "code",
      "source": [
        "len(x_test)"
      ],
      "execution_count": 6,
      "outputs": [
        {
          "output_type": "execute_result",
          "data": {
            "text/plain": [
              "10000"
            ]
          },
          "metadata": {
            "tags": []
          },
          "execution_count": 6
        }
      ]
    },
    {
      "metadata": {
        "id": "sMp_oOwJFNCK",
        "colab_type": "text"
      },
      "cell_type": "markdown",
      "source": [
        "*There are a total of 60000 records in the Train Data Set. There are 10000 Records in Test Data Set*"
      ]
    },
    {
      "metadata": {
        "id": "WytT2eRnJjv4",
        "colab_type": "text"
      },
      "cell_type": "markdown",
      "source": [
        "### Find dimensions of an image in the dataset"
      ]
    },
    {
      "metadata": {
        "id": "XycQGBSGJjv5",
        "colab_type": "code",
        "colab": {
          "base_uri": "https://localhost:8080/",
          "height": 34
        },
        "outputId": "67fffc93-e15b-44a9-cb40-705f15b697ef"
      },
      "cell_type": "code",
      "source": [
        "x_train.shape"
      ],
      "execution_count": 7,
      "outputs": [
        {
          "output_type": "execute_result",
          "data": {
            "text/plain": [
              "(60000, 28, 28)"
            ]
          },
          "metadata": {
            "tags": []
          },
          "execution_count": 7
        }
      ]
    },
    {
      "metadata": {
        "id": "r7oLuIzNhLTG",
        "colab_type": "text"
      },
      "cell_type": "markdown",
      "source": [
        "* the dimension of the image is 28*28"
      ]
    },
    {
      "metadata": {
        "id": "5jtdZ7RqJjv8",
        "colab_type": "text"
      },
      "cell_type": "markdown",
      "source": [
        "### Convert train and test labels to one hot vectors\n",
        "\n",
        "** check `keras.utils.to_categorical()` **"
      ]
    },
    {
      "metadata": {
        "id": "sAD3q5I6Jjv9",
        "colab_type": "code",
        "colab": {}
      },
      "cell_type": "code",
      "source": [
        "# convert class vectors to binary class matrices\n",
        "y_train_class = keras.utils.to_categorical(y_train, 10)"
      ],
      "execution_count": 0,
      "outputs": []
    },
    {
      "metadata": {
        "id": "GFA7LPdzJG7n",
        "colab_type": "code",
        "colab": {}
      },
      "cell_type": "code",
      "source": [
        "y_test_class = keras.utils.to_categorical(y_test, 10)"
      ],
      "execution_count": 0,
      "outputs": []
    },
    {
      "metadata": {
        "id": "xO5BRBzBJjwD",
        "colab_type": "text"
      },
      "cell_type": "markdown",
      "source": [
        "### Normalize both the train and test image data from 0-255 to 0-1"
      ]
    },
    {
      "metadata": {
        "id": "LbaUZ26Fgqub",
        "colab_type": "code",
        "colab": {}
      },
      "cell_type": "code",
      "source": [
        ""
      ],
      "execution_count": 0,
      "outputs": []
    },
    {
      "metadata": {
        "id": "C8hPICJOJthA",
        "colab_type": "code",
        "colab": {}
      },
      "cell_type": "code",
      "source": [
        "x_train_conv =  x_train.astype(\"float32\") / 255\n",
        "x_test_conv = x_test.astype(\"float32\") / 255"
      ],
      "execution_count": 0,
      "outputs": []
    },
    {
      "metadata": {
        "id": "da5-DwgrJjwM",
        "colab_type": "text"
      },
      "cell_type": "markdown",
      "source": [
        "### Reshape the data from 28x28 to 28x28x1 to match input dimensions in Conv2D layer in keras"
      ]
    },
    {
      "metadata": {
        "id": "LPGVQ-JJJjwN",
        "colab_type": "code",
        "colab": {}
      },
      "cell_type": "code",
      "source": [
        "x_train_conv = x_train_conv.reshape(x_train.shape[0], 28, 28, 1)\n",
        "x_test_conv = x_test_conv.reshape(x_test.shape[0], 28, 28, 1)"
      ],
      "execution_count": 0,
      "outputs": []
    },
    {
      "metadata": {
        "id": "3zamPhXBJ7ml",
        "colab_type": "code",
        "colab": {}
      },
      "cell_type": "code",
      "source": [
        "input_shape = (28, 28, 1)"
      ],
      "execution_count": 0,
      "outputs": []
    },
    {
      "metadata": {
        "id": "OFRRTJq8JjwQ",
        "colab_type": "text"
      },
      "cell_type": "markdown",
      "source": [
        "### Import the necessary layers from keras to build the model"
      ]
    },
    {
      "metadata": {
        "id": "dWTZYnKSJjwR",
        "colab_type": "code",
        "colab": {}
      },
      "cell_type": "code",
      "source": [
        "from keras.models import Sequential\n",
        "from keras.layers import Conv2D, MaxPooling2D, Activation, Flatten, Dense, Dropout\n",
        "from keras import backend as K"
      ],
      "execution_count": 0,
      "outputs": []
    },
    {
      "metadata": {
        "id": "C18AoS7eJjwU",
        "colab_type": "text"
      },
      "cell_type": "markdown",
      "source": [
        "### Build a model \n",
        "\n",
        "** with 2 Conv layers having `32 3*3 filters` in both convolutions with `relu activations` and `flatten` before passing the feature map into 2 fully connected layers (or Dense Layers) having 128 and 10 neurons with `relu` and `softmax` activations respectively. Now, using `categorical_crossentropy` loss with `adam` optimizer train the model with early stopping `patience=5` and no.of `epochs=10`. **"
      ]
    },
    {
      "metadata": {
        "id": "DORCLgSwJjwV",
        "colab_type": "code",
        "colab": {
          "base_uri": "https://localhost:8080/",
          "height": 88
        },
        "outputId": "6a4c79de-76f6-497c-905c-8972b279fe05"
      },
      "cell_type": "code",
      "source": [
        "model_1_conv = Sequential()\n",
        "model_1_conv.add(Conv2D(32, (3, 3), activation =\"relu\", input_shape=(28, 28, 1)))\n",
        "model_1_conv.add(Conv2D(32, (3, 3), activation =\"relu\"))\n",
        "model_1_conv.add(Flatten())\n",
        "model_1_conv.add(Dense(128, activation='relu'))\n",
        "model_1_conv.add(Dense(10, activation='softmax'))"
      ],
      "execution_count": 16,
      "outputs": [
        {
          "output_type": "stream",
          "text": [
            "WARNING:tensorflow:From /usr/local/lib/python3.6/dist-packages/tensorflow/python/framework/op_def_library.py:263: colocate_with (from tensorflow.python.framework.ops) is deprecated and will be removed in a future version.\n",
            "Instructions for updating:\n",
            "Colocations handled automatically by placer.\n"
          ],
          "name": "stdout"
        }
      ]
    },
    {
      "metadata": {
        "id": "3JZywHLXK032",
        "colab_type": "code",
        "colab": {
          "base_uri": "https://localhost:8080/",
          "height": 306
        },
        "outputId": "6b166f86-79bc-43d1-c050-243260a895c7"
      },
      "cell_type": "code",
      "source": [
        "model_1_conv.summary()"
      ],
      "execution_count": 17,
      "outputs": [
        {
          "output_type": "stream",
          "text": [
            "_________________________________________________________________\n",
            "Layer (type)                 Output Shape              Param #   \n",
            "=================================================================\n",
            "conv2d_1 (Conv2D)            (None, 26, 26, 32)        320       \n",
            "_________________________________________________________________\n",
            "conv2d_2 (Conv2D)            (None, 24, 24, 32)        9248      \n",
            "_________________________________________________________________\n",
            "flatten_1 (Flatten)          (None, 18432)             0         \n",
            "_________________________________________________________________\n",
            "dense_1 (Dense)              (None, 128)               2359424   \n",
            "_________________________________________________________________\n",
            "dense_2 (Dense)              (None, 10)                1290      \n",
            "=================================================================\n",
            "Total params: 2,370,282\n",
            "Trainable params: 2,370,282\n",
            "Non-trainable params: 0\n",
            "_________________________________________________________________\n"
          ],
          "name": "stdout"
        }
      ]
    },
    {
      "metadata": {
        "id": "V7-49cLMLE9-",
        "colab_type": "code",
        "colab": {}
      },
      "cell_type": "code",
      "source": [
        "model_1_conv.compile(loss='categorical_crossentropy', optimizer=\"adam\", metrics=['accuracy'])"
      ],
      "execution_count": 0,
      "outputs": []
    },
    {
      "metadata": {
        "id": "jThRGkeqLRGv",
        "colab_type": "code",
        "colab": {
          "base_uri": "https://localhost:8080/",
          "height": 377
        },
        "outputId": "bf204762-7864-4650-a592-6484d48b5e96"
      },
      "cell_type": "code",
      "source": [
        "%%time\n",
        "\n",
        "earlyStopping=keras.callbacks.EarlyStopping(monitor='val_loss', patience=5, verbose=0, mode='auto')\n",
        "output_1_conv = model_1_conv.fit(x_train_conv, y_train_class, batch_size=50, epochs=10, callbacks=[earlyStopping], verbose=2,\n",
        "                    validation_data=(x_test_conv, y_test_class))"
      ],
      "execution_count": 19,
      "outputs": [
        {
          "output_type": "stream",
          "text": [
            "WARNING:tensorflow:From /usr/local/lib/python3.6/dist-packages/tensorflow/python/ops/math_ops.py:3066: to_int32 (from tensorflow.python.ops.math_ops) is deprecated and will be removed in a future version.\n",
            "Instructions for updating:\n",
            "Use tf.cast instead.\n",
            "Train on 60000 samples, validate on 10000 samples\n",
            "Epoch 1/10\n",
            " - 14s - loss: 0.3816 - acc: 0.8632 - val_loss: 0.3099 - val_acc: 0.8903\n",
            "Epoch 2/10\n",
            " - 12s - loss: 0.2377 - acc: 0.9118 - val_loss: 0.2517 - val_acc: 0.9081\n",
            "Epoch 3/10\n",
            " - 12s - loss: 0.1773 - acc: 0.9335 - val_loss: 0.2593 - val_acc: 0.9114\n",
            "Epoch 4/10\n",
            " - 12s - loss: 0.1278 - acc: 0.9525 - val_loss: 0.2551 - val_acc: 0.9158\n",
            "Epoch 5/10\n",
            " - 12s - loss: 0.0902 - acc: 0.9670 - val_loss: 0.2867 - val_acc: 0.9167\n",
            "Epoch 6/10\n",
            " - 12s - loss: 0.0635 - acc: 0.9768 - val_loss: 0.3125 - val_acc: 0.9152\n",
            "Epoch 7/10\n",
            " - 12s - loss: 0.0430 - acc: 0.9851 - val_loss: 0.3529 - val_acc: 0.9143\n",
            "CPU times: user 1min 19s, sys: 21.6 s, total: 1min 41s\n",
            "Wall time: 1min 25s\n"
          ],
          "name": "stdout"
        }
      ]
    },
    {
      "metadata": {
        "id": "ju69vKdIJjwX",
        "colab_type": "text"
      },
      "cell_type": "markdown",
      "source": [
        "### Now, to the above model add `max` pooling layer of `filter size 2x2` and `dropout` layer with `p=0.25` after the 2 conv layers and run the model"
      ]
    },
    {
      "metadata": {
        "id": "L2hAP94vJjwY",
        "colab_type": "code",
        "colab": {
          "base_uri": "https://localhost:8080/",
          "height": 88
        },
        "outputId": "74adb891-e276-4141-8cd5-abecac4eed94"
      },
      "cell_type": "code",
      "source": [
        "model_2_conv = Sequential()\n",
        "model_2_conv.add(Conv2D(32, (3, 3), activation =\"relu\", input_shape=(28, 28, 1)))\n",
        "model_2_conv.add(MaxPooling2D(pool_size=(2, 2)))\n",
        "model_2_conv.add(Conv2D(32, (3, 3), activation =\"relu\"))\n",
        "model_2_conv.add(Dropout(0.25))\n",
        "model_2_conv.add(Flatten())\n",
        "model_2_conv.add(Dense(128, activation='relu'))\n",
        "model_2_conv.add(Dense(10, activation='softmax'))"
      ],
      "execution_count": 20,
      "outputs": [
        {
          "output_type": "stream",
          "text": [
            "WARNING:tensorflow:From /usr/local/lib/python3.6/dist-packages/keras/backend/tensorflow_backend.py:3445: calling dropout (from tensorflow.python.ops.nn_ops) with keep_prob is deprecated and will be removed in a future version.\n",
            "Instructions for updating:\n",
            "Please use `rate` instead of `keep_prob`. Rate should be set to `rate = 1 - keep_prob`.\n"
          ],
          "name": "stdout"
        }
      ]
    },
    {
      "metadata": {
        "id": "_ZQ7G2C7O-S3",
        "colab_type": "code",
        "colab": {
          "base_uri": "https://localhost:8080/",
          "height": 374
        },
        "outputId": "dd8a3684-d5cc-4515-fc22-c66db59c3865"
      },
      "cell_type": "code",
      "source": [
        "model_2_conv.summary()"
      ],
      "execution_count": 21,
      "outputs": [
        {
          "output_type": "stream",
          "text": [
            "_________________________________________________________________\n",
            "Layer (type)                 Output Shape              Param #   \n",
            "=================================================================\n",
            "conv2d_3 (Conv2D)            (None, 26, 26, 32)        320       \n",
            "_________________________________________________________________\n",
            "max_pooling2d_1 (MaxPooling2 (None, 13, 13, 32)        0         \n",
            "_________________________________________________________________\n",
            "conv2d_4 (Conv2D)            (None, 11, 11, 32)        9248      \n",
            "_________________________________________________________________\n",
            "dropout_1 (Dropout)          (None, 11, 11, 32)        0         \n",
            "_________________________________________________________________\n",
            "flatten_2 (Flatten)          (None, 3872)              0         \n",
            "_________________________________________________________________\n",
            "dense_3 (Dense)              (None, 128)               495744    \n",
            "_________________________________________________________________\n",
            "dense_4 (Dense)              (None, 10)                1290      \n",
            "=================================================================\n",
            "Total params: 506,602\n",
            "Trainable params: 506,602\n",
            "Non-trainable params: 0\n",
            "_________________________________________________________________\n"
          ],
          "name": "stdout"
        }
      ]
    },
    {
      "metadata": {
        "id": "6wWtJoiGPKkw",
        "colab_type": "code",
        "colab": {}
      },
      "cell_type": "code",
      "source": [
        "model_2_conv.compile(loss='categorical_crossentropy', optimizer=\"adam\", metrics=['accuracy'])"
      ],
      "execution_count": 0,
      "outputs": []
    },
    {
      "metadata": {
        "id": "DDyH9C0VPNO9",
        "colab_type": "code",
        "colab": {
          "base_uri": "https://localhost:8080/",
          "height": 408
        },
        "outputId": "11390f27-475e-4d0a-a0f1-f53a7b5b981a"
      },
      "cell_type": "code",
      "source": [
        "%%time\n",
        "earlyStopping=keras.callbacks.EarlyStopping(monitor='val_loss', patience=5, verbose=0, mode='auto')\n",
        "output_2_conv = model_2_conv.fit(x_train_conv, y_train_class, batch_size=50, epochs=10, callbacks=[earlyStopping], verbose=2,\n",
        "                    validation_data=(x_test_conv, y_test_class))"
      ],
      "execution_count": 23,
      "outputs": [
        {
          "output_type": "stream",
          "text": [
            "Train on 60000 samples, validate on 10000 samples\n",
            "Epoch 1/10\n",
            " - 9s - loss: 0.4429 - acc: 0.8409 - val_loss: 0.3146 - val_acc: 0.8870\n",
            "Epoch 2/10\n",
            " - 9s - loss: 0.2941 - acc: 0.8938 - val_loss: 0.2842 - val_acc: 0.8953\n",
            "Epoch 3/10\n",
            " - 9s - loss: 0.2498 - acc: 0.9080 - val_loss: 0.2580 - val_acc: 0.9073\n",
            "Epoch 4/10\n",
            " - 9s - loss: 0.2203 - acc: 0.9195 - val_loss: 0.2458 - val_acc: 0.9091\n",
            "Epoch 5/10\n",
            " - 9s - loss: 0.1973 - acc: 0.9271 - val_loss: 0.2285 - val_acc: 0.9166\n",
            "Epoch 6/10\n",
            " - 9s - loss: 0.1740 - acc: 0.9352 - val_loss: 0.2347 - val_acc: 0.9154\n",
            "Epoch 7/10\n",
            " - 9s - loss: 0.1551 - acc: 0.9437 - val_loss: 0.2306 - val_acc: 0.9206\n",
            "Epoch 8/10\n",
            " - 9s - loss: 0.1393 - acc: 0.9478 - val_loss: 0.2332 - val_acc: 0.9205\n",
            "Epoch 9/10\n",
            " - 9s - loss: 0.1247 - acc: 0.9527 - val_loss: 0.2468 - val_acc: 0.9210\n",
            "Epoch 10/10\n",
            " - 9s - loss: 0.1095 - acc: 0.9586 - val_loss: 0.2459 - val_acc: 0.9196\n",
            "CPU times: user 1min 39s, sys: 17.3 s, total: 1min 56s\n",
            "Wall time: 1min 28s\n"
          ],
          "name": "stdout"
        }
      ]
    },
    {
      "metadata": {
        "id": "lGTA3bfEJjwa",
        "colab_type": "text"
      },
      "cell_type": "markdown",
      "source": [
        "### Now, to the above model, lets add Data Augmentation "
      ]
    },
    {
      "metadata": {
        "id": "F6gX8n5SJjwb",
        "colab_type": "text"
      },
      "cell_type": "markdown",
      "source": [
        "### Import the ImageDataGenrator from keras and fit the training images"
      ]
    },
    {
      "metadata": {
        "id": "Cbz4uHBuJjwc",
        "colab_type": "code",
        "colab": {}
      },
      "cell_type": "code",
      "source": [
        "from keras.preprocessing.image import ImageDataGenerator"
      ],
      "execution_count": 0,
      "outputs": []
    },
    {
      "metadata": {
        "id": "Y0Un-pMMRBvV",
        "colab_type": "code",
        "colab": {}
      },
      "cell_type": "code",
      "source": [
        "# this will do preprocessing and realtime data augmentation\n",
        "datagen = ImageDataGenerator(\n",
        "    featurewise_center=False,  # set input mean to 0 over the dataset\n",
        "    samplewise_center=False,  # set each sample mean to 0\n",
        "    featurewise_std_normalization=False,  # divide inputs by std of the dataset\n",
        "    samplewise_std_normalization=False,  # divide each input by its std\n",
        "    rotation_range=25,  # randomly rotate images in the range (degrees, 0 to 180)\n",
        "    width_shift_range=0.1,  # randomly shift images horizontally (fraction of total width)\n",
        "    height_shift_range=0.1,  # randomly shift images vertically (fraction of total height)\n",
        "    horizontal_flip=False,  # randomly flip images\n",
        "    vertical_flip=False)  # randomly flip images"
      ],
      "execution_count": 0,
      "outputs": []
    },
    {
      "metadata": {
        "id": "YBH5C1G3RMVj",
        "colab_type": "code",
        "colab": {}
      },
      "cell_type": "code",
      "source": [
        "# Set up the generator\n",
        "datagen.fit(x_train_conv)"
      ],
      "execution_count": 0,
      "outputs": []
    },
    {
      "metadata": {
        "id": "pl-8dOo7Jjwf",
        "colab_type": "text"
      },
      "cell_type": "markdown",
      "source": [
        "#### Showing 5 versions of the first image in training dataset using image datagenerator.flow()"
      ]
    },
    {
      "metadata": {
        "id": "zhvx8FwOS1ir",
        "colab_type": "code",
        "colab": {
          "base_uri": "https://localhost:8080/",
          "height": 109
        },
        "outputId": "e9108b3e-2c46-4322-f027-eda30b0fbc52"
      },
      "cell_type": "code",
      "source": [
        "from matplotlib import pyplot as plt\n",
        "gen = datagen.flow(x_train_conv[0:1], batch_size=1)\n",
        "for i in range(1, 6):\n",
        "    plt.subplot(1,5,i)\n",
        "    plt.axis(\"off\")\n",
        "    plt.imshow(gen.next().squeeze(), cmap='gray')\n",
        "    plt.plot()\n",
        "plt.show()"
      ],
      "execution_count": 27,
      "outputs": [
        {
          "output_type": "display_data",
          "data": {
            "image/png": "[encoded data removed]",
            "text/plain": [
              "<Figure size 432x288 with 5 Axes>"
            ]
          },
          "metadata": {
            "tags": []
          }
        }
      ]
    },
    {
      "metadata": {
        "id": "dmPl5yE8Jjwm",
        "colab_type": "text"
      },
      "cell_type": "markdown",
      "source": [
        "### Run the above model using fit_generator()"
      ]
    },
    {
      "metadata": {
        "id": "44ZnDdJYJjwn",
        "colab_type": "code",
        "colab": {
          "base_uri": "https://localhost:8080/",
          "height": 221
        },
        "outputId": "f2bbb5a0-ca8e-4086-8775-95a4bcc93d23"
      },
      "cell_type": "code",
      "source": [
        "%%time\n",
        "output_2_conv = model_2_conv.fit_generator(datagen.flow(x_train_conv, y_train_class, batch_size=50),\n",
        "                    validation_data=(x_test_conv, y_test_class), use_multiprocessing=True,\n",
        "                     steps_per_epoch=len(x_train_conv) / 32, epochs=5)"
      ],
      "execution_count": 28,
      "outputs": [
        {
          "output_type": "stream",
          "text": [
            "Epoch 1/5\n",
            "1875/1875 [==============================] - 33s 18ms/step - loss: 0.4910 - acc: 0.8170 - val_loss: 0.3137 - val_acc: 0.8888\n",
            "Epoch 2/5\n",
            "1875/1875 [==============================] - 33s 18ms/step - loss: 0.3914 - acc: 0.8550 - val_loss: 0.2968 - val_acc: 0.8962\n",
            "Epoch 3/5\n",
            "1875/1875 [==============================] - 34s 18ms/step - loss: 0.3630 - acc: 0.8656 - val_loss: 0.2923 - val_acc: 0.8931\n",
            "Epoch 4/5\n",
            "1875/1875 [==============================] - 33s 18ms/step - loss: 0.3442 - acc: 0.8715 - val_loss: 0.2778 - val_acc: 0.8979\n",
            "Epoch 5/5\n",
            "1875/1875 [==============================] - 33s 18ms/step - loss: 0.3306 - acc: 0.8766 - val_loss: 0.2821 - val_acc: 0.8966\n",
            "CPU times: user 1min 37s, sys: 9.62 s, total: 1min 46s\n",
            "Wall time: 2min 47s\n"
          ],
          "name": "stdout"
        }
      ]
    },
    {
      "metadata": {
        "id": "MwQQW5iOJjwq",
        "colab_type": "text"
      },
      "cell_type": "markdown",
      "source": [
        "###  Report the final train and validation accuracy"
      ]
    },
    {
      "metadata": {
        "id": "c1SrtBEPJjwq",
        "colab_type": "code",
        "colab": {
          "base_uri": "https://localhost:8080/",
          "height": 34
        },
        "outputId": "5bb691b7-52a7-4c18-b9ba-042e224840fc"
      },
      "cell_type": "code",
      "source": [
        "score = model_2_conv.evaluate(x_test_conv,y_test_class)"
      ],
      "execution_count": 29,
      "outputs": [
        {
          "output_type": "stream",
          "text": [
            "10000/10000 [==============================] - 1s 74us/step\n"
          ],
          "name": "stdout"
        }
      ]
    },
    {
      "metadata": {
        "id": "ZBwVWNQC2qZD",
        "colab_type": "code",
        "colab": {
          "base_uri": "https://localhost:8080/",
          "height": 51
        },
        "outputId": "837e78aa-7ec6-413e-dfcd-906e69687821"
      },
      "cell_type": "code",
      "source": [
        "print('Test loss:', score[0])\n",
        "print('Test accuracy:', score[1])"
      ],
      "execution_count": 31,
      "outputs": [
        {
          "output_type": "stream",
          "text": [
            "Test loss: 0.28212562103867533\n",
            "Test accuracy: 0.8966\n"
          ],
          "name": "stdout"
        }
      ]
    },
    {
      "metadata": {
        "id": "ZtkRYI3Mj7B_",
        "colab_type": "code",
        "colab": {
          "base_uri": "https://localhost:8080/",
          "height": 34
        },
        "outputId": "e0880c5f-39e4-48d1-b375-07610769e4a4"
      },
      "cell_type": "code",
      "source": [
        "score1 = model_2_conv.evaluate(x_train_conv,y_train_class)"
      ],
      "execution_count": 32,
      "outputs": [
        {
          "output_type": "stream",
          "text": [
            "60000/60000 [==============================] - 4s 72us/step\n"
          ],
          "name": "stdout"
        }
      ]
    },
    {
      "metadata": {
        "id": "eGEm4fOakBqh",
        "colab_type": "code",
        "colab": {
          "base_uri": "https://localhost:8080/",
          "height": 51
        },
        "outputId": "78069b2d-82e7-4019-cfd4-db63a10be357"
      },
      "cell_type": "code",
      "source": [
        "print('Train loss:', score1[0])\n",
        "print('Train accuracy:', score1[1])"
      ],
      "execution_count": 34,
      "outputs": [
        {
          "output_type": "stream",
          "text": [
            "Train loss: 0.22353753096759318\n",
            "Train accuracy: 0.9148333333333334\n"
          ],
          "name": "stdout"
        }
      ]
    },
    {
      "metadata": {
        "id": "8KXqmUDW2rM1",
        "colab_type": "text"
      },
      "cell_type": "markdown",
      "source": [
        "## **DATA AUGMENTATION ON CIFAR10 DATASET**"
      ]
    },
    {
      "metadata": {
        "id": "8mja6OgQ3L18",
        "colab_type": "text"
      },
      "cell_type": "markdown",
      "source": [
        "One of the best ways to improve the performance of a Deep Learning model is to add more data to the training set. Aside from gathering more instances from the wild that are representative of the distinction task, we want to develop a set of methods that enhance the data we already have. There are many ways to augment existing datasets and produce more robust models. In the image domain, these are done to utilize the full power of the convolutional neural network, which is able to capture translational invariance. This translational invariance is what makes image recognition such a difficult task in the first place. You want the dataset to be representative of the many different positions, angles, lightings, and miscellaneous distortions that are of interest to the vision task."
      ]
    },
    {
      "metadata": {
        "id": "6HzVTPUM3WZJ",
        "colab_type": "text"
      },
      "cell_type": "markdown",
      "source": [
        "### **Import neessary libraries for data augmentation**"
      ]
    },
    {
      "metadata": {
        "id": "1HsZYXODbH1W",
        "colab_type": "text"
      },
      "cell_type": "markdown",
      "source": [
        "*Already Imported in above steps*"
      ]
    },
    {
      "metadata": {
        "id": "W6hicLwP4SqY",
        "colab_type": "text"
      },
      "cell_type": "markdown",
      "source": [
        "### **Load CIFAR10 dataset**"
      ]
    },
    {
      "metadata": {
        "id": "NQ1WzrXd4WNk",
        "colab_type": "code",
        "colab": {}
      },
      "cell_type": "code",
      "source": [
        "from keras.datasets import cifar10"
      ],
      "execution_count": 0,
      "outputs": []
    },
    {
      "metadata": {
        "id": "R9Pht1ggHuiT",
        "colab_type": "code",
        "colab": {}
      },
      "cell_type": "code",
      "source": [
        "(x_ctrain, y_ctrain), (x_ctest, y_ctest) = cifar10.load_data()"
      ],
      "execution_count": 0,
      "outputs": []
    },
    {
      "metadata": {
        "id": "JN3vYYhK4W0u",
        "colab_type": "text"
      },
      "cell_type": "markdown",
      "source": [
        "### **Create a data_gen funtion to genererator with image rotation,shifting image horizontally and vertically with random flip horizontally.**"
      ]
    },
    {
      "metadata": {
        "id": "JJbekTKi4cmM",
        "colab_type": "code",
        "colab": {}
      },
      "cell_type": "code",
      "source": [
        "# this will do preprocessing and realtime data augmentation\n",
        "datagen2 = ImageDataGenerator(\n",
        "    featurewise_center=False,  # set input mean to 0 over the dataset\n",
        "    samplewise_center=False,  # set each sample mean to 0\n",
        "    featurewise_std_normalization=False,  # divide inputs by std of the dataset\n",
        "    samplewise_std_normalization=False,  # divide each input by its std\n",
        "    rotation_range=25,  # randomly rotate images in the range (degrees, 0 to 180)\n",
        "    width_shift_range=0.1,  # randomly shift images horizontally (fraction of total width)\n",
        "    height_shift_range=0.1,  # randomly shift images vertically (fraction of total height)\n",
        "    horizontal_flip=True,  # randomly flip images\n",
        "    vertical_flip=False)  # randomly flip images"
      ],
      "execution_count": 0,
      "outputs": []
    },
    {
      "metadata": {
        "id": "e-SLtUhC4dK2",
        "colab_type": "text"
      },
      "cell_type": "markdown",
      "source": [
        "### **Prepare/fit the generator.**"
      ]
    },
    {
      "metadata": {
        "id": "9A3LzqVIfkwf",
        "colab_type": "code",
        "colab": {}
      },
      "cell_type": "code",
      "source": [
        "x_ctrain_conv =  x_ctrain.astype(\"float32\") / 255\n",
        "x_ctest_conv = x_ctest.astype(\"float32\") / 255"
      ],
      "execution_count": 0,
      "outputs": []
    },
    {
      "metadata": {
        "id": "Pxlalhtsket4",
        "colab_type": "code",
        "colab": {
          "base_uri": "https://localhost:8080/",
          "height": 34
        },
        "outputId": "6de38877-6ffc-4e88-96f8-3c354f0d159f"
      },
      "cell_type": "code",
      "source": [
        "x_ctrain_conv.shape"
      ],
      "execution_count": 39,
      "outputs": [
        {
          "output_type": "execute_result",
          "data": {
            "text/plain": [
              "(50000, 32, 32, 3)"
            ]
          },
          "metadata": {
            "tags": []
          },
          "execution_count": 39
        }
      ]
    },
    {
      "metadata": {
        "id": "PT6zfZZVklU2",
        "colab_type": "code",
        "colab": {}
      },
      "cell_type": "code",
      "source": [
        "x_ctrain_conv = x_ctrain_conv.reshape(x_ctrain.shape[0], 32, 32, 3)\n",
        "x_ctest_conv = x_ctest_conv.reshape(x_ctest.shape[0], 32, 32, 3)"
      ],
      "execution_count": 0,
      "outputs": []
    },
    {
      "metadata": {
        "id": "gYyF-P8O4jQ8",
        "colab_type": "text"
      },
      "cell_type": "markdown",
      "source": [
        "### **Generate 5 images for 1 of the image of CIFAR10 train dataset.**"
      ]
    },
    {
      "metadata": {
        "id": "mXug4z234mwQ",
        "colab_type": "code",
        "colab": {
          "base_uri": "https://localhost:8080/",
          "height": 109
        },
        "outputId": "7351bbda-74a5-4803-db16-fed16d2c91ab"
      },
      "cell_type": "code",
      "source": [
        "from matplotlib import pyplot as plt\n",
        "gen = datagen.flow(x_ctrain_conv[1:5], batch_size=1)\n",
        "for i in range(1, 6):\n",
        "    plt.subplot(1,5,i)\n",
        "    plt.axis(\"off\")\n",
        "    plt.imshow(gen.next().squeeze(), cmap='gray')\n",
        "    plt.plot()\n",
        "plt.show()"
      ],
      "execution_count": 44,
      "outputs": [
        {
          "output_type": "display_data",
          "data": {
            "image/png": "[encoded data removed]",
            "text/plain": [
              "<Figure size 432x288 with 5 Axes>"
            ]
          },
          "metadata": {
            "tags": []
          }
        }
      ]
    },
    {
      "metadata": {
        "id": "LAUjhAbfdPIs",
        "colab_type": "code",
        "colab": {}
      },
      "cell_type": "code",
      "source": [
        ""
      ],
      "execution_count": 0,
      "outputs": []
    }
  ]
}